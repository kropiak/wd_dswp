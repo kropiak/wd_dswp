{
 "cells": [
  {
   "cell_type": "markdown",
   "metadata": {
    "pycharm": {
     "name": "#%% md\n"
    }
   },
   "source": [
    "# lab 10. Wprowadzenie do biblioteki plotly.\n",
    "\n",
    "## 1. Plotly express\n",
    "\n",
    "Poznawanie biblioteki plotly warto rozpocząć od poznania plotly express, którego użyciew wymaga zazwyczaj niewiele kodu a podobnie jak w przypadku Seaborn, wiele domyślnych ustawień powoduje, że otrzymujemy atrakcyjne i wartościowe wykresy. Aby biblioteka plotly działała poprawnie z wykorzystanie Jupyter notebook w oknie przeglądarki (wewnatrz Pycharm nie jest to wymagane), należy uruchomić tryb offline dla plotly. Przykład poniżej."
   ]
  },
  {
   "cell_type": "markdown",
   "metadata": {},
   "source": [
    "### 1.1 Wykresy prezentujące strukturę danych (w dokumentacji plotly w kategorii 'Part-of-whole')."
   ]
  },
  {
   "cell_type": "markdown",
   "metadata": {},
   "source": [
    "**Wykres typu pie**\n",
    "\n",
    "* Dokumentacja: https://plotly.com/python/pie-charts/"
   ]
  },
  {
   "cell_type": "code",
   "execution_count": 1,
   "metadata": {
    "pycharm": {
     "name": "#%%\n"
    }
   },
   "outputs": [
    {
     "data": {
      "text/html": [
       "        <script type=\"text/javascript\">\n",
       "        window.PlotlyConfig = {MathJaxConfig: 'local'};\n",
       "        if (window.MathJax) {MathJax.Hub.Config({SVG: {font: \"STIX-Web\"}});}\n",
       "        if (typeof require !== 'undefined') {\n",
       "        require.undef(\"plotly\");\n",
       "        requirejs.config({\n",
       "            paths: {\n",
       "                'plotly': ['https://cdn.plot.ly/plotly-2.11.1.min']\n",
       "            }\n",
       "        });\n",
       "        require(['plotly'], function(Plotly) {\n",
       "            window._Plotly = Plotly;\n",
       "        });\n",
       "        }\n",
       "        </script>\n",
       "        "
      ]
     },
     "metadata": {},
     "output_type": "display_data"
    },
    {
     "data": {
      "application/vnd.plotly.v1+json": {
       "config": {
        "plotlyServerURL": "https://plot.ly"
       },
       "data": [
        {
         "domain": {
          "x": [
           0,
           1
          ],
          "y": [
           0,
           1
          ]
         },
         "hovertemplate": "country=%{label}<br>pop=%{value}<extra></extra>",
         "labels": [
          "Albania",
          "Austria",
          "Belgium",
          "Bosnia and Herzegovina",
          "Bulgaria",
          "Croatia",
          "Czech Republic",
          "Denmark",
          "Finland",
          "France",
          "Germany",
          "Greece",
          "Hungary",
          "Other countries",
          "Ireland",
          "Italy",
          "Other countries",
          "Netherlands",
          "Norway",
          "Poland",
          "Portugal",
          "Romania",
          "Serbia",
          "Slovak Republic",
          "Slovenia",
          "Spain",
          "Sweden",
          "Switzerland",
          "Turkey",
          "United Kingdom"
         ],
         "legendgroup": "",
         "name": "",
         "showlegend": true,
         "type": "pie",
         "values": [
          3600523,
          8199783,
          10392226,
          4552198,
          7322858,
          4493312,
          10228744,
          5468120,
          5238460,
          61083916,
          82400996,
          10706290,
          9956108,
          301931,
          4109086,
          58147733,
          684736,
          16570613,
          4627926,
          38518241,
          10642836,
          22276056,
          10150265,
          5447502,
          2009245,
          40448191,
          9031088,
          7554661,
          71158647,
          60776238
         ]
        }
       ],
       "layout": {
        "legend": {
         "tracegroupgap": 0
        },
        "template": {
         "data": {
          "bar": [
           {
            "error_x": {
             "color": "#2a3f5f"
            },
            "error_y": {
             "color": "#2a3f5f"
            },
            "marker": {
             "line": {
              "color": "#E5ECF6",
              "width": 0.5
             },
             "pattern": {
              "fillmode": "overlay",
              "size": 10,
              "solidity": 0.2
             }
            },
            "type": "bar"
           }
          ],
          "barpolar": [
           {
            "marker": {
             "line": {
              "color": "#E5ECF6",
              "width": 0.5
             },
             "pattern": {
              "fillmode": "overlay",
              "size": 10,
              "solidity": 0.2
             }
            },
            "type": "barpolar"
           }
          ],
          "carpet": [
           {
            "aaxis": {
             "endlinecolor": "#2a3f5f",
             "gridcolor": "white",
             "linecolor": "white",
             "minorgridcolor": "white",
             "startlinecolor": "#2a3f5f"
            },
            "baxis": {
             "endlinecolor": "#2a3f5f",
             "gridcolor": "white",
             "linecolor": "white",
             "minorgridcolor": "white",
             "startlinecolor": "#2a3f5f"
            },
            "type": "carpet"
           }
          ],
          "choropleth": [
           {
            "colorbar": {
             "outlinewidth": 0,
             "ticks": ""
            },
            "type": "choropleth"
           }
          ],
          "contour": [
           {
            "colorbar": {
             "outlinewidth": 0,
             "ticks": ""
            },
            "colorscale": [
             [
              0,
              "#0d0887"
             ],
             [
              0.1111111111111111,
              "#46039f"
             ],
             [
              0.2222222222222222,
              "#7201a8"
             ],
             [
              0.3333333333333333,
              "#9c179e"
             ],
             [
              0.4444444444444444,
              "#bd3786"
             ],
             [
              0.5555555555555556,
              "#d8576b"
             ],
             [
              0.6666666666666666,
              "#ed7953"
             ],
             [
              0.7777777777777778,
              "#fb9f3a"
             ],
             [
              0.8888888888888888,
              "#fdca26"
             ],
             [
              1,
              "#f0f921"
             ]
            ],
            "type": "contour"
           }
          ],
          "contourcarpet": [
           {
            "colorbar": {
             "outlinewidth": 0,
             "ticks": ""
            },
            "type": "contourcarpet"
           }
          ],
          "heatmap": [
           {
            "colorbar": {
             "outlinewidth": 0,
             "ticks": ""
            },
            "colorscale": [
             [
              0,
              "#0d0887"
             ],
             [
              0.1111111111111111,
              "#46039f"
             ],
             [
              0.2222222222222222,
              "#7201a8"
             ],
             [
              0.3333333333333333,
              "#9c179e"
             ],
             [
              0.4444444444444444,
              "#bd3786"
             ],
             [
              0.5555555555555556,
              "#d8576b"
             ],
             [
              0.6666666666666666,
              "#ed7953"
             ],
             [
              0.7777777777777778,
              "#fb9f3a"
             ],
             [
              0.8888888888888888,
              "#fdca26"
             ],
             [
              1,
              "#f0f921"
             ]
            ],
            "type": "heatmap"
           }
          ],
          "heatmapgl": [
           {
            "colorbar": {
             "outlinewidth": 0,
             "ticks": ""
            },
            "colorscale": [
             [
              0,
              "#0d0887"
             ],
             [
              0.1111111111111111,
              "#46039f"
             ],
             [
              0.2222222222222222,
              "#7201a8"
             ],
             [
              0.3333333333333333,
              "#9c179e"
             ],
             [
              0.4444444444444444,
              "#bd3786"
             ],
             [
              0.5555555555555556,
              "#d8576b"
             ],
             [
              0.6666666666666666,
              "#ed7953"
             ],
             [
              0.7777777777777778,
              "#fb9f3a"
             ],
             [
              0.8888888888888888,
              "#fdca26"
             ],
             [
              1,
              "#f0f921"
             ]
            ],
            "type": "heatmapgl"
           }
          ],
          "histogram": [
           {
            "marker": {
             "pattern": {
              "fillmode": "overlay",
              "size": 10,
              "solidity": 0.2
             }
            },
            "type": "histogram"
           }
          ],
          "histogram2d": [
           {
            "colorbar": {
             "outlinewidth": 0,
             "ticks": ""
            },
            "colorscale": [
             [
              0,
              "#0d0887"
             ],
             [
              0.1111111111111111,
              "#46039f"
             ],
             [
              0.2222222222222222,
              "#7201a8"
             ],
             [
              0.3333333333333333,
              "#9c179e"
             ],
             [
              0.4444444444444444,
              "#bd3786"
             ],
             [
              0.5555555555555556,
              "#d8576b"
             ],
             [
              0.6666666666666666,
              "#ed7953"
             ],
             [
              0.7777777777777778,
              "#fb9f3a"
             ],
             [
              0.8888888888888888,
              "#fdca26"
             ],
             [
              1,
              "#f0f921"
             ]
            ],
            "type": "histogram2d"
           }
          ],
          "histogram2dcontour": [
           {
            "colorbar": {
             "outlinewidth": 0,
             "ticks": ""
            },
            "colorscale": [
             [
              0,
              "#0d0887"
             ],
             [
              0.1111111111111111,
              "#46039f"
             ],
             [
              0.2222222222222222,
              "#7201a8"
             ],
             [
              0.3333333333333333,
              "#9c179e"
             ],
             [
              0.4444444444444444,
              "#bd3786"
             ],
             [
              0.5555555555555556,
              "#d8576b"
             ],
             [
              0.6666666666666666,
              "#ed7953"
             ],
             [
              0.7777777777777778,
              "#fb9f3a"
             ],
             [
              0.8888888888888888,
              "#fdca26"
             ],
             [
              1,
              "#f0f921"
             ]
            ],
            "type": "histogram2dcontour"
           }
          ],
          "mesh3d": [
           {
            "colorbar": {
             "outlinewidth": 0,
             "ticks": ""
            },
            "type": "mesh3d"
           }
          ],
          "parcoords": [
           {
            "line": {
             "colorbar": {
              "outlinewidth": 0,
              "ticks": ""
             }
            },
            "type": "parcoords"
           }
          ],
          "pie": [
           {
            "automargin": true,
            "type": "pie"
           }
          ],
          "scatter": [
           {
            "fillpattern": {
             "fillmode": "overlay",
             "size": 10,
             "solidity": 0.2
            },
            "type": "scatter"
           }
          ],
          "scatter3d": [
           {
            "line": {
             "colorbar": {
              "outlinewidth": 0,
              "ticks": ""
             }
            },
            "marker": {
             "colorbar": {
              "outlinewidth": 0,
              "ticks": ""
             }
            },
            "type": "scatter3d"
           }
          ],
          "scattercarpet": [
           {
            "marker": {
             "colorbar": {
              "outlinewidth": 0,
              "ticks": ""
             }
            },
            "type": "scattercarpet"
           }
          ],
          "scattergeo": [
           {
            "marker": {
             "colorbar": {
              "outlinewidth": 0,
              "ticks": ""
             }
            },
            "type": "scattergeo"
           }
          ],
          "scattergl": [
           {
            "marker": {
             "colorbar": {
              "outlinewidth": 0,
              "ticks": ""
             }
            },
            "type": "scattergl"
           }
          ],
          "scattermapbox": [
           {
            "marker": {
             "colorbar": {
              "outlinewidth": 0,
              "ticks": ""
             }
            },
            "type": "scattermapbox"
           }
          ],
          "scatterpolar": [
           {
            "marker": {
             "colorbar": {
              "outlinewidth": 0,
              "ticks": ""
             }
            },
            "type": "scatterpolar"
           }
          ],
          "scatterpolargl": [
           {
            "marker": {
             "colorbar": {
              "outlinewidth": 0,
              "ticks": ""
             }
            },
            "type": "scatterpolargl"
           }
          ],
          "scatterternary": [
           {
            "marker": {
             "colorbar": {
              "outlinewidth": 0,
              "ticks": ""
             }
            },
            "type": "scatterternary"
           }
          ],
          "surface": [
           {
            "colorbar": {
             "outlinewidth": 0,
             "ticks": ""
            },
            "colorscale": [
             [
              0,
              "#0d0887"
             ],
             [
              0.1111111111111111,
              "#46039f"
             ],
             [
              0.2222222222222222,
              "#7201a8"
             ],
             [
              0.3333333333333333,
              "#9c179e"
             ],
             [
              0.4444444444444444,
              "#bd3786"
             ],
             [
              0.5555555555555556,
              "#d8576b"
             ],
             [
              0.6666666666666666,
              "#ed7953"
             ],
             [
              0.7777777777777778,
              "#fb9f3a"
             ],
             [
              0.8888888888888888,
              "#fdca26"
             ],
             [
              1,
              "#f0f921"
             ]
            ],
            "type": "surface"
           }
          ],
          "table": [
           {
            "cells": {
             "fill": {
              "color": "#EBF0F8"
             },
             "line": {
              "color": "white"
             }
            },
            "header": {
             "fill": {
              "color": "#C8D4E3"
             },
             "line": {
              "color": "white"
             }
            },
            "type": "table"
           }
          ]
         },
         "layout": {
          "annotationdefaults": {
           "arrowcolor": "#2a3f5f",
           "arrowhead": 0,
           "arrowwidth": 1
          },
          "autotypenumbers": "strict",
          "coloraxis": {
           "colorbar": {
            "outlinewidth": 0,
            "ticks": ""
           }
          },
          "colorscale": {
           "diverging": [
            [
             0,
             "#8e0152"
            ],
            [
             0.1,
             "#c51b7d"
            ],
            [
             0.2,
             "#de77ae"
            ],
            [
             0.3,
             "#f1b6da"
            ],
            [
             0.4,
             "#fde0ef"
            ],
            [
             0.5,
             "#f7f7f7"
            ],
            [
             0.6,
             "#e6f5d0"
            ],
            [
             0.7,
             "#b8e186"
            ],
            [
             0.8,
             "#7fbc41"
            ],
            [
             0.9,
             "#4d9221"
            ],
            [
             1,
             "#276419"
            ]
           ],
           "sequential": [
            [
             0,
             "#0d0887"
            ],
            [
             0.1111111111111111,
             "#46039f"
            ],
            [
             0.2222222222222222,
             "#7201a8"
            ],
            [
             0.3333333333333333,
             "#9c179e"
            ],
            [
             0.4444444444444444,
             "#bd3786"
            ],
            [
             0.5555555555555556,
             "#d8576b"
            ],
            [
             0.6666666666666666,
             "#ed7953"
            ],
            [
             0.7777777777777778,
             "#fb9f3a"
            ],
            [
             0.8888888888888888,
             "#fdca26"
            ],
            [
             1,
             "#f0f921"
            ]
           ],
           "sequentialminus": [
            [
             0,
             "#0d0887"
            ],
            [
             0.1111111111111111,
             "#46039f"
            ],
            [
             0.2222222222222222,
             "#7201a8"
            ],
            [
             0.3333333333333333,
             "#9c179e"
            ],
            [
             0.4444444444444444,
             "#bd3786"
            ],
            [
             0.5555555555555556,
             "#d8576b"
            ],
            [
             0.6666666666666666,
             "#ed7953"
            ],
            [
             0.7777777777777778,
             "#fb9f3a"
            ],
            [
             0.8888888888888888,
             "#fdca26"
            ],
            [
             1,
             "#f0f921"
            ]
           ]
          },
          "colorway": [
           "#636efa",
           "#EF553B",
           "#00cc96",
           "#ab63fa",
           "#FFA15A",
           "#19d3f3",
           "#FF6692",
           "#B6E880",
           "#FF97FF",
           "#FECB52"
          ],
          "font": {
           "color": "#2a3f5f"
          },
          "geo": {
           "bgcolor": "white",
           "lakecolor": "white",
           "landcolor": "#E5ECF6",
           "showlakes": true,
           "showland": true,
           "subunitcolor": "white"
          },
          "hoverlabel": {
           "align": "left"
          },
          "hovermode": "closest",
          "mapbox": {
           "style": "light"
          },
          "paper_bgcolor": "white",
          "plot_bgcolor": "#E5ECF6",
          "polar": {
           "angularaxis": {
            "gridcolor": "white",
            "linecolor": "white",
            "ticks": ""
           },
           "bgcolor": "#E5ECF6",
           "radialaxis": {
            "gridcolor": "white",
            "linecolor": "white",
            "ticks": ""
           }
          },
          "scene": {
           "xaxis": {
            "backgroundcolor": "#E5ECF6",
            "gridcolor": "white",
            "gridwidth": 2,
            "linecolor": "white",
            "showbackground": true,
            "ticks": "",
            "zerolinecolor": "white"
           },
           "yaxis": {
            "backgroundcolor": "#E5ECF6",
            "gridcolor": "white",
            "gridwidth": 2,
            "linecolor": "white",
            "showbackground": true,
            "ticks": "",
            "zerolinecolor": "white"
           },
           "zaxis": {
            "backgroundcolor": "#E5ECF6",
            "gridcolor": "white",
            "gridwidth": 2,
            "linecolor": "white",
            "showbackground": true,
            "ticks": "",
            "zerolinecolor": "white"
           }
          },
          "shapedefaults": {
           "line": {
            "color": "#2a3f5f"
           }
          },
          "ternary": {
           "aaxis": {
            "gridcolor": "white",
            "linecolor": "white",
            "ticks": ""
           },
           "baxis": {
            "gridcolor": "white",
            "linecolor": "white",
            "ticks": ""
           },
           "bgcolor": "#E5ECF6",
           "caxis": {
            "gridcolor": "white",
            "linecolor": "white",
            "ticks": ""
           }
          },
          "title": {
           "x": 0.05
          },
          "xaxis": {
           "automargin": true,
           "gridcolor": "white",
           "linecolor": "white",
           "ticks": "",
           "title": {
            "standoff": 15
           },
           "zerolinecolor": "white",
           "zerolinewidth": 2
          },
          "yaxis": {
           "automargin": true,
           "gridcolor": "white",
           "linecolor": "white",
           "ticks": "",
           "title": {
            "standoff": 15
           },
           "zerolinecolor": "white",
           "zerolinewidth": 2
          }
         }
        },
        "title": {
         "text": "Population of European continent"
        }
       }
      },
      "text/html": [
       "<div>                            <div id=\"b2d443f2-8027-46d4-a8e0-28ee05887577\" class=\"plotly-graph-div\" style=\"height:525px; width:100%;\"></div>            <script type=\"text/javascript\">                require([\"plotly\"], function(Plotly) {                    window.PLOTLYENV=window.PLOTLYENV || {};                                    if (document.getElementById(\"b2d443f2-8027-46d4-a8e0-28ee05887577\")) {                    Plotly.newPlot(                        \"b2d443f2-8027-46d4-a8e0-28ee05887577\",                        [{\"domain\":{\"x\":[0.0,1.0],\"y\":[0.0,1.0]},\"hovertemplate\":\"country=%{label}<br>pop=%{value}<extra></extra>\",\"labels\":[\"Albania\",\"Austria\",\"Belgium\",\"Bosnia and Herzegovina\",\"Bulgaria\",\"Croatia\",\"Czech Republic\",\"Denmark\",\"Finland\",\"France\",\"Germany\",\"Greece\",\"Hungary\",\"Other countries\",\"Ireland\",\"Italy\",\"Other countries\",\"Netherlands\",\"Norway\",\"Poland\",\"Portugal\",\"Romania\",\"Serbia\",\"Slovak Republic\",\"Slovenia\",\"Spain\",\"Sweden\",\"Switzerland\",\"Turkey\",\"United Kingdom\"],\"legendgroup\":\"\",\"name\":\"\",\"showlegend\":true,\"values\":[3600523,8199783,10392226,4552198,7322858,4493312,10228744,5468120,5238460,61083916,82400996,10706290,9956108,301931,4109086,58147733,684736,16570613,4627926,38518241,10642836,22276056,10150265,5447502,2009245,40448191,9031088,7554661,71158647,60776238],\"type\":\"pie\"}],                        {\"template\":{\"data\":{\"histogram2dcontour\":[{\"type\":\"histogram2dcontour\",\"colorbar\":{\"outlinewidth\":0,\"ticks\":\"\"},\"colorscale\":[[0.0,\"#0d0887\"],[0.1111111111111111,\"#46039f\"],[0.2222222222222222,\"#7201a8\"],[0.3333333333333333,\"#9c179e\"],[0.4444444444444444,\"#bd3786\"],[0.5555555555555556,\"#d8576b\"],[0.6666666666666666,\"#ed7953\"],[0.7777777777777778,\"#fb9f3a\"],[0.8888888888888888,\"#fdca26\"],[1.0,\"#f0f921\"]]}],\"choropleth\":[{\"type\":\"choropleth\",\"colorbar\":{\"outlinewidth\":0,\"ticks\":\"\"}}],\"histogram2d\":[{\"type\":\"histogram2d\",\"colorbar\":{\"outlinewidth\":0,\"ticks\":\"\"},\"colorscale\":[[0.0,\"#0d0887\"],[0.1111111111111111,\"#46039f\"],[0.2222222222222222,\"#7201a8\"],[0.3333333333333333,\"#9c179e\"],[0.4444444444444444,\"#bd3786\"],[0.5555555555555556,\"#d8576b\"],[0.6666666666666666,\"#ed7953\"],[0.7777777777777778,\"#fb9f3a\"],[0.8888888888888888,\"#fdca26\"],[1.0,\"#f0f921\"]]}],\"heatmap\":[{\"type\":\"heatmap\",\"colorbar\":{\"outlinewidth\":0,\"ticks\":\"\"},\"colorscale\":[[0.0,\"#0d0887\"],[0.1111111111111111,\"#46039f\"],[0.2222222222222222,\"#7201a8\"],[0.3333333333333333,\"#9c179e\"],[0.4444444444444444,\"#bd3786\"],[0.5555555555555556,\"#d8576b\"],[0.6666666666666666,\"#ed7953\"],[0.7777777777777778,\"#fb9f3a\"],[0.8888888888888888,\"#fdca26\"],[1.0,\"#f0f921\"]]}],\"heatmapgl\":[{\"type\":\"heatmapgl\",\"colorbar\":{\"outlinewidth\":0,\"ticks\":\"\"},\"colorscale\":[[0.0,\"#0d0887\"],[0.1111111111111111,\"#46039f\"],[0.2222222222222222,\"#7201a8\"],[0.3333333333333333,\"#9c179e\"],[0.4444444444444444,\"#bd3786\"],[0.5555555555555556,\"#d8576b\"],[0.6666666666666666,\"#ed7953\"],[0.7777777777777778,\"#fb9f3a\"],[0.8888888888888888,\"#fdca26\"],[1.0,\"#f0f921\"]]}],\"contourcarpet\":[{\"type\":\"contourcarpet\",\"colorbar\":{\"outlinewidth\":0,\"ticks\":\"\"}}],\"contour\":[{\"type\":\"contour\",\"colorbar\":{\"outlinewidth\":0,\"ticks\":\"\"},\"colorscale\":[[0.0,\"#0d0887\"],[0.1111111111111111,\"#46039f\"],[0.2222222222222222,\"#7201a8\"],[0.3333333333333333,\"#9c179e\"],[0.4444444444444444,\"#bd3786\"],[0.5555555555555556,\"#d8576b\"],[0.6666666666666666,\"#ed7953\"],[0.7777777777777778,\"#fb9f3a\"],[0.8888888888888888,\"#fdca26\"],[1.0,\"#f0f921\"]]}],\"surface\":[{\"type\":\"surface\",\"colorbar\":{\"outlinewidth\":0,\"ticks\":\"\"},\"colorscale\":[[0.0,\"#0d0887\"],[0.1111111111111111,\"#46039f\"],[0.2222222222222222,\"#7201a8\"],[0.3333333333333333,\"#9c179e\"],[0.4444444444444444,\"#bd3786\"],[0.5555555555555556,\"#d8576b\"],[0.6666666666666666,\"#ed7953\"],[0.7777777777777778,\"#fb9f3a\"],[0.8888888888888888,\"#fdca26\"],[1.0,\"#f0f921\"]]}],\"mesh3d\":[{\"type\":\"mesh3d\",\"colorbar\":{\"outlinewidth\":0,\"ticks\":\"\"}}],\"scatter\":[{\"fillpattern\":{\"fillmode\":\"overlay\",\"size\":10,\"solidity\":0.2},\"type\":\"scatter\"}],\"parcoords\":[{\"type\":\"parcoords\",\"line\":{\"colorbar\":{\"outlinewidth\":0,\"ticks\":\"\"}}}],\"scatterpolargl\":[{\"type\":\"scatterpolargl\",\"marker\":{\"colorbar\":{\"outlinewidth\":0,\"ticks\":\"\"}}}],\"bar\":[{\"error_x\":{\"color\":\"#2a3f5f\"},\"error_y\":{\"color\":\"#2a3f5f\"},\"marker\":{\"line\":{\"color\":\"#E5ECF6\",\"width\":0.5},\"pattern\":{\"fillmode\":\"overlay\",\"size\":10,\"solidity\":0.2}},\"type\":\"bar\"}],\"scattergeo\":[{\"type\":\"scattergeo\",\"marker\":{\"colorbar\":{\"outlinewidth\":0,\"ticks\":\"\"}}}],\"scatterpolar\":[{\"type\":\"scatterpolar\",\"marker\":{\"colorbar\":{\"outlinewidth\":0,\"ticks\":\"\"}}}],\"histogram\":[{\"marker\":{\"pattern\":{\"fillmode\":\"overlay\",\"size\":10,\"solidity\":0.2}},\"type\":\"histogram\"}],\"scattergl\":[{\"type\":\"scattergl\",\"marker\":{\"colorbar\":{\"outlinewidth\":0,\"ticks\":\"\"}}}],\"scatter3d\":[{\"type\":\"scatter3d\",\"line\":{\"colorbar\":{\"outlinewidth\":0,\"ticks\":\"\"}},\"marker\":{\"colorbar\":{\"outlinewidth\":0,\"ticks\":\"\"}}}],\"scattermapbox\":[{\"type\":\"scattermapbox\",\"marker\":{\"colorbar\":{\"outlinewidth\":0,\"ticks\":\"\"}}}],\"scatterternary\":[{\"type\":\"scatterternary\",\"marker\":{\"colorbar\":{\"outlinewidth\":0,\"ticks\":\"\"}}}],\"scattercarpet\":[{\"type\":\"scattercarpet\",\"marker\":{\"colorbar\":{\"outlinewidth\":0,\"ticks\":\"\"}}}],\"carpet\":[{\"aaxis\":{\"endlinecolor\":\"#2a3f5f\",\"gridcolor\":\"white\",\"linecolor\":\"white\",\"minorgridcolor\":\"white\",\"startlinecolor\":\"#2a3f5f\"},\"baxis\":{\"endlinecolor\":\"#2a3f5f\",\"gridcolor\":\"white\",\"linecolor\":\"white\",\"minorgridcolor\":\"white\",\"startlinecolor\":\"#2a3f5f\"},\"type\":\"carpet\"}],\"table\":[{\"cells\":{\"fill\":{\"color\":\"#EBF0F8\"},\"line\":{\"color\":\"white\"}},\"header\":{\"fill\":{\"color\":\"#C8D4E3\"},\"line\":{\"color\":\"white\"}},\"type\":\"table\"}],\"barpolar\":[{\"marker\":{\"line\":{\"color\":\"#E5ECF6\",\"width\":0.5},\"pattern\":{\"fillmode\":\"overlay\",\"size\":10,\"solidity\":0.2}},\"type\":\"barpolar\"}],\"pie\":[{\"automargin\":true,\"type\":\"pie\"}]},\"layout\":{\"autotypenumbers\":\"strict\",\"colorway\":[\"#636efa\",\"#EF553B\",\"#00cc96\",\"#ab63fa\",\"#FFA15A\",\"#19d3f3\",\"#FF6692\",\"#B6E880\",\"#FF97FF\",\"#FECB52\"],\"font\":{\"color\":\"#2a3f5f\"},\"hovermode\":\"closest\",\"hoverlabel\":{\"align\":\"left\"},\"paper_bgcolor\":\"white\",\"plot_bgcolor\":\"#E5ECF6\",\"polar\":{\"bgcolor\":\"#E5ECF6\",\"angularaxis\":{\"gridcolor\":\"white\",\"linecolor\":\"white\",\"ticks\":\"\"},\"radialaxis\":{\"gridcolor\":\"white\",\"linecolor\":\"white\",\"ticks\":\"\"}},\"ternary\":{\"bgcolor\":\"#E5ECF6\",\"aaxis\":{\"gridcolor\":\"white\",\"linecolor\":\"white\",\"ticks\":\"\"},\"baxis\":{\"gridcolor\":\"white\",\"linecolor\":\"white\",\"ticks\":\"\"},\"caxis\":{\"gridcolor\":\"white\",\"linecolor\":\"white\",\"ticks\":\"\"}},\"coloraxis\":{\"colorbar\":{\"outlinewidth\":0,\"ticks\":\"\"}},\"colorscale\":{\"sequential\":[[0.0,\"#0d0887\"],[0.1111111111111111,\"#46039f\"],[0.2222222222222222,\"#7201a8\"],[0.3333333333333333,\"#9c179e\"],[0.4444444444444444,\"#bd3786\"],[0.5555555555555556,\"#d8576b\"],[0.6666666666666666,\"#ed7953\"],[0.7777777777777778,\"#fb9f3a\"],[0.8888888888888888,\"#fdca26\"],[1.0,\"#f0f921\"]],\"sequentialminus\":[[0.0,\"#0d0887\"],[0.1111111111111111,\"#46039f\"],[0.2222222222222222,\"#7201a8\"],[0.3333333333333333,\"#9c179e\"],[0.4444444444444444,\"#bd3786\"],[0.5555555555555556,\"#d8576b\"],[0.6666666666666666,\"#ed7953\"],[0.7777777777777778,\"#fb9f3a\"],[0.8888888888888888,\"#fdca26\"],[1.0,\"#f0f921\"]],\"diverging\":[[0,\"#8e0152\"],[0.1,\"#c51b7d\"],[0.2,\"#de77ae\"],[0.3,\"#f1b6da\"],[0.4,\"#fde0ef\"],[0.5,\"#f7f7f7\"],[0.6,\"#e6f5d0\"],[0.7,\"#b8e186\"],[0.8,\"#7fbc41\"],[0.9,\"#4d9221\"],[1,\"#276419\"]]},\"xaxis\":{\"gridcolor\":\"white\",\"linecolor\":\"white\",\"ticks\":\"\",\"title\":{\"standoff\":15},\"zerolinecolor\":\"white\",\"automargin\":true,\"zerolinewidth\":2},\"yaxis\":{\"gridcolor\":\"white\",\"linecolor\":\"white\",\"ticks\":\"\",\"title\":{\"standoff\":15},\"zerolinecolor\":\"white\",\"automargin\":true,\"zerolinewidth\":2},\"scene\":{\"xaxis\":{\"backgroundcolor\":\"#E5ECF6\",\"gridcolor\":\"white\",\"linecolor\":\"white\",\"showbackground\":true,\"ticks\":\"\",\"zerolinecolor\":\"white\",\"gridwidth\":2},\"yaxis\":{\"backgroundcolor\":\"#E5ECF6\",\"gridcolor\":\"white\",\"linecolor\":\"white\",\"showbackground\":true,\"ticks\":\"\",\"zerolinecolor\":\"white\",\"gridwidth\":2},\"zaxis\":{\"backgroundcolor\":\"#E5ECF6\",\"gridcolor\":\"white\",\"linecolor\":\"white\",\"showbackground\":true,\"ticks\":\"\",\"zerolinecolor\":\"white\",\"gridwidth\":2}},\"shapedefaults\":{\"line\":{\"color\":\"#2a3f5f\"}},\"annotationdefaults\":{\"arrowcolor\":\"#2a3f5f\",\"arrowhead\":0,\"arrowwidth\":1},\"geo\":{\"bgcolor\":\"white\",\"landcolor\":\"#E5ECF6\",\"subunitcolor\":\"white\",\"showland\":true,\"showlakes\":true,\"lakecolor\":\"white\"},\"title\":{\"x\":0.05},\"mapbox\":{\"style\":\"light\"}}},\"legend\":{\"tracegroupgap\":0},\"title\":{\"text\":\"Population of European continent\"}},                        {\"responsive\": true}                    ).then(function(){\n",
       "                            \n",
       "var gd = document.getElementById('b2d443f2-8027-46d4-a8e0-28ee05887577');\n",
       "var x = new MutationObserver(function (mutations, observer) {{\n",
       "        var display = window.getComputedStyle(gd).display;\n",
       "        if (!display || display === 'none') {{\n",
       "            console.log([gd, 'removed!']);\n",
       "            Plotly.purge(gd);\n",
       "            observer.disconnect();\n",
       "        }}\n",
       "}});\n",
       "\n",
       "// Listen for the removal of the full notebook cells\n",
       "var notebookContainer = gd.closest('#notebook-container');\n",
       "if (notebookContainer) {{\n",
       "    x.observe(notebookContainer, {childList: true});\n",
       "}}\n",
       "\n",
       "// Listen for the clearing of the current output cell\n",
       "var outputEl = gd.closest('.output');\n",
       "if (outputEl) {{\n",
       "    x.observe(outputEl, {childList: true});\n",
       "}}\n",
       "\n",
       "                        })                };                });            </script>        </div>"
      ]
     },
     "metadata": {},
     "output_type": "display_data"
    }
   ],
   "source": [
    "import plotly.express as px\n",
    "import pandas as pd\n",
    "from plotly.offline import init_notebook_mode\n",
    "\n",
    "# inicjalizacja trybu offline dla plotly\n",
    "init_notebook_mode(connected=True)\n",
    "\n",
    "df = px.data.gapminder().query(\"year == 2007\").query(\"continent == 'Europe'\")\n",
    "df.loc[df['pop'] < 2.e6, 'country'] = 'Other countries' # Represent only large countries\n",
    "fig = px.pie(df, values='pop', names='country', title='Population of European continent')\n",
    "fig.show()"
   ]
  },
  {
   "cell_type": "markdown",
   "metadata": {
    "pycharm": {
     "name": "#%% md\n"
    }
   },
   "source": [
    "Wykres, który uzyskaliśmy powyżej, jest wykresem interaktywnym, gdzie, w tym przypadku, możemy włączać lub wyłączać poszczególne serie danych poprzez klikanie w ich nazwy w legendzie."
   ]
  },
  {
   "cell_type": "code",
   "execution_count": 2,
   "metadata": {
    "pycharm": {
     "name": "#%%\n"
    }
   },
   "outputs": [
    {
     "data": {
      "application/vnd.plotly.v1+json": {
       "config": {
        "plotlyServerURL": "https://plot.ly"
       },
       "data": [
        {
         "domain": {
          "x": [
           0,
           1
          ],
          "y": [
           0,
           1
          ]
         },
         "hovertemplate": "Sprzedawca=%{label}<br>Utarg=%{value}<extra></extra>",
         "labels": [
          "Kowalski",
          "Sowiński",
          "Peacock",
          "Leverling",
          "Peacock",
          "Leverling",
          "Kowalski",
          "Dudek",
          "Leverling",
          "Peacock",
          "Davolio",
          "Peacock",
          "Peacock",
          "Peacock",
          "Callahan",
          "Dudek",
          "Sowiński",
          "Fuller",
          "Leverling",
          "Peacock",
          "Callahan",
          "Kowalski",
          "Davolio",
          "Sowiński",
          "Sowiński",
          "Leverling",
          "Sowiński",
          "Davolio",
          "Callahan",
          "Fuller",
          "Callahan",
          "Callahan",
          "Fuller",
          "Peacock",
          "Peacock",
          "Leverling",
          "Peacock",
          "Davolio",
          "Callahan",
          "Callahan",
          "Peacock",
          "King",
          "Callahan",
          "Sowiński",
          "Davolio",
          "Davolio",
          "Peacock",
          "Fuller",
          "Sowiński",
          "Kowalski",
          "Sowiński",
          "Peacock",
          "Fuller",
          "Callahan",
          "Peacock",
          "King",
          "Davolio",
          "Callahan",
          "Davolio",
          "Fuller",
          "King",
          "Leverling",
          "Callahan",
          "Davolio",
          "Fuller",
          "Fuller",
          "Davolio",
          "Peacock",
          "Davolio",
          "Sowiński",
          "Callahan",
          "King",
          "Kowalski",
          "Leverling",
          "King",
          "Peacock",
          "Dudek",
          "Davolio",
          "Peacock",
          "Fuller",
          "Peacock",
          "Peacock",
          "Leverling",
          "Dudek",
          "Leverling",
          "Kowalski",
          "Callahan",
          "King",
          "King",
          "Peacock",
          "Peacock",
          "Fuller",
          "Davolio",
          "King",
          "Peacock",
          "Peacock",
          "Peacock",
          "Fuller",
          "Leverling",
          "Peacock",
          "Peacock",
          "King",
          "Sowiński",
          "Davolio",
          "Leverling",
          "King",
          "Callahan",
          "Sowiński",
          "Sowiński",
          "Davolio",
          "Kowalski",
          "Kowalski",
          "Peacock",
          "Davolio",
          "Leverling",
          "Peacock",
          "Davolio",
          "Leverling",
          "Callahan",
          "King",
          "Fuller",
          "Callahan",
          "Sowiński",
          "Davolio",
          "Kowalski",
          "Peacock",
          "Davolio",
          "Leverling",
          "Davolio",
          "Davolio",
          "Kowalski",
          "Fuller",
          "Callahan",
          "Leverling",
          "Peacock",
          "Callahan",
          "Leverling",
          "Davolio",
          "Dudek",
          "Davolio",
          "Fuller",
          "Peacock",
          "Sowiński",
          "Leverling",
          "Fuller",
          "Davolio",
          "Davolio",
          "Sowiński",
          "Davolio",
          "Kowalski",
          "Fuller",
          "Callahan",
          "Davolio",
          "Davolio",
          "Callahan",
          "Peacock",
          "Fuller",
          "Davolio",
          "King",
          "Fuller",
          "Callahan",
          "Leverling",
          "Leverling",
          "Dudek",
          "Callahan",
          "Leverling",
          "Fuller",
          "Leverling",
          "Callahan",
          "Peacock",
          "Peacock",
          "Peacock",
          "Leverling",
          "Callahan",
          "Fuller",
          "Sowiński",
          "King",
          "Sowiński",
          "Peacock",
          "Peacock",
          "King",
          "Leverling",
          "Peacock",
          "Peacock",
          "Leverling",
          "Leverling",
          "Leverling",
          "Callahan",
          "Leverling",
          "Callahan",
          "Leverling",
          "Sowiński",
          "Peacock",
          "Leverling",
          "Leverling",
          "Callahan",
          "Leverling",
          "Leverling",
          "Sowiński",
          "Peacock",
          "Peacock",
          "Leverling",
          "Callahan",
          "Peacock",
          "Callahan",
          "Davolio",
          "Peacock",
          "Callahan",
          "Callahan",
          "Fuller",
          "King",
          "Peacock",
          "Callahan",
          "Davolio",
          "Fuller",
          "Kowalski",
          "Peacock",
          "Davolio",
          "Peacock",
          "Callahan",
          "Leverling",
          "Davolio",
          "Peacock",
          "Fuller",
          "Callahan",
          "Davolio",
          "Kowalski",
          "Dudek",
          "Callahan",
          "Kowalski",
          "Fuller",
          "Leverling",
          "Sowiński",
          "Callahan",
          "Davolio",
          "King",
          "Leverling",
          "Peacock",
          "Davolio",
          "Fuller",
          "Callahan",
          "Sowiński",
          "King",
          "Callahan",
          "Leverling",
          "Peacock",
          "Peacock",
          "Leverling",
          "King",
          "King",
          "Callahan",
          "Peacock",
          "Sowiński",
          "Dudek",
          "Fuller",
          "Sowiński",
          "Peacock",
          "Leverling",
          "Dudek",
          "King",
          "Davolio",
          "Peacock",
          "Sowiński",
          "Peacock",
          "King",
          "King",
          "Leverling",
          "Fuller",
          "Fuller",
          "Leverling",
          "Peacock",
          "Sowiński",
          "King",
          "Callahan",
          "Peacock",
          "King",
          "Davolio",
          "Davolio",
          "Peacock",
          "King",
          "Sowiński",
          "Kowalski",
          "Leverling",
          "King",
          "King",
          "Callahan",
          "Callahan",
          "Peacock",
          "Leverling",
          "Davolio",
          "Dudek",
          "Sowiński",
          "Leverling",
          "Fuller",
          "Davolio",
          "Callahan",
          "Peacock",
          "Callahan",
          "Davolio",
          "Leverling",
          "Leverling",
          "Kowalski",
          "King",
          "Peacock",
          "Fuller",
          "Fuller",
          "Peacock",
          "Sowiński",
          "Fuller",
          "Dudek",
          "Davolio",
          "Sowiński",
          "Callahan",
          "Fuller",
          "Davolio",
          "Fuller",
          "Peacock",
          "Callahan",
          "Dudek",
          "Davolio",
          "Leverling",
          "Kowalski",
          "Leverling",
          "Callahan",
          "Leverling",
          "King",
          "Peacock",
          "Kowalski",
          "Leverling",
          "Dudek",
          "Peacock",
          "Davolio",
          "Peacock",
          "Leverling",
          "Leverling",
          "Fuller",
          "Peacock",
          "King",
          "Dudek",
          "Davolio",
          "Fuller",
          "Callahan",
          "Peacock",
          "Davolio",
          "Leverling",
          "King",
          "Leverling",
          "Fuller",
          "Callahan",
          "King",
          "Davolio",
          "Sowiński",
          "Peacock",
          "King",
          "Callahan",
          "Callahan",
          "Davolio",
          "Davolio",
          "Peacock",
          "Kowalski",
          "Peacock",
          "King",
          "Callahan",
          "Sowiński",
          "Davolio",
          "Peacock",
          "Callahan",
          "Fuller",
          "Davolio",
          "Peacock",
          "Davolio",
          "Leverling",
          "Fuller",
          "Peacock",
          "Peacock",
          "Callahan",
          "Peacock",
          "Leverling",
          "Davolio",
          "Callahan",
          "Peacock",
          "Peacock",
          "Davolio",
          "Callahan",
          "Callahan",
          "King",
          "Peacock",
          "Callahan",
          "Peacock",
          "Sowiński",
          "Leverling",
          "King",
          "Peacock",
          "Peacock",
          "King",
          "Sowiński",
          "Leverling",
          "Peacock",
          "Dudek",
          "Peacock",
          "Kowalski",
          "Kowalski",
          "Kowalski",
          "Callahan",
          "Peacock",
          "Davolio",
          "Kowalski",
          "Davolio",
          "Sowiński",
          "Fuller",
          "Peacock",
          "King",
          "Callahan",
          "King",
          "Leverling",
          "Fuller",
          "Davolio",
          "Davolio",
          "King",
          "King",
          "Davolio",
          "Fuller",
          "Peacock",
          "Davolio",
          "Dudek",
          "Fuller",
          "Peacock",
          "Kowalski",
          "Fuller",
          "Davolio",
          "King",
          "Callahan",
          "Davolio",
          "Leverling",
          "Leverling",
          "Fuller",
          "Leverling",
          "Peacock",
          "Fuller",
          "Dudek",
          "Peacock",
          "Davolio",
          "Davolio",
          "Fuller",
          "Peacock",
          "Leverling",
          "Callahan",
          "King",
          "Callahan",
          "Leverling",
          "Peacock",
          "Leverling",
          "Leverling",
          "Sowiński",
          "Peacock",
          "Sowiński",
          "Sowiński",
          "Dudek",
          "Callahan",
          "Peacock",
          "Sowiński",
          "Davolio",
          "Davolio",
          "Kowalski",
          "Leverling",
          "Davolio",
          "Kowalski",
          "Leverling",
          "Peacock",
          "Davolio",
          "Davolio",
          "Callahan",
          "Callahan",
          "Kowalski",
          "Callahan",
          "Leverling",
          "Callahan",
          "Peacock",
          "Peacock",
          "Fuller",
          "Peacock",
          "Callahan",
          "Kowalski",
          "King",
          "Leverling",
          "Davolio",
          "Fuller",
          "Sowiński",
          "Dudek",
          "Fuller",
          "Fuller",
          "Leverling",
          "Peacock",
          "Peacock",
          "Leverling",
          "Davolio",
          "Sowiński",
          "Dudek",
          "Davolio",
          "Sowiński",
          "Leverling",
          "Peacock",
          "Dudek",
          "Leverling",
          "Fuller",
          "Leverling",
          "Sowiński",
          "Peacock",
          "Callahan",
          "Sowiński",
          "Leverling",
          "Leverling",
          "Peacock",
          "Kowalski",
          "Leverling",
          "Leverling",
          "Sowiński",
          "Leverling",
          "Peacock",
          "Peacock",
          "Leverling",
          "Leverling",
          "Callahan",
          "Dudek",
          "Leverling",
          "Davolio",
          "Peacock",
          "King",
          "Davolio",
          "King",
          "Leverling",
          "Leverling",
          "Fuller",
          "Fuller",
          "Dudek",
          "Peacock",
          "Peacock",
          "Davolio",
          "Callahan",
          "Fuller",
          "Davolio",
          "Davolio",
          "Sowiński",
          "Sowiński",
          "Davolio",
          "Leverling",
          "Sowiński",
          "Callahan",
          "Leverling",
          "King",
          "Fuller",
          "Dudek",
          "Davolio",
          "Peacock",
          "Peacock",
          "Peacock",
          "Sowiński",
          "Fuller",
          "Leverling",
          "Peacock",
          "Fuller",
          "King",
          "Fuller",
          "Callahan",
          "Kowalski",
          "Davolio",
          "Leverling",
          "Fuller",
          "Peacock",
          "Leverling",
          "King",
          "Fuller",
          "Leverling",
          "Davolio",
          "Sowiński",
          "Kowalski",
          "Callahan",
          "Davolio",
          "Sowiński",
          "Davolio",
          "Dudek",
          "Dudek",
          "Peacock",
          "Leverling",
          "Fuller",
          "Sowiński",
          "Davolio",
          "Davolio",
          "King",
          "Dudek",
          "Leverling",
          "Leverling",
          "Peacock",
          "Kowalski",
          "Davolio",
          "Peacock",
          "Callahan",
          "Callahan",
          "Fuller",
          "Peacock",
          "King",
          "Dudek",
          "Davolio",
          "Kowalski",
          "Callahan",
          "Dudek",
          "Leverling",
          "Leverling",
          "Leverling",
          "Callahan",
          "Fuller",
          "Davolio",
          "Leverling",
          "Peacock",
          "Callahan",
          "Peacock",
          "Peacock",
          "Fuller",
          "Kowalski",
          "Sowiński",
          "King",
          "Kowalski",
          "Kowalski",
          "Dudek",
          "Kowalski",
          "Peacock",
          "Kowalski",
          "Peacock",
          "King",
          "Davolio",
          "Peacock",
          "Leverling",
          "King",
          "Peacock",
          "Peacock",
          "Callahan",
          "Peacock",
          "Sowiński",
          "Davolio",
          "Callahan",
          "Davolio",
          "Dudek",
          "King",
          "King",
          "Peacock",
          "Dudek",
          "Davolio",
          "Leverling",
          "King",
          "Leverling",
          "Peacock",
          "Kowalski",
          "Davolio",
          "Peacock",
          "Davolio",
          "Leverling",
          "Leverling",
          "Dudek",
          "Peacock",
          "Sowiński",
          "Peacock",
          "Davolio",
          "Davolio",
          "Leverling",
          "Fuller",
          "Peacock",
          "Sowiński",
          "Fuller",
          "Davolio",
          "Peacock",
          "Leverling",
          "Fuller",
          "Peacock",
          "Davolio",
          "Kowalski",
          "King",
          "Leverling",
          "Leverling",
          "Peacock",
          "Peacock",
          "Davolio",
          "Sowiński",
          "Peacock",
          "Peacock",
          "Callahan",
          "Sowiński",
          "Leverling",
          "Peacock",
          "Leverling",
          "King",
          "Leverling",
          "Fuller",
          "Callahan",
          "King",
          "Dudek",
          "Peacock",
          "Sowiński",
          "Peacock",
          "Davolio",
          "Leverling",
          "Leverling",
          "Fuller",
          "Davolio",
          "Dudek",
          "Davolio",
          "Dudek",
          "Kowalski",
          "Callahan",
          "Sowiński",
          "Callahan",
          "King",
          "Sowiński",
          "Leverling",
          "Callahan",
          "Callahan",
          "Dudek",
          "Leverling",
          "Sowiński",
          "Peacock",
          "Fuller",
          "Davolio",
          "Davolio",
          "Dudek",
          "Fuller",
          "Peacock",
          "Sowiński",
          "Leverling",
          "Davolio",
          "Davolio",
          "Callahan",
          "Dudek",
          "Callahan",
          "Peacock",
          "Davolio",
          "Fuller",
          "Fuller",
          "Davolio",
          "Fuller",
          "Callahan",
          "Callahan",
          "Leverling",
          "Fuller",
          "Fuller",
          "Davolio",
          "Davolio",
          "King",
          "Fuller",
          "Davolio",
          "Peacock",
          "Callahan",
          "Callahan",
          "Sowiński",
          "Fuller",
          "Fuller",
          "Peacock",
          "Leverling",
          "Leverling",
          "Fuller",
          "Leverling",
          "Callahan",
          "Fuller",
          "Fuller",
          "Leverling",
          "Davolio",
          "Fuller",
          "Fuller",
          "Fuller",
          "Dudek",
          "Dudek",
          "Peacock",
          "Fuller",
          "Leverling",
          "Davolio",
          "Peacock",
          "Sowiński",
          "Peacock",
          "Davolio",
          "Fuller",
          "Peacock",
          "King",
          "Sowiński",
          "Fuller",
          "King",
          "Callahan",
          "Fuller",
          "Callahan",
          "King",
          "Davolio",
          "Leverling",
          "Fuller",
          "Kowalski",
          "Peacock",
          "Callahan",
          "King",
          "King",
          "Leverling",
          "Fuller",
          "Callahan",
          "Leverling"
         ],
         "legendgroup": "",
         "name": "",
         "showlegend": true,
         "type": "pie",
         "values": [
          440,
          1863.4,
          1552.6,
          654.06,
          3597.9,
          1444.8,
          556.62,
          2490.5,
          517.8,
          1119.9,
          1614.88,
          100.8,
          1504.65,
          448,
          584,
          1873.8,
          695.62,
          1176,
          346.56,
          3536.6,
          1101.2,
          642.2,
          1376,
          48,
          1456,
          2037.28,
          538.6,
          291.84,
          420,
          1200.8,
          1488.8,
          351,
          613.2,
          86.5,
          155.4,
          1414.8,
          1170.37,
          1743.36,
          3016,
          819,
          80.1,
          479.4,
          2169,
          497.52,
          1296,
          848.7,
          1887.6,
          121.6,
          1050.6,
          1420,
          2645,
          349.5,
          608,
          755,
          2708.8,
          1117.8,
          954.4,
          3741.3,
          498.5,
          424,
          88.8,
          1762,
          336,
          268.8,
          1614.8,
          182.4,
          2094.3,
          516.8,
          2835,
          288,
          240.4,
          1191.2,
          516,
          144,
          112,
          164.4,
          5275.71,
          1497,
          982,
          1810,
          1168,
          4578.43,
          1649,
          88.5,
          1786.88,
          877.2,
          144.8,
          2036.16,
          285.12,
          2467,
          934.5,
          3354,
          2436.18,
          352.6,
          1840.64,
          1584,
          2296,
          2924.8,
          1618.88,
          814.42,
          363.6,
          141.6,
          642.06,
          5398.72,
          136.3,
          8593.28,
          568.8,
          480,
          1106.4,
          1167.68,
          429.4,
          3471.68,
          7390.2,
          2046.24,
          1549.6,
          447.2,
          950,
          403.2,
          136,
          834.2,
          1689.78,
          2390.4,
          1117.6,
          72.96,
          9210.9,
          1366.4,
          459,
          338,
          399,
          863.6,
          103.2,
          863.28,
          1313.82,
          112,
          2900,
          899,
          2222.4,
          691.2,
          166,
          1058.4,
          1228.8,
          1832.8,
          2090.88,
          86.4,
          1440,
          2556.95,
          442,
          2122.92,
          1903.8,
          716.72,
          2505.6,
          1765.6,
          3063,
          3868.6,
          2713.5,
          855.01,
          1591.25,
          400,
          1830.78,
          1194,
          1622.4,
          319.2,
          802,
          966.8,
          334.8,
          2123.2,
          224.83,
          102.4,
          720,
          11188.4,
          1814.8,
          2097.6,
          1707.84,
          1194.27,
          49.8,
          1020,
          9194.56,
          360,
          338.2,
          651,
          192,
          1441.37,
          4899.2,
          1892.25,
          485,
          851.2,
          321.12,
          631.6,
          1994.52,
          393,
          454,
          1078,
          4924.13,
          1755,
          1792,
          517.44,
          1031.7,
          174.9,
          246.24,
          914.4,
          443.4,
          1838.2,
          425.12,
          3849.66,
          2018.5,
          407.7,
          331.2,
          2684,
          557.6,
          1584,
          3891,
          1659.2,
          176.1,
          1538.7,
          156,
          713.3,
          1609.28,
          2518,
          216,
          235.2,
          717.6,
          956.67,
          1820.8,
          1328,
          1036.8,
          230.4,
          1249.1,
          1505.18,
          180.48,
          558,
          471.2,
          10495.6,
          756,
          1472,
          147,
          668.8,
          386.2,
          1584,
          1272,
          889.7,
          1512,
          439.2,
          3163.2,
          259.5,
          851.2,
          608.4,
          912,
          278,
          190,
          1380.6,
          575,
          1412,
          523.26,
          149,
          816.3,
          2048.5,
          1388.5,
          147.9,
          415.8,
          749.06,
          240,
          136.8,
          4707.54,
          2550,
          525.3,
          1942,
          8623.45,
          9921.3,
          2381.05,
          352,
          4150.05,
          2314.2,
          200,
          225.5,
          2318.24,
          2444.31,
          3192.65,
          818.4,
          1151.4,
          1503,
          392.2,
          946,
          4180,
          110,
          796.35,
          2222.2,
          465.7,
          1940.85,
          1645,
          1823.8,
          139.8,
          355.5,
          10191.7,
          1946.52,
          469.11,
          1504.5,
          417.2,
          210,
          2812,
          1792.8,
          240.1,
          3554.27,
          683.3,
          1677.3,
          880.5,
          1546.3,
          1728.52,
          2944.4,
          835.2,
          1152.5,
          2142.9,
          520.41,
          1072.42,
          2844.5,
          488.7,
          965,
          1234.05,
          639.9,
          1761,
          2519,
          155,
          890,
          2465.25,
          550.59,
          1501.08,
          2082,
          764.3,
          2147.4,
          838.45,
          569,
          477,
          317.75,
          1013.74,
          310,
          330,
          2237.5,
          593.75,
          142.5,
          23.8,
          807.38,
          3120,
          72,
          1101,
          812.5,
          516.46,
          1994.4,
          565.5,
          4725,
          1180.88,
          718.08,
          2388.5,
          493,
          479.8,
          2285,
          48.75,
          1483,
          230.85,
          4109.69,
          1130.4,
          6475.4,
          1064,
          424,
          299.25,
          808,
          6375,
          353.2,
          464,
          120,
          4806.99,
          1402.5,
          2697.5,
          1260,
          57.5,
          758.5,
          560,
          1336.95,
          1393.24,
          479.75,
          1503.6,
          1185.75,
          450,
          2775.05,
          903.6,
          55.8,
          589,
          5510.59,
          4985.5,
          1326.22,
          629.5,
          2761.94,
          2720.05,
          500,
          708.75,
          2054,
          696,
          814.5,
          1371.8,
          1535,
          1446,
          636,
          372.37,
          1434,
          1779.2,
          397.8,
          318.84,
          1083.15,
          601.83,
          154.4,
          604.21,
          4371.6,
          4464.6,
          1227.02,
          1701,
          562.6,
          125,
          1930.4,
          1288.39,
          1295,
          4666.94,
          1536.8,
          625.27,
          570,
          2301.75,
          920.1,
          3815.25,
          412.35,
          45,
          1423,
          534.85,
          813.36,
          5256.5,
          660,
          1261.88,
          1287.4,
          375.5,
          63,
          1768,
          801.1,
          1404.45,
          4960.9,
          3160.6,
          472.5,
          862.5,
          10164.8,
          878,
          2071.2,
          4825,
          642,
          996,
          805.43,
          3436.45,
          114,
          1638.4,
          2864.5,
          330,
          2545,
          595.5,
          378,
          1893,
          1641,
          180.4,
          3424,
          93.5,
          4451.7,
          1233.48,
          2827.9,
          2205.75,
          1296,
          706,
          1270.75,
          3463,
          844.25,
          550,
          923.87,
          1570,
          468.45,
          638.5,
          287.8,
          655,
          1624.5,
          1296.75,
          1850,
          484.25,
          1890.5,
          360,
          1459,
          1498.35,
          536.4,
          997,
          139.8,
          52.35,
          240,
          1416,
          228,
          3118,
          319.2,
          736,
          4529.8,
          2311.7,
          1912.85,
          2196,
          1080,
          1590.56,
          1631.48,
          252,
          88,
          55.2,
          1948.5,
          1990,
          3082,
          1644.6,
          320,
          2917,
          507,
          4337,
          616,
          2286,
          1515.6,
          2310,
          28,
          1477,
          1684.27,
          236.25,
          344,
          3603.22,
          2030.4,
          868.75,
          228,
          6635.27,
          224,
          96.5,
          1335,
          720,
          975.88,
          12.5,
          1442.5,
          1488,
          387.5,
          1531.08,
          2622.76,
          731.5,
          3687,
          722.5,
          1829.76,
          399.85,
          191.1,
          314.76,
          2158,
          2341.36,
          420,
          446.6,
          1553.5,
          1468.93,
          3026.85,
          2942.81,
          1193.01,
          2278.4,
          2775,
          439.6,
          18.4,
          1411,
          140,
          187,
          852,
          1692.8,
          602.4,
          1788.45,
          40,
          8446.45,
          10952.84,
          833,
          477,
          1140,
          678,
          237.9,
          2826,
          250.8,
          1030.76,
          730,
          843,
          932,
          1764,
          1974,
          2684.4,
          475.11,
          906.93,
          1432.71,
          845.8,
          4705.5,
          1064.5,
          1938.38,
          827.55,
          211.2,
          4581,
          975,
          159,
          735,
          3812.7,
          1112,
          4931.92,
          931.5,
          967.82,
          629,
          2603,
          2984,
          625,
          2966.5,
          2227.89,
          660,
          2048.22,
          649,
          1078.69,
          519,
          3523.4,
          581,
          441.15,
          282,
          16387.5,
          1096.2,
          98.4,
          1920.6,
          1630,
          160,
          1979.23,
          2058.46,
          336.8,
          310,
          709.55,
          917,
          1955.13,
          1539,
          611.3,
          1500,
          150,
          892.64,
          36,
          1378.07,
          1209,
          3127.5,
          70,
          605,
          11380,
          860.1,
          368.93,
          2090,
          5502.11,
          2753.1,
          6379.4,
          750.5,
          10835.24,
          30,
          122.4,
          33.75,
          934.5,
          863.43,
          932.05,
          1924.25,
          342,
          427.5,
          108.5,
          663.1,
          670,
          452.9,
          858,
          6200.55,
          768.75,
          537.5,
          539.5,
          686.7,
          365.89,
          1447.5,
          1122.8,
          390,
          1936,
          742.5,
          748.8,
          1835.7,
          475.15,
          514.4,
          800,
          137.5,
          1174.75,
          2255.5,
          799.2,
          1788.63,
          920.6,
          500,
          619.5,
          456,
          644.8,
          2731.87,
          637.5,
          360,
          4011.75,
          560,
          711,
          1025.33,
          245,
          1407.5,
          220,
          2362.25,
          4422,
          110,
          458.74,
          471.2,
          4441.25,
          1659.53,
          74.4,
          677,
          1762.7,
          781,
          131.75,
          265.35,
          1119.9,
          3584,
          57.8,
          2052.5,
          848,
          1098.46,
          910.4,
          1408,
          108,
          224,
          1733.06,
          251.5,
          291.55,
          439,
          717.5,
          912,
          2233,
          1303.19,
          4813.5,
          248,
          15810,
          1014,
          720.9,
          1809.75,
          2023.38,
          2220,
          2772,
          3574.8,
          1353.6,
          4288.85,
          2296,
          69.6,
          4895.44,
          940.5,
          1196,
          560,
          1885,
          686,
          1197.95,
          903.75,
          2769,
          1811.1,
          326,
          295.38,
          586,
          329.69,
          2633.9,
          616.5,
          645,
          933.5,
          2825.3,
          361,
          243.18,
          622.35,
          491.5,
          6750,
          1575,
          632.4,
          6306.24,
          1500,
          1966.81,
          270,
          1030,
          877.72,
          2160,
          1286.8,
          12615.05,
          2393.5,
          8902.5,
          3232.8,
          539.4,
          1754.5,
          1692,
          60,
          732.6,
          1773,
          405.75,
          210,
          591.6,
          1485.8,
          817.87,
          525,
          1332,
          3055,
          3740,
          45
         ]
        }
       ],
       "layout": {
        "legend": {
         "tracegroupgap": 0
        },
        "margin": {
         "t": 60
        },
        "template": {
         "data": {
          "bar": [
           {
            "error_x": {
             "color": "#2a3f5f"
            },
            "error_y": {
             "color": "#2a3f5f"
            },
            "marker": {
             "line": {
              "color": "#E5ECF6",
              "width": 0.5
             },
             "pattern": {
              "fillmode": "overlay",
              "size": 10,
              "solidity": 0.2
             }
            },
            "type": "bar"
           }
          ],
          "barpolar": [
           {
            "marker": {
             "line": {
              "color": "#E5ECF6",
              "width": 0.5
             },
             "pattern": {
              "fillmode": "overlay",
              "size": 10,
              "solidity": 0.2
             }
            },
            "type": "barpolar"
           }
          ],
          "carpet": [
           {
            "aaxis": {
             "endlinecolor": "#2a3f5f",
             "gridcolor": "white",
             "linecolor": "white",
             "minorgridcolor": "white",
             "startlinecolor": "#2a3f5f"
            },
            "baxis": {
             "endlinecolor": "#2a3f5f",
             "gridcolor": "white",
             "linecolor": "white",
             "minorgridcolor": "white",
             "startlinecolor": "#2a3f5f"
            },
            "type": "carpet"
           }
          ],
          "choropleth": [
           {
            "colorbar": {
             "outlinewidth": 0,
             "ticks": ""
            },
            "type": "choropleth"
           }
          ],
          "contour": [
           {
            "colorbar": {
             "outlinewidth": 0,
             "ticks": ""
            },
            "colorscale": [
             [
              0,
              "#0d0887"
             ],
             [
              0.1111111111111111,
              "#46039f"
             ],
             [
              0.2222222222222222,
              "#7201a8"
             ],
             [
              0.3333333333333333,
              "#9c179e"
             ],
             [
              0.4444444444444444,
              "#bd3786"
             ],
             [
              0.5555555555555556,
              "#d8576b"
             ],
             [
              0.6666666666666666,
              "#ed7953"
             ],
             [
              0.7777777777777778,
              "#fb9f3a"
             ],
             [
              0.8888888888888888,
              "#fdca26"
             ],
             [
              1,
              "#f0f921"
             ]
            ],
            "type": "contour"
           }
          ],
          "contourcarpet": [
           {
            "colorbar": {
             "outlinewidth": 0,
             "ticks": ""
            },
            "type": "contourcarpet"
           }
          ],
          "heatmap": [
           {
            "colorbar": {
             "outlinewidth": 0,
             "ticks": ""
            },
            "colorscale": [
             [
              0,
              "#0d0887"
             ],
             [
              0.1111111111111111,
              "#46039f"
             ],
             [
              0.2222222222222222,
              "#7201a8"
             ],
             [
              0.3333333333333333,
              "#9c179e"
             ],
             [
              0.4444444444444444,
              "#bd3786"
             ],
             [
              0.5555555555555556,
              "#d8576b"
             ],
             [
              0.6666666666666666,
              "#ed7953"
             ],
             [
              0.7777777777777778,
              "#fb9f3a"
             ],
             [
              0.8888888888888888,
              "#fdca26"
             ],
             [
              1,
              "#f0f921"
             ]
            ],
            "type": "heatmap"
           }
          ],
          "heatmapgl": [
           {
            "colorbar": {
             "outlinewidth": 0,
             "ticks": ""
            },
            "colorscale": [
             [
              0,
              "#0d0887"
             ],
             [
              0.1111111111111111,
              "#46039f"
             ],
             [
              0.2222222222222222,
              "#7201a8"
             ],
             [
              0.3333333333333333,
              "#9c179e"
             ],
             [
              0.4444444444444444,
              "#bd3786"
             ],
             [
              0.5555555555555556,
              "#d8576b"
             ],
             [
              0.6666666666666666,
              "#ed7953"
             ],
             [
              0.7777777777777778,
              "#fb9f3a"
             ],
             [
              0.8888888888888888,
              "#fdca26"
             ],
             [
              1,
              "#f0f921"
             ]
            ],
            "type": "heatmapgl"
           }
          ],
          "histogram": [
           {
            "marker": {
             "pattern": {
              "fillmode": "overlay",
              "size": 10,
              "solidity": 0.2
             }
            },
            "type": "histogram"
           }
          ],
          "histogram2d": [
           {
            "colorbar": {
             "outlinewidth": 0,
             "ticks": ""
            },
            "colorscale": [
             [
              0,
              "#0d0887"
             ],
             [
              0.1111111111111111,
              "#46039f"
             ],
             [
              0.2222222222222222,
              "#7201a8"
             ],
             [
              0.3333333333333333,
              "#9c179e"
             ],
             [
              0.4444444444444444,
              "#bd3786"
             ],
             [
              0.5555555555555556,
              "#d8576b"
             ],
             [
              0.6666666666666666,
              "#ed7953"
             ],
             [
              0.7777777777777778,
              "#fb9f3a"
             ],
             [
              0.8888888888888888,
              "#fdca26"
             ],
             [
              1,
              "#f0f921"
             ]
            ],
            "type": "histogram2d"
           }
          ],
          "histogram2dcontour": [
           {
            "colorbar": {
             "outlinewidth": 0,
             "ticks": ""
            },
            "colorscale": [
             [
              0,
              "#0d0887"
             ],
             [
              0.1111111111111111,
              "#46039f"
             ],
             [
              0.2222222222222222,
              "#7201a8"
             ],
             [
              0.3333333333333333,
              "#9c179e"
             ],
             [
              0.4444444444444444,
              "#bd3786"
             ],
             [
              0.5555555555555556,
              "#d8576b"
             ],
             [
              0.6666666666666666,
              "#ed7953"
             ],
             [
              0.7777777777777778,
              "#fb9f3a"
             ],
             [
              0.8888888888888888,
              "#fdca26"
             ],
             [
              1,
              "#f0f921"
             ]
            ],
            "type": "histogram2dcontour"
           }
          ],
          "mesh3d": [
           {
            "colorbar": {
             "outlinewidth": 0,
             "ticks": ""
            },
            "type": "mesh3d"
           }
          ],
          "parcoords": [
           {
            "line": {
             "colorbar": {
              "outlinewidth": 0,
              "ticks": ""
             }
            },
            "type": "parcoords"
           }
          ],
          "pie": [
           {
            "automargin": true,
            "type": "pie"
           }
          ],
          "scatter": [
           {
            "fillpattern": {
             "fillmode": "overlay",
             "size": 10,
             "solidity": 0.2
            },
            "type": "scatter"
           }
          ],
          "scatter3d": [
           {
            "line": {
             "colorbar": {
              "outlinewidth": 0,
              "ticks": ""
             }
            },
            "marker": {
             "colorbar": {
              "outlinewidth": 0,
              "ticks": ""
             }
            },
            "type": "scatter3d"
           }
          ],
          "scattercarpet": [
           {
            "marker": {
             "colorbar": {
              "outlinewidth": 0,
              "ticks": ""
             }
            },
            "type": "scattercarpet"
           }
          ],
          "scattergeo": [
           {
            "marker": {
             "colorbar": {
              "outlinewidth": 0,
              "ticks": ""
             }
            },
            "type": "scattergeo"
           }
          ],
          "scattergl": [
           {
            "marker": {
             "colorbar": {
              "outlinewidth": 0,
              "ticks": ""
             }
            },
            "type": "scattergl"
           }
          ],
          "scattermapbox": [
           {
            "marker": {
             "colorbar": {
              "outlinewidth": 0,
              "ticks": ""
             }
            },
            "type": "scattermapbox"
           }
          ],
          "scatterpolar": [
           {
            "marker": {
             "colorbar": {
              "outlinewidth": 0,
              "ticks": ""
             }
            },
            "type": "scatterpolar"
           }
          ],
          "scatterpolargl": [
           {
            "marker": {
             "colorbar": {
              "outlinewidth": 0,
              "ticks": ""
             }
            },
            "type": "scatterpolargl"
           }
          ],
          "scatterternary": [
           {
            "marker": {
             "colorbar": {
              "outlinewidth": 0,
              "ticks": ""
             }
            },
            "type": "scatterternary"
           }
          ],
          "surface": [
           {
            "colorbar": {
             "outlinewidth": 0,
             "ticks": ""
            },
            "colorscale": [
             [
              0,
              "#0d0887"
             ],
             [
              0.1111111111111111,
              "#46039f"
             ],
             [
              0.2222222222222222,
              "#7201a8"
             ],
             [
              0.3333333333333333,
              "#9c179e"
             ],
             [
              0.4444444444444444,
              "#bd3786"
             ],
             [
              0.5555555555555556,
              "#d8576b"
             ],
             [
              0.6666666666666666,
              "#ed7953"
             ],
             [
              0.7777777777777778,
              "#fb9f3a"
             ],
             [
              0.8888888888888888,
              "#fdca26"
             ],
             [
              1,
              "#f0f921"
             ]
            ],
            "type": "surface"
           }
          ],
          "table": [
           {
            "cells": {
             "fill": {
              "color": "#EBF0F8"
             },
             "line": {
              "color": "white"
             }
            },
            "header": {
             "fill": {
              "color": "#C8D4E3"
             },
             "line": {
              "color": "white"
             }
            },
            "type": "table"
           }
          ]
         },
         "layout": {
          "annotationdefaults": {
           "arrowcolor": "#2a3f5f",
           "arrowhead": 0,
           "arrowwidth": 1
          },
          "autotypenumbers": "strict",
          "coloraxis": {
           "colorbar": {
            "outlinewidth": 0,
            "ticks": ""
           }
          },
          "colorscale": {
           "diverging": [
            [
             0,
             "#8e0152"
            ],
            [
             0.1,
             "#c51b7d"
            ],
            [
             0.2,
             "#de77ae"
            ],
            [
             0.3,
             "#f1b6da"
            ],
            [
             0.4,
             "#fde0ef"
            ],
            [
             0.5,
             "#f7f7f7"
            ],
            [
             0.6,
             "#e6f5d0"
            ],
            [
             0.7,
             "#b8e186"
            ],
            [
             0.8,
             "#7fbc41"
            ],
            [
             0.9,
             "#4d9221"
            ],
            [
             1,
             "#276419"
            ]
           ],
           "sequential": [
            [
             0,
             "#0d0887"
            ],
            [
             0.1111111111111111,
             "#46039f"
            ],
            [
             0.2222222222222222,
             "#7201a8"
            ],
            [
             0.3333333333333333,
             "#9c179e"
            ],
            [
             0.4444444444444444,
             "#bd3786"
            ],
            [
             0.5555555555555556,
             "#d8576b"
            ],
            [
             0.6666666666666666,
             "#ed7953"
            ],
            [
             0.7777777777777778,
             "#fb9f3a"
            ],
            [
             0.8888888888888888,
             "#fdca26"
            ],
            [
             1,
             "#f0f921"
            ]
           ],
           "sequentialminus": [
            [
             0,
             "#0d0887"
            ],
            [
             0.1111111111111111,
             "#46039f"
            ],
            [
             0.2222222222222222,
             "#7201a8"
            ],
            [
             0.3333333333333333,
             "#9c179e"
            ],
            [
             0.4444444444444444,
             "#bd3786"
            ],
            [
             0.5555555555555556,
             "#d8576b"
            ],
            [
             0.6666666666666666,
             "#ed7953"
            ],
            [
             0.7777777777777778,
             "#fb9f3a"
            ],
            [
             0.8888888888888888,
             "#fdca26"
            ],
            [
             1,
             "#f0f921"
            ]
           ]
          },
          "colorway": [
           "#636efa",
           "#EF553B",
           "#00cc96",
           "#ab63fa",
           "#FFA15A",
           "#19d3f3",
           "#FF6692",
           "#B6E880",
           "#FF97FF",
           "#FECB52"
          ],
          "font": {
           "color": "#2a3f5f"
          },
          "geo": {
           "bgcolor": "white",
           "lakecolor": "white",
           "landcolor": "#E5ECF6",
           "showlakes": true,
           "showland": true,
           "subunitcolor": "white"
          },
          "hoverlabel": {
           "align": "left"
          },
          "hovermode": "closest",
          "mapbox": {
           "style": "light"
          },
          "paper_bgcolor": "white",
          "plot_bgcolor": "#E5ECF6",
          "polar": {
           "angularaxis": {
            "gridcolor": "white",
            "linecolor": "white",
            "ticks": ""
           },
           "bgcolor": "#E5ECF6",
           "radialaxis": {
            "gridcolor": "white",
            "linecolor": "white",
            "ticks": ""
           }
          },
          "scene": {
           "xaxis": {
            "backgroundcolor": "#E5ECF6",
            "gridcolor": "white",
            "gridwidth": 2,
            "linecolor": "white",
            "showbackground": true,
            "ticks": "",
            "zerolinecolor": "white"
           },
           "yaxis": {
            "backgroundcolor": "#E5ECF6",
            "gridcolor": "white",
            "gridwidth": 2,
            "linecolor": "white",
            "showbackground": true,
            "ticks": "",
            "zerolinecolor": "white"
           },
           "zaxis": {
            "backgroundcolor": "#E5ECF6",
            "gridcolor": "white",
            "gridwidth": 2,
            "linecolor": "white",
            "showbackground": true,
            "ticks": "",
            "zerolinecolor": "white"
           }
          },
          "shapedefaults": {
           "line": {
            "color": "#2a3f5f"
           }
          },
          "ternary": {
           "aaxis": {
            "gridcolor": "white",
            "linecolor": "white",
            "ticks": ""
           },
           "baxis": {
            "gridcolor": "white",
            "linecolor": "white",
            "ticks": ""
           },
           "bgcolor": "#E5ECF6",
           "caxis": {
            "gridcolor": "white",
            "linecolor": "white",
            "ticks": ""
           }
          },
          "title": {
           "x": 0.05
          },
          "xaxis": {
           "automargin": true,
           "gridcolor": "white",
           "linecolor": "white",
           "ticks": "",
           "title": {
            "standoff": 15
           },
           "zerolinecolor": "white",
           "zerolinewidth": 2
          },
          "yaxis": {
           "automargin": true,
           "gridcolor": "white",
           "linecolor": "white",
           "ticks": "",
           "title": {
            "standoff": 15
           },
           "zerolinecolor": "white",
           "zerolinewidth": 2
          }
         }
        }
       }
      },
      "text/html": [
       "<div>                            <div id=\"d091cef9-9080-4ffa-bcd5-9ff224f31dff\" class=\"plotly-graph-div\" style=\"height:525px; width:100%;\"></div>            <script type=\"text/javascript\">                require([\"plotly\"], function(Plotly) {                    window.PLOTLYENV=window.PLOTLYENV || {};                                    if (document.getElementById(\"d091cef9-9080-4ffa-bcd5-9ff224f31dff\")) {                    Plotly.newPlot(                        \"d091cef9-9080-4ffa-bcd5-9ff224f31dff\",                        [{\"domain\":{\"x\":[0.0,1.0],\"y\":[0.0,1.0]},\"hovertemplate\":\"Sprzedawca=%{label}<br>Utarg=%{value}<extra></extra>\",\"labels\":[\"Kowalski\",\"Sowi\\u0144ski\",\"Peacock\",\"Leverling\",\"Peacock\",\"Leverling\",\"Kowalski\",\"Dudek\",\"Leverling\",\"Peacock\",\"Davolio\",\"Peacock\",\"Peacock\",\"Peacock\",\"Callahan\",\"Dudek\",\"Sowi\\u0144ski\",\"Fuller\",\"Leverling\",\"Peacock\",\"Callahan\",\"Kowalski\",\"Davolio\",\"Sowi\\u0144ski\",\"Sowi\\u0144ski\",\"Leverling\",\"Sowi\\u0144ski\",\"Davolio\",\"Callahan\",\"Fuller\",\"Callahan\",\"Callahan\",\"Fuller\",\"Peacock\",\"Peacock\",\"Leverling\",\"Peacock\",\"Davolio\",\"Callahan\",\"Callahan\",\"Peacock\",\"King\",\"Callahan\",\"Sowi\\u0144ski\",\"Davolio\",\"Davolio\",\"Peacock\",\"Fuller\",\"Sowi\\u0144ski\",\"Kowalski\",\"Sowi\\u0144ski\",\"Peacock\",\"Fuller\",\"Callahan\",\"Peacock\",\"King\",\"Davolio\",\"Callahan\",\"Davolio\",\"Fuller\",\"King\",\"Leverling\",\"Callahan\",\"Davolio\",\"Fuller\",\"Fuller\",\"Davolio\",\"Peacock\",\"Davolio\",\"Sowi\\u0144ski\",\"Callahan\",\"King\",\"Kowalski\",\"Leverling\",\"King\",\"Peacock\",\"Dudek\",\"Davolio\",\"Peacock\",\"Fuller\",\"Peacock\",\"Peacock\",\"Leverling\",\"Dudek\",\"Leverling\",\"Kowalski\",\"Callahan\",\"King\",\"King\",\"Peacock\",\"Peacock\",\"Fuller\",\"Davolio\",\"King\",\"Peacock\",\"Peacock\",\"Peacock\",\"Fuller\",\"Leverling\",\"Peacock\",\"Peacock\",\"King\",\"Sowi\\u0144ski\",\"Davolio\",\"Leverling\",\"King\",\"Callahan\",\"Sowi\\u0144ski\",\"Sowi\\u0144ski\",\"Davolio\",\"Kowalski\",\"Kowalski\",\"Peacock\",\"Davolio\",\"Leverling\",\"Peacock\",\"Davolio\",\"Leverling\",\"Callahan\",\"King\",\"Fuller\",\"Callahan\",\"Sowi\\u0144ski\",\"Davolio\",\"Kowalski\",\"Peacock\",\"Davolio\",\"Leverling\",\"Davolio\",\"Davolio\",\"Kowalski\",\"Fuller\",\"Callahan\",\"Leverling\",\"Peacock\",\"Callahan\",\"Leverling\",\"Davolio\",\"Dudek\",\"Davolio\",\"Fuller\",\"Peacock\",\"Sowi\\u0144ski\",\"Leverling\",\"Fuller\",\"Davolio\",\"Davolio\",\"Sowi\\u0144ski\",\"Davolio\",\"Kowalski\",\"Fuller\",\"Callahan\",\"Davolio\",\"Davolio\",\"Callahan\",\"Peacock\",\"Fuller\",\"Davolio\",\"King\",\"Fuller\",\"Callahan\",\"Leverling\",\"Leverling\",\"Dudek\",\"Callahan\",\"Leverling\",\"Fuller\",\"Leverling\",\"Callahan\",\"Peacock\",\"Peacock\",\"Peacock\",\"Leverling\",\"Callahan\",\"Fuller\",\"Sowi\\u0144ski\",\"King\",\"Sowi\\u0144ski\",\"Peacock\",\"Peacock\",\"King\",\"Leverling\",\"Peacock\",\"Peacock\",\"Leverling\",\"Leverling\",\"Leverling\",\"Callahan\",\"Leverling\",\"Callahan\",\"Leverling\",\"Sowi\\u0144ski\",\"Peacock\",\"Leverling\",\"Leverling\",\"Callahan\",\"Leverling\",\"Leverling\",\"Sowi\\u0144ski\",\"Peacock\",\"Peacock\",\"Leverling\",\"Callahan\",\"Peacock\",\"Callahan\",\"Davolio\",\"Peacock\",\"Callahan\",\"Callahan\",\"Fuller\",\"King\",\"Peacock\",\"Callahan\",\"Davolio\",\"Fuller\",\"Kowalski\",\"Peacock\",\"Davolio\",\"Peacock\",\"Callahan\",\"Leverling\",\"Davolio\",\"Peacock\",\"Fuller\",\"Callahan\",\"Davolio\",\"Kowalski\",\"Dudek\",\"Callahan\",\"Kowalski\",\"Fuller\",\"Leverling\",\"Sowi\\u0144ski\",\"Callahan\",\"Davolio\",\"King\",\"Leverling\",\"Peacock\",\"Davolio\",\"Fuller\",\"Callahan\",\"Sowi\\u0144ski\",\"King\",\"Callahan\",\"Leverling\",\"Peacock\",\"Peacock\",\"Leverling\",\"King\",\"King\",\"Callahan\",\"Peacock\",\"Sowi\\u0144ski\",\"Dudek\",\"Fuller\",\"Sowi\\u0144ski\",\"Peacock\",\"Leverling\",\"Dudek\",\"King\",\"Davolio\",\"Peacock\",\"Sowi\\u0144ski\",\"Peacock\",\"King\",\"King\",\"Leverling\",\"Fuller\",\"Fuller\",\"Leverling\",\"Peacock\",\"Sowi\\u0144ski\",\"King\",\"Callahan\",\"Peacock\",\"King\",\"Davolio\",\"Davolio\",\"Peacock\",\"King\",\"Sowi\\u0144ski\",\"Kowalski\",\"Leverling\",\"King\",\"King\",\"Callahan\",\"Callahan\",\"Peacock\",\"Leverling\",\"Davolio\",\"Dudek\",\"Sowi\\u0144ski\",\"Leverling\",\"Fuller\",\"Davolio\",\"Callahan\",\"Peacock\",\"Callahan\",\"Davolio\",\"Leverling\",\"Leverling\",\"Kowalski\",\"King\",\"Peacock\",\"Fuller\",\"Fuller\",\"Peacock\",\"Sowi\\u0144ski\",\"Fuller\",\"Dudek\",\"Davolio\",\"Sowi\\u0144ski\",\"Callahan\",\"Fuller\",\"Davolio\",\"Fuller\",\"Peacock\",\"Callahan\",\"Dudek\",\"Davolio\",\"Leverling\",\"Kowalski\",\"Leverling\",\"Callahan\",\"Leverling\",\"King\",\"Peacock\",\"Kowalski\",\"Leverling\",\"Dudek\",\"Peacock\",\"Davolio\",\"Peacock\",\"Leverling\",\"Leverling\",\"Fuller\",\"Peacock\",\"King\",\"Dudek\",\"Davolio\",\"Fuller\",\"Callahan\",\"Peacock\",\"Davolio\",\"Leverling\",\"King\",\"Leverling\",\"Fuller\",\"Callahan\",\"King\",\"Davolio\",\"Sowi\\u0144ski\",\"Peacock\",\"King\",\"Callahan\",\"Callahan\",\"Davolio\",\"Davolio\",\"Peacock\",\"Kowalski\",\"Peacock\",\"King\",\"Callahan\",\"Sowi\\u0144ski\",\"Davolio\",\"Peacock\",\"Callahan\",\"Fuller\",\"Davolio\",\"Peacock\",\"Davolio\",\"Leverling\",\"Fuller\",\"Peacock\",\"Peacock\",\"Callahan\",\"Peacock\",\"Leverling\",\"Davolio\",\"Callahan\",\"Peacock\",\"Peacock\",\"Davolio\",\"Callahan\",\"Callahan\",\"King\",\"Peacock\",\"Callahan\",\"Peacock\",\"Sowi\\u0144ski\",\"Leverling\",\"King\",\"Peacock\",\"Peacock\",\"King\",\"Sowi\\u0144ski\",\"Leverling\",\"Peacock\",\"Dudek\",\"Peacock\",\"Kowalski\",\"Kowalski\",\"Kowalski\",\"Callahan\",\"Peacock\",\"Davolio\",\"Kowalski\",\"Davolio\",\"Sowi\\u0144ski\",\"Fuller\",\"Peacock\",\"King\",\"Callahan\",\"King\",\"Leverling\",\"Fuller\",\"Davolio\",\"Davolio\",\"King\",\"King\",\"Davolio\",\"Fuller\",\"Peacock\",\"Davolio\",\"Dudek\",\"Fuller\",\"Peacock\",\"Kowalski\",\"Fuller\",\"Davolio\",\"King\",\"Callahan\",\"Davolio\",\"Leverling\",\"Leverling\",\"Fuller\",\"Leverling\",\"Peacock\",\"Fuller\",\"Dudek\",\"Peacock\",\"Davolio\",\"Davolio\",\"Fuller\",\"Peacock\",\"Leverling\",\"Callahan\",\"King\",\"Callahan\",\"Leverling\",\"Peacock\",\"Leverling\",\"Leverling\",\"Sowi\\u0144ski\",\"Peacock\",\"Sowi\\u0144ski\",\"Sowi\\u0144ski\",\"Dudek\",\"Callahan\",\"Peacock\",\"Sowi\\u0144ski\",\"Davolio\",\"Davolio\",\"Kowalski\",\"Leverling\",\"Davolio\",\"Kowalski\",\"Leverling\",\"Peacock\",\"Davolio\",\"Davolio\",\"Callahan\",\"Callahan\",\"Kowalski\",\"Callahan\",\"Leverling\",\"Callahan\",\"Peacock\",\"Peacock\",\"Fuller\",\"Peacock\",\"Callahan\",\"Kowalski\",\"King\",\"Leverling\",\"Davolio\",\"Fuller\",\"Sowi\\u0144ski\",\"Dudek\",\"Fuller\",\"Fuller\",\"Leverling\",\"Peacock\",\"Peacock\",\"Leverling\",\"Davolio\",\"Sowi\\u0144ski\",\"Dudek\",\"Davolio\",\"Sowi\\u0144ski\",\"Leverling\",\"Peacock\",\"Dudek\",\"Leverling\",\"Fuller\",\"Leverling\",\"Sowi\\u0144ski\",\"Peacock\",\"Callahan\",\"Sowi\\u0144ski\",\"Leverling\",\"Leverling\",\"Peacock\",\"Kowalski\",\"Leverling\",\"Leverling\",\"Sowi\\u0144ski\",\"Leverling\",\"Peacock\",\"Peacock\",\"Leverling\",\"Leverling\",\"Callahan\",\"Dudek\",\"Leverling\",\"Davolio\",\"Peacock\",\"King\",\"Davolio\",\"King\",\"Leverling\",\"Leverling\",\"Fuller\",\"Fuller\",\"Dudek\",\"Peacock\",\"Peacock\",\"Davolio\",\"Callahan\",\"Fuller\",\"Davolio\",\"Davolio\",\"Sowi\\u0144ski\",\"Sowi\\u0144ski\",\"Davolio\",\"Leverling\",\"Sowi\\u0144ski\",\"Callahan\",\"Leverling\",\"King\",\"Fuller\",\"Dudek\",\"Davolio\",\"Peacock\",\"Peacock\",\"Peacock\",\"Sowi\\u0144ski\",\"Fuller\",\"Leverling\",\"Peacock\",\"Fuller\",\"King\",\"Fuller\",\"Callahan\",\"Kowalski\",\"Davolio\",\"Leverling\",\"Fuller\",\"Peacock\",\"Leverling\",\"King\",\"Fuller\",\"Leverling\",\"Davolio\",\"Sowi\\u0144ski\",\"Kowalski\",\"Callahan\",\"Davolio\",\"Sowi\\u0144ski\",\"Davolio\",\"Dudek\",\"Dudek\",\"Peacock\",\"Leverling\",\"Fuller\",\"Sowi\\u0144ski\",\"Davolio\",\"Davolio\",\"King\",\"Dudek\",\"Leverling\",\"Leverling\",\"Peacock\",\"Kowalski\",\"Davolio\",\"Peacock\",\"Callahan\",\"Callahan\",\"Fuller\",\"Peacock\",\"King\",\"Dudek\",\"Davolio\",\"Kowalski\",\"Callahan\",\"Dudek\",\"Leverling\",\"Leverling\",\"Leverling\",\"Callahan\",\"Fuller\",\"Davolio\",\"Leverling\",\"Peacock\",\"Callahan\",\"Peacock\",\"Peacock\",\"Fuller\",\"Kowalski\",\"Sowi\\u0144ski\",\"King\",\"Kowalski\",\"Kowalski\",\"Dudek\",\"Kowalski\",\"Peacock\",\"Kowalski\",\"Peacock\",\"King\",\"Davolio\",\"Peacock\",\"Leverling\",\"King\",\"Peacock\",\"Peacock\",\"Callahan\",\"Peacock\",\"Sowi\\u0144ski\",\"Davolio\",\"Callahan\",\"Davolio\",\"Dudek\",\"King\",\"King\",\"Peacock\",\"Dudek\",\"Davolio\",\"Leverling\",\"King\",\"Leverling\",\"Peacock\",\"Kowalski\",\"Davolio\",\"Peacock\",\"Davolio\",\"Leverling\",\"Leverling\",\"Dudek\",\"Peacock\",\"Sowi\\u0144ski\",\"Peacock\",\"Davolio\",\"Davolio\",\"Leverling\",\"Fuller\",\"Peacock\",\"Sowi\\u0144ski\",\"Fuller\",\"Davolio\",\"Peacock\",\"Leverling\",\"Fuller\",\"Peacock\",\"Davolio\",\"Kowalski\",\"King\",\"Leverling\",\"Leverling\",\"Peacock\",\"Peacock\",\"Davolio\",\"Sowi\\u0144ski\",\"Peacock\",\"Peacock\",\"Callahan\",\"Sowi\\u0144ski\",\"Leverling\",\"Peacock\",\"Leverling\",\"King\",\"Leverling\",\"Fuller\",\"Callahan\",\"King\",\"Dudek\",\"Peacock\",\"Sowi\\u0144ski\",\"Peacock\",\"Davolio\",\"Leverling\",\"Leverling\",\"Fuller\",\"Davolio\",\"Dudek\",\"Davolio\",\"Dudek\",\"Kowalski\",\"Callahan\",\"Sowi\\u0144ski\",\"Callahan\",\"King\",\"Sowi\\u0144ski\",\"Leverling\",\"Callahan\",\"Callahan\",\"Dudek\",\"Leverling\",\"Sowi\\u0144ski\",\"Peacock\",\"Fuller\",\"Davolio\",\"Davolio\",\"Dudek\",\"Fuller\",\"Peacock\",\"Sowi\\u0144ski\",\"Leverling\",\"Davolio\",\"Davolio\",\"Callahan\",\"Dudek\",\"Callahan\",\"Peacock\",\"Davolio\",\"Fuller\",\"Fuller\",\"Davolio\",\"Fuller\",\"Callahan\",\"Callahan\",\"Leverling\",\"Fuller\",\"Fuller\",\"Davolio\",\"Davolio\",\"King\",\"Fuller\",\"Davolio\",\"Peacock\",\"Callahan\",\"Callahan\",\"Sowi\\u0144ski\",\"Fuller\",\"Fuller\",\"Peacock\",\"Leverling\",\"Leverling\",\"Fuller\",\"Leverling\",\"Callahan\",\"Fuller\",\"Fuller\",\"Leverling\",\"Davolio\",\"Fuller\",\"Fuller\",\"Fuller\",\"Dudek\",\"Dudek\",\"Peacock\",\"Fuller\",\"Leverling\",\"Davolio\",\"Peacock\",\"Sowi\\u0144ski\",\"Peacock\",\"Davolio\",\"Fuller\",\"Peacock\",\"King\",\"Sowi\\u0144ski\",\"Fuller\",\"King\",\"Callahan\",\"Fuller\",\"Callahan\",\"King\",\"Davolio\",\"Leverling\",\"Fuller\",\"Kowalski\",\"Peacock\",\"Callahan\",\"King\",\"King\",\"Leverling\",\"Fuller\",\"Callahan\",\"Leverling\"],\"legendgroup\":\"\",\"name\":\"\",\"showlegend\":true,\"values\":[440.0,1863.4,1552.6,654.06,3597.9,1444.8,556.62,2490.5,517.8,1119.9,1614.88,100.8,1504.65,448.0,584.0,1873.8,695.62,1176.0,346.56,3536.6,1101.2,642.2,1376.0,48.0,1456.0,2037.28,538.6,291.84,420.0,1200.8,1488.8,351.0,613.2,86.5,155.4,1414.8,1170.37,1743.36,3016.0,819.0,80.1,479.4,2169.0,497.52,1296.0,848.7,1887.6,121.6,1050.6,1420.0,2645.0,349.5,608.0,755.0,2708.8,1117.8,954.4,3741.3,498.5,424.0,88.8,1762.0,336.0,268.8,1614.8,182.4,2094.3,516.8,2835.0,288.0,240.4,1191.2,516.0,144.0,112.0,164.4,5275.71,1497.0,982.0,1810.0,1168.0,4578.43,1649.0,88.5,1786.88,877.2,144.8,2036.16,285.12,2467.0,934.5,3354.0,2436.18,352.6,1840.64,1584.0,2296.0,2924.8,1618.88,814.42,363.6,141.6,642.06,5398.72,136.3,8593.28,568.8,480.0,1106.4,1167.68,429.4,3471.68,7390.2,2046.24,1549.6,447.2,950.0,403.2,136.0,834.2,1689.78,2390.4,1117.6,72.96,9210.9,1366.4,459.0,338.0,399.0,863.6,103.2,863.28,1313.82,112.0,2900.0,899.0,2222.4,691.2,166.0,1058.4,1228.8,1832.8,2090.88,86.4,1440.0,2556.95,442.0,2122.92,1903.8,716.72,2505.6,1765.6,3063.0,3868.6,2713.5,855.01,1591.25,400.0,1830.78,1194.0,1622.4,319.2,802.0,966.8,334.8,2123.2,224.83,102.4,720.0,11188.4,1814.8,2097.6,1707.84,1194.27,49.8,1020.0,9194.56,360.0,338.2,651.0,192.0,1441.37,4899.2,1892.25,485.0,851.2,321.12,631.6,1994.52,393.0,454.0,1078.0,4924.13,1755.0,1792.0,517.44,1031.7,174.9,246.24,914.4,443.4,1838.2,425.12,3849.66,2018.5,407.7,331.2,2684.0,557.6,1584.0,3891.0,1659.2,176.1,1538.7,156.0,713.3,1609.28,2518.0,216.0,235.2,717.6,956.67,1820.8,1328.0,1036.8,230.4,1249.1,1505.18,180.48,558.0,471.2,10495.6,756.0,1472.0,147.0,668.8,386.2,1584.0,1272.0,889.7,1512.0,439.2,3163.2,259.5,851.2,608.4,912.0,278.0,190.0,1380.6,575.0,1412.0,523.26,149.0,816.3,2048.5,1388.5,147.9,415.8,749.06,240.0,136.8,4707.54,2550.0,525.3,1942.0,8623.45,9921.3,2381.05,352.0,4150.05,2314.2,200.0,225.5,2318.24,2444.31,3192.65,818.4,1151.4,1503.0,392.2,946.0,4180.0,110.0,796.35,2222.2,465.7,1940.85,1645.0,1823.8,139.8,355.5,10191.7,1946.52,469.11,1504.5,417.2,210.0,2812.0,1792.8,240.1,3554.27,683.3,1677.3,880.5,1546.3,1728.52,2944.4,835.2,1152.5,2142.9,520.41,1072.42,2844.5,488.7,965.0,1234.05,639.9,1761.0,2519.0,155.0,890.0,2465.25,550.59,1501.08,2082.0,764.3,2147.4,838.45,569.0,477.0,317.75,1013.74,310.0,330.0,2237.5,593.75,142.5,23.8,807.38,3120.0,72.0,1101.0,812.5,516.46,1994.4,565.5,4725.0,1180.88,718.08,2388.5,493.0,479.8,2285.0,48.75,1483.0,230.85,4109.69,1130.4,6475.4,1064.0,424.0,299.25,808.0,6375.0,353.2,464.0,120.0,4806.99,1402.5,2697.5,1260.0,57.5,758.5,560.0,1336.95,1393.24,479.75,1503.6,1185.75,450.0,2775.05,903.6,55.8,589.0,5510.59,4985.5,1326.22,629.5,2761.94,2720.05,500.0,708.75,2054.0,696.0,814.5,1371.8,1535.0,1446.0,636.0,372.37,1434.0,1779.2,397.8,318.84,1083.15,601.83,154.4,604.21,4371.6,4464.6,1227.02,1701.0,562.6,125.0,1930.4,1288.39,1295.0,4666.94,1536.8,625.27,570.0,2301.75,920.1,3815.25,412.35,45.0,1423.0,534.85,813.36,5256.5,660.0,1261.88,1287.4,375.5,63.0,1768.0,801.1,1404.45,4960.9,3160.6,472.5,862.5,10164.8,878.0,2071.2,4825.0,642.0,996.0,805.43,3436.45,114.0,1638.4,2864.5,330.0,2545.0,595.5,378.0,1893.0,1641.0,180.4,3424.0,93.5,4451.7,1233.48,2827.9,2205.75,1296.0,706.0,1270.75,3463.0,844.25,550.0,923.87,1570.0,468.45,638.5,287.8,655.0,1624.5,1296.75,1850.0,484.25,1890.5,360.0,1459.0,1498.35,536.4,997.0,139.8,52.35,240.0,1416.0,228.0,3118.0,319.2,736.0,4529.8,2311.7,1912.85,2196.0,1080.0,1590.56,1631.48,252.0,88.0,55.2,1948.5,1990.0,3082.0,1644.6,320.0,2917.0,507.0,4337.0,616.0,2286.0,1515.6,2310.0,28.0,1477.0,1684.27,236.25,344.0,3603.22,2030.4,868.75,228.0,6635.27,224.0,96.5,1335.0,720.0,975.88,12.5,1442.5,1488.0,387.5,1531.08,2622.76,731.5,3687.0,722.5,1829.76,399.85,191.1,314.76,2158.0,2341.36,420.0,446.6,1553.5,1468.93,3026.85,2942.81,1193.01,2278.4,2775.0,439.6,18.4,1411.0,140.0,187.0,852.0,1692.8,602.4,1788.45,40.0,8446.45,10952.84,833.0,477.0,1140.0,678.0,237.9,2826.0,250.8,1030.76,730.0,843.0,932.0,1764.0,1974.0,2684.4,475.11,906.93,1432.71,845.8,4705.5,1064.5,1938.38,827.55,211.2,4581.0,975.0,159.0,735.0,3812.7,1112.0,4931.92,931.5,967.82,629.0,2603.0,2984.0,625.0,2966.5,2227.89,660.0,2048.22,649.0,1078.69,519.0,3523.4,581.0,441.15,282.0,16387.5,1096.2,98.4,1920.6,1630.0,160.0,1979.23,2058.46,336.8,310.0,709.55,917.0,1955.13,1539.0,611.3,1500.0,150.0,892.64,36.0,1378.07,1209.0,3127.5,70.0,605.0,11380.0,860.1,368.93,2090.0,5502.11,2753.1,6379.4,750.5,10835.24,30.0,122.4,33.75,934.5,863.43,932.05,1924.25,342.0,427.5,108.5,663.1,670.0,452.9,858.0,6200.55,768.75,537.5,539.5,686.7,365.89,1447.5,1122.8,390.0,1936.0,742.5,748.8,1835.7,475.15,514.4,800.0,137.5,1174.75,2255.5,799.2,1788.63,920.6,500.0,619.5,456.0,644.8,2731.87,637.5,360.0,4011.75,560.0,711.0,1025.33,245.0,1407.5,220.0,2362.25,4422.0,110.0,458.74,471.2,4441.25,1659.53,74.4,677.0,1762.7,781.0,131.75,265.35,1119.9,3584.0,57.8,2052.5,848.0,1098.46,910.4,1408.0,108.0,224.0,1733.06,251.5,291.55,439.0,717.5,912.0,2233.0,1303.19,4813.5,248.0,15810.0,1014.0,720.9,1809.75,2023.38,2220.0,2772.0,3574.8,1353.6,4288.85,2296.0,69.6,4895.44,940.5,1196.0,560.0,1885.0,686.0,1197.95,903.75,2769.0,1811.1,326.0,295.38,586.0,329.69,2633.9,616.5,645.0,933.5,2825.3,361.0,243.18,622.35,491.5,6750.0,1575.0,632.4,6306.24,1500.0,1966.81,270.0,1030.0,877.72,2160.0,1286.8,12615.05,2393.5,8902.5,3232.8,539.4,1754.5,1692.0,60.0,732.6,1773.0,405.75,210.0,591.6,1485.8,817.87,525.0,1332.0,3055.0,3740.0,45.0],\"type\":\"pie\"}],                        {\"template\":{\"data\":{\"histogram2dcontour\":[{\"type\":\"histogram2dcontour\",\"colorbar\":{\"outlinewidth\":0,\"ticks\":\"\"},\"colorscale\":[[0.0,\"#0d0887\"],[0.1111111111111111,\"#46039f\"],[0.2222222222222222,\"#7201a8\"],[0.3333333333333333,\"#9c179e\"],[0.4444444444444444,\"#bd3786\"],[0.5555555555555556,\"#d8576b\"],[0.6666666666666666,\"#ed7953\"],[0.7777777777777778,\"#fb9f3a\"],[0.8888888888888888,\"#fdca26\"],[1.0,\"#f0f921\"]]}],\"choropleth\":[{\"type\":\"choropleth\",\"colorbar\":{\"outlinewidth\":0,\"ticks\":\"\"}}],\"histogram2d\":[{\"type\":\"histogram2d\",\"colorbar\":{\"outlinewidth\":0,\"ticks\":\"\"},\"colorscale\":[[0.0,\"#0d0887\"],[0.1111111111111111,\"#46039f\"],[0.2222222222222222,\"#7201a8\"],[0.3333333333333333,\"#9c179e\"],[0.4444444444444444,\"#bd3786\"],[0.5555555555555556,\"#d8576b\"],[0.6666666666666666,\"#ed7953\"],[0.7777777777777778,\"#fb9f3a\"],[0.8888888888888888,\"#fdca26\"],[1.0,\"#f0f921\"]]}],\"heatmap\":[{\"type\":\"heatmap\",\"colorbar\":{\"outlinewidth\":0,\"ticks\":\"\"},\"colorscale\":[[0.0,\"#0d0887\"],[0.1111111111111111,\"#46039f\"],[0.2222222222222222,\"#7201a8\"],[0.3333333333333333,\"#9c179e\"],[0.4444444444444444,\"#bd3786\"],[0.5555555555555556,\"#d8576b\"],[0.6666666666666666,\"#ed7953\"],[0.7777777777777778,\"#fb9f3a\"],[0.8888888888888888,\"#fdca26\"],[1.0,\"#f0f921\"]]}],\"heatmapgl\":[{\"type\":\"heatmapgl\",\"colorbar\":{\"outlinewidth\":0,\"ticks\":\"\"},\"colorscale\":[[0.0,\"#0d0887\"],[0.1111111111111111,\"#46039f\"],[0.2222222222222222,\"#7201a8\"],[0.3333333333333333,\"#9c179e\"],[0.4444444444444444,\"#bd3786\"],[0.5555555555555556,\"#d8576b\"],[0.6666666666666666,\"#ed7953\"],[0.7777777777777778,\"#fb9f3a\"],[0.8888888888888888,\"#fdca26\"],[1.0,\"#f0f921\"]]}],\"contourcarpet\":[{\"type\":\"contourcarpet\",\"colorbar\":{\"outlinewidth\":0,\"ticks\":\"\"}}],\"contour\":[{\"type\":\"contour\",\"colorbar\":{\"outlinewidth\":0,\"ticks\":\"\"},\"colorscale\":[[0.0,\"#0d0887\"],[0.1111111111111111,\"#46039f\"],[0.2222222222222222,\"#7201a8\"],[0.3333333333333333,\"#9c179e\"],[0.4444444444444444,\"#bd3786\"],[0.5555555555555556,\"#d8576b\"],[0.6666666666666666,\"#ed7953\"],[0.7777777777777778,\"#fb9f3a\"],[0.8888888888888888,\"#fdca26\"],[1.0,\"#f0f921\"]]}],\"surface\":[{\"type\":\"surface\",\"colorbar\":{\"outlinewidth\":0,\"ticks\":\"\"},\"colorscale\":[[0.0,\"#0d0887\"],[0.1111111111111111,\"#46039f\"],[0.2222222222222222,\"#7201a8\"],[0.3333333333333333,\"#9c179e\"],[0.4444444444444444,\"#bd3786\"],[0.5555555555555556,\"#d8576b\"],[0.6666666666666666,\"#ed7953\"],[0.7777777777777778,\"#fb9f3a\"],[0.8888888888888888,\"#fdca26\"],[1.0,\"#f0f921\"]]}],\"mesh3d\":[{\"type\":\"mesh3d\",\"colorbar\":{\"outlinewidth\":0,\"ticks\":\"\"}}],\"scatter\":[{\"fillpattern\":{\"fillmode\":\"overlay\",\"size\":10,\"solidity\":0.2},\"type\":\"scatter\"}],\"parcoords\":[{\"type\":\"parcoords\",\"line\":{\"colorbar\":{\"outlinewidth\":0,\"ticks\":\"\"}}}],\"scatterpolargl\":[{\"type\":\"scatterpolargl\",\"marker\":{\"colorbar\":{\"outlinewidth\":0,\"ticks\":\"\"}}}],\"bar\":[{\"error_x\":{\"color\":\"#2a3f5f\"},\"error_y\":{\"color\":\"#2a3f5f\"},\"marker\":{\"line\":{\"color\":\"#E5ECF6\",\"width\":0.5},\"pattern\":{\"fillmode\":\"overlay\",\"size\":10,\"solidity\":0.2}},\"type\":\"bar\"}],\"scattergeo\":[{\"type\":\"scattergeo\",\"marker\":{\"colorbar\":{\"outlinewidth\":0,\"ticks\":\"\"}}}],\"scatterpolar\":[{\"type\":\"scatterpolar\",\"marker\":{\"colorbar\":{\"outlinewidth\":0,\"ticks\":\"\"}}}],\"histogram\":[{\"marker\":{\"pattern\":{\"fillmode\":\"overlay\",\"size\":10,\"solidity\":0.2}},\"type\":\"histogram\"}],\"scattergl\":[{\"type\":\"scattergl\",\"marker\":{\"colorbar\":{\"outlinewidth\":0,\"ticks\":\"\"}}}],\"scatter3d\":[{\"type\":\"scatter3d\",\"line\":{\"colorbar\":{\"outlinewidth\":0,\"ticks\":\"\"}},\"marker\":{\"colorbar\":{\"outlinewidth\":0,\"ticks\":\"\"}}}],\"scattermapbox\":[{\"type\":\"scattermapbox\",\"marker\":{\"colorbar\":{\"outlinewidth\":0,\"ticks\":\"\"}}}],\"scatterternary\":[{\"type\":\"scatterternary\",\"marker\":{\"colorbar\":{\"outlinewidth\":0,\"ticks\":\"\"}}}],\"scattercarpet\":[{\"type\":\"scattercarpet\",\"marker\":{\"colorbar\":{\"outlinewidth\":0,\"ticks\":\"\"}}}],\"carpet\":[{\"aaxis\":{\"endlinecolor\":\"#2a3f5f\",\"gridcolor\":\"white\",\"linecolor\":\"white\",\"minorgridcolor\":\"white\",\"startlinecolor\":\"#2a3f5f\"},\"baxis\":{\"endlinecolor\":\"#2a3f5f\",\"gridcolor\":\"white\",\"linecolor\":\"white\",\"minorgridcolor\":\"white\",\"startlinecolor\":\"#2a3f5f\"},\"type\":\"carpet\"}],\"table\":[{\"cells\":{\"fill\":{\"color\":\"#EBF0F8\"},\"line\":{\"color\":\"white\"}},\"header\":{\"fill\":{\"color\":\"#C8D4E3\"},\"line\":{\"color\":\"white\"}},\"type\":\"table\"}],\"barpolar\":[{\"marker\":{\"line\":{\"color\":\"#E5ECF6\",\"width\":0.5},\"pattern\":{\"fillmode\":\"overlay\",\"size\":10,\"solidity\":0.2}},\"type\":\"barpolar\"}],\"pie\":[{\"automargin\":true,\"type\":\"pie\"}]},\"layout\":{\"autotypenumbers\":\"strict\",\"colorway\":[\"#636efa\",\"#EF553B\",\"#00cc96\",\"#ab63fa\",\"#FFA15A\",\"#19d3f3\",\"#FF6692\",\"#B6E880\",\"#FF97FF\",\"#FECB52\"],\"font\":{\"color\":\"#2a3f5f\"},\"hovermode\":\"closest\",\"hoverlabel\":{\"align\":\"left\"},\"paper_bgcolor\":\"white\",\"plot_bgcolor\":\"#E5ECF6\",\"polar\":{\"bgcolor\":\"#E5ECF6\",\"angularaxis\":{\"gridcolor\":\"white\",\"linecolor\":\"white\",\"ticks\":\"\"},\"radialaxis\":{\"gridcolor\":\"white\",\"linecolor\":\"white\",\"ticks\":\"\"}},\"ternary\":{\"bgcolor\":\"#E5ECF6\",\"aaxis\":{\"gridcolor\":\"white\",\"linecolor\":\"white\",\"ticks\":\"\"},\"baxis\":{\"gridcolor\":\"white\",\"linecolor\":\"white\",\"ticks\":\"\"},\"caxis\":{\"gridcolor\":\"white\",\"linecolor\":\"white\",\"ticks\":\"\"}},\"coloraxis\":{\"colorbar\":{\"outlinewidth\":0,\"ticks\":\"\"}},\"colorscale\":{\"sequential\":[[0.0,\"#0d0887\"],[0.1111111111111111,\"#46039f\"],[0.2222222222222222,\"#7201a8\"],[0.3333333333333333,\"#9c179e\"],[0.4444444444444444,\"#bd3786\"],[0.5555555555555556,\"#d8576b\"],[0.6666666666666666,\"#ed7953\"],[0.7777777777777778,\"#fb9f3a\"],[0.8888888888888888,\"#fdca26\"],[1.0,\"#f0f921\"]],\"sequentialminus\":[[0.0,\"#0d0887\"],[0.1111111111111111,\"#46039f\"],[0.2222222222222222,\"#7201a8\"],[0.3333333333333333,\"#9c179e\"],[0.4444444444444444,\"#bd3786\"],[0.5555555555555556,\"#d8576b\"],[0.6666666666666666,\"#ed7953\"],[0.7777777777777778,\"#fb9f3a\"],[0.8888888888888888,\"#fdca26\"],[1.0,\"#f0f921\"]],\"diverging\":[[0,\"#8e0152\"],[0.1,\"#c51b7d\"],[0.2,\"#de77ae\"],[0.3,\"#f1b6da\"],[0.4,\"#fde0ef\"],[0.5,\"#f7f7f7\"],[0.6,\"#e6f5d0\"],[0.7,\"#b8e186\"],[0.8,\"#7fbc41\"],[0.9,\"#4d9221\"],[1,\"#276419\"]]},\"xaxis\":{\"gridcolor\":\"white\",\"linecolor\":\"white\",\"ticks\":\"\",\"title\":{\"standoff\":15},\"zerolinecolor\":\"white\",\"automargin\":true,\"zerolinewidth\":2},\"yaxis\":{\"gridcolor\":\"white\",\"linecolor\":\"white\",\"ticks\":\"\",\"title\":{\"standoff\":15},\"zerolinecolor\":\"white\",\"automargin\":true,\"zerolinewidth\":2},\"scene\":{\"xaxis\":{\"backgroundcolor\":\"#E5ECF6\",\"gridcolor\":\"white\",\"linecolor\":\"white\",\"showbackground\":true,\"ticks\":\"\",\"zerolinecolor\":\"white\",\"gridwidth\":2},\"yaxis\":{\"backgroundcolor\":\"#E5ECF6\",\"gridcolor\":\"white\",\"linecolor\":\"white\",\"showbackground\":true,\"ticks\":\"\",\"zerolinecolor\":\"white\",\"gridwidth\":2},\"zaxis\":{\"backgroundcolor\":\"#E5ECF6\",\"gridcolor\":\"white\",\"linecolor\":\"white\",\"showbackground\":true,\"ticks\":\"\",\"zerolinecolor\":\"white\",\"gridwidth\":2}},\"shapedefaults\":{\"line\":{\"color\":\"#2a3f5f\"}},\"annotationdefaults\":{\"arrowcolor\":\"#2a3f5f\",\"arrowhead\":0,\"arrowwidth\":1},\"geo\":{\"bgcolor\":\"white\",\"landcolor\":\"#E5ECF6\",\"subunitcolor\":\"white\",\"showland\":true,\"showlakes\":true,\"lakecolor\":\"white\"},\"title\":{\"x\":0.05},\"mapbox\":{\"style\":\"light\"}}},\"legend\":{\"tracegroupgap\":0},\"margin\":{\"t\":60}},                        {\"responsive\": true}                    ).then(function(){\n",
       "                            \n",
       "var gd = document.getElementById('d091cef9-9080-4ffa-bcd5-9ff224f31dff');\n",
       "var x = new MutationObserver(function (mutations, observer) {{\n",
       "        var display = window.getComputedStyle(gd).display;\n",
       "        if (!display || display === 'none') {{\n",
       "            console.log([gd, 'removed!']);\n",
       "            Plotly.purge(gd);\n",
       "            observer.disconnect();\n",
       "        }}\n",
       "}});\n",
       "\n",
       "// Listen for the removal of the full notebook cells\n",
       "var notebookContainer = gd.closest('#notebook-container');\n",
       "if (notebookContainer) {{\n",
       "    x.observe(notebookContainer, {childList: true});\n",
       "}}\n",
       "\n",
       "// Listen for the clearing of the current output cell\n",
       "var outputEl = gd.closest('.output');\n",
       "if (outputEl) {{\n",
       "    x.observe(outputEl, {childList: true});\n",
       "}}\n",
       "\n",
       "                        })                };                });            </script>        </div>"
      ]
     },
     "metadata": {},
     "output_type": "display_data"
    }
   ],
   "source": [
    "# kolejny przykład z użyciem znanego nam już zbioru danych\n",
    "df = pd.read_csv('./data/zamowienia.csv', sep=';')\n",
    "# konwersja kolumny z datą\n",
    "df['Data zamowienia'] = pd.to_datetime(df['Data zamowienia'])\n",
    "fig = px.pie(df, values='Utarg', names='Sprzedawca')\n",
    "fig.show()"
   ]
  },
  {
   "cell_type": "markdown",
   "metadata": {},
   "source": [
    "**Wykres typu treemap**\n",
    "* Dokumentacja: https://plotly.com/python/treemaps/\n",
    "\n",
    "Poniższy wykres również jest wykresem interaktywnym. Przetestuj klikając w wybrane elementy struktury."
   ]
  },
  {
   "cell_type": "code",
   "execution_count": 3,
   "metadata": {},
   "outputs": [
    {
     "name": "stderr",
     "output_type": "stream",
     "text": [
      "C:\\Users\\kaszp\\__projects\\__wd_su_2022\\venv\\lib\\site-packages\\plotly\\express\\_core.py:1637: FutureWarning:\n",
      "\n",
      "The frame.append method is deprecated and will be removed from pandas in a future version. Use pandas.concat instead.\n",
      "\n",
      "C:\\Users\\kaszp\\__projects\\__wd_su_2022\\venv\\lib\\site-packages\\plotly\\express\\_core.py:1637: FutureWarning:\n",
      "\n",
      "The frame.append method is deprecated and will be removed from pandas in a future version. Use pandas.concat instead.\n",
      "\n",
      "C:\\Users\\kaszp\\__projects\\__wd_su_2022\\venv\\lib\\site-packages\\plotly\\express\\_core.py:1637: FutureWarning:\n",
      "\n",
      "The frame.append method is deprecated and will be removed from pandas in a future version. Use pandas.concat instead.\n",
      "\n"
     ]
    },
    {
     "data": {
      "application/vnd.plotly.v1+json": {
       "config": {
        "plotlyServerURL": "https://plot.ly"
       },
       "data": [
        {
         "branchvalues": "total",
         "domain": {
          "x": [
           0,
           1
          ],
          "y": [
           0,
           1
          ]
         },
         "hovertemplate": "labels=%{label}<br>Utarg=%{value}<br>parent=%{parent}<br>id=%{id}<extra></extra>",
         "ids": [
          "Sprzedaż/Niemcy/Callahan",
          "Sprzedaż/Niemcy/Davolio",
          "Sprzedaż/Polska/Dudek",
          "Sprzedaż/Niemcy/Fuller",
          "Sprzedaż/Polska/King",
          "Sprzedaż/Polska/Kowalski",
          "Sprzedaż/Niemcy/Leverling",
          "Sprzedaż/Niemcy/Peacock",
          "Sprzedaż/Polska/Sowiński",
          "Sprzedaż/Niemcy",
          "Sprzedaż/Polska",
          "Sprzedaż"
         ],
         "labels": [
          "Callahan",
          "Davolio",
          "Dudek",
          "Fuller",
          "King",
          "Kowalski",
          "Leverling",
          "Peacock",
          "Sowiński",
          "Niemcy",
          "Polska",
          "Sprzedaż"
         ],
         "name": "",
         "parents": [
          "Sprzedaż/Niemcy",
          "Sprzedaż/Niemcy",
          "Sprzedaż/Polska",
          "Sprzedaż/Niemcy",
          "Sprzedaż/Polska",
          "Sprzedaż/Polska",
          "Sprzedaż/Niemcy",
          "Sprzedaż/Niemcy",
          "Sprzedaż/Polska",
          "Sprzedaż",
          "Sprzedaż",
          ""
         ],
         "root": {
          "color": "lightgrey"
         },
         "type": "treemap",
         "values": [
          123032.67,
          182500.09,
          75048.04,
          162503.78,
          116962.99,
          68792.25,
          201196.27,
          225763.68,
          72527.63,
          894996.49,
          333330.91,
          1228327.4
         ]
        }
       ],
       "layout": {
        "legend": {
         "tracegroupgap": 0
        },
        "margin": {
         "b": 25,
         "l": 25,
         "r": 25,
         "t": 50
        },
        "template": {
         "data": {
          "bar": [
           {
            "error_x": {
             "color": "#2a3f5f"
            },
            "error_y": {
             "color": "#2a3f5f"
            },
            "marker": {
             "line": {
              "color": "#E5ECF6",
              "width": 0.5
             },
             "pattern": {
              "fillmode": "overlay",
              "size": 10,
              "solidity": 0.2
             }
            },
            "type": "bar"
           }
          ],
          "barpolar": [
           {
            "marker": {
             "line": {
              "color": "#E5ECF6",
              "width": 0.5
             },
             "pattern": {
              "fillmode": "overlay",
              "size": 10,
              "solidity": 0.2
             }
            },
            "type": "barpolar"
           }
          ],
          "carpet": [
           {
            "aaxis": {
             "endlinecolor": "#2a3f5f",
             "gridcolor": "white",
             "linecolor": "white",
             "minorgridcolor": "white",
             "startlinecolor": "#2a3f5f"
            },
            "baxis": {
             "endlinecolor": "#2a3f5f",
             "gridcolor": "white",
             "linecolor": "white",
             "minorgridcolor": "white",
             "startlinecolor": "#2a3f5f"
            },
            "type": "carpet"
           }
          ],
          "choropleth": [
           {
            "colorbar": {
             "outlinewidth": 0,
             "ticks": ""
            },
            "type": "choropleth"
           }
          ],
          "contour": [
           {
            "colorbar": {
             "outlinewidth": 0,
             "ticks": ""
            },
            "colorscale": [
             [
              0,
              "#0d0887"
             ],
             [
              0.1111111111111111,
              "#46039f"
             ],
             [
              0.2222222222222222,
              "#7201a8"
             ],
             [
              0.3333333333333333,
              "#9c179e"
             ],
             [
              0.4444444444444444,
              "#bd3786"
             ],
             [
              0.5555555555555556,
              "#d8576b"
             ],
             [
              0.6666666666666666,
              "#ed7953"
             ],
             [
              0.7777777777777778,
              "#fb9f3a"
             ],
             [
              0.8888888888888888,
              "#fdca26"
             ],
             [
              1,
              "#f0f921"
             ]
            ],
            "type": "contour"
           }
          ],
          "contourcarpet": [
           {
            "colorbar": {
             "outlinewidth": 0,
             "ticks": ""
            },
            "type": "contourcarpet"
           }
          ],
          "heatmap": [
           {
            "colorbar": {
             "outlinewidth": 0,
             "ticks": ""
            },
            "colorscale": [
             [
              0,
              "#0d0887"
             ],
             [
              0.1111111111111111,
              "#46039f"
             ],
             [
              0.2222222222222222,
              "#7201a8"
             ],
             [
              0.3333333333333333,
              "#9c179e"
             ],
             [
              0.4444444444444444,
              "#bd3786"
             ],
             [
              0.5555555555555556,
              "#d8576b"
             ],
             [
              0.6666666666666666,
              "#ed7953"
             ],
             [
              0.7777777777777778,
              "#fb9f3a"
             ],
             [
              0.8888888888888888,
              "#fdca26"
             ],
             [
              1,
              "#f0f921"
             ]
            ],
            "type": "heatmap"
           }
          ],
          "heatmapgl": [
           {
            "colorbar": {
             "outlinewidth": 0,
             "ticks": ""
            },
            "colorscale": [
             [
              0,
              "#0d0887"
             ],
             [
              0.1111111111111111,
              "#46039f"
             ],
             [
              0.2222222222222222,
              "#7201a8"
             ],
             [
              0.3333333333333333,
              "#9c179e"
             ],
             [
              0.4444444444444444,
              "#bd3786"
             ],
             [
              0.5555555555555556,
              "#d8576b"
             ],
             [
              0.6666666666666666,
              "#ed7953"
             ],
             [
              0.7777777777777778,
              "#fb9f3a"
             ],
             [
              0.8888888888888888,
              "#fdca26"
             ],
             [
              1,
              "#f0f921"
             ]
            ],
            "type": "heatmapgl"
           }
          ],
          "histogram": [
           {
            "marker": {
             "pattern": {
              "fillmode": "overlay",
              "size": 10,
              "solidity": 0.2
             }
            },
            "type": "histogram"
           }
          ],
          "histogram2d": [
           {
            "colorbar": {
             "outlinewidth": 0,
             "ticks": ""
            },
            "colorscale": [
             [
              0,
              "#0d0887"
             ],
             [
              0.1111111111111111,
              "#46039f"
             ],
             [
              0.2222222222222222,
              "#7201a8"
             ],
             [
              0.3333333333333333,
              "#9c179e"
             ],
             [
              0.4444444444444444,
              "#bd3786"
             ],
             [
              0.5555555555555556,
              "#d8576b"
             ],
             [
              0.6666666666666666,
              "#ed7953"
             ],
             [
              0.7777777777777778,
              "#fb9f3a"
             ],
             [
              0.8888888888888888,
              "#fdca26"
             ],
             [
              1,
              "#f0f921"
             ]
            ],
            "type": "histogram2d"
           }
          ],
          "histogram2dcontour": [
           {
            "colorbar": {
             "outlinewidth": 0,
             "ticks": ""
            },
            "colorscale": [
             [
              0,
              "#0d0887"
             ],
             [
              0.1111111111111111,
              "#46039f"
             ],
             [
              0.2222222222222222,
              "#7201a8"
             ],
             [
              0.3333333333333333,
              "#9c179e"
             ],
             [
              0.4444444444444444,
              "#bd3786"
             ],
             [
              0.5555555555555556,
              "#d8576b"
             ],
             [
              0.6666666666666666,
              "#ed7953"
             ],
             [
              0.7777777777777778,
              "#fb9f3a"
             ],
             [
              0.8888888888888888,
              "#fdca26"
             ],
             [
              1,
              "#f0f921"
             ]
            ],
            "type": "histogram2dcontour"
           }
          ],
          "mesh3d": [
           {
            "colorbar": {
             "outlinewidth": 0,
             "ticks": ""
            },
            "type": "mesh3d"
           }
          ],
          "parcoords": [
           {
            "line": {
             "colorbar": {
              "outlinewidth": 0,
              "ticks": ""
             }
            },
            "type": "parcoords"
           }
          ],
          "pie": [
           {
            "automargin": true,
            "type": "pie"
           }
          ],
          "scatter": [
           {
            "fillpattern": {
             "fillmode": "overlay",
             "size": 10,
             "solidity": 0.2
            },
            "type": "scatter"
           }
          ],
          "scatter3d": [
           {
            "line": {
             "colorbar": {
              "outlinewidth": 0,
              "ticks": ""
             }
            },
            "marker": {
             "colorbar": {
              "outlinewidth": 0,
              "ticks": ""
             }
            },
            "type": "scatter3d"
           }
          ],
          "scattercarpet": [
           {
            "marker": {
             "colorbar": {
              "outlinewidth": 0,
              "ticks": ""
             }
            },
            "type": "scattercarpet"
           }
          ],
          "scattergeo": [
           {
            "marker": {
             "colorbar": {
              "outlinewidth": 0,
              "ticks": ""
             }
            },
            "type": "scattergeo"
           }
          ],
          "scattergl": [
           {
            "marker": {
             "colorbar": {
              "outlinewidth": 0,
              "ticks": ""
             }
            },
            "type": "scattergl"
           }
          ],
          "scattermapbox": [
           {
            "marker": {
             "colorbar": {
              "outlinewidth": 0,
              "ticks": ""
             }
            },
            "type": "scattermapbox"
           }
          ],
          "scatterpolar": [
           {
            "marker": {
             "colorbar": {
              "outlinewidth": 0,
              "ticks": ""
             }
            },
            "type": "scatterpolar"
           }
          ],
          "scatterpolargl": [
           {
            "marker": {
             "colorbar": {
              "outlinewidth": 0,
              "ticks": ""
             }
            },
            "type": "scatterpolargl"
           }
          ],
          "scatterternary": [
           {
            "marker": {
             "colorbar": {
              "outlinewidth": 0,
              "ticks": ""
             }
            },
            "type": "scatterternary"
           }
          ],
          "surface": [
           {
            "colorbar": {
             "outlinewidth": 0,
             "ticks": ""
            },
            "colorscale": [
             [
              0,
              "#0d0887"
             ],
             [
              0.1111111111111111,
              "#46039f"
             ],
             [
              0.2222222222222222,
              "#7201a8"
             ],
             [
              0.3333333333333333,
              "#9c179e"
             ],
             [
              0.4444444444444444,
              "#bd3786"
             ],
             [
              0.5555555555555556,
              "#d8576b"
             ],
             [
              0.6666666666666666,
              "#ed7953"
             ],
             [
              0.7777777777777778,
              "#fb9f3a"
             ],
             [
              0.8888888888888888,
              "#fdca26"
             ],
             [
              1,
              "#f0f921"
             ]
            ],
            "type": "surface"
           }
          ],
          "table": [
           {
            "cells": {
             "fill": {
              "color": "#EBF0F8"
             },
             "line": {
              "color": "white"
             }
            },
            "header": {
             "fill": {
              "color": "#C8D4E3"
             },
             "line": {
              "color": "white"
             }
            },
            "type": "table"
           }
          ]
         },
         "layout": {
          "annotationdefaults": {
           "arrowcolor": "#2a3f5f",
           "arrowhead": 0,
           "arrowwidth": 1
          },
          "autotypenumbers": "strict",
          "coloraxis": {
           "colorbar": {
            "outlinewidth": 0,
            "ticks": ""
           }
          },
          "colorscale": {
           "diverging": [
            [
             0,
             "#8e0152"
            ],
            [
             0.1,
             "#c51b7d"
            ],
            [
             0.2,
             "#de77ae"
            ],
            [
             0.3,
             "#f1b6da"
            ],
            [
             0.4,
             "#fde0ef"
            ],
            [
             0.5,
             "#f7f7f7"
            ],
            [
             0.6,
             "#e6f5d0"
            ],
            [
             0.7,
             "#b8e186"
            ],
            [
             0.8,
             "#7fbc41"
            ],
            [
             0.9,
             "#4d9221"
            ],
            [
             1,
             "#276419"
            ]
           ],
           "sequential": [
            [
             0,
             "#0d0887"
            ],
            [
             0.1111111111111111,
             "#46039f"
            ],
            [
             0.2222222222222222,
             "#7201a8"
            ],
            [
             0.3333333333333333,
             "#9c179e"
            ],
            [
             0.4444444444444444,
             "#bd3786"
            ],
            [
             0.5555555555555556,
             "#d8576b"
            ],
            [
             0.6666666666666666,
             "#ed7953"
            ],
            [
             0.7777777777777778,
             "#fb9f3a"
            ],
            [
             0.8888888888888888,
             "#fdca26"
            ],
            [
             1,
             "#f0f921"
            ]
           ],
           "sequentialminus": [
            [
             0,
             "#0d0887"
            ],
            [
             0.1111111111111111,
             "#46039f"
            ],
            [
             0.2222222222222222,
             "#7201a8"
            ],
            [
             0.3333333333333333,
             "#9c179e"
            ],
            [
             0.4444444444444444,
             "#bd3786"
            ],
            [
             0.5555555555555556,
             "#d8576b"
            ],
            [
             0.6666666666666666,
             "#ed7953"
            ],
            [
             0.7777777777777778,
             "#fb9f3a"
            ],
            [
             0.8888888888888888,
             "#fdca26"
            ],
            [
             1,
             "#f0f921"
            ]
           ]
          },
          "colorway": [
           "#636efa",
           "#EF553B",
           "#00cc96",
           "#ab63fa",
           "#FFA15A",
           "#19d3f3",
           "#FF6692",
           "#B6E880",
           "#FF97FF",
           "#FECB52"
          ],
          "font": {
           "color": "#2a3f5f"
          },
          "geo": {
           "bgcolor": "white",
           "lakecolor": "white",
           "landcolor": "#E5ECF6",
           "showlakes": true,
           "showland": true,
           "subunitcolor": "white"
          },
          "hoverlabel": {
           "align": "left"
          },
          "hovermode": "closest",
          "mapbox": {
           "style": "light"
          },
          "paper_bgcolor": "white",
          "plot_bgcolor": "#E5ECF6",
          "polar": {
           "angularaxis": {
            "gridcolor": "white",
            "linecolor": "white",
            "ticks": ""
           },
           "bgcolor": "#E5ECF6",
           "radialaxis": {
            "gridcolor": "white",
            "linecolor": "white",
            "ticks": ""
           }
          },
          "scene": {
           "xaxis": {
            "backgroundcolor": "#E5ECF6",
            "gridcolor": "white",
            "gridwidth": 2,
            "linecolor": "white",
            "showbackground": true,
            "ticks": "",
            "zerolinecolor": "white"
           },
           "yaxis": {
            "backgroundcolor": "#E5ECF6",
            "gridcolor": "white",
            "gridwidth": 2,
            "linecolor": "white",
            "showbackground": true,
            "ticks": "",
            "zerolinecolor": "white"
           },
           "zaxis": {
            "backgroundcolor": "#E5ECF6",
            "gridcolor": "white",
            "gridwidth": 2,
            "linecolor": "white",
            "showbackground": true,
            "ticks": "",
            "zerolinecolor": "white"
           }
          },
          "shapedefaults": {
           "line": {
            "color": "#2a3f5f"
           }
          },
          "ternary": {
           "aaxis": {
            "gridcolor": "white",
            "linecolor": "white",
            "ticks": ""
           },
           "baxis": {
            "gridcolor": "white",
            "linecolor": "white",
            "ticks": ""
           },
           "bgcolor": "#E5ECF6",
           "caxis": {
            "gridcolor": "white",
            "linecolor": "white",
            "ticks": ""
           }
          },
          "title": {
           "x": 0.05
          },
          "xaxis": {
           "automargin": true,
           "gridcolor": "white",
           "linecolor": "white",
           "ticks": "",
           "title": {
            "standoff": 15
           },
           "zerolinecolor": "white",
           "zerolinewidth": 2
          },
          "yaxis": {
           "automargin": true,
           "gridcolor": "white",
           "linecolor": "white",
           "ticks": "",
           "title": {
            "standoff": 15
           },
           "zerolinecolor": "white",
           "zerolinewidth": 2
          }
         }
        }
       }
      },
      "text/html": [
       "<div>                            <div id=\"1e6c2af7-f883-4e13-8e6d-0b60d9ad91c6\" class=\"plotly-graph-div\" style=\"height:525px; width:100%;\"></div>            <script type=\"text/javascript\">                require([\"plotly\"], function(Plotly) {                    window.PLOTLYENV=window.PLOTLYENV || {};                                    if (document.getElementById(\"1e6c2af7-f883-4e13-8e6d-0b60d9ad91c6\")) {                    Plotly.newPlot(                        \"1e6c2af7-f883-4e13-8e6d-0b60d9ad91c6\",                        [{\"branchvalues\":\"total\",\"domain\":{\"x\":[0.0,1.0],\"y\":[0.0,1.0]},\"hovertemplate\":\"labels=%{label}<br>Utarg=%{value}<br>parent=%{parent}<br>id=%{id}<extra></extra>\",\"ids\":[\"Sprzeda\\u017c/Niemcy/Callahan\",\"Sprzeda\\u017c/Niemcy/Davolio\",\"Sprzeda\\u017c/Polska/Dudek\",\"Sprzeda\\u017c/Niemcy/Fuller\",\"Sprzeda\\u017c/Polska/King\",\"Sprzeda\\u017c/Polska/Kowalski\",\"Sprzeda\\u017c/Niemcy/Leverling\",\"Sprzeda\\u017c/Niemcy/Peacock\",\"Sprzeda\\u017c/Polska/Sowi\\u0144ski\",\"Sprzeda\\u017c/Niemcy\",\"Sprzeda\\u017c/Polska\",\"Sprzeda\\u017c\"],\"labels\":[\"Callahan\",\"Davolio\",\"Dudek\",\"Fuller\",\"King\",\"Kowalski\",\"Leverling\",\"Peacock\",\"Sowi\\u0144ski\",\"Niemcy\",\"Polska\",\"Sprzeda\\u017c\"],\"name\":\"\",\"parents\":[\"Sprzeda\\u017c/Niemcy\",\"Sprzeda\\u017c/Niemcy\",\"Sprzeda\\u017c/Polska\",\"Sprzeda\\u017c/Niemcy\",\"Sprzeda\\u017c/Polska\",\"Sprzeda\\u017c/Polska\",\"Sprzeda\\u017c/Niemcy\",\"Sprzeda\\u017c/Niemcy\",\"Sprzeda\\u017c/Polska\",\"Sprzeda\\u017c\",\"Sprzeda\\u017c\",\"\"],\"values\":[123032.67,182500.09,75048.04,162503.78,116962.99,68792.25,201196.27,225763.68,72527.63,894996.49,333330.91,1228327.4],\"type\":\"treemap\",\"root\":{\"color\":\"lightgrey\"}}],                        {\"template\":{\"data\":{\"histogram2dcontour\":[{\"type\":\"histogram2dcontour\",\"colorbar\":{\"outlinewidth\":0,\"ticks\":\"\"},\"colorscale\":[[0.0,\"#0d0887\"],[0.1111111111111111,\"#46039f\"],[0.2222222222222222,\"#7201a8\"],[0.3333333333333333,\"#9c179e\"],[0.4444444444444444,\"#bd3786\"],[0.5555555555555556,\"#d8576b\"],[0.6666666666666666,\"#ed7953\"],[0.7777777777777778,\"#fb9f3a\"],[0.8888888888888888,\"#fdca26\"],[1.0,\"#f0f921\"]]}],\"choropleth\":[{\"type\":\"choropleth\",\"colorbar\":{\"outlinewidth\":0,\"ticks\":\"\"}}],\"histogram2d\":[{\"type\":\"histogram2d\",\"colorbar\":{\"outlinewidth\":0,\"ticks\":\"\"},\"colorscale\":[[0.0,\"#0d0887\"],[0.1111111111111111,\"#46039f\"],[0.2222222222222222,\"#7201a8\"],[0.3333333333333333,\"#9c179e\"],[0.4444444444444444,\"#bd3786\"],[0.5555555555555556,\"#d8576b\"],[0.6666666666666666,\"#ed7953\"],[0.7777777777777778,\"#fb9f3a\"],[0.8888888888888888,\"#fdca26\"],[1.0,\"#f0f921\"]]}],\"heatmap\":[{\"type\":\"heatmap\",\"colorbar\":{\"outlinewidth\":0,\"ticks\":\"\"},\"colorscale\":[[0.0,\"#0d0887\"],[0.1111111111111111,\"#46039f\"],[0.2222222222222222,\"#7201a8\"],[0.3333333333333333,\"#9c179e\"],[0.4444444444444444,\"#bd3786\"],[0.5555555555555556,\"#d8576b\"],[0.6666666666666666,\"#ed7953\"],[0.7777777777777778,\"#fb9f3a\"],[0.8888888888888888,\"#fdca26\"],[1.0,\"#f0f921\"]]}],\"heatmapgl\":[{\"type\":\"heatmapgl\",\"colorbar\":{\"outlinewidth\":0,\"ticks\":\"\"},\"colorscale\":[[0.0,\"#0d0887\"],[0.1111111111111111,\"#46039f\"],[0.2222222222222222,\"#7201a8\"],[0.3333333333333333,\"#9c179e\"],[0.4444444444444444,\"#bd3786\"],[0.5555555555555556,\"#d8576b\"],[0.6666666666666666,\"#ed7953\"],[0.7777777777777778,\"#fb9f3a\"],[0.8888888888888888,\"#fdca26\"],[1.0,\"#f0f921\"]]}],\"contourcarpet\":[{\"type\":\"contourcarpet\",\"colorbar\":{\"outlinewidth\":0,\"ticks\":\"\"}}],\"contour\":[{\"type\":\"contour\",\"colorbar\":{\"outlinewidth\":0,\"ticks\":\"\"},\"colorscale\":[[0.0,\"#0d0887\"],[0.1111111111111111,\"#46039f\"],[0.2222222222222222,\"#7201a8\"],[0.3333333333333333,\"#9c179e\"],[0.4444444444444444,\"#bd3786\"],[0.5555555555555556,\"#d8576b\"],[0.6666666666666666,\"#ed7953\"],[0.7777777777777778,\"#fb9f3a\"],[0.8888888888888888,\"#fdca26\"],[1.0,\"#f0f921\"]]}],\"surface\":[{\"type\":\"surface\",\"colorbar\":{\"outlinewidth\":0,\"ticks\":\"\"},\"colorscale\":[[0.0,\"#0d0887\"],[0.1111111111111111,\"#46039f\"],[0.2222222222222222,\"#7201a8\"],[0.3333333333333333,\"#9c179e\"],[0.4444444444444444,\"#bd3786\"],[0.5555555555555556,\"#d8576b\"],[0.6666666666666666,\"#ed7953\"],[0.7777777777777778,\"#fb9f3a\"],[0.8888888888888888,\"#fdca26\"],[1.0,\"#f0f921\"]]}],\"mesh3d\":[{\"type\":\"mesh3d\",\"colorbar\":{\"outlinewidth\":0,\"ticks\":\"\"}}],\"scatter\":[{\"fillpattern\":{\"fillmode\":\"overlay\",\"size\":10,\"solidity\":0.2},\"type\":\"scatter\"}],\"parcoords\":[{\"type\":\"parcoords\",\"line\":{\"colorbar\":{\"outlinewidth\":0,\"ticks\":\"\"}}}],\"scatterpolargl\":[{\"type\":\"scatterpolargl\",\"marker\":{\"colorbar\":{\"outlinewidth\":0,\"ticks\":\"\"}}}],\"bar\":[{\"error_x\":{\"color\":\"#2a3f5f\"},\"error_y\":{\"color\":\"#2a3f5f\"},\"marker\":{\"line\":{\"color\":\"#E5ECF6\",\"width\":0.5},\"pattern\":{\"fillmode\":\"overlay\",\"size\":10,\"solidity\":0.2}},\"type\":\"bar\"}],\"scattergeo\":[{\"type\":\"scattergeo\",\"marker\":{\"colorbar\":{\"outlinewidth\":0,\"ticks\":\"\"}}}],\"scatterpolar\":[{\"type\":\"scatterpolar\",\"marker\":{\"colorbar\":{\"outlinewidth\":0,\"ticks\":\"\"}}}],\"histogram\":[{\"marker\":{\"pattern\":{\"fillmode\":\"overlay\",\"size\":10,\"solidity\":0.2}},\"type\":\"histogram\"}],\"scattergl\":[{\"type\":\"scattergl\",\"marker\":{\"colorbar\":{\"outlinewidth\":0,\"ticks\":\"\"}}}],\"scatter3d\":[{\"type\":\"scatter3d\",\"line\":{\"colorbar\":{\"outlinewidth\":0,\"ticks\":\"\"}},\"marker\":{\"colorbar\":{\"outlinewidth\":0,\"ticks\":\"\"}}}],\"scattermapbox\":[{\"type\":\"scattermapbox\",\"marker\":{\"colorbar\":{\"outlinewidth\":0,\"ticks\":\"\"}}}],\"scatterternary\":[{\"type\":\"scatterternary\",\"marker\":{\"colorbar\":{\"outlinewidth\":0,\"ticks\":\"\"}}}],\"scattercarpet\":[{\"type\":\"scattercarpet\",\"marker\":{\"colorbar\":{\"outlinewidth\":0,\"ticks\":\"\"}}}],\"carpet\":[{\"aaxis\":{\"endlinecolor\":\"#2a3f5f\",\"gridcolor\":\"white\",\"linecolor\":\"white\",\"minorgridcolor\":\"white\",\"startlinecolor\":\"#2a3f5f\"},\"baxis\":{\"endlinecolor\":\"#2a3f5f\",\"gridcolor\":\"white\",\"linecolor\":\"white\",\"minorgridcolor\":\"white\",\"startlinecolor\":\"#2a3f5f\"},\"type\":\"carpet\"}],\"table\":[{\"cells\":{\"fill\":{\"color\":\"#EBF0F8\"},\"line\":{\"color\":\"white\"}},\"header\":{\"fill\":{\"color\":\"#C8D4E3\"},\"line\":{\"color\":\"white\"}},\"type\":\"table\"}],\"barpolar\":[{\"marker\":{\"line\":{\"color\":\"#E5ECF6\",\"width\":0.5},\"pattern\":{\"fillmode\":\"overlay\",\"size\":10,\"solidity\":0.2}},\"type\":\"barpolar\"}],\"pie\":[{\"automargin\":true,\"type\":\"pie\"}]},\"layout\":{\"autotypenumbers\":\"strict\",\"colorway\":[\"#636efa\",\"#EF553B\",\"#00cc96\",\"#ab63fa\",\"#FFA15A\",\"#19d3f3\",\"#FF6692\",\"#B6E880\",\"#FF97FF\",\"#FECB52\"],\"font\":{\"color\":\"#2a3f5f\"},\"hovermode\":\"closest\",\"hoverlabel\":{\"align\":\"left\"},\"paper_bgcolor\":\"white\",\"plot_bgcolor\":\"#E5ECF6\",\"polar\":{\"bgcolor\":\"#E5ECF6\",\"angularaxis\":{\"gridcolor\":\"white\",\"linecolor\":\"white\",\"ticks\":\"\"},\"radialaxis\":{\"gridcolor\":\"white\",\"linecolor\":\"white\",\"ticks\":\"\"}},\"ternary\":{\"bgcolor\":\"#E5ECF6\",\"aaxis\":{\"gridcolor\":\"white\",\"linecolor\":\"white\",\"ticks\":\"\"},\"baxis\":{\"gridcolor\":\"white\",\"linecolor\":\"white\",\"ticks\":\"\"},\"caxis\":{\"gridcolor\":\"white\",\"linecolor\":\"white\",\"ticks\":\"\"}},\"coloraxis\":{\"colorbar\":{\"outlinewidth\":0,\"ticks\":\"\"}},\"colorscale\":{\"sequential\":[[0.0,\"#0d0887\"],[0.1111111111111111,\"#46039f\"],[0.2222222222222222,\"#7201a8\"],[0.3333333333333333,\"#9c179e\"],[0.4444444444444444,\"#bd3786\"],[0.5555555555555556,\"#d8576b\"],[0.6666666666666666,\"#ed7953\"],[0.7777777777777778,\"#fb9f3a\"],[0.8888888888888888,\"#fdca26\"],[1.0,\"#f0f921\"]],\"sequentialminus\":[[0.0,\"#0d0887\"],[0.1111111111111111,\"#46039f\"],[0.2222222222222222,\"#7201a8\"],[0.3333333333333333,\"#9c179e\"],[0.4444444444444444,\"#bd3786\"],[0.5555555555555556,\"#d8576b\"],[0.6666666666666666,\"#ed7953\"],[0.7777777777777778,\"#fb9f3a\"],[0.8888888888888888,\"#fdca26\"],[1.0,\"#f0f921\"]],\"diverging\":[[0,\"#8e0152\"],[0.1,\"#c51b7d\"],[0.2,\"#de77ae\"],[0.3,\"#f1b6da\"],[0.4,\"#fde0ef\"],[0.5,\"#f7f7f7\"],[0.6,\"#e6f5d0\"],[0.7,\"#b8e186\"],[0.8,\"#7fbc41\"],[0.9,\"#4d9221\"],[1,\"#276419\"]]},\"xaxis\":{\"gridcolor\":\"white\",\"linecolor\":\"white\",\"ticks\":\"\",\"title\":{\"standoff\":15},\"zerolinecolor\":\"white\",\"automargin\":true,\"zerolinewidth\":2},\"yaxis\":{\"gridcolor\":\"white\",\"linecolor\":\"white\",\"ticks\":\"\",\"title\":{\"standoff\":15},\"zerolinecolor\":\"white\",\"automargin\":true,\"zerolinewidth\":2},\"scene\":{\"xaxis\":{\"backgroundcolor\":\"#E5ECF6\",\"gridcolor\":\"white\",\"linecolor\":\"white\",\"showbackground\":true,\"ticks\":\"\",\"zerolinecolor\":\"white\",\"gridwidth\":2},\"yaxis\":{\"backgroundcolor\":\"#E5ECF6\",\"gridcolor\":\"white\",\"linecolor\":\"white\",\"showbackground\":true,\"ticks\":\"\",\"zerolinecolor\":\"white\",\"gridwidth\":2},\"zaxis\":{\"backgroundcolor\":\"#E5ECF6\",\"gridcolor\":\"white\",\"linecolor\":\"white\",\"showbackground\":true,\"ticks\":\"\",\"zerolinecolor\":\"white\",\"gridwidth\":2}},\"shapedefaults\":{\"line\":{\"color\":\"#2a3f5f\"}},\"annotationdefaults\":{\"arrowcolor\":\"#2a3f5f\",\"arrowhead\":0,\"arrowwidth\":1},\"geo\":{\"bgcolor\":\"white\",\"landcolor\":\"#E5ECF6\",\"subunitcolor\":\"white\",\"showland\":true,\"showlakes\":true,\"lakecolor\":\"white\"},\"title\":{\"x\":0.05},\"mapbox\":{\"style\":\"light\"}}},\"legend\":{\"tracegroupgap\":0},\"margin\":{\"t\":50,\"l\":25,\"r\":25,\"b\":25}},                        {\"responsive\": true}                    ).then(function(){\n",
       "                            \n",
       "var gd = document.getElementById('1e6c2af7-f883-4e13-8e6d-0b60d9ad91c6');\n",
       "var x = new MutationObserver(function (mutations, observer) {{\n",
       "        var display = window.getComputedStyle(gd).display;\n",
       "        if (!display || display === 'none') {{\n",
       "            console.log([gd, 'removed!']);\n",
       "            Plotly.purge(gd);\n",
       "            observer.disconnect();\n",
       "        }}\n",
       "}});\n",
       "\n",
       "// Listen for the removal of the full notebook cells\n",
       "var notebookContainer = gd.closest('#notebook-container');\n",
       "if (notebookContainer) {{\n",
       "    x.observe(notebookContainer, {childList: true});\n",
       "}}\n",
       "\n",
       "// Listen for the clearing of the current output cell\n",
       "var outputEl = gd.closest('.output');\n",
       "if (outputEl) {{\n",
       "    x.observe(outputEl, {childList: true});\n",
       "}}\n",
       "\n",
       "                        })                };                });            </script>        </div>"
      ]
     },
     "metadata": {},
     "output_type": "display_data"
    }
   ],
   "source": [
    "fig = px.treemap(df, path=[px.Constant(\"Sprzedaż\"), 'Kraj', 'Sprzedawca'], values='Utarg', )\n",
    "fig.update_traces(root_color=\"lightgrey\")\n",
    "fig.update_layout(margin = dict(t=50, l=25, r=25, b=25))\n",
    "fig.show()\n",
    "\n",
    "# z poniższego komunikatu wynika, że autorzy biblioteki plotly też będą musieli dokonać zmian w kodzie\n",
    "# ze względu na zmiany w zależnej bibliotece pandas"
   ]
  },
  {
   "cell_type": "markdown",
   "metadata": {},
   "source": [
    "### 1.2 Histogramy\n",
    "\n",
    "* Dokumentacja: https://plotly.com/python/histograms/"
   ]
  },
  {
   "cell_type": "code",
   "execution_count": 4,
   "metadata": {},
   "outputs": [
    {
     "data": {
      "application/vnd.plotly.v1+json": {
       "config": {
        "plotlyServerURL": "https://plot.ly"
       },
       "data": [
        {
         "alignmentgroup": "True",
         "bingroup": "x",
         "hovertemplate": "Utarg=%{x}<br>count=%{y}<extra></extra>",
         "legendgroup": "",
         "marker": {
          "color": "#636efa",
          "pattern": {
           "shape": ""
          }
         },
         "name": "",
         "offsetgroup": "",
         "orientation": "v",
         "showlegend": false,
         "type": "histogram",
         "x": [
          440,
          1863.4,
          1552.6,
          654.06,
          3597.9,
          1444.8,
          556.62,
          2490.5,
          517.8,
          1119.9,
          1614.88,
          100.8,
          1504.65,
          448,
          584,
          1873.8,
          695.62,
          1176,
          346.56,
          3536.6,
          1101.2,
          642.2,
          1376,
          48,
          1456,
          2037.28,
          538.6,
          291.84,
          420,
          1200.8,
          1488.8,
          351,
          613.2,
          86.5,
          155.4,
          1414.8,
          1170.37,
          1743.36,
          3016,
          819,
          80.1,
          479.4,
          2169,
          497.52,
          1296,
          848.7,
          1887.6,
          121.6,
          1050.6,
          1420,
          2645,
          349.5,
          608,
          755,
          2708.8,
          1117.8,
          954.4,
          3741.3,
          498.5,
          424,
          88.8,
          1762,
          336,
          268.8,
          1614.8,
          182.4,
          2094.3,
          516.8,
          2835,
          288,
          240.4,
          1191.2,
          516,
          144,
          112,
          164.4,
          5275.71,
          1497,
          982,
          1810,
          1168,
          4578.43,
          1649,
          88.5,
          1786.88,
          877.2,
          144.8,
          2036.16,
          285.12,
          2467,
          934.5,
          3354,
          2436.18,
          352.6,
          1840.64,
          1584,
          2296,
          2924.8,
          1618.88,
          814.42,
          363.6,
          141.6,
          642.06,
          5398.72,
          136.3,
          8593.28,
          568.8,
          480,
          1106.4,
          1167.68,
          429.4,
          3471.68,
          7390.2,
          2046.24,
          1549.6,
          447.2,
          950,
          403.2,
          136,
          834.2,
          1689.78,
          2390.4,
          1117.6,
          72.96,
          9210.9,
          1366.4,
          459,
          338,
          399,
          863.6,
          103.2,
          863.28,
          1313.82,
          112,
          2900,
          899,
          2222.4,
          691.2,
          166,
          1058.4,
          1228.8,
          1832.8,
          2090.88,
          86.4,
          1440,
          2556.95,
          442,
          2122.92,
          1903.8,
          716.72,
          2505.6,
          1765.6,
          3063,
          3868.6,
          2713.5,
          855.01,
          1591.25,
          400,
          1830.78,
          1194,
          1622.4,
          319.2,
          802,
          966.8,
          334.8,
          2123.2,
          224.83,
          102.4,
          720,
          11188.4,
          1814.8,
          2097.6,
          1707.84,
          1194.27,
          49.8,
          1020,
          9194.56,
          360,
          338.2,
          651,
          192,
          1441.37,
          4899.2,
          1892.25,
          485,
          851.2,
          321.12,
          631.6,
          1994.52,
          393,
          454,
          1078,
          4924.13,
          1755,
          1792,
          517.44,
          1031.7,
          174.9,
          246.24,
          914.4,
          443.4,
          1838.2,
          425.12,
          3849.66,
          2018.5,
          407.7,
          331.2,
          2684,
          557.6,
          1584,
          3891,
          1659.2,
          176.1,
          1538.7,
          156,
          713.3,
          1609.28,
          2518,
          216,
          235.2,
          717.6,
          956.67,
          1820.8,
          1328,
          1036.8,
          230.4,
          1249.1,
          1505.18,
          180.48,
          558,
          471.2,
          10495.6,
          756,
          1472,
          147,
          668.8,
          386.2,
          1584,
          1272,
          889.7,
          1512,
          439.2,
          3163.2,
          259.5,
          851.2,
          608.4,
          912,
          278,
          190,
          1380.6,
          575,
          1412,
          523.26,
          149,
          816.3,
          2048.5,
          1388.5,
          147.9,
          415.8,
          749.06,
          240,
          136.8,
          4707.54,
          2550,
          525.3,
          1942,
          8623.45,
          9921.3,
          2381.05,
          352,
          4150.05,
          2314.2,
          200,
          225.5,
          2318.24,
          2444.31,
          3192.65,
          818.4,
          1151.4,
          1503,
          392.2,
          946,
          4180,
          110,
          796.35,
          2222.2,
          465.7,
          1940.85,
          1645,
          1823.8,
          139.8,
          355.5,
          10191.7,
          1946.52,
          469.11,
          1504.5,
          417.2,
          210,
          2812,
          1792.8,
          240.1,
          3554.27,
          683.3,
          1677.3,
          880.5,
          1546.3,
          1728.52,
          2944.4,
          835.2,
          1152.5,
          2142.9,
          520.41,
          1072.42,
          2844.5,
          488.7,
          965,
          1234.05,
          639.9,
          1761,
          2519,
          155,
          890,
          2465.25,
          550.59,
          1501.08,
          2082,
          764.3,
          2147.4,
          838.45,
          569,
          477,
          317.75,
          1013.74,
          310,
          330,
          2237.5,
          593.75,
          142.5,
          23.8,
          807.38,
          3120,
          72,
          1101,
          812.5,
          516.46,
          1994.4,
          565.5,
          4725,
          1180.88,
          718.08,
          2388.5,
          493,
          479.8,
          2285,
          48.75,
          1483,
          230.85,
          4109.69,
          1130.4,
          6475.4,
          1064,
          424,
          299.25,
          808,
          6375,
          353.2,
          464,
          120,
          4806.99,
          1402.5,
          2697.5,
          1260,
          57.5,
          758.5,
          560,
          1336.95,
          1393.24,
          479.75,
          1503.6,
          1185.75,
          450,
          2775.05,
          903.6,
          55.8,
          589,
          5510.59,
          4985.5,
          1326.22,
          629.5,
          2761.94,
          2720.05,
          500,
          708.75,
          2054,
          696,
          814.5,
          1371.8,
          1535,
          1446,
          636,
          372.37,
          1434,
          1779.2,
          397.8,
          318.84,
          1083.15,
          601.83,
          154.4,
          604.21,
          4371.6,
          4464.6,
          1227.02,
          1701,
          562.6,
          125,
          1930.4,
          1288.39,
          1295,
          4666.94,
          1536.8,
          625.27,
          570,
          2301.75,
          920.1,
          3815.25,
          412.35,
          45,
          1423,
          534.85,
          813.36,
          5256.5,
          660,
          1261.88,
          1287.4,
          375.5,
          63,
          1768,
          801.1,
          1404.45,
          4960.9,
          3160.6,
          472.5,
          862.5,
          10164.8,
          878,
          2071.2,
          4825,
          642,
          996,
          805.43,
          3436.45,
          114,
          1638.4,
          2864.5,
          330,
          2545,
          595.5,
          378,
          1893,
          1641,
          180.4,
          3424,
          93.5,
          4451.7,
          1233.48,
          2827.9,
          2205.75,
          1296,
          706,
          1270.75,
          3463,
          844.25,
          550,
          923.87,
          1570,
          468.45,
          638.5,
          287.8,
          655,
          1624.5,
          1296.75,
          1850,
          484.25,
          1890.5,
          360,
          1459,
          1498.35,
          536.4,
          997,
          139.8,
          52.35,
          240,
          1416,
          228,
          3118,
          319.2,
          736,
          4529.8,
          2311.7,
          1912.85,
          2196,
          1080,
          1590.56,
          1631.48,
          252,
          88,
          55.2,
          1948.5,
          1990,
          3082,
          1644.6,
          320,
          2917,
          507,
          4337,
          616,
          2286,
          1515.6,
          2310,
          28,
          1477,
          1684.27,
          236.25,
          344,
          3603.22,
          2030.4,
          868.75,
          228,
          6635.27,
          224,
          96.5,
          1335,
          720,
          975.88,
          12.5,
          1442.5,
          1488,
          387.5,
          1531.08,
          2622.76,
          731.5,
          3687,
          722.5,
          1829.76,
          399.85,
          191.1,
          314.76,
          2158,
          2341.36,
          420,
          446.6,
          1553.5,
          1468.93,
          3026.85,
          2942.81,
          1193.01,
          2278.4,
          2775,
          439.6,
          18.4,
          1411,
          140,
          187,
          852,
          1692.8,
          602.4,
          1788.45,
          40,
          8446.45,
          10952.84,
          833,
          477,
          1140,
          678,
          237.9,
          2826,
          250.8,
          1030.76,
          730,
          843,
          932,
          1764,
          1974,
          2684.4,
          475.11,
          906.93,
          1432.71,
          845.8,
          4705.5,
          1064.5,
          1938.38,
          827.55,
          211.2,
          4581,
          975,
          159,
          735,
          3812.7,
          1112,
          4931.92,
          931.5,
          967.82,
          629,
          2603,
          2984,
          625,
          2966.5,
          2227.89,
          660,
          2048.22,
          649,
          1078.69,
          519,
          3523.4,
          581,
          441.15,
          282,
          16387.5,
          1096.2,
          98.4,
          1920.6,
          1630,
          160,
          1979.23,
          2058.46,
          336.8,
          310,
          709.55,
          917,
          1955.13,
          1539,
          611.3,
          1500,
          150,
          892.64,
          36,
          1378.07,
          1209,
          3127.5,
          70,
          605,
          11380,
          860.1,
          368.93,
          2090,
          5502.11,
          2753.1,
          6379.4,
          750.5,
          10835.24,
          30,
          122.4,
          33.75,
          934.5,
          863.43,
          932.05,
          1924.25,
          342,
          427.5,
          108.5,
          663.1,
          670,
          452.9,
          858,
          6200.55,
          768.75,
          537.5,
          539.5,
          686.7,
          365.89,
          1447.5,
          1122.8,
          390,
          1936,
          742.5,
          748.8,
          1835.7,
          475.15,
          514.4,
          800,
          137.5,
          1174.75,
          2255.5,
          799.2,
          1788.63,
          920.6,
          500,
          619.5,
          456,
          644.8,
          2731.87,
          637.5,
          360,
          4011.75,
          560,
          711,
          1025.33,
          245,
          1407.5,
          220,
          2362.25,
          4422,
          110,
          458.74,
          471.2,
          4441.25,
          1659.53,
          74.4,
          677,
          1762.7,
          781,
          131.75,
          265.35,
          1119.9,
          3584,
          57.8,
          2052.5,
          848,
          1098.46,
          910.4,
          1408,
          108,
          224,
          1733.06,
          251.5,
          291.55,
          439,
          717.5,
          912,
          2233,
          1303.19,
          4813.5,
          248,
          15810,
          1014,
          720.9,
          1809.75,
          2023.38,
          2220,
          2772,
          3574.8,
          1353.6,
          4288.85,
          2296,
          69.6,
          4895.44,
          940.5,
          1196,
          560,
          1885,
          686,
          1197.95,
          903.75,
          2769,
          1811.1,
          326,
          295.38,
          586,
          329.69,
          2633.9,
          616.5,
          645,
          933.5,
          2825.3,
          361,
          243.18,
          622.35,
          491.5,
          6750,
          1575,
          632.4,
          6306.24,
          1500,
          1966.81,
          270,
          1030,
          877.72,
          2160,
          1286.8,
          12615.05,
          2393.5,
          8902.5,
          3232.8,
          539.4,
          1754.5,
          1692,
          60,
          732.6,
          1773,
          405.75,
          210,
          591.6,
          1485.8,
          817.87,
          525,
          1332,
          3055,
          3740,
          45
         ],
         "xaxis": "x",
         "yaxis": "y"
        }
       ],
       "layout": {
        "barmode": "relative",
        "legend": {
         "tracegroupgap": 0
        },
        "margin": {
         "t": 60
        },
        "template": {
         "data": {
          "bar": [
           {
            "error_x": {
             "color": "#2a3f5f"
            },
            "error_y": {
             "color": "#2a3f5f"
            },
            "marker": {
             "line": {
              "color": "#E5ECF6",
              "width": 0.5
             },
             "pattern": {
              "fillmode": "overlay",
              "size": 10,
              "solidity": 0.2
             }
            },
            "type": "bar"
           }
          ],
          "barpolar": [
           {
            "marker": {
             "line": {
              "color": "#E5ECF6",
              "width": 0.5
             },
             "pattern": {
              "fillmode": "overlay",
              "size": 10,
              "solidity": 0.2
             }
            },
            "type": "barpolar"
           }
          ],
          "carpet": [
           {
            "aaxis": {
             "endlinecolor": "#2a3f5f",
             "gridcolor": "white",
             "linecolor": "white",
             "minorgridcolor": "white",
             "startlinecolor": "#2a3f5f"
            },
            "baxis": {
             "endlinecolor": "#2a3f5f",
             "gridcolor": "white",
             "linecolor": "white",
             "minorgridcolor": "white",
             "startlinecolor": "#2a3f5f"
            },
            "type": "carpet"
           }
          ],
          "choropleth": [
           {
            "colorbar": {
             "outlinewidth": 0,
             "ticks": ""
            },
            "type": "choropleth"
           }
          ],
          "contour": [
           {
            "colorbar": {
             "outlinewidth": 0,
             "ticks": ""
            },
            "colorscale": [
             [
              0,
              "#0d0887"
             ],
             [
              0.1111111111111111,
              "#46039f"
             ],
             [
              0.2222222222222222,
              "#7201a8"
             ],
             [
              0.3333333333333333,
              "#9c179e"
             ],
             [
              0.4444444444444444,
              "#bd3786"
             ],
             [
              0.5555555555555556,
              "#d8576b"
             ],
             [
              0.6666666666666666,
              "#ed7953"
             ],
             [
              0.7777777777777778,
              "#fb9f3a"
             ],
             [
              0.8888888888888888,
              "#fdca26"
             ],
             [
              1,
              "#f0f921"
             ]
            ],
            "type": "contour"
           }
          ],
          "contourcarpet": [
           {
            "colorbar": {
             "outlinewidth": 0,
             "ticks": ""
            },
            "type": "contourcarpet"
           }
          ],
          "heatmap": [
           {
            "colorbar": {
             "outlinewidth": 0,
             "ticks": ""
            },
            "colorscale": [
             [
              0,
              "#0d0887"
             ],
             [
              0.1111111111111111,
              "#46039f"
             ],
             [
              0.2222222222222222,
              "#7201a8"
             ],
             [
              0.3333333333333333,
              "#9c179e"
             ],
             [
              0.4444444444444444,
              "#bd3786"
             ],
             [
              0.5555555555555556,
              "#d8576b"
             ],
             [
              0.6666666666666666,
              "#ed7953"
             ],
             [
              0.7777777777777778,
              "#fb9f3a"
             ],
             [
              0.8888888888888888,
              "#fdca26"
             ],
             [
              1,
              "#f0f921"
             ]
            ],
            "type": "heatmap"
           }
          ],
          "heatmapgl": [
           {
            "colorbar": {
             "outlinewidth": 0,
             "ticks": ""
            },
            "colorscale": [
             [
              0,
              "#0d0887"
             ],
             [
              0.1111111111111111,
              "#46039f"
             ],
             [
              0.2222222222222222,
              "#7201a8"
             ],
             [
              0.3333333333333333,
              "#9c179e"
             ],
             [
              0.4444444444444444,
              "#bd3786"
             ],
             [
              0.5555555555555556,
              "#d8576b"
             ],
             [
              0.6666666666666666,
              "#ed7953"
             ],
             [
              0.7777777777777778,
              "#fb9f3a"
             ],
             [
              0.8888888888888888,
              "#fdca26"
             ],
             [
              1,
              "#f0f921"
             ]
            ],
            "type": "heatmapgl"
           }
          ],
          "histogram": [
           {
            "marker": {
             "pattern": {
              "fillmode": "overlay",
              "size": 10,
              "solidity": 0.2
             }
            },
            "type": "histogram"
           }
          ],
          "histogram2d": [
           {
            "colorbar": {
             "outlinewidth": 0,
             "ticks": ""
            },
            "colorscale": [
             [
              0,
              "#0d0887"
             ],
             [
              0.1111111111111111,
              "#46039f"
             ],
             [
              0.2222222222222222,
              "#7201a8"
             ],
             [
              0.3333333333333333,
              "#9c179e"
             ],
             [
              0.4444444444444444,
              "#bd3786"
             ],
             [
              0.5555555555555556,
              "#d8576b"
             ],
             [
              0.6666666666666666,
              "#ed7953"
             ],
             [
              0.7777777777777778,
              "#fb9f3a"
             ],
             [
              0.8888888888888888,
              "#fdca26"
             ],
             [
              1,
              "#f0f921"
             ]
            ],
            "type": "histogram2d"
           }
          ],
          "histogram2dcontour": [
           {
            "colorbar": {
             "outlinewidth": 0,
             "ticks": ""
            },
            "colorscale": [
             [
              0,
              "#0d0887"
             ],
             [
              0.1111111111111111,
              "#46039f"
             ],
             [
              0.2222222222222222,
              "#7201a8"
             ],
             [
              0.3333333333333333,
              "#9c179e"
             ],
             [
              0.4444444444444444,
              "#bd3786"
             ],
             [
              0.5555555555555556,
              "#d8576b"
             ],
             [
              0.6666666666666666,
              "#ed7953"
             ],
             [
              0.7777777777777778,
              "#fb9f3a"
             ],
             [
              0.8888888888888888,
              "#fdca26"
             ],
             [
              1,
              "#f0f921"
             ]
            ],
            "type": "histogram2dcontour"
           }
          ],
          "mesh3d": [
           {
            "colorbar": {
             "outlinewidth": 0,
             "ticks": ""
            },
            "type": "mesh3d"
           }
          ],
          "parcoords": [
           {
            "line": {
             "colorbar": {
              "outlinewidth": 0,
              "ticks": ""
             }
            },
            "type": "parcoords"
           }
          ],
          "pie": [
           {
            "automargin": true,
            "type": "pie"
           }
          ],
          "scatter": [
           {
            "fillpattern": {
             "fillmode": "overlay",
             "size": 10,
             "solidity": 0.2
            },
            "type": "scatter"
           }
          ],
          "scatter3d": [
           {
            "line": {
             "colorbar": {
              "outlinewidth": 0,
              "ticks": ""
             }
            },
            "marker": {
             "colorbar": {
              "outlinewidth": 0,
              "ticks": ""
             }
            },
            "type": "scatter3d"
           }
          ],
          "scattercarpet": [
           {
            "marker": {
             "colorbar": {
              "outlinewidth": 0,
              "ticks": ""
             }
            },
            "type": "scattercarpet"
           }
          ],
          "scattergeo": [
           {
            "marker": {
             "colorbar": {
              "outlinewidth": 0,
              "ticks": ""
             }
            },
            "type": "scattergeo"
           }
          ],
          "scattergl": [
           {
            "marker": {
             "colorbar": {
              "outlinewidth": 0,
              "ticks": ""
             }
            },
            "type": "scattergl"
           }
          ],
          "scattermapbox": [
           {
            "marker": {
             "colorbar": {
              "outlinewidth": 0,
              "ticks": ""
             }
            },
            "type": "scattermapbox"
           }
          ],
          "scatterpolar": [
           {
            "marker": {
             "colorbar": {
              "outlinewidth": 0,
              "ticks": ""
             }
            },
            "type": "scatterpolar"
           }
          ],
          "scatterpolargl": [
           {
            "marker": {
             "colorbar": {
              "outlinewidth": 0,
              "ticks": ""
             }
            },
            "type": "scatterpolargl"
           }
          ],
          "scatterternary": [
           {
            "marker": {
             "colorbar": {
              "outlinewidth": 0,
              "ticks": ""
             }
            },
            "type": "scatterternary"
           }
          ],
          "surface": [
           {
            "colorbar": {
             "outlinewidth": 0,
             "ticks": ""
            },
            "colorscale": [
             [
              0,
              "#0d0887"
             ],
             [
              0.1111111111111111,
              "#46039f"
             ],
             [
              0.2222222222222222,
              "#7201a8"
             ],
             [
              0.3333333333333333,
              "#9c179e"
             ],
             [
              0.4444444444444444,
              "#bd3786"
             ],
             [
              0.5555555555555556,
              "#d8576b"
             ],
             [
              0.6666666666666666,
              "#ed7953"
             ],
             [
              0.7777777777777778,
              "#fb9f3a"
             ],
             [
              0.8888888888888888,
              "#fdca26"
             ],
             [
              1,
              "#f0f921"
             ]
            ],
            "type": "surface"
           }
          ],
          "table": [
           {
            "cells": {
             "fill": {
              "color": "#EBF0F8"
             },
             "line": {
              "color": "white"
             }
            },
            "header": {
             "fill": {
              "color": "#C8D4E3"
             },
             "line": {
              "color": "white"
             }
            },
            "type": "table"
           }
          ]
         },
         "layout": {
          "annotationdefaults": {
           "arrowcolor": "#2a3f5f",
           "arrowhead": 0,
           "arrowwidth": 1
          },
          "autotypenumbers": "strict",
          "coloraxis": {
           "colorbar": {
            "outlinewidth": 0,
            "ticks": ""
           }
          },
          "colorscale": {
           "diverging": [
            [
             0,
             "#8e0152"
            ],
            [
             0.1,
             "#c51b7d"
            ],
            [
             0.2,
             "#de77ae"
            ],
            [
             0.3,
             "#f1b6da"
            ],
            [
             0.4,
             "#fde0ef"
            ],
            [
             0.5,
             "#f7f7f7"
            ],
            [
             0.6,
             "#e6f5d0"
            ],
            [
             0.7,
             "#b8e186"
            ],
            [
             0.8,
             "#7fbc41"
            ],
            [
             0.9,
             "#4d9221"
            ],
            [
             1,
             "#276419"
            ]
           ],
           "sequential": [
            [
             0,
             "#0d0887"
            ],
            [
             0.1111111111111111,
             "#46039f"
            ],
            [
             0.2222222222222222,
             "#7201a8"
            ],
            [
             0.3333333333333333,
             "#9c179e"
            ],
            [
             0.4444444444444444,
             "#bd3786"
            ],
            [
             0.5555555555555556,
             "#d8576b"
            ],
            [
             0.6666666666666666,
             "#ed7953"
            ],
            [
             0.7777777777777778,
             "#fb9f3a"
            ],
            [
             0.8888888888888888,
             "#fdca26"
            ],
            [
             1,
             "#f0f921"
            ]
           ],
           "sequentialminus": [
            [
             0,
             "#0d0887"
            ],
            [
             0.1111111111111111,
             "#46039f"
            ],
            [
             0.2222222222222222,
             "#7201a8"
            ],
            [
             0.3333333333333333,
             "#9c179e"
            ],
            [
             0.4444444444444444,
             "#bd3786"
            ],
            [
             0.5555555555555556,
             "#d8576b"
            ],
            [
             0.6666666666666666,
             "#ed7953"
            ],
            [
             0.7777777777777778,
             "#fb9f3a"
            ],
            [
             0.8888888888888888,
             "#fdca26"
            ],
            [
             1,
             "#f0f921"
            ]
           ]
          },
          "colorway": [
           "#636efa",
           "#EF553B",
           "#00cc96",
           "#ab63fa",
           "#FFA15A",
           "#19d3f3",
           "#FF6692",
           "#B6E880",
           "#FF97FF",
           "#FECB52"
          ],
          "font": {
           "color": "#2a3f5f"
          },
          "geo": {
           "bgcolor": "white",
           "lakecolor": "white",
           "landcolor": "#E5ECF6",
           "showlakes": true,
           "showland": true,
           "subunitcolor": "white"
          },
          "hoverlabel": {
           "align": "left"
          },
          "hovermode": "closest",
          "mapbox": {
           "style": "light"
          },
          "paper_bgcolor": "white",
          "plot_bgcolor": "#E5ECF6",
          "polar": {
           "angularaxis": {
            "gridcolor": "white",
            "linecolor": "white",
            "ticks": ""
           },
           "bgcolor": "#E5ECF6",
           "radialaxis": {
            "gridcolor": "white",
            "linecolor": "white",
            "ticks": ""
           }
          },
          "scene": {
           "xaxis": {
            "backgroundcolor": "#E5ECF6",
            "gridcolor": "white",
            "gridwidth": 2,
            "linecolor": "white",
            "showbackground": true,
            "ticks": "",
            "zerolinecolor": "white"
           },
           "yaxis": {
            "backgroundcolor": "#E5ECF6",
            "gridcolor": "white",
            "gridwidth": 2,
            "linecolor": "white",
            "showbackground": true,
            "ticks": "",
            "zerolinecolor": "white"
           },
           "zaxis": {
            "backgroundcolor": "#E5ECF6",
            "gridcolor": "white",
            "gridwidth": 2,
            "linecolor": "white",
            "showbackground": true,
            "ticks": "",
            "zerolinecolor": "white"
           }
          },
          "shapedefaults": {
           "line": {
            "color": "#2a3f5f"
           }
          },
          "ternary": {
           "aaxis": {
            "gridcolor": "white",
            "linecolor": "white",
            "ticks": ""
           },
           "baxis": {
            "gridcolor": "white",
            "linecolor": "white",
            "ticks": ""
           },
           "bgcolor": "#E5ECF6",
           "caxis": {
            "gridcolor": "white",
            "linecolor": "white",
            "ticks": ""
           }
          },
          "title": {
           "x": 0.05
          },
          "xaxis": {
           "automargin": true,
           "gridcolor": "white",
           "linecolor": "white",
           "ticks": "",
           "title": {
            "standoff": 15
           },
           "zerolinecolor": "white",
           "zerolinewidth": 2
          },
          "yaxis": {
           "automargin": true,
           "gridcolor": "white",
           "linecolor": "white",
           "ticks": "",
           "title": {
            "standoff": 15
           },
           "zerolinecolor": "white",
           "zerolinewidth": 2
          }
         }
        },
        "xaxis": {
         "anchor": "y",
         "domain": [
          0,
          1
         ],
         "title": {
          "text": "Utarg"
         }
        },
        "yaxis": {
         "anchor": "x",
         "domain": [
          0,
          1
         ],
         "title": {
          "text": "count"
         }
        }
       }
      },
      "text/html": [
       "<div>                            <div id=\"e0ba9509-894b-435c-b4fe-6ee9cccf2f6a\" class=\"plotly-graph-div\" style=\"height:525px; width:100%;\"></div>            <script type=\"text/javascript\">                require([\"plotly\"], function(Plotly) {                    window.PLOTLYENV=window.PLOTLYENV || {};                                    if (document.getElementById(\"e0ba9509-894b-435c-b4fe-6ee9cccf2f6a\")) {                    Plotly.newPlot(                        \"e0ba9509-894b-435c-b4fe-6ee9cccf2f6a\",                        [{\"alignmentgroup\":\"True\",\"bingroup\":\"x\",\"hovertemplate\":\"Utarg=%{x}<br>count=%{y}<extra></extra>\",\"legendgroup\":\"\",\"marker\":{\"color\":\"#636efa\",\"pattern\":{\"shape\":\"\"}},\"name\":\"\",\"offsetgroup\":\"\",\"orientation\":\"v\",\"showlegend\":false,\"x\":[440.0,1863.4,1552.6,654.06,3597.9,1444.8,556.62,2490.5,517.8,1119.9,1614.88,100.8,1504.65,448.0,584.0,1873.8,695.62,1176.0,346.56,3536.6,1101.2,642.2,1376.0,48.0,1456.0,2037.28,538.6,291.84,420.0,1200.8,1488.8,351.0,613.2,86.5,155.4,1414.8,1170.37,1743.36,3016.0,819.0,80.1,479.4,2169.0,497.52,1296.0,848.7,1887.6,121.6,1050.6,1420.0,2645.0,349.5,608.0,755.0,2708.8,1117.8,954.4,3741.3,498.5,424.0,88.8,1762.0,336.0,268.8,1614.8,182.4,2094.3,516.8,2835.0,288.0,240.4,1191.2,516.0,144.0,112.0,164.4,5275.71,1497.0,982.0,1810.0,1168.0,4578.43,1649.0,88.5,1786.88,877.2,144.8,2036.16,285.12,2467.0,934.5,3354.0,2436.18,352.6,1840.64,1584.0,2296.0,2924.8,1618.88,814.42,363.6,141.6,642.06,5398.72,136.3,8593.28,568.8,480.0,1106.4,1167.68,429.4,3471.68,7390.2,2046.24,1549.6,447.2,950.0,403.2,136.0,834.2,1689.78,2390.4,1117.6,72.96,9210.9,1366.4,459.0,338.0,399.0,863.6,103.2,863.28,1313.82,112.0,2900.0,899.0,2222.4,691.2,166.0,1058.4,1228.8,1832.8,2090.88,86.4,1440.0,2556.95,442.0,2122.92,1903.8,716.72,2505.6,1765.6,3063.0,3868.6,2713.5,855.01,1591.25,400.0,1830.78,1194.0,1622.4,319.2,802.0,966.8,334.8,2123.2,224.83,102.4,720.0,11188.4,1814.8,2097.6,1707.84,1194.27,49.8,1020.0,9194.56,360.0,338.2,651.0,192.0,1441.37,4899.2,1892.25,485.0,851.2,321.12,631.6,1994.52,393.0,454.0,1078.0,4924.13,1755.0,1792.0,517.44,1031.7,174.9,246.24,914.4,443.4,1838.2,425.12,3849.66,2018.5,407.7,331.2,2684.0,557.6,1584.0,3891.0,1659.2,176.1,1538.7,156.0,713.3,1609.28,2518.0,216.0,235.2,717.6,956.67,1820.8,1328.0,1036.8,230.4,1249.1,1505.18,180.48,558.0,471.2,10495.6,756.0,1472.0,147.0,668.8,386.2,1584.0,1272.0,889.7,1512.0,439.2,3163.2,259.5,851.2,608.4,912.0,278.0,190.0,1380.6,575.0,1412.0,523.26,149.0,816.3,2048.5,1388.5,147.9,415.8,749.06,240.0,136.8,4707.54,2550.0,525.3,1942.0,8623.45,9921.3,2381.05,352.0,4150.05,2314.2,200.0,225.5,2318.24,2444.31,3192.65,818.4,1151.4,1503.0,392.2,946.0,4180.0,110.0,796.35,2222.2,465.7,1940.85,1645.0,1823.8,139.8,355.5,10191.7,1946.52,469.11,1504.5,417.2,210.0,2812.0,1792.8,240.1,3554.27,683.3,1677.3,880.5,1546.3,1728.52,2944.4,835.2,1152.5,2142.9,520.41,1072.42,2844.5,488.7,965.0,1234.05,639.9,1761.0,2519.0,155.0,890.0,2465.25,550.59,1501.08,2082.0,764.3,2147.4,838.45,569.0,477.0,317.75,1013.74,310.0,330.0,2237.5,593.75,142.5,23.8,807.38,3120.0,72.0,1101.0,812.5,516.46,1994.4,565.5,4725.0,1180.88,718.08,2388.5,493.0,479.8,2285.0,48.75,1483.0,230.85,4109.69,1130.4,6475.4,1064.0,424.0,299.25,808.0,6375.0,353.2,464.0,120.0,4806.99,1402.5,2697.5,1260.0,57.5,758.5,560.0,1336.95,1393.24,479.75,1503.6,1185.75,450.0,2775.05,903.6,55.8,589.0,5510.59,4985.5,1326.22,629.5,2761.94,2720.05,500.0,708.75,2054.0,696.0,814.5,1371.8,1535.0,1446.0,636.0,372.37,1434.0,1779.2,397.8,318.84,1083.15,601.83,154.4,604.21,4371.6,4464.6,1227.02,1701.0,562.6,125.0,1930.4,1288.39,1295.0,4666.94,1536.8,625.27,570.0,2301.75,920.1,3815.25,412.35,45.0,1423.0,534.85,813.36,5256.5,660.0,1261.88,1287.4,375.5,63.0,1768.0,801.1,1404.45,4960.9,3160.6,472.5,862.5,10164.8,878.0,2071.2,4825.0,642.0,996.0,805.43,3436.45,114.0,1638.4,2864.5,330.0,2545.0,595.5,378.0,1893.0,1641.0,180.4,3424.0,93.5,4451.7,1233.48,2827.9,2205.75,1296.0,706.0,1270.75,3463.0,844.25,550.0,923.87,1570.0,468.45,638.5,287.8,655.0,1624.5,1296.75,1850.0,484.25,1890.5,360.0,1459.0,1498.35,536.4,997.0,139.8,52.35,240.0,1416.0,228.0,3118.0,319.2,736.0,4529.8,2311.7,1912.85,2196.0,1080.0,1590.56,1631.48,252.0,88.0,55.2,1948.5,1990.0,3082.0,1644.6,320.0,2917.0,507.0,4337.0,616.0,2286.0,1515.6,2310.0,28.0,1477.0,1684.27,236.25,344.0,3603.22,2030.4,868.75,228.0,6635.27,224.0,96.5,1335.0,720.0,975.88,12.5,1442.5,1488.0,387.5,1531.08,2622.76,731.5,3687.0,722.5,1829.76,399.85,191.1,314.76,2158.0,2341.36,420.0,446.6,1553.5,1468.93,3026.85,2942.81,1193.01,2278.4,2775.0,439.6,18.4,1411.0,140.0,187.0,852.0,1692.8,602.4,1788.45,40.0,8446.45,10952.84,833.0,477.0,1140.0,678.0,237.9,2826.0,250.8,1030.76,730.0,843.0,932.0,1764.0,1974.0,2684.4,475.11,906.93,1432.71,845.8,4705.5,1064.5,1938.38,827.55,211.2,4581.0,975.0,159.0,735.0,3812.7,1112.0,4931.92,931.5,967.82,629.0,2603.0,2984.0,625.0,2966.5,2227.89,660.0,2048.22,649.0,1078.69,519.0,3523.4,581.0,441.15,282.0,16387.5,1096.2,98.4,1920.6,1630.0,160.0,1979.23,2058.46,336.8,310.0,709.55,917.0,1955.13,1539.0,611.3,1500.0,150.0,892.64,36.0,1378.07,1209.0,3127.5,70.0,605.0,11380.0,860.1,368.93,2090.0,5502.11,2753.1,6379.4,750.5,10835.24,30.0,122.4,33.75,934.5,863.43,932.05,1924.25,342.0,427.5,108.5,663.1,670.0,452.9,858.0,6200.55,768.75,537.5,539.5,686.7,365.89,1447.5,1122.8,390.0,1936.0,742.5,748.8,1835.7,475.15,514.4,800.0,137.5,1174.75,2255.5,799.2,1788.63,920.6,500.0,619.5,456.0,644.8,2731.87,637.5,360.0,4011.75,560.0,711.0,1025.33,245.0,1407.5,220.0,2362.25,4422.0,110.0,458.74,471.2,4441.25,1659.53,74.4,677.0,1762.7,781.0,131.75,265.35,1119.9,3584.0,57.8,2052.5,848.0,1098.46,910.4,1408.0,108.0,224.0,1733.06,251.5,291.55,439.0,717.5,912.0,2233.0,1303.19,4813.5,248.0,15810.0,1014.0,720.9,1809.75,2023.38,2220.0,2772.0,3574.8,1353.6,4288.85,2296.0,69.6,4895.44,940.5,1196.0,560.0,1885.0,686.0,1197.95,903.75,2769.0,1811.1,326.0,295.38,586.0,329.69,2633.9,616.5,645.0,933.5,2825.3,361.0,243.18,622.35,491.5,6750.0,1575.0,632.4,6306.24,1500.0,1966.81,270.0,1030.0,877.72,2160.0,1286.8,12615.05,2393.5,8902.5,3232.8,539.4,1754.5,1692.0,60.0,732.6,1773.0,405.75,210.0,591.6,1485.8,817.87,525.0,1332.0,3055.0,3740.0,45.0],\"xaxis\":\"x\",\"yaxis\":\"y\",\"type\":\"histogram\"}],                        {\"template\":{\"data\":{\"histogram2dcontour\":[{\"type\":\"histogram2dcontour\",\"colorbar\":{\"outlinewidth\":0,\"ticks\":\"\"},\"colorscale\":[[0.0,\"#0d0887\"],[0.1111111111111111,\"#46039f\"],[0.2222222222222222,\"#7201a8\"],[0.3333333333333333,\"#9c179e\"],[0.4444444444444444,\"#bd3786\"],[0.5555555555555556,\"#d8576b\"],[0.6666666666666666,\"#ed7953\"],[0.7777777777777778,\"#fb9f3a\"],[0.8888888888888888,\"#fdca26\"],[1.0,\"#f0f921\"]]}],\"choropleth\":[{\"type\":\"choropleth\",\"colorbar\":{\"outlinewidth\":0,\"ticks\":\"\"}}],\"histogram2d\":[{\"type\":\"histogram2d\",\"colorbar\":{\"outlinewidth\":0,\"ticks\":\"\"},\"colorscale\":[[0.0,\"#0d0887\"],[0.1111111111111111,\"#46039f\"],[0.2222222222222222,\"#7201a8\"],[0.3333333333333333,\"#9c179e\"],[0.4444444444444444,\"#bd3786\"],[0.5555555555555556,\"#d8576b\"],[0.6666666666666666,\"#ed7953\"],[0.7777777777777778,\"#fb9f3a\"],[0.8888888888888888,\"#fdca26\"],[1.0,\"#f0f921\"]]}],\"heatmap\":[{\"type\":\"heatmap\",\"colorbar\":{\"outlinewidth\":0,\"ticks\":\"\"},\"colorscale\":[[0.0,\"#0d0887\"],[0.1111111111111111,\"#46039f\"],[0.2222222222222222,\"#7201a8\"],[0.3333333333333333,\"#9c179e\"],[0.4444444444444444,\"#bd3786\"],[0.5555555555555556,\"#d8576b\"],[0.6666666666666666,\"#ed7953\"],[0.7777777777777778,\"#fb9f3a\"],[0.8888888888888888,\"#fdca26\"],[1.0,\"#f0f921\"]]}],\"heatmapgl\":[{\"type\":\"heatmapgl\",\"colorbar\":{\"outlinewidth\":0,\"ticks\":\"\"},\"colorscale\":[[0.0,\"#0d0887\"],[0.1111111111111111,\"#46039f\"],[0.2222222222222222,\"#7201a8\"],[0.3333333333333333,\"#9c179e\"],[0.4444444444444444,\"#bd3786\"],[0.5555555555555556,\"#d8576b\"],[0.6666666666666666,\"#ed7953\"],[0.7777777777777778,\"#fb9f3a\"],[0.8888888888888888,\"#fdca26\"],[1.0,\"#f0f921\"]]}],\"contourcarpet\":[{\"type\":\"contourcarpet\",\"colorbar\":{\"outlinewidth\":0,\"ticks\":\"\"}}],\"contour\":[{\"type\":\"contour\",\"colorbar\":{\"outlinewidth\":0,\"ticks\":\"\"},\"colorscale\":[[0.0,\"#0d0887\"],[0.1111111111111111,\"#46039f\"],[0.2222222222222222,\"#7201a8\"],[0.3333333333333333,\"#9c179e\"],[0.4444444444444444,\"#bd3786\"],[0.5555555555555556,\"#d8576b\"],[0.6666666666666666,\"#ed7953\"],[0.7777777777777778,\"#fb9f3a\"],[0.8888888888888888,\"#fdca26\"],[1.0,\"#f0f921\"]]}],\"surface\":[{\"type\":\"surface\",\"colorbar\":{\"outlinewidth\":0,\"ticks\":\"\"},\"colorscale\":[[0.0,\"#0d0887\"],[0.1111111111111111,\"#46039f\"],[0.2222222222222222,\"#7201a8\"],[0.3333333333333333,\"#9c179e\"],[0.4444444444444444,\"#bd3786\"],[0.5555555555555556,\"#d8576b\"],[0.6666666666666666,\"#ed7953\"],[0.7777777777777778,\"#fb9f3a\"],[0.8888888888888888,\"#fdca26\"],[1.0,\"#f0f921\"]]}],\"mesh3d\":[{\"type\":\"mesh3d\",\"colorbar\":{\"outlinewidth\":0,\"ticks\":\"\"}}],\"scatter\":[{\"fillpattern\":{\"fillmode\":\"overlay\",\"size\":10,\"solidity\":0.2},\"type\":\"scatter\"}],\"parcoords\":[{\"type\":\"parcoords\",\"line\":{\"colorbar\":{\"outlinewidth\":0,\"ticks\":\"\"}}}],\"scatterpolargl\":[{\"type\":\"scatterpolargl\",\"marker\":{\"colorbar\":{\"outlinewidth\":0,\"ticks\":\"\"}}}],\"bar\":[{\"error_x\":{\"color\":\"#2a3f5f\"},\"error_y\":{\"color\":\"#2a3f5f\"},\"marker\":{\"line\":{\"color\":\"#E5ECF6\",\"width\":0.5},\"pattern\":{\"fillmode\":\"overlay\",\"size\":10,\"solidity\":0.2}},\"type\":\"bar\"}],\"scattergeo\":[{\"type\":\"scattergeo\",\"marker\":{\"colorbar\":{\"outlinewidth\":0,\"ticks\":\"\"}}}],\"scatterpolar\":[{\"type\":\"scatterpolar\",\"marker\":{\"colorbar\":{\"outlinewidth\":0,\"ticks\":\"\"}}}],\"histogram\":[{\"marker\":{\"pattern\":{\"fillmode\":\"overlay\",\"size\":10,\"solidity\":0.2}},\"type\":\"histogram\"}],\"scattergl\":[{\"type\":\"scattergl\",\"marker\":{\"colorbar\":{\"outlinewidth\":0,\"ticks\":\"\"}}}],\"scatter3d\":[{\"type\":\"scatter3d\",\"line\":{\"colorbar\":{\"outlinewidth\":0,\"ticks\":\"\"}},\"marker\":{\"colorbar\":{\"outlinewidth\":0,\"ticks\":\"\"}}}],\"scattermapbox\":[{\"type\":\"scattermapbox\",\"marker\":{\"colorbar\":{\"outlinewidth\":0,\"ticks\":\"\"}}}],\"scatterternary\":[{\"type\":\"scatterternary\",\"marker\":{\"colorbar\":{\"outlinewidth\":0,\"ticks\":\"\"}}}],\"scattercarpet\":[{\"type\":\"scattercarpet\",\"marker\":{\"colorbar\":{\"outlinewidth\":0,\"ticks\":\"\"}}}],\"carpet\":[{\"aaxis\":{\"endlinecolor\":\"#2a3f5f\",\"gridcolor\":\"white\",\"linecolor\":\"white\",\"minorgridcolor\":\"white\",\"startlinecolor\":\"#2a3f5f\"},\"baxis\":{\"endlinecolor\":\"#2a3f5f\",\"gridcolor\":\"white\",\"linecolor\":\"white\",\"minorgridcolor\":\"white\",\"startlinecolor\":\"#2a3f5f\"},\"type\":\"carpet\"}],\"table\":[{\"cells\":{\"fill\":{\"color\":\"#EBF0F8\"},\"line\":{\"color\":\"white\"}},\"header\":{\"fill\":{\"color\":\"#C8D4E3\"},\"line\":{\"color\":\"white\"}},\"type\":\"table\"}],\"barpolar\":[{\"marker\":{\"line\":{\"color\":\"#E5ECF6\",\"width\":0.5},\"pattern\":{\"fillmode\":\"overlay\",\"size\":10,\"solidity\":0.2}},\"type\":\"barpolar\"}],\"pie\":[{\"automargin\":true,\"type\":\"pie\"}]},\"layout\":{\"autotypenumbers\":\"strict\",\"colorway\":[\"#636efa\",\"#EF553B\",\"#00cc96\",\"#ab63fa\",\"#FFA15A\",\"#19d3f3\",\"#FF6692\",\"#B6E880\",\"#FF97FF\",\"#FECB52\"],\"font\":{\"color\":\"#2a3f5f\"},\"hovermode\":\"closest\",\"hoverlabel\":{\"align\":\"left\"},\"paper_bgcolor\":\"white\",\"plot_bgcolor\":\"#E5ECF6\",\"polar\":{\"bgcolor\":\"#E5ECF6\",\"angularaxis\":{\"gridcolor\":\"white\",\"linecolor\":\"white\",\"ticks\":\"\"},\"radialaxis\":{\"gridcolor\":\"white\",\"linecolor\":\"white\",\"ticks\":\"\"}},\"ternary\":{\"bgcolor\":\"#E5ECF6\",\"aaxis\":{\"gridcolor\":\"white\",\"linecolor\":\"white\",\"ticks\":\"\"},\"baxis\":{\"gridcolor\":\"white\",\"linecolor\":\"white\",\"ticks\":\"\"},\"caxis\":{\"gridcolor\":\"white\",\"linecolor\":\"white\",\"ticks\":\"\"}},\"coloraxis\":{\"colorbar\":{\"outlinewidth\":0,\"ticks\":\"\"}},\"colorscale\":{\"sequential\":[[0.0,\"#0d0887\"],[0.1111111111111111,\"#46039f\"],[0.2222222222222222,\"#7201a8\"],[0.3333333333333333,\"#9c179e\"],[0.4444444444444444,\"#bd3786\"],[0.5555555555555556,\"#d8576b\"],[0.6666666666666666,\"#ed7953\"],[0.7777777777777778,\"#fb9f3a\"],[0.8888888888888888,\"#fdca26\"],[1.0,\"#f0f921\"]],\"sequentialminus\":[[0.0,\"#0d0887\"],[0.1111111111111111,\"#46039f\"],[0.2222222222222222,\"#7201a8\"],[0.3333333333333333,\"#9c179e\"],[0.4444444444444444,\"#bd3786\"],[0.5555555555555556,\"#d8576b\"],[0.6666666666666666,\"#ed7953\"],[0.7777777777777778,\"#fb9f3a\"],[0.8888888888888888,\"#fdca26\"],[1.0,\"#f0f921\"]],\"diverging\":[[0,\"#8e0152\"],[0.1,\"#c51b7d\"],[0.2,\"#de77ae\"],[0.3,\"#f1b6da\"],[0.4,\"#fde0ef\"],[0.5,\"#f7f7f7\"],[0.6,\"#e6f5d0\"],[0.7,\"#b8e186\"],[0.8,\"#7fbc41\"],[0.9,\"#4d9221\"],[1,\"#276419\"]]},\"xaxis\":{\"gridcolor\":\"white\",\"linecolor\":\"white\",\"ticks\":\"\",\"title\":{\"standoff\":15},\"zerolinecolor\":\"white\",\"automargin\":true,\"zerolinewidth\":2},\"yaxis\":{\"gridcolor\":\"white\",\"linecolor\":\"white\",\"ticks\":\"\",\"title\":{\"standoff\":15},\"zerolinecolor\":\"white\",\"automargin\":true,\"zerolinewidth\":2},\"scene\":{\"xaxis\":{\"backgroundcolor\":\"#E5ECF6\",\"gridcolor\":\"white\",\"linecolor\":\"white\",\"showbackground\":true,\"ticks\":\"\",\"zerolinecolor\":\"white\",\"gridwidth\":2},\"yaxis\":{\"backgroundcolor\":\"#E5ECF6\",\"gridcolor\":\"white\",\"linecolor\":\"white\",\"showbackground\":true,\"ticks\":\"\",\"zerolinecolor\":\"white\",\"gridwidth\":2},\"zaxis\":{\"backgroundcolor\":\"#E5ECF6\",\"gridcolor\":\"white\",\"linecolor\":\"white\",\"showbackground\":true,\"ticks\":\"\",\"zerolinecolor\":\"white\",\"gridwidth\":2}},\"shapedefaults\":{\"line\":{\"color\":\"#2a3f5f\"}},\"annotationdefaults\":{\"arrowcolor\":\"#2a3f5f\",\"arrowhead\":0,\"arrowwidth\":1},\"geo\":{\"bgcolor\":\"white\",\"landcolor\":\"#E5ECF6\",\"subunitcolor\":\"white\",\"showland\":true,\"showlakes\":true,\"lakecolor\":\"white\"},\"title\":{\"x\":0.05},\"mapbox\":{\"style\":\"light\"}}},\"xaxis\":{\"anchor\":\"y\",\"domain\":[0.0,1.0],\"title\":{\"text\":\"Utarg\"}},\"yaxis\":{\"anchor\":\"x\",\"domain\":[0.0,1.0],\"title\":{\"text\":\"count\"}},\"legend\":{\"tracegroupgap\":0},\"margin\":{\"t\":60},\"barmode\":\"relative\"},                        {\"responsive\": true}                    ).then(function(){\n",
       "                            \n",
       "var gd = document.getElementById('e0ba9509-894b-435c-b4fe-6ee9cccf2f6a');\n",
       "var x = new MutationObserver(function (mutations, observer) {{\n",
       "        var display = window.getComputedStyle(gd).display;\n",
       "        if (!display || display === 'none') {{\n",
       "            console.log([gd, 'removed!']);\n",
       "            Plotly.purge(gd);\n",
       "            observer.disconnect();\n",
       "        }}\n",
       "}});\n",
       "\n",
       "// Listen for the removal of the full notebook cells\n",
       "var notebookContainer = gd.closest('#notebook-container');\n",
       "if (notebookContainer) {{\n",
       "    x.observe(notebookContainer, {childList: true});\n",
       "}}\n",
       "\n",
       "// Listen for the clearing of the current output cell\n",
       "var outputEl = gd.closest('.output');\n",
       "if (outputEl) {{\n",
       "    x.observe(outputEl, {childList: true});\n",
       "}}\n",
       "\n",
       "                        })                };                });            </script>        </div>"
      ]
     },
     "metadata": {},
     "output_type": "display_data"
    },
    {
     "data": {
      "application/vnd.plotly.v1+json": {
       "config": {
        "plotlyServerURL": "https://plot.ly"
       },
       "data": [
        {
         "alignmentgroup": "True",
         "bingroup": "x",
         "hovertemplate": "Utarg=%{x}<br>count=%{y}<extra></extra>",
         "legendgroup": "",
         "marker": {
          "color": "#636efa",
          "pattern": {
           "shape": ""
          }
         },
         "name": "",
         "nbinsx": 10,
         "offsetgroup": "",
         "orientation": "v",
         "showlegend": false,
         "type": "histogram",
         "x": [
          440,
          1863.4,
          1552.6,
          654.06,
          3597.9,
          1444.8,
          556.62,
          2490.5,
          517.8,
          1119.9,
          1614.88,
          100.8,
          1504.65,
          448,
          584,
          1873.8,
          695.62,
          1176,
          346.56,
          3536.6,
          1101.2,
          642.2,
          1376,
          48,
          1456,
          2037.28,
          538.6,
          291.84,
          420,
          1200.8,
          1488.8,
          351,
          613.2,
          86.5,
          155.4,
          1414.8,
          1170.37,
          1743.36,
          3016,
          819,
          80.1,
          479.4,
          2169,
          497.52,
          1296,
          848.7,
          1887.6,
          121.6,
          1050.6,
          1420,
          2645,
          349.5,
          608,
          755,
          2708.8,
          1117.8,
          954.4,
          3741.3,
          498.5,
          424,
          88.8,
          1762,
          336,
          268.8,
          1614.8,
          182.4,
          2094.3,
          516.8,
          2835,
          288,
          240.4,
          1191.2,
          516,
          144,
          112,
          164.4,
          5275.71,
          1497,
          982,
          1810,
          1168,
          4578.43,
          1649,
          88.5,
          1786.88,
          877.2,
          144.8,
          2036.16,
          285.12,
          2467,
          934.5,
          3354,
          2436.18,
          352.6,
          1840.64,
          1584,
          2296,
          2924.8,
          1618.88,
          814.42,
          363.6,
          141.6,
          642.06,
          5398.72,
          136.3,
          8593.28,
          568.8,
          480,
          1106.4,
          1167.68,
          429.4,
          3471.68,
          7390.2,
          2046.24,
          1549.6,
          447.2,
          950,
          403.2,
          136,
          834.2,
          1689.78,
          2390.4,
          1117.6,
          72.96,
          9210.9,
          1366.4,
          459,
          338,
          399,
          863.6,
          103.2,
          863.28,
          1313.82,
          112,
          2900,
          899,
          2222.4,
          691.2,
          166,
          1058.4,
          1228.8,
          1832.8,
          2090.88,
          86.4,
          1440,
          2556.95,
          442,
          2122.92,
          1903.8,
          716.72,
          2505.6,
          1765.6,
          3063,
          3868.6,
          2713.5,
          855.01,
          1591.25,
          400,
          1830.78,
          1194,
          1622.4,
          319.2,
          802,
          966.8,
          334.8,
          2123.2,
          224.83,
          102.4,
          720,
          11188.4,
          1814.8,
          2097.6,
          1707.84,
          1194.27,
          49.8,
          1020,
          9194.56,
          360,
          338.2,
          651,
          192,
          1441.37,
          4899.2,
          1892.25,
          485,
          851.2,
          321.12,
          631.6,
          1994.52,
          393,
          454,
          1078,
          4924.13,
          1755,
          1792,
          517.44,
          1031.7,
          174.9,
          246.24,
          914.4,
          443.4,
          1838.2,
          425.12,
          3849.66,
          2018.5,
          407.7,
          331.2,
          2684,
          557.6,
          1584,
          3891,
          1659.2,
          176.1,
          1538.7,
          156,
          713.3,
          1609.28,
          2518,
          216,
          235.2,
          717.6,
          956.67,
          1820.8,
          1328,
          1036.8,
          230.4,
          1249.1,
          1505.18,
          180.48,
          558,
          471.2,
          10495.6,
          756,
          1472,
          147,
          668.8,
          386.2,
          1584,
          1272,
          889.7,
          1512,
          439.2,
          3163.2,
          259.5,
          851.2,
          608.4,
          912,
          278,
          190,
          1380.6,
          575,
          1412,
          523.26,
          149,
          816.3,
          2048.5,
          1388.5,
          147.9,
          415.8,
          749.06,
          240,
          136.8,
          4707.54,
          2550,
          525.3,
          1942,
          8623.45,
          9921.3,
          2381.05,
          352,
          4150.05,
          2314.2,
          200,
          225.5,
          2318.24,
          2444.31,
          3192.65,
          818.4,
          1151.4,
          1503,
          392.2,
          946,
          4180,
          110,
          796.35,
          2222.2,
          465.7,
          1940.85,
          1645,
          1823.8,
          139.8,
          355.5,
          10191.7,
          1946.52,
          469.11,
          1504.5,
          417.2,
          210,
          2812,
          1792.8,
          240.1,
          3554.27,
          683.3,
          1677.3,
          880.5,
          1546.3,
          1728.52,
          2944.4,
          835.2,
          1152.5,
          2142.9,
          520.41,
          1072.42,
          2844.5,
          488.7,
          965,
          1234.05,
          639.9,
          1761,
          2519,
          155,
          890,
          2465.25,
          550.59,
          1501.08,
          2082,
          764.3,
          2147.4,
          838.45,
          569,
          477,
          317.75,
          1013.74,
          310,
          330,
          2237.5,
          593.75,
          142.5,
          23.8,
          807.38,
          3120,
          72,
          1101,
          812.5,
          516.46,
          1994.4,
          565.5,
          4725,
          1180.88,
          718.08,
          2388.5,
          493,
          479.8,
          2285,
          48.75,
          1483,
          230.85,
          4109.69,
          1130.4,
          6475.4,
          1064,
          424,
          299.25,
          808,
          6375,
          353.2,
          464,
          120,
          4806.99,
          1402.5,
          2697.5,
          1260,
          57.5,
          758.5,
          560,
          1336.95,
          1393.24,
          479.75,
          1503.6,
          1185.75,
          450,
          2775.05,
          903.6,
          55.8,
          589,
          5510.59,
          4985.5,
          1326.22,
          629.5,
          2761.94,
          2720.05,
          500,
          708.75,
          2054,
          696,
          814.5,
          1371.8,
          1535,
          1446,
          636,
          372.37,
          1434,
          1779.2,
          397.8,
          318.84,
          1083.15,
          601.83,
          154.4,
          604.21,
          4371.6,
          4464.6,
          1227.02,
          1701,
          562.6,
          125,
          1930.4,
          1288.39,
          1295,
          4666.94,
          1536.8,
          625.27,
          570,
          2301.75,
          920.1,
          3815.25,
          412.35,
          45,
          1423,
          534.85,
          813.36,
          5256.5,
          660,
          1261.88,
          1287.4,
          375.5,
          63,
          1768,
          801.1,
          1404.45,
          4960.9,
          3160.6,
          472.5,
          862.5,
          10164.8,
          878,
          2071.2,
          4825,
          642,
          996,
          805.43,
          3436.45,
          114,
          1638.4,
          2864.5,
          330,
          2545,
          595.5,
          378,
          1893,
          1641,
          180.4,
          3424,
          93.5,
          4451.7,
          1233.48,
          2827.9,
          2205.75,
          1296,
          706,
          1270.75,
          3463,
          844.25,
          550,
          923.87,
          1570,
          468.45,
          638.5,
          287.8,
          655,
          1624.5,
          1296.75,
          1850,
          484.25,
          1890.5,
          360,
          1459,
          1498.35,
          536.4,
          997,
          139.8,
          52.35,
          240,
          1416,
          228,
          3118,
          319.2,
          736,
          4529.8,
          2311.7,
          1912.85,
          2196,
          1080,
          1590.56,
          1631.48,
          252,
          88,
          55.2,
          1948.5,
          1990,
          3082,
          1644.6,
          320,
          2917,
          507,
          4337,
          616,
          2286,
          1515.6,
          2310,
          28,
          1477,
          1684.27,
          236.25,
          344,
          3603.22,
          2030.4,
          868.75,
          228,
          6635.27,
          224,
          96.5,
          1335,
          720,
          975.88,
          12.5,
          1442.5,
          1488,
          387.5,
          1531.08,
          2622.76,
          731.5,
          3687,
          722.5,
          1829.76,
          399.85,
          191.1,
          314.76,
          2158,
          2341.36,
          420,
          446.6,
          1553.5,
          1468.93,
          3026.85,
          2942.81,
          1193.01,
          2278.4,
          2775,
          439.6,
          18.4,
          1411,
          140,
          187,
          852,
          1692.8,
          602.4,
          1788.45,
          40,
          8446.45,
          10952.84,
          833,
          477,
          1140,
          678,
          237.9,
          2826,
          250.8,
          1030.76,
          730,
          843,
          932,
          1764,
          1974,
          2684.4,
          475.11,
          906.93,
          1432.71,
          845.8,
          4705.5,
          1064.5,
          1938.38,
          827.55,
          211.2,
          4581,
          975,
          159,
          735,
          3812.7,
          1112,
          4931.92,
          931.5,
          967.82,
          629,
          2603,
          2984,
          625,
          2966.5,
          2227.89,
          660,
          2048.22,
          649,
          1078.69,
          519,
          3523.4,
          581,
          441.15,
          282,
          16387.5,
          1096.2,
          98.4,
          1920.6,
          1630,
          160,
          1979.23,
          2058.46,
          336.8,
          310,
          709.55,
          917,
          1955.13,
          1539,
          611.3,
          1500,
          150,
          892.64,
          36,
          1378.07,
          1209,
          3127.5,
          70,
          605,
          11380,
          860.1,
          368.93,
          2090,
          5502.11,
          2753.1,
          6379.4,
          750.5,
          10835.24,
          30,
          122.4,
          33.75,
          934.5,
          863.43,
          932.05,
          1924.25,
          342,
          427.5,
          108.5,
          663.1,
          670,
          452.9,
          858,
          6200.55,
          768.75,
          537.5,
          539.5,
          686.7,
          365.89,
          1447.5,
          1122.8,
          390,
          1936,
          742.5,
          748.8,
          1835.7,
          475.15,
          514.4,
          800,
          137.5,
          1174.75,
          2255.5,
          799.2,
          1788.63,
          920.6,
          500,
          619.5,
          456,
          644.8,
          2731.87,
          637.5,
          360,
          4011.75,
          560,
          711,
          1025.33,
          245,
          1407.5,
          220,
          2362.25,
          4422,
          110,
          458.74,
          471.2,
          4441.25,
          1659.53,
          74.4,
          677,
          1762.7,
          781,
          131.75,
          265.35,
          1119.9,
          3584,
          57.8,
          2052.5,
          848,
          1098.46,
          910.4,
          1408,
          108,
          224,
          1733.06,
          251.5,
          291.55,
          439,
          717.5,
          912,
          2233,
          1303.19,
          4813.5,
          248,
          15810,
          1014,
          720.9,
          1809.75,
          2023.38,
          2220,
          2772,
          3574.8,
          1353.6,
          4288.85,
          2296,
          69.6,
          4895.44,
          940.5,
          1196,
          560,
          1885,
          686,
          1197.95,
          903.75,
          2769,
          1811.1,
          326,
          295.38,
          586,
          329.69,
          2633.9,
          616.5,
          645,
          933.5,
          2825.3,
          361,
          243.18,
          622.35,
          491.5,
          6750,
          1575,
          632.4,
          6306.24,
          1500,
          1966.81,
          270,
          1030,
          877.72,
          2160,
          1286.8,
          12615.05,
          2393.5,
          8902.5,
          3232.8,
          539.4,
          1754.5,
          1692,
          60,
          732.6,
          1773,
          405.75,
          210,
          591.6,
          1485.8,
          817.87,
          525,
          1332,
          3055,
          3740,
          45
         ],
         "xaxis": "x",
         "yaxis": "y"
        }
       ],
       "layout": {
        "barmode": "relative",
        "legend": {
         "tracegroupgap": 0
        },
        "margin": {
         "t": 60
        },
        "template": {
         "data": {
          "bar": [
           {
            "error_x": {
             "color": "#2a3f5f"
            },
            "error_y": {
             "color": "#2a3f5f"
            },
            "marker": {
             "line": {
              "color": "#E5ECF6",
              "width": 0.5
             },
             "pattern": {
              "fillmode": "overlay",
              "size": 10,
              "solidity": 0.2
             }
            },
            "type": "bar"
           }
          ],
          "barpolar": [
           {
            "marker": {
             "line": {
              "color": "#E5ECF6",
              "width": 0.5
             },
             "pattern": {
              "fillmode": "overlay",
              "size": 10,
              "solidity": 0.2
             }
            },
            "type": "barpolar"
           }
          ],
          "carpet": [
           {
            "aaxis": {
             "endlinecolor": "#2a3f5f",
             "gridcolor": "white",
             "linecolor": "white",
             "minorgridcolor": "white",
             "startlinecolor": "#2a3f5f"
            },
            "baxis": {
             "endlinecolor": "#2a3f5f",
             "gridcolor": "white",
             "linecolor": "white",
             "minorgridcolor": "white",
             "startlinecolor": "#2a3f5f"
            },
            "type": "carpet"
           }
          ],
          "choropleth": [
           {
            "colorbar": {
             "outlinewidth": 0,
             "ticks": ""
            },
            "type": "choropleth"
           }
          ],
          "contour": [
           {
            "colorbar": {
             "outlinewidth": 0,
             "ticks": ""
            },
            "colorscale": [
             [
              0,
              "#0d0887"
             ],
             [
              0.1111111111111111,
              "#46039f"
             ],
             [
              0.2222222222222222,
              "#7201a8"
             ],
             [
              0.3333333333333333,
              "#9c179e"
             ],
             [
              0.4444444444444444,
              "#bd3786"
             ],
             [
              0.5555555555555556,
              "#d8576b"
             ],
             [
              0.6666666666666666,
              "#ed7953"
             ],
             [
              0.7777777777777778,
              "#fb9f3a"
             ],
             [
              0.8888888888888888,
              "#fdca26"
             ],
             [
              1,
              "#f0f921"
             ]
            ],
            "type": "contour"
           }
          ],
          "contourcarpet": [
           {
            "colorbar": {
             "outlinewidth": 0,
             "ticks": ""
            },
            "type": "contourcarpet"
           }
          ],
          "heatmap": [
           {
            "colorbar": {
             "outlinewidth": 0,
             "ticks": ""
            },
            "colorscale": [
             [
              0,
              "#0d0887"
             ],
             [
              0.1111111111111111,
              "#46039f"
             ],
             [
              0.2222222222222222,
              "#7201a8"
             ],
             [
              0.3333333333333333,
              "#9c179e"
             ],
             [
              0.4444444444444444,
              "#bd3786"
             ],
             [
              0.5555555555555556,
              "#d8576b"
             ],
             [
              0.6666666666666666,
              "#ed7953"
             ],
             [
              0.7777777777777778,
              "#fb9f3a"
             ],
             [
              0.8888888888888888,
              "#fdca26"
             ],
             [
              1,
              "#f0f921"
             ]
            ],
            "type": "heatmap"
           }
          ],
          "heatmapgl": [
           {
            "colorbar": {
             "outlinewidth": 0,
             "ticks": ""
            },
            "colorscale": [
             [
              0,
              "#0d0887"
             ],
             [
              0.1111111111111111,
              "#46039f"
             ],
             [
              0.2222222222222222,
              "#7201a8"
             ],
             [
              0.3333333333333333,
              "#9c179e"
             ],
             [
              0.4444444444444444,
              "#bd3786"
             ],
             [
              0.5555555555555556,
              "#d8576b"
             ],
             [
              0.6666666666666666,
              "#ed7953"
             ],
             [
              0.7777777777777778,
              "#fb9f3a"
             ],
             [
              0.8888888888888888,
              "#fdca26"
             ],
             [
              1,
              "#f0f921"
             ]
            ],
            "type": "heatmapgl"
           }
          ],
          "histogram": [
           {
            "marker": {
             "pattern": {
              "fillmode": "overlay",
              "size": 10,
              "solidity": 0.2
             }
            },
            "type": "histogram"
           }
          ],
          "histogram2d": [
           {
            "colorbar": {
             "outlinewidth": 0,
             "ticks": ""
            },
            "colorscale": [
             [
              0,
              "#0d0887"
             ],
             [
              0.1111111111111111,
              "#46039f"
             ],
             [
              0.2222222222222222,
              "#7201a8"
             ],
             [
              0.3333333333333333,
              "#9c179e"
             ],
             [
              0.4444444444444444,
              "#bd3786"
             ],
             [
              0.5555555555555556,
              "#d8576b"
             ],
             [
              0.6666666666666666,
              "#ed7953"
             ],
             [
              0.7777777777777778,
              "#fb9f3a"
             ],
             [
              0.8888888888888888,
              "#fdca26"
             ],
             [
              1,
              "#f0f921"
             ]
            ],
            "type": "histogram2d"
           }
          ],
          "histogram2dcontour": [
           {
            "colorbar": {
             "outlinewidth": 0,
             "ticks": ""
            },
            "colorscale": [
             [
              0,
              "#0d0887"
             ],
             [
              0.1111111111111111,
              "#46039f"
             ],
             [
              0.2222222222222222,
              "#7201a8"
             ],
             [
              0.3333333333333333,
              "#9c179e"
             ],
             [
              0.4444444444444444,
              "#bd3786"
             ],
             [
              0.5555555555555556,
              "#d8576b"
             ],
             [
              0.6666666666666666,
              "#ed7953"
             ],
             [
              0.7777777777777778,
              "#fb9f3a"
             ],
             [
              0.8888888888888888,
              "#fdca26"
             ],
             [
              1,
              "#f0f921"
             ]
            ],
            "type": "histogram2dcontour"
           }
          ],
          "mesh3d": [
           {
            "colorbar": {
             "outlinewidth": 0,
             "ticks": ""
            },
            "type": "mesh3d"
           }
          ],
          "parcoords": [
           {
            "line": {
             "colorbar": {
              "outlinewidth": 0,
              "ticks": ""
             }
            },
            "type": "parcoords"
           }
          ],
          "pie": [
           {
            "automargin": true,
            "type": "pie"
           }
          ],
          "scatter": [
           {
            "fillpattern": {
             "fillmode": "overlay",
             "size": 10,
             "solidity": 0.2
            },
            "type": "scatter"
           }
          ],
          "scatter3d": [
           {
            "line": {
             "colorbar": {
              "outlinewidth": 0,
              "ticks": ""
             }
            },
            "marker": {
             "colorbar": {
              "outlinewidth": 0,
              "ticks": ""
             }
            },
            "type": "scatter3d"
           }
          ],
          "scattercarpet": [
           {
            "marker": {
             "colorbar": {
              "outlinewidth": 0,
              "ticks": ""
             }
            },
            "type": "scattercarpet"
           }
          ],
          "scattergeo": [
           {
            "marker": {
             "colorbar": {
              "outlinewidth": 0,
              "ticks": ""
             }
            },
            "type": "scattergeo"
           }
          ],
          "scattergl": [
           {
            "marker": {
             "colorbar": {
              "outlinewidth": 0,
              "ticks": ""
             }
            },
            "type": "scattergl"
           }
          ],
          "scattermapbox": [
           {
            "marker": {
             "colorbar": {
              "outlinewidth": 0,
              "ticks": ""
             }
            },
            "type": "scattermapbox"
           }
          ],
          "scatterpolar": [
           {
            "marker": {
             "colorbar": {
              "outlinewidth": 0,
              "ticks": ""
             }
            },
            "type": "scatterpolar"
           }
          ],
          "scatterpolargl": [
           {
            "marker": {
             "colorbar": {
              "outlinewidth": 0,
              "ticks": ""
             }
            },
            "type": "scatterpolargl"
           }
          ],
          "scatterternary": [
           {
            "marker": {
             "colorbar": {
              "outlinewidth": 0,
              "ticks": ""
             }
            },
            "type": "scatterternary"
           }
          ],
          "surface": [
           {
            "colorbar": {
             "outlinewidth": 0,
             "ticks": ""
            },
            "colorscale": [
             [
              0,
              "#0d0887"
             ],
             [
              0.1111111111111111,
              "#46039f"
             ],
             [
              0.2222222222222222,
              "#7201a8"
             ],
             [
              0.3333333333333333,
              "#9c179e"
             ],
             [
              0.4444444444444444,
              "#bd3786"
             ],
             [
              0.5555555555555556,
              "#d8576b"
             ],
             [
              0.6666666666666666,
              "#ed7953"
             ],
             [
              0.7777777777777778,
              "#fb9f3a"
             ],
             [
              0.8888888888888888,
              "#fdca26"
             ],
             [
              1,
              "#f0f921"
             ]
            ],
            "type": "surface"
           }
          ],
          "table": [
           {
            "cells": {
             "fill": {
              "color": "#EBF0F8"
             },
             "line": {
              "color": "white"
             }
            },
            "header": {
             "fill": {
              "color": "#C8D4E3"
             },
             "line": {
              "color": "white"
             }
            },
            "type": "table"
           }
          ]
         },
         "layout": {
          "annotationdefaults": {
           "arrowcolor": "#2a3f5f",
           "arrowhead": 0,
           "arrowwidth": 1
          },
          "autotypenumbers": "strict",
          "coloraxis": {
           "colorbar": {
            "outlinewidth": 0,
            "ticks": ""
           }
          },
          "colorscale": {
           "diverging": [
            [
             0,
             "#8e0152"
            ],
            [
             0.1,
             "#c51b7d"
            ],
            [
             0.2,
             "#de77ae"
            ],
            [
             0.3,
             "#f1b6da"
            ],
            [
             0.4,
             "#fde0ef"
            ],
            [
             0.5,
             "#f7f7f7"
            ],
            [
             0.6,
             "#e6f5d0"
            ],
            [
             0.7,
             "#b8e186"
            ],
            [
             0.8,
             "#7fbc41"
            ],
            [
             0.9,
             "#4d9221"
            ],
            [
             1,
             "#276419"
            ]
           ],
           "sequential": [
            [
             0,
             "#0d0887"
            ],
            [
             0.1111111111111111,
             "#46039f"
            ],
            [
             0.2222222222222222,
             "#7201a8"
            ],
            [
             0.3333333333333333,
             "#9c179e"
            ],
            [
             0.4444444444444444,
             "#bd3786"
            ],
            [
             0.5555555555555556,
             "#d8576b"
            ],
            [
             0.6666666666666666,
             "#ed7953"
            ],
            [
             0.7777777777777778,
             "#fb9f3a"
            ],
            [
             0.8888888888888888,
             "#fdca26"
            ],
            [
             1,
             "#f0f921"
            ]
           ],
           "sequentialminus": [
            [
             0,
             "#0d0887"
            ],
            [
             0.1111111111111111,
             "#46039f"
            ],
            [
             0.2222222222222222,
             "#7201a8"
            ],
            [
             0.3333333333333333,
             "#9c179e"
            ],
            [
             0.4444444444444444,
             "#bd3786"
            ],
            [
             0.5555555555555556,
             "#d8576b"
            ],
            [
             0.6666666666666666,
             "#ed7953"
            ],
            [
             0.7777777777777778,
             "#fb9f3a"
            ],
            [
             0.8888888888888888,
             "#fdca26"
            ],
            [
             1,
             "#f0f921"
            ]
           ]
          },
          "colorway": [
           "#636efa",
           "#EF553B",
           "#00cc96",
           "#ab63fa",
           "#FFA15A",
           "#19d3f3",
           "#FF6692",
           "#B6E880",
           "#FF97FF",
           "#FECB52"
          ],
          "font": {
           "color": "#2a3f5f"
          },
          "geo": {
           "bgcolor": "white",
           "lakecolor": "white",
           "landcolor": "#E5ECF6",
           "showlakes": true,
           "showland": true,
           "subunitcolor": "white"
          },
          "hoverlabel": {
           "align": "left"
          },
          "hovermode": "closest",
          "mapbox": {
           "style": "light"
          },
          "paper_bgcolor": "white",
          "plot_bgcolor": "#E5ECF6",
          "polar": {
           "angularaxis": {
            "gridcolor": "white",
            "linecolor": "white",
            "ticks": ""
           },
           "bgcolor": "#E5ECF6",
           "radialaxis": {
            "gridcolor": "white",
            "linecolor": "white",
            "ticks": ""
           }
          },
          "scene": {
           "xaxis": {
            "backgroundcolor": "#E5ECF6",
            "gridcolor": "white",
            "gridwidth": 2,
            "linecolor": "white",
            "showbackground": true,
            "ticks": "",
            "zerolinecolor": "white"
           },
           "yaxis": {
            "backgroundcolor": "#E5ECF6",
            "gridcolor": "white",
            "gridwidth": 2,
            "linecolor": "white",
            "showbackground": true,
            "ticks": "",
            "zerolinecolor": "white"
           },
           "zaxis": {
            "backgroundcolor": "#E5ECF6",
            "gridcolor": "white",
            "gridwidth": 2,
            "linecolor": "white",
            "showbackground": true,
            "ticks": "",
            "zerolinecolor": "white"
           }
          },
          "shapedefaults": {
           "line": {
            "color": "#2a3f5f"
           }
          },
          "ternary": {
           "aaxis": {
            "gridcolor": "white",
            "linecolor": "white",
            "ticks": ""
           },
           "baxis": {
            "gridcolor": "white",
            "linecolor": "white",
            "ticks": ""
           },
           "bgcolor": "#E5ECF6",
           "caxis": {
            "gridcolor": "white",
            "linecolor": "white",
            "ticks": ""
           }
          },
          "title": {
           "x": 0.05
          },
          "xaxis": {
           "automargin": true,
           "gridcolor": "white",
           "linecolor": "white",
           "ticks": "",
           "title": {
            "standoff": 15
           },
           "zerolinecolor": "white",
           "zerolinewidth": 2
          },
          "yaxis": {
           "automargin": true,
           "gridcolor": "white",
           "linecolor": "white",
           "ticks": "",
           "title": {
            "standoff": 15
           },
           "zerolinecolor": "white",
           "zerolinewidth": 2
          }
         }
        },
        "xaxis": {
         "anchor": "y",
         "domain": [
          0,
          1
         ],
         "title": {
          "text": "Utarg"
         }
        },
        "yaxis": {
         "anchor": "x",
         "domain": [
          0,
          1
         ],
         "title": {
          "text": "count"
         }
        }
       }
      },
      "text/html": [
       "<div>                            <div id=\"58febc29-8ba3-4ee3-a9ed-c44a4a722fd3\" class=\"plotly-graph-div\" style=\"height:525px; width:100%;\"></div>            <script type=\"text/javascript\">                require([\"plotly\"], function(Plotly) {                    window.PLOTLYENV=window.PLOTLYENV || {};                                    if (document.getElementById(\"58febc29-8ba3-4ee3-a9ed-c44a4a722fd3\")) {                    Plotly.newPlot(                        \"58febc29-8ba3-4ee3-a9ed-c44a4a722fd3\",                        [{\"alignmentgroup\":\"True\",\"bingroup\":\"x\",\"hovertemplate\":\"Utarg=%{x}<br>count=%{y}<extra></extra>\",\"legendgroup\":\"\",\"marker\":{\"color\":\"#636efa\",\"pattern\":{\"shape\":\"\"}},\"name\":\"\",\"nbinsx\":10,\"offsetgroup\":\"\",\"orientation\":\"v\",\"showlegend\":false,\"x\":[440.0,1863.4,1552.6,654.06,3597.9,1444.8,556.62,2490.5,517.8,1119.9,1614.88,100.8,1504.65,448.0,584.0,1873.8,695.62,1176.0,346.56,3536.6,1101.2,642.2,1376.0,48.0,1456.0,2037.28,538.6,291.84,420.0,1200.8,1488.8,351.0,613.2,86.5,155.4,1414.8,1170.37,1743.36,3016.0,819.0,80.1,479.4,2169.0,497.52,1296.0,848.7,1887.6,121.6,1050.6,1420.0,2645.0,349.5,608.0,755.0,2708.8,1117.8,954.4,3741.3,498.5,424.0,88.8,1762.0,336.0,268.8,1614.8,182.4,2094.3,516.8,2835.0,288.0,240.4,1191.2,516.0,144.0,112.0,164.4,5275.71,1497.0,982.0,1810.0,1168.0,4578.43,1649.0,88.5,1786.88,877.2,144.8,2036.16,285.12,2467.0,934.5,3354.0,2436.18,352.6,1840.64,1584.0,2296.0,2924.8,1618.88,814.42,363.6,141.6,642.06,5398.72,136.3,8593.28,568.8,480.0,1106.4,1167.68,429.4,3471.68,7390.2,2046.24,1549.6,447.2,950.0,403.2,136.0,834.2,1689.78,2390.4,1117.6,72.96,9210.9,1366.4,459.0,338.0,399.0,863.6,103.2,863.28,1313.82,112.0,2900.0,899.0,2222.4,691.2,166.0,1058.4,1228.8,1832.8,2090.88,86.4,1440.0,2556.95,442.0,2122.92,1903.8,716.72,2505.6,1765.6,3063.0,3868.6,2713.5,855.01,1591.25,400.0,1830.78,1194.0,1622.4,319.2,802.0,966.8,334.8,2123.2,224.83,102.4,720.0,11188.4,1814.8,2097.6,1707.84,1194.27,49.8,1020.0,9194.56,360.0,338.2,651.0,192.0,1441.37,4899.2,1892.25,485.0,851.2,321.12,631.6,1994.52,393.0,454.0,1078.0,4924.13,1755.0,1792.0,517.44,1031.7,174.9,246.24,914.4,443.4,1838.2,425.12,3849.66,2018.5,407.7,331.2,2684.0,557.6,1584.0,3891.0,1659.2,176.1,1538.7,156.0,713.3,1609.28,2518.0,216.0,235.2,717.6,956.67,1820.8,1328.0,1036.8,230.4,1249.1,1505.18,180.48,558.0,471.2,10495.6,756.0,1472.0,147.0,668.8,386.2,1584.0,1272.0,889.7,1512.0,439.2,3163.2,259.5,851.2,608.4,912.0,278.0,190.0,1380.6,575.0,1412.0,523.26,149.0,816.3,2048.5,1388.5,147.9,415.8,749.06,240.0,136.8,4707.54,2550.0,525.3,1942.0,8623.45,9921.3,2381.05,352.0,4150.05,2314.2,200.0,225.5,2318.24,2444.31,3192.65,818.4,1151.4,1503.0,392.2,946.0,4180.0,110.0,796.35,2222.2,465.7,1940.85,1645.0,1823.8,139.8,355.5,10191.7,1946.52,469.11,1504.5,417.2,210.0,2812.0,1792.8,240.1,3554.27,683.3,1677.3,880.5,1546.3,1728.52,2944.4,835.2,1152.5,2142.9,520.41,1072.42,2844.5,488.7,965.0,1234.05,639.9,1761.0,2519.0,155.0,890.0,2465.25,550.59,1501.08,2082.0,764.3,2147.4,838.45,569.0,477.0,317.75,1013.74,310.0,330.0,2237.5,593.75,142.5,23.8,807.38,3120.0,72.0,1101.0,812.5,516.46,1994.4,565.5,4725.0,1180.88,718.08,2388.5,493.0,479.8,2285.0,48.75,1483.0,230.85,4109.69,1130.4,6475.4,1064.0,424.0,299.25,808.0,6375.0,353.2,464.0,120.0,4806.99,1402.5,2697.5,1260.0,57.5,758.5,560.0,1336.95,1393.24,479.75,1503.6,1185.75,450.0,2775.05,903.6,55.8,589.0,5510.59,4985.5,1326.22,629.5,2761.94,2720.05,500.0,708.75,2054.0,696.0,814.5,1371.8,1535.0,1446.0,636.0,372.37,1434.0,1779.2,397.8,318.84,1083.15,601.83,154.4,604.21,4371.6,4464.6,1227.02,1701.0,562.6,125.0,1930.4,1288.39,1295.0,4666.94,1536.8,625.27,570.0,2301.75,920.1,3815.25,412.35,45.0,1423.0,534.85,813.36,5256.5,660.0,1261.88,1287.4,375.5,63.0,1768.0,801.1,1404.45,4960.9,3160.6,472.5,862.5,10164.8,878.0,2071.2,4825.0,642.0,996.0,805.43,3436.45,114.0,1638.4,2864.5,330.0,2545.0,595.5,378.0,1893.0,1641.0,180.4,3424.0,93.5,4451.7,1233.48,2827.9,2205.75,1296.0,706.0,1270.75,3463.0,844.25,550.0,923.87,1570.0,468.45,638.5,287.8,655.0,1624.5,1296.75,1850.0,484.25,1890.5,360.0,1459.0,1498.35,536.4,997.0,139.8,52.35,240.0,1416.0,228.0,3118.0,319.2,736.0,4529.8,2311.7,1912.85,2196.0,1080.0,1590.56,1631.48,252.0,88.0,55.2,1948.5,1990.0,3082.0,1644.6,320.0,2917.0,507.0,4337.0,616.0,2286.0,1515.6,2310.0,28.0,1477.0,1684.27,236.25,344.0,3603.22,2030.4,868.75,228.0,6635.27,224.0,96.5,1335.0,720.0,975.88,12.5,1442.5,1488.0,387.5,1531.08,2622.76,731.5,3687.0,722.5,1829.76,399.85,191.1,314.76,2158.0,2341.36,420.0,446.6,1553.5,1468.93,3026.85,2942.81,1193.01,2278.4,2775.0,439.6,18.4,1411.0,140.0,187.0,852.0,1692.8,602.4,1788.45,40.0,8446.45,10952.84,833.0,477.0,1140.0,678.0,237.9,2826.0,250.8,1030.76,730.0,843.0,932.0,1764.0,1974.0,2684.4,475.11,906.93,1432.71,845.8,4705.5,1064.5,1938.38,827.55,211.2,4581.0,975.0,159.0,735.0,3812.7,1112.0,4931.92,931.5,967.82,629.0,2603.0,2984.0,625.0,2966.5,2227.89,660.0,2048.22,649.0,1078.69,519.0,3523.4,581.0,441.15,282.0,16387.5,1096.2,98.4,1920.6,1630.0,160.0,1979.23,2058.46,336.8,310.0,709.55,917.0,1955.13,1539.0,611.3,1500.0,150.0,892.64,36.0,1378.07,1209.0,3127.5,70.0,605.0,11380.0,860.1,368.93,2090.0,5502.11,2753.1,6379.4,750.5,10835.24,30.0,122.4,33.75,934.5,863.43,932.05,1924.25,342.0,427.5,108.5,663.1,670.0,452.9,858.0,6200.55,768.75,537.5,539.5,686.7,365.89,1447.5,1122.8,390.0,1936.0,742.5,748.8,1835.7,475.15,514.4,800.0,137.5,1174.75,2255.5,799.2,1788.63,920.6,500.0,619.5,456.0,644.8,2731.87,637.5,360.0,4011.75,560.0,711.0,1025.33,245.0,1407.5,220.0,2362.25,4422.0,110.0,458.74,471.2,4441.25,1659.53,74.4,677.0,1762.7,781.0,131.75,265.35,1119.9,3584.0,57.8,2052.5,848.0,1098.46,910.4,1408.0,108.0,224.0,1733.06,251.5,291.55,439.0,717.5,912.0,2233.0,1303.19,4813.5,248.0,15810.0,1014.0,720.9,1809.75,2023.38,2220.0,2772.0,3574.8,1353.6,4288.85,2296.0,69.6,4895.44,940.5,1196.0,560.0,1885.0,686.0,1197.95,903.75,2769.0,1811.1,326.0,295.38,586.0,329.69,2633.9,616.5,645.0,933.5,2825.3,361.0,243.18,622.35,491.5,6750.0,1575.0,632.4,6306.24,1500.0,1966.81,270.0,1030.0,877.72,2160.0,1286.8,12615.05,2393.5,8902.5,3232.8,539.4,1754.5,1692.0,60.0,732.6,1773.0,405.75,210.0,591.6,1485.8,817.87,525.0,1332.0,3055.0,3740.0,45.0],\"xaxis\":\"x\",\"yaxis\":\"y\",\"type\":\"histogram\"}],                        {\"template\":{\"data\":{\"histogram2dcontour\":[{\"type\":\"histogram2dcontour\",\"colorbar\":{\"outlinewidth\":0,\"ticks\":\"\"},\"colorscale\":[[0.0,\"#0d0887\"],[0.1111111111111111,\"#46039f\"],[0.2222222222222222,\"#7201a8\"],[0.3333333333333333,\"#9c179e\"],[0.4444444444444444,\"#bd3786\"],[0.5555555555555556,\"#d8576b\"],[0.6666666666666666,\"#ed7953\"],[0.7777777777777778,\"#fb9f3a\"],[0.8888888888888888,\"#fdca26\"],[1.0,\"#f0f921\"]]}],\"choropleth\":[{\"type\":\"choropleth\",\"colorbar\":{\"outlinewidth\":0,\"ticks\":\"\"}}],\"histogram2d\":[{\"type\":\"histogram2d\",\"colorbar\":{\"outlinewidth\":0,\"ticks\":\"\"},\"colorscale\":[[0.0,\"#0d0887\"],[0.1111111111111111,\"#46039f\"],[0.2222222222222222,\"#7201a8\"],[0.3333333333333333,\"#9c179e\"],[0.4444444444444444,\"#bd3786\"],[0.5555555555555556,\"#d8576b\"],[0.6666666666666666,\"#ed7953\"],[0.7777777777777778,\"#fb9f3a\"],[0.8888888888888888,\"#fdca26\"],[1.0,\"#f0f921\"]]}],\"heatmap\":[{\"type\":\"heatmap\",\"colorbar\":{\"outlinewidth\":0,\"ticks\":\"\"},\"colorscale\":[[0.0,\"#0d0887\"],[0.1111111111111111,\"#46039f\"],[0.2222222222222222,\"#7201a8\"],[0.3333333333333333,\"#9c179e\"],[0.4444444444444444,\"#bd3786\"],[0.5555555555555556,\"#d8576b\"],[0.6666666666666666,\"#ed7953\"],[0.7777777777777778,\"#fb9f3a\"],[0.8888888888888888,\"#fdca26\"],[1.0,\"#f0f921\"]]}],\"heatmapgl\":[{\"type\":\"heatmapgl\",\"colorbar\":{\"outlinewidth\":0,\"ticks\":\"\"},\"colorscale\":[[0.0,\"#0d0887\"],[0.1111111111111111,\"#46039f\"],[0.2222222222222222,\"#7201a8\"],[0.3333333333333333,\"#9c179e\"],[0.4444444444444444,\"#bd3786\"],[0.5555555555555556,\"#d8576b\"],[0.6666666666666666,\"#ed7953\"],[0.7777777777777778,\"#fb9f3a\"],[0.8888888888888888,\"#fdca26\"],[1.0,\"#f0f921\"]]}],\"contourcarpet\":[{\"type\":\"contourcarpet\",\"colorbar\":{\"outlinewidth\":0,\"ticks\":\"\"}}],\"contour\":[{\"type\":\"contour\",\"colorbar\":{\"outlinewidth\":0,\"ticks\":\"\"},\"colorscale\":[[0.0,\"#0d0887\"],[0.1111111111111111,\"#46039f\"],[0.2222222222222222,\"#7201a8\"],[0.3333333333333333,\"#9c179e\"],[0.4444444444444444,\"#bd3786\"],[0.5555555555555556,\"#d8576b\"],[0.6666666666666666,\"#ed7953\"],[0.7777777777777778,\"#fb9f3a\"],[0.8888888888888888,\"#fdca26\"],[1.0,\"#f0f921\"]]}],\"surface\":[{\"type\":\"surface\",\"colorbar\":{\"outlinewidth\":0,\"ticks\":\"\"},\"colorscale\":[[0.0,\"#0d0887\"],[0.1111111111111111,\"#46039f\"],[0.2222222222222222,\"#7201a8\"],[0.3333333333333333,\"#9c179e\"],[0.4444444444444444,\"#bd3786\"],[0.5555555555555556,\"#d8576b\"],[0.6666666666666666,\"#ed7953\"],[0.7777777777777778,\"#fb9f3a\"],[0.8888888888888888,\"#fdca26\"],[1.0,\"#f0f921\"]]}],\"mesh3d\":[{\"type\":\"mesh3d\",\"colorbar\":{\"outlinewidth\":0,\"ticks\":\"\"}}],\"scatter\":[{\"fillpattern\":{\"fillmode\":\"overlay\",\"size\":10,\"solidity\":0.2},\"type\":\"scatter\"}],\"parcoords\":[{\"type\":\"parcoords\",\"line\":{\"colorbar\":{\"outlinewidth\":0,\"ticks\":\"\"}}}],\"scatterpolargl\":[{\"type\":\"scatterpolargl\",\"marker\":{\"colorbar\":{\"outlinewidth\":0,\"ticks\":\"\"}}}],\"bar\":[{\"error_x\":{\"color\":\"#2a3f5f\"},\"error_y\":{\"color\":\"#2a3f5f\"},\"marker\":{\"line\":{\"color\":\"#E5ECF6\",\"width\":0.5},\"pattern\":{\"fillmode\":\"overlay\",\"size\":10,\"solidity\":0.2}},\"type\":\"bar\"}],\"scattergeo\":[{\"type\":\"scattergeo\",\"marker\":{\"colorbar\":{\"outlinewidth\":0,\"ticks\":\"\"}}}],\"scatterpolar\":[{\"type\":\"scatterpolar\",\"marker\":{\"colorbar\":{\"outlinewidth\":0,\"ticks\":\"\"}}}],\"histogram\":[{\"marker\":{\"pattern\":{\"fillmode\":\"overlay\",\"size\":10,\"solidity\":0.2}},\"type\":\"histogram\"}],\"scattergl\":[{\"type\":\"scattergl\",\"marker\":{\"colorbar\":{\"outlinewidth\":0,\"ticks\":\"\"}}}],\"scatter3d\":[{\"type\":\"scatter3d\",\"line\":{\"colorbar\":{\"outlinewidth\":0,\"ticks\":\"\"}},\"marker\":{\"colorbar\":{\"outlinewidth\":0,\"ticks\":\"\"}}}],\"scattermapbox\":[{\"type\":\"scattermapbox\",\"marker\":{\"colorbar\":{\"outlinewidth\":0,\"ticks\":\"\"}}}],\"scatterternary\":[{\"type\":\"scatterternary\",\"marker\":{\"colorbar\":{\"outlinewidth\":0,\"ticks\":\"\"}}}],\"scattercarpet\":[{\"type\":\"scattercarpet\",\"marker\":{\"colorbar\":{\"outlinewidth\":0,\"ticks\":\"\"}}}],\"carpet\":[{\"aaxis\":{\"endlinecolor\":\"#2a3f5f\",\"gridcolor\":\"white\",\"linecolor\":\"white\",\"minorgridcolor\":\"white\",\"startlinecolor\":\"#2a3f5f\"},\"baxis\":{\"endlinecolor\":\"#2a3f5f\",\"gridcolor\":\"white\",\"linecolor\":\"white\",\"minorgridcolor\":\"white\",\"startlinecolor\":\"#2a3f5f\"},\"type\":\"carpet\"}],\"table\":[{\"cells\":{\"fill\":{\"color\":\"#EBF0F8\"},\"line\":{\"color\":\"white\"}},\"header\":{\"fill\":{\"color\":\"#C8D4E3\"},\"line\":{\"color\":\"white\"}},\"type\":\"table\"}],\"barpolar\":[{\"marker\":{\"line\":{\"color\":\"#E5ECF6\",\"width\":0.5},\"pattern\":{\"fillmode\":\"overlay\",\"size\":10,\"solidity\":0.2}},\"type\":\"barpolar\"}],\"pie\":[{\"automargin\":true,\"type\":\"pie\"}]},\"layout\":{\"autotypenumbers\":\"strict\",\"colorway\":[\"#636efa\",\"#EF553B\",\"#00cc96\",\"#ab63fa\",\"#FFA15A\",\"#19d3f3\",\"#FF6692\",\"#B6E880\",\"#FF97FF\",\"#FECB52\"],\"font\":{\"color\":\"#2a3f5f\"},\"hovermode\":\"closest\",\"hoverlabel\":{\"align\":\"left\"},\"paper_bgcolor\":\"white\",\"plot_bgcolor\":\"#E5ECF6\",\"polar\":{\"bgcolor\":\"#E5ECF6\",\"angularaxis\":{\"gridcolor\":\"white\",\"linecolor\":\"white\",\"ticks\":\"\"},\"radialaxis\":{\"gridcolor\":\"white\",\"linecolor\":\"white\",\"ticks\":\"\"}},\"ternary\":{\"bgcolor\":\"#E5ECF6\",\"aaxis\":{\"gridcolor\":\"white\",\"linecolor\":\"white\",\"ticks\":\"\"},\"baxis\":{\"gridcolor\":\"white\",\"linecolor\":\"white\",\"ticks\":\"\"},\"caxis\":{\"gridcolor\":\"white\",\"linecolor\":\"white\",\"ticks\":\"\"}},\"coloraxis\":{\"colorbar\":{\"outlinewidth\":0,\"ticks\":\"\"}},\"colorscale\":{\"sequential\":[[0.0,\"#0d0887\"],[0.1111111111111111,\"#46039f\"],[0.2222222222222222,\"#7201a8\"],[0.3333333333333333,\"#9c179e\"],[0.4444444444444444,\"#bd3786\"],[0.5555555555555556,\"#d8576b\"],[0.6666666666666666,\"#ed7953\"],[0.7777777777777778,\"#fb9f3a\"],[0.8888888888888888,\"#fdca26\"],[1.0,\"#f0f921\"]],\"sequentialminus\":[[0.0,\"#0d0887\"],[0.1111111111111111,\"#46039f\"],[0.2222222222222222,\"#7201a8\"],[0.3333333333333333,\"#9c179e\"],[0.4444444444444444,\"#bd3786\"],[0.5555555555555556,\"#d8576b\"],[0.6666666666666666,\"#ed7953\"],[0.7777777777777778,\"#fb9f3a\"],[0.8888888888888888,\"#fdca26\"],[1.0,\"#f0f921\"]],\"diverging\":[[0,\"#8e0152\"],[0.1,\"#c51b7d\"],[0.2,\"#de77ae\"],[0.3,\"#f1b6da\"],[0.4,\"#fde0ef\"],[0.5,\"#f7f7f7\"],[0.6,\"#e6f5d0\"],[0.7,\"#b8e186\"],[0.8,\"#7fbc41\"],[0.9,\"#4d9221\"],[1,\"#276419\"]]},\"xaxis\":{\"gridcolor\":\"white\",\"linecolor\":\"white\",\"ticks\":\"\",\"title\":{\"standoff\":15},\"zerolinecolor\":\"white\",\"automargin\":true,\"zerolinewidth\":2},\"yaxis\":{\"gridcolor\":\"white\",\"linecolor\":\"white\",\"ticks\":\"\",\"title\":{\"standoff\":15},\"zerolinecolor\":\"white\",\"automargin\":true,\"zerolinewidth\":2},\"scene\":{\"xaxis\":{\"backgroundcolor\":\"#E5ECF6\",\"gridcolor\":\"white\",\"linecolor\":\"white\",\"showbackground\":true,\"ticks\":\"\",\"zerolinecolor\":\"white\",\"gridwidth\":2},\"yaxis\":{\"backgroundcolor\":\"#E5ECF6\",\"gridcolor\":\"white\",\"linecolor\":\"white\",\"showbackground\":true,\"ticks\":\"\",\"zerolinecolor\":\"white\",\"gridwidth\":2},\"zaxis\":{\"backgroundcolor\":\"#E5ECF6\",\"gridcolor\":\"white\",\"linecolor\":\"white\",\"showbackground\":true,\"ticks\":\"\",\"zerolinecolor\":\"white\",\"gridwidth\":2}},\"shapedefaults\":{\"line\":{\"color\":\"#2a3f5f\"}},\"annotationdefaults\":{\"arrowcolor\":\"#2a3f5f\",\"arrowhead\":0,\"arrowwidth\":1},\"geo\":{\"bgcolor\":\"white\",\"landcolor\":\"#E5ECF6\",\"subunitcolor\":\"white\",\"showland\":true,\"showlakes\":true,\"lakecolor\":\"white\"},\"title\":{\"x\":0.05},\"mapbox\":{\"style\":\"light\"}}},\"xaxis\":{\"anchor\":\"y\",\"domain\":[0.0,1.0],\"title\":{\"text\":\"Utarg\"}},\"yaxis\":{\"anchor\":\"x\",\"domain\":[0.0,1.0],\"title\":{\"text\":\"count\"}},\"legend\":{\"tracegroupgap\":0},\"margin\":{\"t\":60},\"barmode\":\"relative\"},                        {\"responsive\": true}                    ).then(function(){\n",
       "                            \n",
       "var gd = document.getElementById('58febc29-8ba3-4ee3-a9ed-c44a4a722fd3');\n",
       "var x = new MutationObserver(function (mutations, observer) {{\n",
       "        var display = window.getComputedStyle(gd).display;\n",
       "        if (!display || display === 'none') {{\n",
       "            console.log([gd, 'removed!']);\n",
       "            Plotly.purge(gd);\n",
       "            observer.disconnect();\n",
       "        }}\n",
       "}});\n",
       "\n",
       "// Listen for the removal of the full notebook cells\n",
       "var notebookContainer = gd.closest('#notebook-container');\n",
       "if (notebookContainer) {{\n",
       "    x.observe(notebookContainer, {childList: true});\n",
       "}}\n",
       "\n",
       "// Listen for the clearing of the current output cell\n",
       "var outputEl = gd.closest('.output');\n",
       "if (outputEl) {{\n",
       "    x.observe(outputEl, {childList: true});\n",
       "}}\n",
       "\n",
       "                        })                };                });            </script>        </div>"
      ]
     },
     "metadata": {},
     "output_type": "display_data"
    },
    {
     "data": {
      "application/vnd.plotly.v1+json": {
       "config": {
        "plotlyServerURL": "https://plot.ly"
       },
       "data": [
        {
         "alignmentgroup": "True",
         "hovertemplate": "Utarg=%{x}<br>ilość=%{y}<extra></extra>",
         "legendgroup": "",
         "marker": {
          "color": "#636efa",
          "pattern": {
           "shape": ""
          }
         },
         "name": "",
         "offsetgroup": "",
         "orientation": "v",
         "showlegend": false,
         "textposition": "auto",
         "type": "bar",
         "x": [
          1000,
          3000,
          5000,
          7000,
          9000,
          11000,
          13000,
          15000,
          17000
         ],
         "xaxis": "x",
         "y": [
          619,
          123,
          32,
          8,
          7,
          7,
          1,
          1,
          1
         ],
         "yaxis": "y"
        }
       ],
       "layout": {
        "bargap": 0.2,
        "barmode": "relative",
        "legend": {
         "tracegroupgap": 0
        },
        "margin": {
         "t": 60
        },
        "template": {
         "data": {
          "bar": [
           {
            "error_x": {
             "color": "#2a3f5f"
            },
            "error_y": {
             "color": "#2a3f5f"
            },
            "marker": {
             "line": {
              "color": "#E5ECF6",
              "width": 0.5
             },
             "pattern": {
              "fillmode": "overlay",
              "size": 10,
              "solidity": 0.2
             }
            },
            "type": "bar"
           }
          ],
          "barpolar": [
           {
            "marker": {
             "line": {
              "color": "#E5ECF6",
              "width": 0.5
             },
             "pattern": {
              "fillmode": "overlay",
              "size": 10,
              "solidity": 0.2
             }
            },
            "type": "barpolar"
           }
          ],
          "carpet": [
           {
            "aaxis": {
             "endlinecolor": "#2a3f5f",
             "gridcolor": "white",
             "linecolor": "white",
             "minorgridcolor": "white",
             "startlinecolor": "#2a3f5f"
            },
            "baxis": {
             "endlinecolor": "#2a3f5f",
             "gridcolor": "white",
             "linecolor": "white",
             "minorgridcolor": "white",
             "startlinecolor": "#2a3f5f"
            },
            "type": "carpet"
           }
          ],
          "choropleth": [
           {
            "colorbar": {
             "outlinewidth": 0,
             "ticks": ""
            },
            "type": "choropleth"
           }
          ],
          "contour": [
           {
            "colorbar": {
             "outlinewidth": 0,
             "ticks": ""
            },
            "colorscale": [
             [
              0,
              "#0d0887"
             ],
             [
              0.1111111111111111,
              "#46039f"
             ],
             [
              0.2222222222222222,
              "#7201a8"
             ],
             [
              0.3333333333333333,
              "#9c179e"
             ],
             [
              0.4444444444444444,
              "#bd3786"
             ],
             [
              0.5555555555555556,
              "#d8576b"
             ],
             [
              0.6666666666666666,
              "#ed7953"
             ],
             [
              0.7777777777777778,
              "#fb9f3a"
             ],
             [
              0.8888888888888888,
              "#fdca26"
             ],
             [
              1,
              "#f0f921"
             ]
            ],
            "type": "contour"
           }
          ],
          "contourcarpet": [
           {
            "colorbar": {
             "outlinewidth": 0,
             "ticks": ""
            },
            "type": "contourcarpet"
           }
          ],
          "heatmap": [
           {
            "colorbar": {
             "outlinewidth": 0,
             "ticks": ""
            },
            "colorscale": [
             [
              0,
              "#0d0887"
             ],
             [
              0.1111111111111111,
              "#46039f"
             ],
             [
              0.2222222222222222,
              "#7201a8"
             ],
             [
              0.3333333333333333,
              "#9c179e"
             ],
             [
              0.4444444444444444,
              "#bd3786"
             ],
             [
              0.5555555555555556,
              "#d8576b"
             ],
             [
              0.6666666666666666,
              "#ed7953"
             ],
             [
              0.7777777777777778,
              "#fb9f3a"
             ],
             [
              0.8888888888888888,
              "#fdca26"
             ],
             [
              1,
              "#f0f921"
             ]
            ],
            "type": "heatmap"
           }
          ],
          "heatmapgl": [
           {
            "colorbar": {
             "outlinewidth": 0,
             "ticks": ""
            },
            "colorscale": [
             [
              0,
              "#0d0887"
             ],
             [
              0.1111111111111111,
              "#46039f"
             ],
             [
              0.2222222222222222,
              "#7201a8"
             ],
             [
              0.3333333333333333,
              "#9c179e"
             ],
             [
              0.4444444444444444,
              "#bd3786"
             ],
             [
              0.5555555555555556,
              "#d8576b"
             ],
             [
              0.6666666666666666,
              "#ed7953"
             ],
             [
              0.7777777777777778,
              "#fb9f3a"
             ],
             [
              0.8888888888888888,
              "#fdca26"
             ],
             [
              1,
              "#f0f921"
             ]
            ],
            "type": "heatmapgl"
           }
          ],
          "histogram": [
           {
            "marker": {
             "pattern": {
              "fillmode": "overlay",
              "size": 10,
              "solidity": 0.2
             }
            },
            "type": "histogram"
           }
          ],
          "histogram2d": [
           {
            "colorbar": {
             "outlinewidth": 0,
             "ticks": ""
            },
            "colorscale": [
             [
              0,
              "#0d0887"
             ],
             [
              0.1111111111111111,
              "#46039f"
             ],
             [
              0.2222222222222222,
              "#7201a8"
             ],
             [
              0.3333333333333333,
              "#9c179e"
             ],
             [
              0.4444444444444444,
              "#bd3786"
             ],
             [
              0.5555555555555556,
              "#d8576b"
             ],
             [
              0.6666666666666666,
              "#ed7953"
             ],
             [
              0.7777777777777778,
              "#fb9f3a"
             ],
             [
              0.8888888888888888,
              "#fdca26"
             ],
             [
              1,
              "#f0f921"
             ]
            ],
            "type": "histogram2d"
           }
          ],
          "histogram2dcontour": [
           {
            "colorbar": {
             "outlinewidth": 0,
             "ticks": ""
            },
            "colorscale": [
             [
              0,
              "#0d0887"
             ],
             [
              0.1111111111111111,
              "#46039f"
             ],
             [
              0.2222222222222222,
              "#7201a8"
             ],
             [
              0.3333333333333333,
              "#9c179e"
             ],
             [
              0.4444444444444444,
              "#bd3786"
             ],
             [
              0.5555555555555556,
              "#d8576b"
             ],
             [
              0.6666666666666666,
              "#ed7953"
             ],
             [
              0.7777777777777778,
              "#fb9f3a"
             ],
             [
              0.8888888888888888,
              "#fdca26"
             ],
             [
              1,
              "#f0f921"
             ]
            ],
            "type": "histogram2dcontour"
           }
          ],
          "mesh3d": [
           {
            "colorbar": {
             "outlinewidth": 0,
             "ticks": ""
            },
            "type": "mesh3d"
           }
          ],
          "parcoords": [
           {
            "line": {
             "colorbar": {
              "outlinewidth": 0,
              "ticks": ""
             }
            },
            "type": "parcoords"
           }
          ],
          "pie": [
           {
            "automargin": true,
            "type": "pie"
           }
          ],
          "scatter": [
           {
            "fillpattern": {
             "fillmode": "overlay",
             "size": 10,
             "solidity": 0.2
            },
            "type": "scatter"
           }
          ],
          "scatter3d": [
           {
            "line": {
             "colorbar": {
              "outlinewidth": 0,
              "ticks": ""
             }
            },
            "marker": {
             "colorbar": {
              "outlinewidth": 0,
              "ticks": ""
             }
            },
            "type": "scatter3d"
           }
          ],
          "scattercarpet": [
           {
            "marker": {
             "colorbar": {
              "outlinewidth": 0,
              "ticks": ""
             }
            },
            "type": "scattercarpet"
           }
          ],
          "scattergeo": [
           {
            "marker": {
             "colorbar": {
              "outlinewidth": 0,
              "ticks": ""
             }
            },
            "type": "scattergeo"
           }
          ],
          "scattergl": [
           {
            "marker": {
             "colorbar": {
              "outlinewidth": 0,
              "ticks": ""
             }
            },
            "type": "scattergl"
           }
          ],
          "scattermapbox": [
           {
            "marker": {
             "colorbar": {
              "outlinewidth": 0,
              "ticks": ""
             }
            },
            "type": "scattermapbox"
           }
          ],
          "scatterpolar": [
           {
            "marker": {
             "colorbar": {
              "outlinewidth": 0,
              "ticks": ""
             }
            },
            "type": "scatterpolar"
           }
          ],
          "scatterpolargl": [
           {
            "marker": {
             "colorbar": {
              "outlinewidth": 0,
              "ticks": ""
             }
            },
            "type": "scatterpolargl"
           }
          ],
          "scatterternary": [
           {
            "marker": {
             "colorbar": {
              "outlinewidth": 0,
              "ticks": ""
             }
            },
            "type": "scatterternary"
           }
          ],
          "surface": [
           {
            "colorbar": {
             "outlinewidth": 0,
             "ticks": ""
            },
            "colorscale": [
             [
              0,
              "#0d0887"
             ],
             [
              0.1111111111111111,
              "#46039f"
             ],
             [
              0.2222222222222222,
              "#7201a8"
             ],
             [
              0.3333333333333333,
              "#9c179e"
             ],
             [
              0.4444444444444444,
              "#bd3786"
             ],
             [
              0.5555555555555556,
              "#d8576b"
             ],
             [
              0.6666666666666666,
              "#ed7953"
             ],
             [
              0.7777777777777778,
              "#fb9f3a"
             ],
             [
              0.8888888888888888,
              "#fdca26"
             ],
             [
              1,
              "#f0f921"
             ]
            ],
            "type": "surface"
           }
          ],
          "table": [
           {
            "cells": {
             "fill": {
              "color": "#EBF0F8"
             },
             "line": {
              "color": "white"
             }
            },
            "header": {
             "fill": {
              "color": "#C8D4E3"
             },
             "line": {
              "color": "white"
             }
            },
            "type": "table"
           }
          ]
         },
         "layout": {
          "annotationdefaults": {
           "arrowcolor": "#2a3f5f",
           "arrowhead": 0,
           "arrowwidth": 1
          },
          "autotypenumbers": "strict",
          "coloraxis": {
           "colorbar": {
            "outlinewidth": 0,
            "ticks": ""
           }
          },
          "colorscale": {
           "diverging": [
            [
             0,
             "#8e0152"
            ],
            [
             0.1,
             "#c51b7d"
            ],
            [
             0.2,
             "#de77ae"
            ],
            [
             0.3,
             "#f1b6da"
            ],
            [
             0.4,
             "#fde0ef"
            ],
            [
             0.5,
             "#f7f7f7"
            ],
            [
             0.6,
             "#e6f5d0"
            ],
            [
             0.7,
             "#b8e186"
            ],
            [
             0.8,
             "#7fbc41"
            ],
            [
             0.9,
             "#4d9221"
            ],
            [
             1,
             "#276419"
            ]
           ],
           "sequential": [
            [
             0,
             "#0d0887"
            ],
            [
             0.1111111111111111,
             "#46039f"
            ],
            [
             0.2222222222222222,
             "#7201a8"
            ],
            [
             0.3333333333333333,
             "#9c179e"
            ],
            [
             0.4444444444444444,
             "#bd3786"
            ],
            [
             0.5555555555555556,
             "#d8576b"
            ],
            [
             0.6666666666666666,
             "#ed7953"
            ],
            [
             0.7777777777777778,
             "#fb9f3a"
            ],
            [
             0.8888888888888888,
             "#fdca26"
            ],
            [
             1,
             "#f0f921"
            ]
           ],
           "sequentialminus": [
            [
             0,
             "#0d0887"
            ],
            [
             0.1111111111111111,
             "#46039f"
            ],
            [
             0.2222222222222222,
             "#7201a8"
            ],
            [
             0.3333333333333333,
             "#9c179e"
            ],
            [
             0.4444444444444444,
             "#bd3786"
            ],
            [
             0.5555555555555556,
             "#d8576b"
            ],
            [
             0.6666666666666666,
             "#ed7953"
            ],
            [
             0.7777777777777778,
             "#fb9f3a"
            ],
            [
             0.8888888888888888,
             "#fdca26"
            ],
            [
             1,
             "#f0f921"
            ]
           ]
          },
          "colorway": [
           "#636efa",
           "#EF553B",
           "#00cc96",
           "#ab63fa",
           "#FFA15A",
           "#19d3f3",
           "#FF6692",
           "#B6E880",
           "#FF97FF",
           "#FECB52"
          ],
          "font": {
           "color": "#2a3f5f"
          },
          "geo": {
           "bgcolor": "white",
           "lakecolor": "white",
           "landcolor": "#E5ECF6",
           "showlakes": true,
           "showland": true,
           "subunitcolor": "white"
          },
          "hoverlabel": {
           "align": "left"
          },
          "hovermode": "closest",
          "mapbox": {
           "style": "light"
          },
          "paper_bgcolor": "white",
          "plot_bgcolor": "#E5ECF6",
          "polar": {
           "angularaxis": {
            "gridcolor": "white",
            "linecolor": "white",
            "ticks": ""
           },
           "bgcolor": "#E5ECF6",
           "radialaxis": {
            "gridcolor": "white",
            "linecolor": "white",
            "ticks": ""
           }
          },
          "scene": {
           "xaxis": {
            "backgroundcolor": "#E5ECF6",
            "gridcolor": "white",
            "gridwidth": 2,
            "linecolor": "white",
            "showbackground": true,
            "ticks": "",
            "zerolinecolor": "white"
           },
           "yaxis": {
            "backgroundcolor": "#E5ECF6",
            "gridcolor": "white",
            "gridwidth": 2,
            "linecolor": "white",
            "showbackground": true,
            "ticks": "",
            "zerolinecolor": "white"
           },
           "zaxis": {
            "backgroundcolor": "#E5ECF6",
            "gridcolor": "white",
            "gridwidth": 2,
            "linecolor": "white",
            "showbackground": true,
            "ticks": "",
            "zerolinecolor": "white"
           }
          },
          "shapedefaults": {
           "line": {
            "color": "#2a3f5f"
           }
          },
          "ternary": {
           "aaxis": {
            "gridcolor": "white",
            "linecolor": "white",
            "ticks": ""
           },
           "baxis": {
            "gridcolor": "white",
            "linecolor": "white",
            "ticks": ""
           },
           "bgcolor": "#E5ECF6",
           "caxis": {
            "gridcolor": "white",
            "linecolor": "white",
            "ticks": ""
           }
          },
          "title": {
           "x": 0.05
          },
          "xaxis": {
           "automargin": true,
           "gridcolor": "white",
           "linecolor": "white",
           "ticks": "",
           "title": {
            "standoff": 15
           },
           "zerolinecolor": "white",
           "zerolinewidth": 2
          },
          "yaxis": {
           "automargin": true,
           "gridcolor": "white",
           "linecolor": "white",
           "ticks": "",
           "title": {
            "standoff": 15
           },
           "zerolinecolor": "white",
           "zerolinewidth": 2
          }
         }
        },
        "xaxis": {
         "anchor": "y",
         "domain": [
          0,
          1
         ],
         "title": {
          "text": "Utarg"
         }
        },
        "yaxis": {
         "anchor": "x",
         "domain": [
          0,
          1
         ],
         "title": {
          "text": "ilość"
         }
        }
       }
      },
      "text/html": [
       "<div>                            <div id=\"b85c874d-6054-4459-ba7b-209b15155ccd\" class=\"plotly-graph-div\" style=\"height:525px; width:100%;\"></div>            <script type=\"text/javascript\">                require([\"plotly\"], function(Plotly) {                    window.PLOTLYENV=window.PLOTLYENV || {};                                    if (document.getElementById(\"b85c874d-6054-4459-ba7b-209b15155ccd\")) {                    Plotly.newPlot(                        \"b85c874d-6054-4459-ba7b-209b15155ccd\",                        [{\"alignmentgroup\":\"True\",\"hovertemplate\":\"Utarg=%{x}<br>ilo\\u015b\\u0107=%{y}<extra></extra>\",\"legendgroup\":\"\",\"marker\":{\"color\":\"#636efa\",\"pattern\":{\"shape\":\"\"}},\"name\":\"\",\"offsetgroup\":\"\",\"orientation\":\"v\",\"showlegend\":false,\"textposition\":\"auto\",\"x\":[1000.0,3000.0,5000.0,7000.0,9000.0,11000.0,13000.0,15000.0,17000.0],\"xaxis\":\"x\",\"y\":[619,123,32,8,7,7,1,1,1],\"yaxis\":\"y\",\"type\":\"bar\"}],                        {\"template\":{\"data\":{\"histogram2dcontour\":[{\"type\":\"histogram2dcontour\",\"colorbar\":{\"outlinewidth\":0,\"ticks\":\"\"},\"colorscale\":[[0.0,\"#0d0887\"],[0.1111111111111111,\"#46039f\"],[0.2222222222222222,\"#7201a8\"],[0.3333333333333333,\"#9c179e\"],[0.4444444444444444,\"#bd3786\"],[0.5555555555555556,\"#d8576b\"],[0.6666666666666666,\"#ed7953\"],[0.7777777777777778,\"#fb9f3a\"],[0.8888888888888888,\"#fdca26\"],[1.0,\"#f0f921\"]]}],\"choropleth\":[{\"type\":\"choropleth\",\"colorbar\":{\"outlinewidth\":0,\"ticks\":\"\"}}],\"histogram2d\":[{\"type\":\"histogram2d\",\"colorbar\":{\"outlinewidth\":0,\"ticks\":\"\"},\"colorscale\":[[0.0,\"#0d0887\"],[0.1111111111111111,\"#46039f\"],[0.2222222222222222,\"#7201a8\"],[0.3333333333333333,\"#9c179e\"],[0.4444444444444444,\"#bd3786\"],[0.5555555555555556,\"#d8576b\"],[0.6666666666666666,\"#ed7953\"],[0.7777777777777778,\"#fb9f3a\"],[0.8888888888888888,\"#fdca26\"],[1.0,\"#f0f921\"]]}],\"heatmap\":[{\"type\":\"heatmap\",\"colorbar\":{\"outlinewidth\":0,\"ticks\":\"\"},\"colorscale\":[[0.0,\"#0d0887\"],[0.1111111111111111,\"#46039f\"],[0.2222222222222222,\"#7201a8\"],[0.3333333333333333,\"#9c179e\"],[0.4444444444444444,\"#bd3786\"],[0.5555555555555556,\"#d8576b\"],[0.6666666666666666,\"#ed7953\"],[0.7777777777777778,\"#fb9f3a\"],[0.8888888888888888,\"#fdca26\"],[1.0,\"#f0f921\"]]}],\"heatmapgl\":[{\"type\":\"heatmapgl\",\"colorbar\":{\"outlinewidth\":0,\"ticks\":\"\"},\"colorscale\":[[0.0,\"#0d0887\"],[0.1111111111111111,\"#46039f\"],[0.2222222222222222,\"#7201a8\"],[0.3333333333333333,\"#9c179e\"],[0.4444444444444444,\"#bd3786\"],[0.5555555555555556,\"#d8576b\"],[0.6666666666666666,\"#ed7953\"],[0.7777777777777778,\"#fb9f3a\"],[0.8888888888888888,\"#fdca26\"],[1.0,\"#f0f921\"]]}],\"contourcarpet\":[{\"type\":\"contourcarpet\",\"colorbar\":{\"outlinewidth\":0,\"ticks\":\"\"}}],\"contour\":[{\"type\":\"contour\",\"colorbar\":{\"outlinewidth\":0,\"ticks\":\"\"},\"colorscale\":[[0.0,\"#0d0887\"],[0.1111111111111111,\"#46039f\"],[0.2222222222222222,\"#7201a8\"],[0.3333333333333333,\"#9c179e\"],[0.4444444444444444,\"#bd3786\"],[0.5555555555555556,\"#d8576b\"],[0.6666666666666666,\"#ed7953\"],[0.7777777777777778,\"#fb9f3a\"],[0.8888888888888888,\"#fdca26\"],[1.0,\"#f0f921\"]]}],\"surface\":[{\"type\":\"surface\",\"colorbar\":{\"outlinewidth\":0,\"ticks\":\"\"},\"colorscale\":[[0.0,\"#0d0887\"],[0.1111111111111111,\"#46039f\"],[0.2222222222222222,\"#7201a8\"],[0.3333333333333333,\"#9c179e\"],[0.4444444444444444,\"#bd3786\"],[0.5555555555555556,\"#d8576b\"],[0.6666666666666666,\"#ed7953\"],[0.7777777777777778,\"#fb9f3a\"],[0.8888888888888888,\"#fdca26\"],[1.0,\"#f0f921\"]]}],\"mesh3d\":[{\"type\":\"mesh3d\",\"colorbar\":{\"outlinewidth\":0,\"ticks\":\"\"}}],\"scatter\":[{\"fillpattern\":{\"fillmode\":\"overlay\",\"size\":10,\"solidity\":0.2},\"type\":\"scatter\"}],\"parcoords\":[{\"type\":\"parcoords\",\"line\":{\"colorbar\":{\"outlinewidth\":0,\"ticks\":\"\"}}}],\"scatterpolargl\":[{\"type\":\"scatterpolargl\",\"marker\":{\"colorbar\":{\"outlinewidth\":0,\"ticks\":\"\"}}}],\"bar\":[{\"error_x\":{\"color\":\"#2a3f5f\"},\"error_y\":{\"color\":\"#2a3f5f\"},\"marker\":{\"line\":{\"color\":\"#E5ECF6\",\"width\":0.5},\"pattern\":{\"fillmode\":\"overlay\",\"size\":10,\"solidity\":0.2}},\"type\":\"bar\"}],\"scattergeo\":[{\"type\":\"scattergeo\",\"marker\":{\"colorbar\":{\"outlinewidth\":0,\"ticks\":\"\"}}}],\"scatterpolar\":[{\"type\":\"scatterpolar\",\"marker\":{\"colorbar\":{\"outlinewidth\":0,\"ticks\":\"\"}}}],\"histogram\":[{\"marker\":{\"pattern\":{\"fillmode\":\"overlay\",\"size\":10,\"solidity\":0.2}},\"type\":\"histogram\"}],\"scattergl\":[{\"type\":\"scattergl\",\"marker\":{\"colorbar\":{\"outlinewidth\":0,\"ticks\":\"\"}}}],\"scatter3d\":[{\"type\":\"scatter3d\",\"line\":{\"colorbar\":{\"outlinewidth\":0,\"ticks\":\"\"}},\"marker\":{\"colorbar\":{\"outlinewidth\":0,\"ticks\":\"\"}}}],\"scattermapbox\":[{\"type\":\"scattermapbox\",\"marker\":{\"colorbar\":{\"outlinewidth\":0,\"ticks\":\"\"}}}],\"scatterternary\":[{\"type\":\"scatterternary\",\"marker\":{\"colorbar\":{\"outlinewidth\":0,\"ticks\":\"\"}}}],\"scattercarpet\":[{\"type\":\"scattercarpet\",\"marker\":{\"colorbar\":{\"outlinewidth\":0,\"ticks\":\"\"}}}],\"carpet\":[{\"aaxis\":{\"endlinecolor\":\"#2a3f5f\",\"gridcolor\":\"white\",\"linecolor\":\"white\",\"minorgridcolor\":\"white\",\"startlinecolor\":\"#2a3f5f\"},\"baxis\":{\"endlinecolor\":\"#2a3f5f\",\"gridcolor\":\"white\",\"linecolor\":\"white\",\"minorgridcolor\":\"white\",\"startlinecolor\":\"#2a3f5f\"},\"type\":\"carpet\"}],\"table\":[{\"cells\":{\"fill\":{\"color\":\"#EBF0F8\"},\"line\":{\"color\":\"white\"}},\"header\":{\"fill\":{\"color\":\"#C8D4E3\"},\"line\":{\"color\":\"white\"}},\"type\":\"table\"}],\"barpolar\":[{\"marker\":{\"line\":{\"color\":\"#E5ECF6\",\"width\":0.5},\"pattern\":{\"fillmode\":\"overlay\",\"size\":10,\"solidity\":0.2}},\"type\":\"barpolar\"}],\"pie\":[{\"automargin\":true,\"type\":\"pie\"}]},\"layout\":{\"autotypenumbers\":\"strict\",\"colorway\":[\"#636efa\",\"#EF553B\",\"#00cc96\",\"#ab63fa\",\"#FFA15A\",\"#19d3f3\",\"#FF6692\",\"#B6E880\",\"#FF97FF\",\"#FECB52\"],\"font\":{\"color\":\"#2a3f5f\"},\"hovermode\":\"closest\",\"hoverlabel\":{\"align\":\"left\"},\"paper_bgcolor\":\"white\",\"plot_bgcolor\":\"#E5ECF6\",\"polar\":{\"bgcolor\":\"#E5ECF6\",\"angularaxis\":{\"gridcolor\":\"white\",\"linecolor\":\"white\",\"ticks\":\"\"},\"radialaxis\":{\"gridcolor\":\"white\",\"linecolor\":\"white\",\"ticks\":\"\"}},\"ternary\":{\"bgcolor\":\"#E5ECF6\",\"aaxis\":{\"gridcolor\":\"white\",\"linecolor\":\"white\",\"ticks\":\"\"},\"baxis\":{\"gridcolor\":\"white\",\"linecolor\":\"white\",\"ticks\":\"\"},\"caxis\":{\"gridcolor\":\"white\",\"linecolor\":\"white\",\"ticks\":\"\"}},\"coloraxis\":{\"colorbar\":{\"outlinewidth\":0,\"ticks\":\"\"}},\"colorscale\":{\"sequential\":[[0.0,\"#0d0887\"],[0.1111111111111111,\"#46039f\"],[0.2222222222222222,\"#7201a8\"],[0.3333333333333333,\"#9c179e\"],[0.4444444444444444,\"#bd3786\"],[0.5555555555555556,\"#d8576b\"],[0.6666666666666666,\"#ed7953\"],[0.7777777777777778,\"#fb9f3a\"],[0.8888888888888888,\"#fdca26\"],[1.0,\"#f0f921\"]],\"sequentialminus\":[[0.0,\"#0d0887\"],[0.1111111111111111,\"#46039f\"],[0.2222222222222222,\"#7201a8\"],[0.3333333333333333,\"#9c179e\"],[0.4444444444444444,\"#bd3786\"],[0.5555555555555556,\"#d8576b\"],[0.6666666666666666,\"#ed7953\"],[0.7777777777777778,\"#fb9f3a\"],[0.8888888888888888,\"#fdca26\"],[1.0,\"#f0f921\"]],\"diverging\":[[0,\"#8e0152\"],[0.1,\"#c51b7d\"],[0.2,\"#de77ae\"],[0.3,\"#f1b6da\"],[0.4,\"#fde0ef\"],[0.5,\"#f7f7f7\"],[0.6,\"#e6f5d0\"],[0.7,\"#b8e186\"],[0.8,\"#7fbc41\"],[0.9,\"#4d9221\"],[1,\"#276419\"]]},\"xaxis\":{\"gridcolor\":\"white\",\"linecolor\":\"white\",\"ticks\":\"\",\"title\":{\"standoff\":15},\"zerolinecolor\":\"white\",\"automargin\":true,\"zerolinewidth\":2},\"yaxis\":{\"gridcolor\":\"white\",\"linecolor\":\"white\",\"ticks\":\"\",\"title\":{\"standoff\":15},\"zerolinecolor\":\"white\",\"automargin\":true,\"zerolinewidth\":2},\"scene\":{\"xaxis\":{\"backgroundcolor\":\"#E5ECF6\",\"gridcolor\":\"white\",\"linecolor\":\"white\",\"showbackground\":true,\"ticks\":\"\",\"zerolinecolor\":\"white\",\"gridwidth\":2},\"yaxis\":{\"backgroundcolor\":\"#E5ECF6\",\"gridcolor\":\"white\",\"linecolor\":\"white\",\"showbackground\":true,\"ticks\":\"\",\"zerolinecolor\":\"white\",\"gridwidth\":2},\"zaxis\":{\"backgroundcolor\":\"#E5ECF6\",\"gridcolor\":\"white\",\"linecolor\":\"white\",\"showbackground\":true,\"ticks\":\"\",\"zerolinecolor\":\"white\",\"gridwidth\":2}},\"shapedefaults\":{\"line\":{\"color\":\"#2a3f5f\"}},\"annotationdefaults\":{\"arrowcolor\":\"#2a3f5f\",\"arrowhead\":0,\"arrowwidth\":1},\"geo\":{\"bgcolor\":\"white\",\"landcolor\":\"#E5ECF6\",\"subunitcolor\":\"white\",\"showland\":true,\"showlakes\":true,\"lakecolor\":\"white\"},\"title\":{\"x\":0.05},\"mapbox\":{\"style\":\"light\"}}},\"xaxis\":{\"anchor\":\"y\",\"domain\":[0.0,1.0],\"title\":{\"text\":\"Utarg\"}},\"yaxis\":{\"anchor\":\"x\",\"domain\":[0.0,1.0],\"title\":{\"text\":\"ilo\\u015b\\u0107\"}},\"legend\":{\"tracegroupgap\":0},\"margin\":{\"t\":60},\"barmode\":\"relative\",\"bargap\":0.2},                        {\"responsive\": true}                    ).then(function(){\n",
       "                            \n",
       "var gd = document.getElementById('b85c874d-6054-4459-ba7b-209b15155ccd');\n",
       "var x = new MutationObserver(function (mutations, observer) {{\n",
       "        var display = window.getComputedStyle(gd).display;\n",
       "        if (!display || display === 'none') {{\n",
       "            console.log([gd, 'removed!']);\n",
       "            Plotly.purge(gd);\n",
       "            observer.disconnect();\n",
       "        }}\n",
       "}});\n",
       "\n",
       "// Listen for the removal of the full notebook cells\n",
       "var notebookContainer = gd.closest('#notebook-container');\n",
       "if (notebookContainer) {{\n",
       "    x.observe(notebookContainer, {childList: true});\n",
       "}}\n",
       "\n",
       "// Listen for the clearing of the current output cell\n",
       "var outputEl = gd.closest('.output');\n",
       "if (outputEl) {{\n",
       "    x.observe(outputEl, {childList: true});\n",
       "}}\n",
       "\n",
       "                        })                };                });            </script>        </div>"
      ]
     },
     "metadata": {},
     "output_type": "display_data"
    },
    {
     "data": {
      "text/plain": [
       "(None, None, None)"
      ]
     },
     "execution_count": 4,
     "metadata": {},
     "output_type": "execute_result"
    }
   ],
   "source": [
    "import numpy as np\n",
    "\n",
    "# wartość bins ustalana może być automatycznie\n",
    "fig = px.histogram(df, x='Utarg')\n",
    "\n",
    "# lub arbitralnie na określoną ilość\n",
    "fig2 = px.histogram(df, x='Utarg', nbins=10)\n",
    "\n",
    "# lub w postaci z góry zdefiniowanych przedziałów (tu trzeba znać już rozkład danych, żeby nic nie zostało ucięte)\n",
    "# poniżej w przedziałach co 2000\n",
    "bins = range(0, int(max(df.Utarg))+2000, 2000)\n",
    "ilosc, bins = np.histogram(df.Utarg, bins=bins)\n",
    "# wartość każdego bina to średnia z przedziału\n",
    "bins = 0.5 * (bins[:-1] + bins[1:])\n",
    "fig3 = px.bar(x=bins, y=ilosc, labels={'x':'Utarg', 'y':'ilość'})\n",
    "fig3.update_layout(bargap=0.2)\n",
    "\n",
    "# wyświetlamy wszystkie wykresy\n",
    "fig.show(), fig2.show(), fig3.show()\n"
   ]
  },
  {
   "cell_type": "markdown",
   "metadata": {},
   "source": [
    "### 1.3 Mapa ciepła\n",
    "\n",
    "**Dokumentacja:** https://plotly.com/python/2D-Histogram/"
   ]
  },
  {
   "cell_type": "code",
   "execution_count": 5,
   "metadata": {},
   "outputs": [
    {
     "data": {
      "application/vnd.plotly.v1+json": {
       "config": {
        "plotlyServerURL": "https://plot.ly"
       },
       "data": [
        {
         "coloraxis": "coloraxis",
         "hovertemplate": "Utarg=%{x}<br>Sprzedawca=%{y}<br>count=%{z}<extra></extra>",
         "name": "",
         "texttemplate": "%{z}",
         "type": "histogram2d",
         "x": [
          440,
          1863.4,
          1552.6,
          654.06,
          3597.9,
          1444.8,
          556.62,
          2490.5,
          517.8,
          1119.9,
          1614.88,
          100.8,
          1504.65,
          448,
          584,
          1873.8,
          695.62,
          1176,
          346.56,
          3536.6,
          1101.2,
          642.2,
          1376,
          48,
          1456,
          2037.28,
          538.6,
          291.84,
          420,
          1200.8,
          1488.8,
          351,
          613.2,
          86.5,
          155.4,
          1414.8,
          1170.37,
          1743.36,
          3016,
          819,
          80.1,
          479.4,
          2169,
          497.52,
          1296,
          848.7,
          1887.6,
          121.6,
          1050.6,
          1420,
          2645,
          349.5,
          608,
          755,
          2708.8,
          1117.8,
          954.4,
          3741.3,
          498.5,
          424,
          88.8,
          1762,
          336,
          268.8,
          1614.8,
          182.4,
          2094.3,
          516.8,
          2835,
          288,
          240.4,
          1191.2,
          516,
          144,
          112,
          164.4,
          5275.71,
          1497,
          982,
          1810,
          1168,
          4578.43,
          1649,
          88.5,
          1786.88,
          877.2,
          144.8,
          2036.16,
          285.12,
          2467,
          934.5,
          3354,
          2436.18,
          352.6,
          1840.64,
          1584,
          2296,
          2924.8,
          1618.88,
          814.42,
          363.6,
          141.6,
          642.06,
          5398.72,
          136.3,
          8593.28,
          568.8,
          480,
          1106.4,
          1167.68,
          429.4,
          3471.68,
          7390.2,
          2046.24,
          1549.6,
          447.2,
          950,
          403.2,
          136,
          834.2,
          1689.78,
          2390.4,
          1117.6,
          72.96,
          9210.9,
          1366.4,
          459,
          338,
          399,
          863.6,
          103.2,
          863.28,
          1313.82,
          112,
          2900,
          899,
          2222.4,
          691.2,
          166,
          1058.4,
          1228.8,
          1832.8,
          2090.88,
          86.4,
          1440,
          2556.95,
          442,
          2122.92,
          1903.8,
          716.72,
          2505.6,
          1765.6,
          3063,
          3868.6,
          2713.5,
          855.01,
          1591.25,
          400,
          1830.78,
          1194,
          1622.4,
          319.2,
          802,
          966.8,
          334.8,
          2123.2,
          224.83,
          102.4,
          720,
          11188.4,
          1814.8,
          2097.6,
          1707.84,
          1194.27,
          49.8,
          1020,
          9194.56,
          360,
          338.2,
          651,
          192,
          1441.37,
          4899.2,
          1892.25,
          485,
          851.2,
          321.12,
          631.6,
          1994.52,
          393,
          454,
          1078,
          4924.13,
          1755,
          1792,
          517.44,
          1031.7,
          174.9,
          246.24,
          914.4,
          443.4,
          1838.2,
          425.12,
          3849.66,
          2018.5,
          407.7,
          331.2,
          2684,
          557.6,
          1584,
          3891,
          1659.2,
          176.1,
          1538.7,
          156,
          713.3,
          1609.28,
          2518,
          216,
          235.2,
          717.6,
          956.67,
          1820.8,
          1328,
          1036.8,
          230.4,
          1249.1,
          1505.18,
          180.48,
          558,
          471.2,
          10495.6,
          756,
          1472,
          147,
          668.8,
          386.2,
          1584,
          1272,
          889.7,
          1512,
          439.2,
          3163.2,
          259.5,
          851.2,
          608.4,
          912,
          278,
          190,
          1380.6,
          575,
          1412,
          523.26,
          149,
          816.3,
          2048.5,
          1388.5,
          147.9,
          415.8,
          749.06,
          240,
          136.8,
          4707.54,
          2550,
          525.3,
          1942,
          8623.45,
          9921.3,
          2381.05,
          352,
          4150.05,
          2314.2,
          200,
          225.5,
          2318.24,
          2444.31,
          3192.65,
          818.4,
          1151.4,
          1503,
          392.2,
          946,
          4180,
          110,
          796.35,
          2222.2,
          465.7,
          1940.85,
          1645,
          1823.8,
          139.8,
          355.5,
          10191.7,
          1946.52,
          469.11,
          1504.5,
          417.2,
          210,
          2812,
          1792.8,
          240.1,
          3554.27,
          683.3,
          1677.3,
          880.5,
          1546.3,
          1728.52,
          2944.4,
          835.2,
          1152.5,
          2142.9,
          520.41,
          1072.42,
          2844.5,
          488.7,
          965,
          1234.05,
          639.9,
          1761,
          2519,
          155,
          890,
          2465.25,
          550.59,
          1501.08,
          2082,
          764.3,
          2147.4,
          838.45,
          569,
          477,
          317.75,
          1013.74,
          310,
          330,
          2237.5,
          593.75,
          142.5,
          23.8,
          807.38,
          3120,
          72,
          1101,
          812.5,
          516.46,
          1994.4,
          565.5,
          4725,
          1180.88,
          718.08,
          2388.5,
          493,
          479.8,
          2285,
          48.75,
          1483,
          230.85,
          4109.69,
          1130.4,
          6475.4,
          1064,
          424,
          299.25,
          808,
          6375,
          353.2,
          464,
          120,
          4806.99,
          1402.5,
          2697.5,
          1260,
          57.5,
          758.5,
          560,
          1336.95,
          1393.24,
          479.75,
          1503.6,
          1185.75,
          450,
          2775.05,
          903.6,
          55.8,
          589,
          5510.59,
          4985.5,
          1326.22,
          629.5,
          2761.94,
          2720.05,
          500,
          708.75,
          2054,
          696,
          814.5,
          1371.8,
          1535,
          1446,
          636,
          372.37,
          1434,
          1779.2,
          397.8,
          318.84,
          1083.15,
          601.83,
          154.4,
          604.21,
          4371.6,
          4464.6,
          1227.02,
          1701,
          562.6,
          125,
          1930.4,
          1288.39,
          1295,
          4666.94,
          1536.8,
          625.27,
          570,
          2301.75,
          920.1,
          3815.25,
          412.35,
          45,
          1423,
          534.85,
          813.36,
          5256.5,
          660,
          1261.88,
          1287.4,
          375.5,
          63,
          1768,
          801.1,
          1404.45,
          4960.9,
          3160.6,
          472.5,
          862.5,
          10164.8,
          878,
          2071.2,
          4825,
          642,
          996,
          805.43,
          3436.45,
          114,
          1638.4,
          2864.5,
          330,
          2545,
          595.5,
          378,
          1893,
          1641,
          180.4,
          3424,
          93.5,
          4451.7,
          1233.48,
          2827.9,
          2205.75,
          1296,
          706,
          1270.75,
          3463,
          844.25,
          550,
          923.87,
          1570,
          468.45,
          638.5,
          287.8,
          655,
          1624.5,
          1296.75,
          1850,
          484.25,
          1890.5,
          360,
          1459,
          1498.35,
          536.4,
          997,
          139.8,
          52.35,
          240,
          1416,
          228,
          3118,
          319.2,
          736,
          4529.8,
          2311.7,
          1912.85,
          2196,
          1080,
          1590.56,
          1631.48,
          252,
          88,
          55.2,
          1948.5,
          1990,
          3082,
          1644.6,
          320,
          2917,
          507,
          4337,
          616,
          2286,
          1515.6,
          2310,
          28,
          1477,
          1684.27,
          236.25,
          344,
          3603.22,
          2030.4,
          868.75,
          228,
          6635.27,
          224,
          96.5,
          1335,
          720,
          975.88,
          12.5,
          1442.5,
          1488,
          387.5,
          1531.08,
          2622.76,
          731.5,
          3687,
          722.5,
          1829.76,
          399.85,
          191.1,
          314.76,
          2158,
          2341.36,
          420,
          446.6,
          1553.5,
          1468.93,
          3026.85,
          2942.81,
          1193.01,
          2278.4,
          2775,
          439.6,
          18.4,
          1411,
          140,
          187,
          852,
          1692.8,
          602.4,
          1788.45,
          40,
          8446.45,
          10952.84,
          833,
          477,
          1140,
          678,
          237.9,
          2826,
          250.8,
          1030.76,
          730,
          843,
          932,
          1764,
          1974,
          2684.4,
          475.11,
          906.93,
          1432.71,
          845.8,
          4705.5,
          1064.5,
          1938.38,
          827.55,
          211.2,
          4581,
          975,
          159,
          735,
          3812.7,
          1112,
          4931.92,
          931.5,
          967.82,
          629,
          2603,
          2984,
          625,
          2966.5,
          2227.89,
          660,
          2048.22,
          649,
          1078.69,
          519,
          3523.4,
          581,
          441.15,
          282,
          16387.5,
          1096.2,
          98.4,
          1920.6,
          1630,
          160,
          1979.23,
          2058.46,
          336.8,
          310,
          709.55,
          917,
          1955.13,
          1539,
          611.3,
          1500,
          150,
          892.64,
          36,
          1378.07,
          1209,
          3127.5,
          70,
          605,
          11380,
          860.1,
          368.93,
          2090,
          5502.11,
          2753.1,
          6379.4,
          750.5,
          10835.24,
          30,
          122.4,
          33.75,
          934.5,
          863.43,
          932.05,
          1924.25,
          342,
          427.5,
          108.5,
          663.1,
          670,
          452.9,
          858,
          6200.55,
          768.75,
          537.5,
          539.5,
          686.7,
          365.89,
          1447.5,
          1122.8,
          390,
          1936,
          742.5,
          748.8,
          1835.7,
          475.15,
          514.4,
          800,
          137.5,
          1174.75,
          2255.5,
          799.2,
          1788.63,
          920.6,
          500,
          619.5,
          456,
          644.8,
          2731.87,
          637.5,
          360,
          4011.75,
          560,
          711,
          1025.33,
          245,
          1407.5,
          220,
          2362.25,
          4422,
          110,
          458.74,
          471.2,
          4441.25,
          1659.53,
          74.4,
          677,
          1762.7,
          781,
          131.75,
          265.35,
          1119.9,
          3584,
          57.8,
          2052.5,
          848,
          1098.46,
          910.4,
          1408,
          108,
          224,
          1733.06,
          251.5,
          291.55,
          439,
          717.5,
          912,
          2233,
          1303.19,
          4813.5,
          248,
          15810,
          1014,
          720.9,
          1809.75,
          2023.38,
          2220,
          2772,
          3574.8,
          1353.6,
          4288.85,
          2296,
          69.6,
          4895.44,
          940.5,
          1196,
          560,
          1885,
          686,
          1197.95,
          903.75,
          2769,
          1811.1,
          326,
          295.38,
          586,
          329.69,
          2633.9,
          616.5,
          645,
          933.5,
          2825.3,
          361,
          243.18,
          622.35,
          491.5,
          6750,
          1575,
          632.4,
          6306.24,
          1500,
          1966.81,
          270,
          1030,
          877.72,
          2160,
          1286.8,
          12615.05,
          2393.5,
          8902.5,
          3232.8,
          539.4,
          1754.5,
          1692,
          60,
          732.6,
          1773,
          405.75,
          210,
          591.6,
          1485.8,
          817.87,
          525,
          1332,
          3055,
          3740,
          45
         ],
         "xaxis": "x",
         "xbingroup": "x",
         "y": [
          "Kowalski",
          "Sowiński",
          "Peacock",
          "Leverling",
          "Peacock",
          "Leverling",
          "Kowalski",
          "Dudek",
          "Leverling",
          "Peacock",
          "Davolio",
          "Peacock",
          "Peacock",
          "Peacock",
          "Callahan",
          "Dudek",
          "Sowiński",
          "Fuller",
          "Leverling",
          "Peacock",
          "Callahan",
          "Kowalski",
          "Davolio",
          "Sowiński",
          "Sowiński",
          "Leverling",
          "Sowiński",
          "Davolio",
          "Callahan",
          "Fuller",
          "Callahan",
          "Callahan",
          "Fuller",
          "Peacock",
          "Peacock",
          "Leverling",
          "Peacock",
          "Davolio",
          "Callahan",
          "Callahan",
          "Peacock",
          "King",
          "Callahan",
          "Sowiński",
          "Davolio",
          "Davolio",
          "Peacock",
          "Fuller",
          "Sowiński",
          "Kowalski",
          "Sowiński",
          "Peacock",
          "Fuller",
          "Callahan",
          "Peacock",
          "King",
          "Davolio",
          "Callahan",
          "Davolio",
          "Fuller",
          "King",
          "Leverling",
          "Callahan",
          "Davolio",
          "Fuller",
          "Fuller",
          "Davolio",
          "Peacock",
          "Davolio",
          "Sowiński",
          "Callahan",
          "King",
          "Kowalski",
          "Leverling",
          "King",
          "Peacock",
          "Dudek",
          "Davolio",
          "Peacock",
          "Fuller",
          "Peacock",
          "Peacock",
          "Leverling",
          "Dudek",
          "Leverling",
          "Kowalski",
          "Callahan",
          "King",
          "King",
          "Peacock",
          "Peacock",
          "Fuller",
          "Davolio",
          "King",
          "Peacock",
          "Peacock",
          "Peacock",
          "Fuller",
          "Leverling",
          "Peacock",
          "Peacock",
          "King",
          "Sowiński",
          "Davolio",
          "Leverling",
          "King",
          "Callahan",
          "Sowiński",
          "Sowiński",
          "Davolio",
          "Kowalski",
          "Kowalski",
          "Peacock",
          "Davolio",
          "Leverling",
          "Peacock",
          "Davolio",
          "Leverling",
          "Callahan",
          "King",
          "Fuller",
          "Callahan",
          "Sowiński",
          "Davolio",
          "Kowalski",
          "Peacock",
          "Davolio",
          "Leverling",
          "Davolio",
          "Davolio",
          "Kowalski",
          "Fuller",
          "Callahan",
          "Leverling",
          "Peacock",
          "Callahan",
          "Leverling",
          "Davolio",
          "Dudek",
          "Davolio",
          "Fuller",
          "Peacock",
          "Sowiński",
          "Leverling",
          "Fuller",
          "Davolio",
          "Davolio",
          "Sowiński",
          "Davolio",
          "Kowalski",
          "Fuller",
          "Callahan",
          "Davolio",
          "Davolio",
          "Callahan",
          "Peacock",
          "Fuller",
          "Davolio",
          "King",
          "Fuller",
          "Callahan",
          "Leverling",
          "Leverling",
          "Dudek",
          "Callahan",
          "Leverling",
          "Fuller",
          "Leverling",
          "Callahan",
          "Peacock",
          "Peacock",
          "Peacock",
          "Leverling",
          "Callahan",
          "Fuller",
          "Sowiński",
          "King",
          "Sowiński",
          "Peacock",
          "Peacock",
          "King",
          "Leverling",
          "Peacock",
          "Peacock",
          "Leverling",
          "Leverling",
          "Leverling",
          "Callahan",
          "Leverling",
          "Callahan",
          "Leverling",
          "Sowiński",
          "Peacock",
          "Leverling",
          "Leverling",
          "Callahan",
          "Leverling",
          "Leverling",
          "Sowiński",
          "Peacock",
          "Peacock",
          "Leverling",
          "Callahan",
          "Peacock",
          "Callahan",
          "Davolio",
          "Peacock",
          "Callahan",
          "Callahan",
          "Fuller",
          "King",
          "Peacock",
          "Callahan",
          "Davolio",
          "Fuller",
          "Kowalski",
          "Peacock",
          "Davolio",
          "Peacock",
          "Callahan",
          "Leverling",
          "Davolio",
          "Peacock",
          "Fuller",
          "Callahan",
          "Davolio",
          "Kowalski",
          "Dudek",
          "Callahan",
          "Kowalski",
          "Fuller",
          "Leverling",
          "Sowiński",
          "Callahan",
          "Davolio",
          "King",
          "Leverling",
          "Peacock",
          "Davolio",
          "Fuller",
          "Callahan",
          "Sowiński",
          "King",
          "Callahan",
          "Leverling",
          "Peacock",
          "Peacock",
          "Leverling",
          "King",
          "King",
          "Callahan",
          "Peacock",
          "Sowiński",
          "Dudek",
          "Fuller",
          "Sowiński",
          "Peacock",
          "Leverling",
          "Dudek",
          "King",
          "Davolio",
          "Peacock",
          "Sowiński",
          "Peacock",
          "King",
          "King",
          "Leverling",
          "Fuller",
          "Fuller",
          "Leverling",
          "Peacock",
          "Sowiński",
          "King",
          "Callahan",
          "Peacock",
          "King",
          "Davolio",
          "Davolio",
          "Peacock",
          "King",
          "Sowiński",
          "Kowalski",
          "Leverling",
          "King",
          "King",
          "Callahan",
          "Callahan",
          "Peacock",
          "Leverling",
          "Davolio",
          "Dudek",
          "Sowiński",
          "Leverling",
          "Fuller",
          "Davolio",
          "Callahan",
          "Peacock",
          "Callahan",
          "Davolio",
          "Leverling",
          "Leverling",
          "Kowalski",
          "King",
          "Peacock",
          "Fuller",
          "Fuller",
          "Peacock",
          "Sowiński",
          "Fuller",
          "Dudek",
          "Davolio",
          "Sowiński",
          "Callahan",
          "Fuller",
          "Davolio",
          "Fuller",
          "Peacock",
          "Callahan",
          "Dudek",
          "Davolio",
          "Leverling",
          "Kowalski",
          "Leverling",
          "Callahan",
          "Leverling",
          "King",
          "Peacock",
          "Kowalski",
          "Leverling",
          "Dudek",
          "Peacock",
          "Davolio",
          "Peacock",
          "Leverling",
          "Leverling",
          "Fuller",
          "Peacock",
          "King",
          "Dudek",
          "Davolio",
          "Fuller",
          "Callahan",
          "Peacock",
          "Davolio",
          "Leverling",
          "King",
          "Leverling",
          "Fuller",
          "Callahan",
          "King",
          "Davolio",
          "Sowiński",
          "Peacock",
          "King",
          "Callahan",
          "Callahan",
          "Davolio",
          "Davolio",
          "Peacock",
          "Kowalski",
          "Peacock",
          "King",
          "Callahan",
          "Sowiński",
          "Davolio",
          "Peacock",
          "Callahan",
          "Fuller",
          "Davolio",
          "Peacock",
          "Davolio",
          "Leverling",
          "Fuller",
          "Peacock",
          "Peacock",
          "Callahan",
          "Peacock",
          "Leverling",
          "Davolio",
          "Callahan",
          "Peacock",
          "Peacock",
          "Davolio",
          "Callahan",
          "Callahan",
          "King",
          "Peacock",
          "Callahan",
          "Peacock",
          "Sowiński",
          "Leverling",
          "King",
          "Peacock",
          "Peacock",
          "King",
          "Sowiński",
          "Leverling",
          "Peacock",
          "Dudek",
          "Peacock",
          "Kowalski",
          "Kowalski",
          "Kowalski",
          "Callahan",
          "Peacock",
          "Davolio",
          "Kowalski",
          "Davolio",
          "Sowiński",
          "Fuller",
          "Peacock",
          "King",
          "Callahan",
          "King",
          "Leverling",
          "Fuller",
          "Davolio",
          "Davolio",
          "King",
          "King",
          "Davolio",
          "Fuller",
          "Peacock",
          "Davolio",
          "Dudek",
          "Fuller",
          "Peacock",
          "Kowalski",
          "Fuller",
          "Davolio",
          "King",
          "Callahan",
          "Davolio",
          "Leverling",
          "Leverling",
          "Fuller",
          "Leverling",
          "Peacock",
          "Fuller",
          "Dudek",
          "Peacock",
          "Davolio",
          "Davolio",
          "Fuller",
          "Peacock",
          "Leverling",
          "Callahan",
          "King",
          "Callahan",
          "Leverling",
          "Peacock",
          "Leverling",
          "Leverling",
          "Sowiński",
          "Peacock",
          "Sowiński",
          "Sowiński",
          "Dudek",
          "Callahan",
          "Peacock",
          "Sowiński",
          "Davolio",
          "Davolio",
          "Kowalski",
          "Leverling",
          "Davolio",
          "Kowalski",
          "Leverling",
          "Peacock",
          "Davolio",
          "Davolio",
          "Callahan",
          "Callahan",
          "Kowalski",
          "Callahan",
          "Leverling",
          "Callahan",
          "Peacock",
          "Peacock",
          "Fuller",
          "Peacock",
          "Callahan",
          "Kowalski",
          "King",
          "Leverling",
          "Davolio",
          "Fuller",
          "Sowiński",
          "Dudek",
          "Fuller",
          "Fuller",
          "Leverling",
          "Peacock",
          "Peacock",
          "Leverling",
          "Davolio",
          "Sowiński",
          "Dudek",
          "Davolio",
          "Sowiński",
          "Leverling",
          "Peacock",
          "Dudek",
          "Leverling",
          "Fuller",
          "Leverling",
          "Sowiński",
          "Peacock",
          "Callahan",
          "Sowiński",
          "Leverling",
          "Leverling",
          "Peacock",
          "Kowalski",
          "Leverling",
          "Leverling",
          "Sowiński",
          "Leverling",
          "Peacock",
          "Peacock",
          "Leverling",
          "Leverling",
          "Callahan",
          "Dudek",
          "Leverling",
          "Davolio",
          "Peacock",
          "King",
          "Davolio",
          "King",
          "Leverling",
          "Leverling",
          "Fuller",
          "Fuller",
          "Dudek",
          "Peacock",
          "Peacock",
          "Davolio",
          "Callahan",
          "Fuller",
          "Davolio",
          "Davolio",
          "Sowiński",
          "Sowiński",
          "Davolio",
          "Leverling",
          "Sowiński",
          "Callahan",
          "Leverling",
          "King",
          "Fuller",
          "Dudek",
          "Davolio",
          "Peacock",
          "Peacock",
          "Peacock",
          "Sowiński",
          "Fuller",
          "Leverling",
          "Peacock",
          "Fuller",
          "King",
          "Fuller",
          "Callahan",
          "Kowalski",
          "Davolio",
          "Leverling",
          "Fuller",
          "Peacock",
          "Leverling",
          "King",
          "Fuller",
          "Leverling",
          "Davolio",
          "Sowiński",
          "Kowalski",
          "Callahan",
          "Davolio",
          "Sowiński",
          "Davolio",
          "Dudek",
          "Dudek",
          "Peacock",
          "Leverling",
          "Fuller",
          "Sowiński",
          "Davolio",
          "Davolio",
          "King",
          "Dudek",
          "Leverling",
          "Leverling",
          "Peacock",
          "Kowalski",
          "Davolio",
          "Peacock",
          "Callahan",
          "Callahan",
          "Fuller",
          "Peacock",
          "King",
          "Dudek",
          "Davolio",
          "Kowalski",
          "Callahan",
          "Dudek",
          "Leverling",
          "Leverling",
          "Leverling",
          "Callahan",
          "Fuller",
          "Davolio",
          "Leverling",
          "Peacock",
          "Callahan",
          "Peacock",
          "Peacock",
          "Fuller",
          "Kowalski",
          "Sowiński",
          "King",
          "Kowalski",
          "Kowalski",
          "Dudek",
          "Kowalski",
          "Peacock",
          "Kowalski",
          "Peacock",
          "King",
          "Davolio",
          "Peacock",
          "Leverling",
          "King",
          "Peacock",
          "Peacock",
          "Callahan",
          "Peacock",
          "Sowiński",
          "Davolio",
          "Callahan",
          "Davolio",
          "Dudek",
          "King",
          "King",
          "Peacock",
          "Dudek",
          "Davolio",
          "Leverling",
          "King",
          "Leverling",
          "Peacock",
          "Kowalski",
          "Davolio",
          "Peacock",
          "Davolio",
          "Leverling",
          "Leverling",
          "Dudek",
          "Peacock",
          "Sowiński",
          "Peacock",
          "Davolio",
          "Davolio",
          "Leverling",
          "Fuller",
          "Peacock",
          "Sowiński",
          "Fuller",
          "Davolio",
          "Peacock",
          "Leverling",
          "Fuller",
          "Peacock",
          "Davolio",
          "Kowalski",
          "King",
          "Leverling",
          "Leverling",
          "Peacock",
          "Peacock",
          "Davolio",
          "Sowiński",
          "Peacock",
          "Peacock",
          "Callahan",
          "Sowiński",
          "Leverling",
          "Peacock",
          "Leverling",
          "King",
          "Leverling",
          "Fuller",
          "Callahan",
          "King",
          "Dudek",
          "Peacock",
          "Sowiński",
          "Peacock",
          "Davolio",
          "Leverling",
          "Leverling",
          "Fuller",
          "Davolio",
          "Dudek",
          "Davolio",
          "Dudek",
          "Kowalski",
          "Callahan",
          "Sowiński",
          "Callahan",
          "King",
          "Sowiński",
          "Leverling",
          "Callahan",
          "Callahan",
          "Dudek",
          "Leverling",
          "Sowiński",
          "Peacock",
          "Fuller",
          "Davolio",
          "Davolio",
          "Dudek",
          "Fuller",
          "Peacock",
          "Sowiński",
          "Leverling",
          "Davolio",
          "Davolio",
          "Callahan",
          "Dudek",
          "Callahan",
          "Peacock",
          "Davolio",
          "Fuller",
          "Fuller",
          "Davolio",
          "Fuller",
          "Callahan",
          "Callahan",
          "Leverling",
          "Fuller",
          "Fuller",
          "Davolio",
          "Davolio",
          "King",
          "Fuller",
          "Davolio",
          "Peacock",
          "Callahan",
          "Callahan",
          "Sowiński",
          "Fuller",
          "Fuller",
          "Peacock",
          "Leverling",
          "Leverling",
          "Fuller",
          "Leverling",
          "Callahan",
          "Fuller",
          "Fuller",
          "Leverling",
          "Davolio",
          "Fuller",
          "Fuller",
          "Fuller",
          "Dudek",
          "Dudek",
          "Peacock",
          "Fuller",
          "Leverling",
          "Davolio",
          "Peacock",
          "Sowiński",
          "Peacock",
          "Davolio",
          "Fuller",
          "Peacock",
          "King",
          "Sowiński",
          "Fuller",
          "King",
          "Callahan",
          "Fuller",
          "Callahan",
          "King",
          "Davolio",
          "Leverling",
          "Fuller",
          "Kowalski",
          "Peacock",
          "Callahan",
          "King",
          "King",
          "Leverling",
          "Fuller",
          "Callahan",
          "Leverling"
         ],
         "yaxis": "y",
         "ybingroup": "y"
        }
       ],
       "layout": {
        "coloraxis": {
         "colorbar": {
          "title": {
           "text": "count"
          }
         },
         "colorscale": [
          [
           0,
           "#0d0887"
          ],
          [
           0.1111111111111111,
           "#46039f"
          ],
          [
           0.2222222222222222,
           "#7201a8"
          ],
          [
           0.3333333333333333,
           "#9c179e"
          ],
          [
           0.4444444444444444,
           "#bd3786"
          ],
          [
           0.5555555555555556,
           "#d8576b"
          ],
          [
           0.6666666666666666,
           "#ed7953"
          ],
          [
           0.7777777777777778,
           "#fb9f3a"
          ],
          [
           0.8888888888888888,
           "#fdca26"
          ],
          [
           1,
           "#f0f921"
          ]
         ]
        },
        "legend": {
         "tracegroupgap": 0
        },
        "margin": {
         "t": 60
        },
        "template": {
         "data": {
          "bar": [
           {
            "error_x": {
             "color": "#2a3f5f"
            },
            "error_y": {
             "color": "#2a3f5f"
            },
            "marker": {
             "line": {
              "color": "#E5ECF6",
              "width": 0.5
             },
             "pattern": {
              "fillmode": "overlay",
              "size": 10,
              "solidity": 0.2
             }
            },
            "type": "bar"
           }
          ],
          "barpolar": [
           {
            "marker": {
             "line": {
              "color": "#E5ECF6",
              "width": 0.5
             },
             "pattern": {
              "fillmode": "overlay",
              "size": 10,
              "solidity": 0.2
             }
            },
            "type": "barpolar"
           }
          ],
          "carpet": [
           {
            "aaxis": {
             "endlinecolor": "#2a3f5f",
             "gridcolor": "white",
             "linecolor": "white",
             "minorgridcolor": "white",
             "startlinecolor": "#2a3f5f"
            },
            "baxis": {
             "endlinecolor": "#2a3f5f",
             "gridcolor": "white",
             "linecolor": "white",
             "minorgridcolor": "white",
             "startlinecolor": "#2a3f5f"
            },
            "type": "carpet"
           }
          ],
          "choropleth": [
           {
            "colorbar": {
             "outlinewidth": 0,
             "ticks": ""
            },
            "type": "choropleth"
           }
          ],
          "contour": [
           {
            "colorbar": {
             "outlinewidth": 0,
             "ticks": ""
            },
            "colorscale": [
             [
              0,
              "#0d0887"
             ],
             [
              0.1111111111111111,
              "#46039f"
             ],
             [
              0.2222222222222222,
              "#7201a8"
             ],
             [
              0.3333333333333333,
              "#9c179e"
             ],
             [
              0.4444444444444444,
              "#bd3786"
             ],
             [
              0.5555555555555556,
              "#d8576b"
             ],
             [
              0.6666666666666666,
              "#ed7953"
             ],
             [
              0.7777777777777778,
              "#fb9f3a"
             ],
             [
              0.8888888888888888,
              "#fdca26"
             ],
             [
              1,
              "#f0f921"
             ]
            ],
            "type": "contour"
           }
          ],
          "contourcarpet": [
           {
            "colorbar": {
             "outlinewidth": 0,
             "ticks": ""
            },
            "type": "contourcarpet"
           }
          ],
          "heatmap": [
           {
            "colorbar": {
             "outlinewidth": 0,
             "ticks": ""
            },
            "colorscale": [
             [
              0,
              "#0d0887"
             ],
             [
              0.1111111111111111,
              "#46039f"
             ],
             [
              0.2222222222222222,
              "#7201a8"
             ],
             [
              0.3333333333333333,
              "#9c179e"
             ],
             [
              0.4444444444444444,
              "#bd3786"
             ],
             [
              0.5555555555555556,
              "#d8576b"
             ],
             [
              0.6666666666666666,
              "#ed7953"
             ],
             [
              0.7777777777777778,
              "#fb9f3a"
             ],
             [
              0.8888888888888888,
              "#fdca26"
             ],
             [
              1,
              "#f0f921"
             ]
            ],
            "type": "heatmap"
           }
          ],
          "heatmapgl": [
           {
            "colorbar": {
             "outlinewidth": 0,
             "ticks": ""
            },
            "colorscale": [
             [
              0,
              "#0d0887"
             ],
             [
              0.1111111111111111,
              "#46039f"
             ],
             [
              0.2222222222222222,
              "#7201a8"
             ],
             [
              0.3333333333333333,
              "#9c179e"
             ],
             [
              0.4444444444444444,
              "#bd3786"
             ],
             [
              0.5555555555555556,
              "#d8576b"
             ],
             [
              0.6666666666666666,
              "#ed7953"
             ],
             [
              0.7777777777777778,
              "#fb9f3a"
             ],
             [
              0.8888888888888888,
              "#fdca26"
             ],
             [
              1,
              "#f0f921"
             ]
            ],
            "type": "heatmapgl"
           }
          ],
          "histogram": [
           {
            "marker": {
             "pattern": {
              "fillmode": "overlay",
              "size": 10,
              "solidity": 0.2
             }
            },
            "type": "histogram"
           }
          ],
          "histogram2d": [
           {
            "colorbar": {
             "outlinewidth": 0,
             "ticks": ""
            },
            "colorscale": [
             [
              0,
              "#0d0887"
             ],
             [
              0.1111111111111111,
              "#46039f"
             ],
             [
              0.2222222222222222,
              "#7201a8"
             ],
             [
              0.3333333333333333,
              "#9c179e"
             ],
             [
              0.4444444444444444,
              "#bd3786"
             ],
             [
              0.5555555555555556,
              "#d8576b"
             ],
             [
              0.6666666666666666,
              "#ed7953"
             ],
             [
              0.7777777777777778,
              "#fb9f3a"
             ],
             [
              0.8888888888888888,
              "#fdca26"
             ],
             [
              1,
              "#f0f921"
             ]
            ],
            "type": "histogram2d"
           }
          ],
          "histogram2dcontour": [
           {
            "colorbar": {
             "outlinewidth": 0,
             "ticks": ""
            },
            "colorscale": [
             [
              0,
              "#0d0887"
             ],
             [
              0.1111111111111111,
              "#46039f"
             ],
             [
              0.2222222222222222,
              "#7201a8"
             ],
             [
              0.3333333333333333,
              "#9c179e"
             ],
             [
              0.4444444444444444,
              "#bd3786"
             ],
             [
              0.5555555555555556,
              "#d8576b"
             ],
             [
              0.6666666666666666,
              "#ed7953"
             ],
             [
              0.7777777777777778,
              "#fb9f3a"
             ],
             [
              0.8888888888888888,
              "#fdca26"
             ],
             [
              1,
              "#f0f921"
             ]
            ],
            "type": "histogram2dcontour"
           }
          ],
          "mesh3d": [
           {
            "colorbar": {
             "outlinewidth": 0,
             "ticks": ""
            },
            "type": "mesh3d"
           }
          ],
          "parcoords": [
           {
            "line": {
             "colorbar": {
              "outlinewidth": 0,
              "ticks": ""
             }
            },
            "type": "parcoords"
           }
          ],
          "pie": [
           {
            "automargin": true,
            "type": "pie"
           }
          ],
          "scatter": [
           {
            "fillpattern": {
             "fillmode": "overlay",
             "size": 10,
             "solidity": 0.2
            },
            "type": "scatter"
           }
          ],
          "scatter3d": [
           {
            "line": {
             "colorbar": {
              "outlinewidth": 0,
              "ticks": ""
             }
            },
            "marker": {
             "colorbar": {
              "outlinewidth": 0,
              "ticks": ""
             }
            },
            "type": "scatter3d"
           }
          ],
          "scattercarpet": [
           {
            "marker": {
             "colorbar": {
              "outlinewidth": 0,
              "ticks": ""
             }
            },
            "type": "scattercarpet"
           }
          ],
          "scattergeo": [
           {
            "marker": {
             "colorbar": {
              "outlinewidth": 0,
              "ticks": ""
             }
            },
            "type": "scattergeo"
           }
          ],
          "scattergl": [
           {
            "marker": {
             "colorbar": {
              "outlinewidth": 0,
              "ticks": ""
             }
            },
            "type": "scattergl"
           }
          ],
          "scattermapbox": [
           {
            "marker": {
             "colorbar": {
              "outlinewidth": 0,
              "ticks": ""
             }
            },
            "type": "scattermapbox"
           }
          ],
          "scatterpolar": [
           {
            "marker": {
             "colorbar": {
              "outlinewidth": 0,
              "ticks": ""
             }
            },
            "type": "scatterpolar"
           }
          ],
          "scatterpolargl": [
           {
            "marker": {
             "colorbar": {
              "outlinewidth": 0,
              "ticks": ""
             }
            },
            "type": "scatterpolargl"
           }
          ],
          "scatterternary": [
           {
            "marker": {
             "colorbar": {
              "outlinewidth": 0,
              "ticks": ""
             }
            },
            "type": "scatterternary"
           }
          ],
          "surface": [
           {
            "colorbar": {
             "outlinewidth": 0,
             "ticks": ""
            },
            "colorscale": [
             [
              0,
              "#0d0887"
             ],
             [
              0.1111111111111111,
              "#46039f"
             ],
             [
              0.2222222222222222,
              "#7201a8"
             ],
             [
              0.3333333333333333,
              "#9c179e"
             ],
             [
              0.4444444444444444,
              "#bd3786"
             ],
             [
              0.5555555555555556,
              "#d8576b"
             ],
             [
              0.6666666666666666,
              "#ed7953"
             ],
             [
              0.7777777777777778,
              "#fb9f3a"
             ],
             [
              0.8888888888888888,
              "#fdca26"
             ],
             [
              1,
              "#f0f921"
             ]
            ],
            "type": "surface"
           }
          ],
          "table": [
           {
            "cells": {
             "fill": {
              "color": "#EBF0F8"
             },
             "line": {
              "color": "white"
             }
            },
            "header": {
             "fill": {
              "color": "#C8D4E3"
             },
             "line": {
              "color": "white"
             }
            },
            "type": "table"
           }
          ]
         },
         "layout": {
          "annotationdefaults": {
           "arrowcolor": "#2a3f5f",
           "arrowhead": 0,
           "arrowwidth": 1
          },
          "autotypenumbers": "strict",
          "coloraxis": {
           "colorbar": {
            "outlinewidth": 0,
            "ticks": ""
           }
          },
          "colorscale": {
           "diverging": [
            [
             0,
             "#8e0152"
            ],
            [
             0.1,
             "#c51b7d"
            ],
            [
             0.2,
             "#de77ae"
            ],
            [
             0.3,
             "#f1b6da"
            ],
            [
             0.4,
             "#fde0ef"
            ],
            [
             0.5,
             "#f7f7f7"
            ],
            [
             0.6,
             "#e6f5d0"
            ],
            [
             0.7,
             "#b8e186"
            ],
            [
             0.8,
             "#7fbc41"
            ],
            [
             0.9,
             "#4d9221"
            ],
            [
             1,
             "#276419"
            ]
           ],
           "sequential": [
            [
             0,
             "#0d0887"
            ],
            [
             0.1111111111111111,
             "#46039f"
            ],
            [
             0.2222222222222222,
             "#7201a8"
            ],
            [
             0.3333333333333333,
             "#9c179e"
            ],
            [
             0.4444444444444444,
             "#bd3786"
            ],
            [
             0.5555555555555556,
             "#d8576b"
            ],
            [
             0.6666666666666666,
             "#ed7953"
            ],
            [
             0.7777777777777778,
             "#fb9f3a"
            ],
            [
             0.8888888888888888,
             "#fdca26"
            ],
            [
             1,
             "#f0f921"
            ]
           ],
           "sequentialminus": [
            [
             0,
             "#0d0887"
            ],
            [
             0.1111111111111111,
             "#46039f"
            ],
            [
             0.2222222222222222,
             "#7201a8"
            ],
            [
             0.3333333333333333,
             "#9c179e"
            ],
            [
             0.4444444444444444,
             "#bd3786"
            ],
            [
             0.5555555555555556,
             "#d8576b"
            ],
            [
             0.6666666666666666,
             "#ed7953"
            ],
            [
             0.7777777777777778,
             "#fb9f3a"
            ],
            [
             0.8888888888888888,
             "#fdca26"
            ],
            [
             1,
             "#f0f921"
            ]
           ]
          },
          "colorway": [
           "#636efa",
           "#EF553B",
           "#00cc96",
           "#ab63fa",
           "#FFA15A",
           "#19d3f3",
           "#FF6692",
           "#B6E880",
           "#FF97FF",
           "#FECB52"
          ],
          "font": {
           "color": "#2a3f5f"
          },
          "geo": {
           "bgcolor": "white",
           "lakecolor": "white",
           "landcolor": "#E5ECF6",
           "showlakes": true,
           "showland": true,
           "subunitcolor": "white"
          },
          "hoverlabel": {
           "align": "left"
          },
          "hovermode": "closest",
          "mapbox": {
           "style": "light"
          },
          "paper_bgcolor": "white",
          "plot_bgcolor": "#E5ECF6",
          "polar": {
           "angularaxis": {
            "gridcolor": "white",
            "linecolor": "white",
            "ticks": ""
           },
           "bgcolor": "#E5ECF6",
           "radialaxis": {
            "gridcolor": "white",
            "linecolor": "white",
            "ticks": ""
           }
          },
          "scene": {
           "xaxis": {
            "backgroundcolor": "#E5ECF6",
            "gridcolor": "white",
            "gridwidth": 2,
            "linecolor": "white",
            "showbackground": true,
            "ticks": "",
            "zerolinecolor": "white"
           },
           "yaxis": {
            "backgroundcolor": "#E5ECF6",
            "gridcolor": "white",
            "gridwidth": 2,
            "linecolor": "white",
            "showbackground": true,
            "ticks": "",
            "zerolinecolor": "white"
           },
           "zaxis": {
            "backgroundcolor": "#E5ECF6",
            "gridcolor": "white",
            "gridwidth": 2,
            "linecolor": "white",
            "showbackground": true,
            "ticks": "",
            "zerolinecolor": "white"
           }
          },
          "shapedefaults": {
           "line": {
            "color": "#2a3f5f"
           }
          },
          "ternary": {
           "aaxis": {
            "gridcolor": "white",
            "linecolor": "white",
            "ticks": ""
           },
           "baxis": {
            "gridcolor": "white",
            "linecolor": "white",
            "ticks": ""
           },
           "bgcolor": "#E5ECF6",
           "caxis": {
            "gridcolor": "white",
            "linecolor": "white",
            "ticks": ""
           }
          },
          "title": {
           "x": 0.05
          },
          "xaxis": {
           "automargin": true,
           "gridcolor": "white",
           "linecolor": "white",
           "ticks": "",
           "title": {
            "standoff": 15
           },
           "zerolinecolor": "white",
           "zerolinewidth": 2
          },
          "yaxis": {
           "automargin": true,
           "gridcolor": "white",
           "linecolor": "white",
           "ticks": "",
           "title": {
            "standoff": 15
           },
           "zerolinecolor": "white",
           "zerolinewidth": 2
          }
         }
        },
        "xaxis": {
         "anchor": "y",
         "domain": [
          0,
          1
         ],
         "title": {
          "text": "Utarg"
         }
        },
        "yaxis": {
         "anchor": "x",
         "domain": [
          0,
          1
         ],
         "title": {
          "text": "Sprzedawca"
         }
        }
       }
      },
      "text/html": [
       "<div>                            <div id=\"c92e65a2-c84d-48df-92d9-0574414e67d9\" class=\"plotly-graph-div\" style=\"height:525px; width:100%;\"></div>            <script type=\"text/javascript\">                require([\"plotly\"], function(Plotly) {                    window.PLOTLYENV=window.PLOTLYENV || {};                                    if (document.getElementById(\"c92e65a2-c84d-48df-92d9-0574414e67d9\")) {                    Plotly.newPlot(                        \"c92e65a2-c84d-48df-92d9-0574414e67d9\",                        [{\"coloraxis\":\"coloraxis\",\"hovertemplate\":\"Utarg=%{x}<br>Sprzedawca=%{y}<br>count=%{z}<extra></extra>\",\"name\":\"\",\"texttemplate\":\"%{z}\",\"x\":[440.0,1863.4,1552.6,654.06,3597.9,1444.8,556.62,2490.5,517.8,1119.9,1614.88,100.8,1504.65,448.0,584.0,1873.8,695.62,1176.0,346.56,3536.6,1101.2,642.2,1376.0,48.0,1456.0,2037.28,538.6,291.84,420.0,1200.8,1488.8,351.0,613.2,86.5,155.4,1414.8,1170.37,1743.36,3016.0,819.0,80.1,479.4,2169.0,497.52,1296.0,848.7,1887.6,121.6,1050.6,1420.0,2645.0,349.5,608.0,755.0,2708.8,1117.8,954.4,3741.3,498.5,424.0,88.8,1762.0,336.0,268.8,1614.8,182.4,2094.3,516.8,2835.0,288.0,240.4,1191.2,516.0,144.0,112.0,164.4,5275.71,1497.0,982.0,1810.0,1168.0,4578.43,1649.0,88.5,1786.88,877.2,144.8,2036.16,285.12,2467.0,934.5,3354.0,2436.18,352.6,1840.64,1584.0,2296.0,2924.8,1618.88,814.42,363.6,141.6,642.06,5398.72,136.3,8593.28,568.8,480.0,1106.4,1167.68,429.4,3471.68,7390.2,2046.24,1549.6,447.2,950.0,403.2,136.0,834.2,1689.78,2390.4,1117.6,72.96,9210.9,1366.4,459.0,338.0,399.0,863.6,103.2,863.28,1313.82,112.0,2900.0,899.0,2222.4,691.2,166.0,1058.4,1228.8,1832.8,2090.88,86.4,1440.0,2556.95,442.0,2122.92,1903.8,716.72,2505.6,1765.6,3063.0,3868.6,2713.5,855.01,1591.25,400.0,1830.78,1194.0,1622.4,319.2,802.0,966.8,334.8,2123.2,224.83,102.4,720.0,11188.4,1814.8,2097.6,1707.84,1194.27,49.8,1020.0,9194.56,360.0,338.2,651.0,192.0,1441.37,4899.2,1892.25,485.0,851.2,321.12,631.6,1994.52,393.0,454.0,1078.0,4924.13,1755.0,1792.0,517.44,1031.7,174.9,246.24,914.4,443.4,1838.2,425.12,3849.66,2018.5,407.7,331.2,2684.0,557.6,1584.0,3891.0,1659.2,176.1,1538.7,156.0,713.3,1609.28,2518.0,216.0,235.2,717.6,956.67,1820.8,1328.0,1036.8,230.4,1249.1,1505.18,180.48,558.0,471.2,10495.6,756.0,1472.0,147.0,668.8,386.2,1584.0,1272.0,889.7,1512.0,439.2,3163.2,259.5,851.2,608.4,912.0,278.0,190.0,1380.6,575.0,1412.0,523.26,149.0,816.3,2048.5,1388.5,147.9,415.8,749.06,240.0,136.8,4707.54,2550.0,525.3,1942.0,8623.45,9921.3,2381.05,352.0,4150.05,2314.2,200.0,225.5,2318.24,2444.31,3192.65,818.4,1151.4,1503.0,392.2,946.0,4180.0,110.0,796.35,2222.2,465.7,1940.85,1645.0,1823.8,139.8,355.5,10191.7,1946.52,469.11,1504.5,417.2,210.0,2812.0,1792.8,240.1,3554.27,683.3,1677.3,880.5,1546.3,1728.52,2944.4,835.2,1152.5,2142.9,520.41,1072.42,2844.5,488.7,965.0,1234.05,639.9,1761.0,2519.0,155.0,890.0,2465.25,550.59,1501.08,2082.0,764.3,2147.4,838.45,569.0,477.0,317.75,1013.74,310.0,330.0,2237.5,593.75,142.5,23.8,807.38,3120.0,72.0,1101.0,812.5,516.46,1994.4,565.5,4725.0,1180.88,718.08,2388.5,493.0,479.8,2285.0,48.75,1483.0,230.85,4109.69,1130.4,6475.4,1064.0,424.0,299.25,808.0,6375.0,353.2,464.0,120.0,4806.99,1402.5,2697.5,1260.0,57.5,758.5,560.0,1336.95,1393.24,479.75,1503.6,1185.75,450.0,2775.05,903.6,55.8,589.0,5510.59,4985.5,1326.22,629.5,2761.94,2720.05,500.0,708.75,2054.0,696.0,814.5,1371.8,1535.0,1446.0,636.0,372.37,1434.0,1779.2,397.8,318.84,1083.15,601.83,154.4,604.21,4371.6,4464.6,1227.02,1701.0,562.6,125.0,1930.4,1288.39,1295.0,4666.94,1536.8,625.27,570.0,2301.75,920.1,3815.25,412.35,45.0,1423.0,534.85,813.36,5256.5,660.0,1261.88,1287.4,375.5,63.0,1768.0,801.1,1404.45,4960.9,3160.6,472.5,862.5,10164.8,878.0,2071.2,4825.0,642.0,996.0,805.43,3436.45,114.0,1638.4,2864.5,330.0,2545.0,595.5,378.0,1893.0,1641.0,180.4,3424.0,93.5,4451.7,1233.48,2827.9,2205.75,1296.0,706.0,1270.75,3463.0,844.25,550.0,923.87,1570.0,468.45,638.5,287.8,655.0,1624.5,1296.75,1850.0,484.25,1890.5,360.0,1459.0,1498.35,536.4,997.0,139.8,52.35,240.0,1416.0,228.0,3118.0,319.2,736.0,4529.8,2311.7,1912.85,2196.0,1080.0,1590.56,1631.48,252.0,88.0,55.2,1948.5,1990.0,3082.0,1644.6,320.0,2917.0,507.0,4337.0,616.0,2286.0,1515.6,2310.0,28.0,1477.0,1684.27,236.25,344.0,3603.22,2030.4,868.75,228.0,6635.27,224.0,96.5,1335.0,720.0,975.88,12.5,1442.5,1488.0,387.5,1531.08,2622.76,731.5,3687.0,722.5,1829.76,399.85,191.1,314.76,2158.0,2341.36,420.0,446.6,1553.5,1468.93,3026.85,2942.81,1193.01,2278.4,2775.0,439.6,18.4,1411.0,140.0,187.0,852.0,1692.8,602.4,1788.45,40.0,8446.45,10952.84,833.0,477.0,1140.0,678.0,237.9,2826.0,250.8,1030.76,730.0,843.0,932.0,1764.0,1974.0,2684.4,475.11,906.93,1432.71,845.8,4705.5,1064.5,1938.38,827.55,211.2,4581.0,975.0,159.0,735.0,3812.7,1112.0,4931.92,931.5,967.82,629.0,2603.0,2984.0,625.0,2966.5,2227.89,660.0,2048.22,649.0,1078.69,519.0,3523.4,581.0,441.15,282.0,16387.5,1096.2,98.4,1920.6,1630.0,160.0,1979.23,2058.46,336.8,310.0,709.55,917.0,1955.13,1539.0,611.3,1500.0,150.0,892.64,36.0,1378.07,1209.0,3127.5,70.0,605.0,11380.0,860.1,368.93,2090.0,5502.11,2753.1,6379.4,750.5,10835.24,30.0,122.4,33.75,934.5,863.43,932.05,1924.25,342.0,427.5,108.5,663.1,670.0,452.9,858.0,6200.55,768.75,537.5,539.5,686.7,365.89,1447.5,1122.8,390.0,1936.0,742.5,748.8,1835.7,475.15,514.4,800.0,137.5,1174.75,2255.5,799.2,1788.63,920.6,500.0,619.5,456.0,644.8,2731.87,637.5,360.0,4011.75,560.0,711.0,1025.33,245.0,1407.5,220.0,2362.25,4422.0,110.0,458.74,471.2,4441.25,1659.53,74.4,677.0,1762.7,781.0,131.75,265.35,1119.9,3584.0,57.8,2052.5,848.0,1098.46,910.4,1408.0,108.0,224.0,1733.06,251.5,291.55,439.0,717.5,912.0,2233.0,1303.19,4813.5,248.0,15810.0,1014.0,720.9,1809.75,2023.38,2220.0,2772.0,3574.8,1353.6,4288.85,2296.0,69.6,4895.44,940.5,1196.0,560.0,1885.0,686.0,1197.95,903.75,2769.0,1811.1,326.0,295.38,586.0,329.69,2633.9,616.5,645.0,933.5,2825.3,361.0,243.18,622.35,491.5,6750.0,1575.0,632.4,6306.24,1500.0,1966.81,270.0,1030.0,877.72,2160.0,1286.8,12615.05,2393.5,8902.5,3232.8,539.4,1754.5,1692.0,60.0,732.6,1773.0,405.75,210.0,591.6,1485.8,817.87,525.0,1332.0,3055.0,3740.0,45.0],\"xaxis\":\"x\",\"xbingroup\":\"x\",\"y\":[\"Kowalski\",\"Sowi\\u0144ski\",\"Peacock\",\"Leverling\",\"Peacock\",\"Leverling\",\"Kowalski\",\"Dudek\",\"Leverling\",\"Peacock\",\"Davolio\",\"Peacock\",\"Peacock\",\"Peacock\",\"Callahan\",\"Dudek\",\"Sowi\\u0144ski\",\"Fuller\",\"Leverling\",\"Peacock\",\"Callahan\",\"Kowalski\",\"Davolio\",\"Sowi\\u0144ski\",\"Sowi\\u0144ski\",\"Leverling\",\"Sowi\\u0144ski\",\"Davolio\",\"Callahan\",\"Fuller\",\"Callahan\",\"Callahan\",\"Fuller\",\"Peacock\",\"Peacock\",\"Leverling\",\"Peacock\",\"Davolio\",\"Callahan\",\"Callahan\",\"Peacock\",\"King\",\"Callahan\",\"Sowi\\u0144ski\",\"Davolio\",\"Davolio\",\"Peacock\",\"Fuller\",\"Sowi\\u0144ski\",\"Kowalski\",\"Sowi\\u0144ski\",\"Peacock\",\"Fuller\",\"Callahan\",\"Peacock\",\"King\",\"Davolio\",\"Callahan\",\"Davolio\",\"Fuller\",\"King\",\"Leverling\",\"Callahan\",\"Davolio\",\"Fuller\",\"Fuller\",\"Davolio\",\"Peacock\",\"Davolio\",\"Sowi\\u0144ski\",\"Callahan\",\"King\",\"Kowalski\",\"Leverling\",\"King\",\"Peacock\",\"Dudek\",\"Davolio\",\"Peacock\",\"Fuller\",\"Peacock\",\"Peacock\",\"Leverling\",\"Dudek\",\"Leverling\",\"Kowalski\",\"Callahan\",\"King\",\"King\",\"Peacock\",\"Peacock\",\"Fuller\",\"Davolio\",\"King\",\"Peacock\",\"Peacock\",\"Peacock\",\"Fuller\",\"Leverling\",\"Peacock\",\"Peacock\",\"King\",\"Sowi\\u0144ski\",\"Davolio\",\"Leverling\",\"King\",\"Callahan\",\"Sowi\\u0144ski\",\"Sowi\\u0144ski\",\"Davolio\",\"Kowalski\",\"Kowalski\",\"Peacock\",\"Davolio\",\"Leverling\",\"Peacock\",\"Davolio\",\"Leverling\",\"Callahan\",\"King\",\"Fuller\",\"Callahan\",\"Sowi\\u0144ski\",\"Davolio\",\"Kowalski\",\"Peacock\",\"Davolio\",\"Leverling\",\"Davolio\",\"Davolio\",\"Kowalski\",\"Fuller\",\"Callahan\",\"Leverling\",\"Peacock\",\"Callahan\",\"Leverling\",\"Davolio\",\"Dudek\",\"Davolio\",\"Fuller\",\"Peacock\",\"Sowi\\u0144ski\",\"Leverling\",\"Fuller\",\"Davolio\",\"Davolio\",\"Sowi\\u0144ski\",\"Davolio\",\"Kowalski\",\"Fuller\",\"Callahan\",\"Davolio\",\"Davolio\",\"Callahan\",\"Peacock\",\"Fuller\",\"Davolio\",\"King\",\"Fuller\",\"Callahan\",\"Leverling\",\"Leverling\",\"Dudek\",\"Callahan\",\"Leverling\",\"Fuller\",\"Leverling\",\"Callahan\",\"Peacock\",\"Peacock\",\"Peacock\",\"Leverling\",\"Callahan\",\"Fuller\",\"Sowi\\u0144ski\",\"King\",\"Sowi\\u0144ski\",\"Peacock\",\"Peacock\",\"King\",\"Leverling\",\"Peacock\",\"Peacock\",\"Leverling\",\"Leverling\",\"Leverling\",\"Callahan\",\"Leverling\",\"Callahan\",\"Leverling\",\"Sowi\\u0144ski\",\"Peacock\",\"Leverling\",\"Leverling\",\"Callahan\",\"Leverling\",\"Leverling\",\"Sowi\\u0144ski\",\"Peacock\",\"Peacock\",\"Leverling\",\"Callahan\",\"Peacock\",\"Callahan\",\"Davolio\",\"Peacock\",\"Callahan\",\"Callahan\",\"Fuller\",\"King\",\"Peacock\",\"Callahan\",\"Davolio\",\"Fuller\",\"Kowalski\",\"Peacock\",\"Davolio\",\"Peacock\",\"Callahan\",\"Leverling\",\"Davolio\",\"Peacock\",\"Fuller\",\"Callahan\",\"Davolio\",\"Kowalski\",\"Dudek\",\"Callahan\",\"Kowalski\",\"Fuller\",\"Leverling\",\"Sowi\\u0144ski\",\"Callahan\",\"Davolio\",\"King\",\"Leverling\",\"Peacock\",\"Davolio\",\"Fuller\",\"Callahan\",\"Sowi\\u0144ski\",\"King\",\"Callahan\",\"Leverling\",\"Peacock\",\"Peacock\",\"Leverling\",\"King\",\"King\",\"Callahan\",\"Peacock\",\"Sowi\\u0144ski\",\"Dudek\",\"Fuller\",\"Sowi\\u0144ski\",\"Peacock\",\"Leverling\",\"Dudek\",\"King\",\"Davolio\",\"Peacock\",\"Sowi\\u0144ski\",\"Peacock\",\"King\",\"King\",\"Leverling\",\"Fuller\",\"Fuller\",\"Leverling\",\"Peacock\",\"Sowi\\u0144ski\",\"King\",\"Callahan\",\"Peacock\",\"King\",\"Davolio\",\"Davolio\",\"Peacock\",\"King\",\"Sowi\\u0144ski\",\"Kowalski\",\"Leverling\",\"King\",\"King\",\"Callahan\",\"Callahan\",\"Peacock\",\"Leverling\",\"Davolio\",\"Dudek\",\"Sowi\\u0144ski\",\"Leverling\",\"Fuller\",\"Davolio\",\"Callahan\",\"Peacock\",\"Callahan\",\"Davolio\",\"Leverling\",\"Leverling\",\"Kowalski\",\"King\",\"Peacock\",\"Fuller\",\"Fuller\",\"Peacock\",\"Sowi\\u0144ski\",\"Fuller\",\"Dudek\",\"Davolio\",\"Sowi\\u0144ski\",\"Callahan\",\"Fuller\",\"Davolio\",\"Fuller\",\"Peacock\",\"Callahan\",\"Dudek\",\"Davolio\",\"Leverling\",\"Kowalski\",\"Leverling\",\"Callahan\",\"Leverling\",\"King\",\"Peacock\",\"Kowalski\",\"Leverling\",\"Dudek\",\"Peacock\",\"Davolio\",\"Peacock\",\"Leverling\",\"Leverling\",\"Fuller\",\"Peacock\",\"King\",\"Dudek\",\"Davolio\",\"Fuller\",\"Callahan\",\"Peacock\",\"Davolio\",\"Leverling\",\"King\",\"Leverling\",\"Fuller\",\"Callahan\",\"King\",\"Davolio\",\"Sowi\\u0144ski\",\"Peacock\",\"King\",\"Callahan\",\"Callahan\",\"Davolio\",\"Davolio\",\"Peacock\",\"Kowalski\",\"Peacock\",\"King\",\"Callahan\",\"Sowi\\u0144ski\",\"Davolio\",\"Peacock\",\"Callahan\",\"Fuller\",\"Davolio\",\"Peacock\",\"Davolio\",\"Leverling\",\"Fuller\",\"Peacock\",\"Peacock\",\"Callahan\",\"Peacock\",\"Leverling\",\"Davolio\",\"Callahan\",\"Peacock\",\"Peacock\",\"Davolio\",\"Callahan\",\"Callahan\",\"King\",\"Peacock\",\"Callahan\",\"Peacock\",\"Sowi\\u0144ski\",\"Leverling\",\"King\",\"Peacock\",\"Peacock\",\"King\",\"Sowi\\u0144ski\",\"Leverling\",\"Peacock\",\"Dudek\",\"Peacock\",\"Kowalski\",\"Kowalski\",\"Kowalski\",\"Callahan\",\"Peacock\",\"Davolio\",\"Kowalski\",\"Davolio\",\"Sowi\\u0144ski\",\"Fuller\",\"Peacock\",\"King\",\"Callahan\",\"King\",\"Leverling\",\"Fuller\",\"Davolio\",\"Davolio\",\"King\",\"King\",\"Davolio\",\"Fuller\",\"Peacock\",\"Davolio\",\"Dudek\",\"Fuller\",\"Peacock\",\"Kowalski\",\"Fuller\",\"Davolio\",\"King\",\"Callahan\",\"Davolio\",\"Leverling\",\"Leverling\",\"Fuller\",\"Leverling\",\"Peacock\",\"Fuller\",\"Dudek\",\"Peacock\",\"Davolio\",\"Davolio\",\"Fuller\",\"Peacock\",\"Leverling\",\"Callahan\",\"King\",\"Callahan\",\"Leverling\",\"Peacock\",\"Leverling\",\"Leverling\",\"Sowi\\u0144ski\",\"Peacock\",\"Sowi\\u0144ski\",\"Sowi\\u0144ski\",\"Dudek\",\"Callahan\",\"Peacock\",\"Sowi\\u0144ski\",\"Davolio\",\"Davolio\",\"Kowalski\",\"Leverling\",\"Davolio\",\"Kowalski\",\"Leverling\",\"Peacock\",\"Davolio\",\"Davolio\",\"Callahan\",\"Callahan\",\"Kowalski\",\"Callahan\",\"Leverling\",\"Callahan\",\"Peacock\",\"Peacock\",\"Fuller\",\"Peacock\",\"Callahan\",\"Kowalski\",\"King\",\"Leverling\",\"Davolio\",\"Fuller\",\"Sowi\\u0144ski\",\"Dudek\",\"Fuller\",\"Fuller\",\"Leverling\",\"Peacock\",\"Peacock\",\"Leverling\",\"Davolio\",\"Sowi\\u0144ski\",\"Dudek\",\"Davolio\",\"Sowi\\u0144ski\",\"Leverling\",\"Peacock\",\"Dudek\",\"Leverling\",\"Fuller\",\"Leverling\",\"Sowi\\u0144ski\",\"Peacock\",\"Callahan\",\"Sowi\\u0144ski\",\"Leverling\",\"Leverling\",\"Peacock\",\"Kowalski\",\"Leverling\",\"Leverling\",\"Sowi\\u0144ski\",\"Leverling\",\"Peacock\",\"Peacock\",\"Leverling\",\"Leverling\",\"Callahan\",\"Dudek\",\"Leverling\",\"Davolio\",\"Peacock\",\"King\",\"Davolio\",\"King\",\"Leverling\",\"Leverling\",\"Fuller\",\"Fuller\",\"Dudek\",\"Peacock\",\"Peacock\",\"Davolio\",\"Callahan\",\"Fuller\",\"Davolio\",\"Davolio\",\"Sowi\\u0144ski\",\"Sowi\\u0144ski\",\"Davolio\",\"Leverling\",\"Sowi\\u0144ski\",\"Callahan\",\"Leverling\",\"King\",\"Fuller\",\"Dudek\",\"Davolio\",\"Peacock\",\"Peacock\",\"Peacock\",\"Sowi\\u0144ski\",\"Fuller\",\"Leverling\",\"Peacock\",\"Fuller\",\"King\",\"Fuller\",\"Callahan\",\"Kowalski\",\"Davolio\",\"Leverling\",\"Fuller\",\"Peacock\",\"Leverling\",\"King\",\"Fuller\",\"Leverling\",\"Davolio\",\"Sowi\\u0144ski\",\"Kowalski\",\"Callahan\",\"Davolio\",\"Sowi\\u0144ski\",\"Davolio\",\"Dudek\",\"Dudek\",\"Peacock\",\"Leverling\",\"Fuller\",\"Sowi\\u0144ski\",\"Davolio\",\"Davolio\",\"King\",\"Dudek\",\"Leverling\",\"Leverling\",\"Peacock\",\"Kowalski\",\"Davolio\",\"Peacock\",\"Callahan\",\"Callahan\",\"Fuller\",\"Peacock\",\"King\",\"Dudek\",\"Davolio\",\"Kowalski\",\"Callahan\",\"Dudek\",\"Leverling\",\"Leverling\",\"Leverling\",\"Callahan\",\"Fuller\",\"Davolio\",\"Leverling\",\"Peacock\",\"Callahan\",\"Peacock\",\"Peacock\",\"Fuller\",\"Kowalski\",\"Sowi\\u0144ski\",\"King\",\"Kowalski\",\"Kowalski\",\"Dudek\",\"Kowalski\",\"Peacock\",\"Kowalski\",\"Peacock\",\"King\",\"Davolio\",\"Peacock\",\"Leverling\",\"King\",\"Peacock\",\"Peacock\",\"Callahan\",\"Peacock\",\"Sowi\\u0144ski\",\"Davolio\",\"Callahan\",\"Davolio\",\"Dudek\",\"King\",\"King\",\"Peacock\",\"Dudek\",\"Davolio\",\"Leverling\",\"King\",\"Leverling\",\"Peacock\",\"Kowalski\",\"Davolio\",\"Peacock\",\"Davolio\",\"Leverling\",\"Leverling\",\"Dudek\",\"Peacock\",\"Sowi\\u0144ski\",\"Peacock\",\"Davolio\",\"Davolio\",\"Leverling\",\"Fuller\",\"Peacock\",\"Sowi\\u0144ski\",\"Fuller\",\"Davolio\",\"Peacock\",\"Leverling\",\"Fuller\",\"Peacock\",\"Davolio\",\"Kowalski\",\"King\",\"Leverling\",\"Leverling\",\"Peacock\",\"Peacock\",\"Davolio\",\"Sowi\\u0144ski\",\"Peacock\",\"Peacock\",\"Callahan\",\"Sowi\\u0144ski\",\"Leverling\",\"Peacock\",\"Leverling\",\"King\",\"Leverling\",\"Fuller\",\"Callahan\",\"King\",\"Dudek\",\"Peacock\",\"Sowi\\u0144ski\",\"Peacock\",\"Davolio\",\"Leverling\",\"Leverling\",\"Fuller\",\"Davolio\",\"Dudek\",\"Davolio\",\"Dudek\",\"Kowalski\",\"Callahan\",\"Sowi\\u0144ski\",\"Callahan\",\"King\",\"Sowi\\u0144ski\",\"Leverling\",\"Callahan\",\"Callahan\",\"Dudek\",\"Leverling\",\"Sowi\\u0144ski\",\"Peacock\",\"Fuller\",\"Davolio\",\"Davolio\",\"Dudek\",\"Fuller\",\"Peacock\",\"Sowi\\u0144ski\",\"Leverling\",\"Davolio\",\"Davolio\",\"Callahan\",\"Dudek\",\"Callahan\",\"Peacock\",\"Davolio\",\"Fuller\",\"Fuller\",\"Davolio\",\"Fuller\",\"Callahan\",\"Callahan\",\"Leverling\",\"Fuller\",\"Fuller\",\"Davolio\",\"Davolio\",\"King\",\"Fuller\",\"Davolio\",\"Peacock\",\"Callahan\",\"Callahan\",\"Sowi\\u0144ski\",\"Fuller\",\"Fuller\",\"Peacock\",\"Leverling\",\"Leverling\",\"Fuller\",\"Leverling\",\"Callahan\",\"Fuller\",\"Fuller\",\"Leverling\",\"Davolio\",\"Fuller\",\"Fuller\",\"Fuller\",\"Dudek\",\"Dudek\",\"Peacock\",\"Fuller\",\"Leverling\",\"Davolio\",\"Peacock\",\"Sowi\\u0144ski\",\"Peacock\",\"Davolio\",\"Fuller\",\"Peacock\",\"King\",\"Sowi\\u0144ski\",\"Fuller\",\"King\",\"Callahan\",\"Fuller\",\"Callahan\",\"King\",\"Davolio\",\"Leverling\",\"Fuller\",\"Kowalski\",\"Peacock\",\"Callahan\",\"King\",\"King\",\"Leverling\",\"Fuller\",\"Callahan\",\"Leverling\"],\"yaxis\":\"y\",\"ybingroup\":\"y\",\"type\":\"histogram2d\"}],                        {\"template\":{\"data\":{\"histogram2dcontour\":[{\"type\":\"histogram2dcontour\",\"colorbar\":{\"outlinewidth\":0,\"ticks\":\"\"},\"colorscale\":[[0.0,\"#0d0887\"],[0.1111111111111111,\"#46039f\"],[0.2222222222222222,\"#7201a8\"],[0.3333333333333333,\"#9c179e\"],[0.4444444444444444,\"#bd3786\"],[0.5555555555555556,\"#d8576b\"],[0.6666666666666666,\"#ed7953\"],[0.7777777777777778,\"#fb9f3a\"],[0.8888888888888888,\"#fdca26\"],[1.0,\"#f0f921\"]]}],\"choropleth\":[{\"type\":\"choropleth\",\"colorbar\":{\"outlinewidth\":0,\"ticks\":\"\"}}],\"histogram2d\":[{\"type\":\"histogram2d\",\"colorbar\":{\"outlinewidth\":0,\"ticks\":\"\"},\"colorscale\":[[0.0,\"#0d0887\"],[0.1111111111111111,\"#46039f\"],[0.2222222222222222,\"#7201a8\"],[0.3333333333333333,\"#9c179e\"],[0.4444444444444444,\"#bd3786\"],[0.5555555555555556,\"#d8576b\"],[0.6666666666666666,\"#ed7953\"],[0.7777777777777778,\"#fb9f3a\"],[0.8888888888888888,\"#fdca26\"],[1.0,\"#f0f921\"]]}],\"heatmap\":[{\"type\":\"heatmap\",\"colorbar\":{\"outlinewidth\":0,\"ticks\":\"\"},\"colorscale\":[[0.0,\"#0d0887\"],[0.1111111111111111,\"#46039f\"],[0.2222222222222222,\"#7201a8\"],[0.3333333333333333,\"#9c179e\"],[0.4444444444444444,\"#bd3786\"],[0.5555555555555556,\"#d8576b\"],[0.6666666666666666,\"#ed7953\"],[0.7777777777777778,\"#fb9f3a\"],[0.8888888888888888,\"#fdca26\"],[1.0,\"#f0f921\"]]}],\"heatmapgl\":[{\"type\":\"heatmapgl\",\"colorbar\":{\"outlinewidth\":0,\"ticks\":\"\"},\"colorscale\":[[0.0,\"#0d0887\"],[0.1111111111111111,\"#46039f\"],[0.2222222222222222,\"#7201a8\"],[0.3333333333333333,\"#9c179e\"],[0.4444444444444444,\"#bd3786\"],[0.5555555555555556,\"#d8576b\"],[0.6666666666666666,\"#ed7953\"],[0.7777777777777778,\"#fb9f3a\"],[0.8888888888888888,\"#fdca26\"],[1.0,\"#f0f921\"]]}],\"contourcarpet\":[{\"type\":\"contourcarpet\",\"colorbar\":{\"outlinewidth\":0,\"ticks\":\"\"}}],\"contour\":[{\"type\":\"contour\",\"colorbar\":{\"outlinewidth\":0,\"ticks\":\"\"},\"colorscale\":[[0.0,\"#0d0887\"],[0.1111111111111111,\"#46039f\"],[0.2222222222222222,\"#7201a8\"],[0.3333333333333333,\"#9c179e\"],[0.4444444444444444,\"#bd3786\"],[0.5555555555555556,\"#d8576b\"],[0.6666666666666666,\"#ed7953\"],[0.7777777777777778,\"#fb9f3a\"],[0.8888888888888888,\"#fdca26\"],[1.0,\"#f0f921\"]]}],\"surface\":[{\"type\":\"surface\",\"colorbar\":{\"outlinewidth\":0,\"ticks\":\"\"},\"colorscale\":[[0.0,\"#0d0887\"],[0.1111111111111111,\"#46039f\"],[0.2222222222222222,\"#7201a8\"],[0.3333333333333333,\"#9c179e\"],[0.4444444444444444,\"#bd3786\"],[0.5555555555555556,\"#d8576b\"],[0.6666666666666666,\"#ed7953\"],[0.7777777777777778,\"#fb9f3a\"],[0.8888888888888888,\"#fdca26\"],[1.0,\"#f0f921\"]]}],\"mesh3d\":[{\"type\":\"mesh3d\",\"colorbar\":{\"outlinewidth\":0,\"ticks\":\"\"}}],\"scatter\":[{\"fillpattern\":{\"fillmode\":\"overlay\",\"size\":10,\"solidity\":0.2},\"type\":\"scatter\"}],\"parcoords\":[{\"type\":\"parcoords\",\"line\":{\"colorbar\":{\"outlinewidth\":0,\"ticks\":\"\"}}}],\"scatterpolargl\":[{\"type\":\"scatterpolargl\",\"marker\":{\"colorbar\":{\"outlinewidth\":0,\"ticks\":\"\"}}}],\"bar\":[{\"error_x\":{\"color\":\"#2a3f5f\"},\"error_y\":{\"color\":\"#2a3f5f\"},\"marker\":{\"line\":{\"color\":\"#E5ECF6\",\"width\":0.5},\"pattern\":{\"fillmode\":\"overlay\",\"size\":10,\"solidity\":0.2}},\"type\":\"bar\"}],\"scattergeo\":[{\"type\":\"scattergeo\",\"marker\":{\"colorbar\":{\"outlinewidth\":0,\"ticks\":\"\"}}}],\"scatterpolar\":[{\"type\":\"scatterpolar\",\"marker\":{\"colorbar\":{\"outlinewidth\":0,\"ticks\":\"\"}}}],\"histogram\":[{\"marker\":{\"pattern\":{\"fillmode\":\"overlay\",\"size\":10,\"solidity\":0.2}},\"type\":\"histogram\"}],\"scattergl\":[{\"type\":\"scattergl\",\"marker\":{\"colorbar\":{\"outlinewidth\":0,\"ticks\":\"\"}}}],\"scatter3d\":[{\"type\":\"scatter3d\",\"line\":{\"colorbar\":{\"outlinewidth\":0,\"ticks\":\"\"}},\"marker\":{\"colorbar\":{\"outlinewidth\":0,\"ticks\":\"\"}}}],\"scattermapbox\":[{\"type\":\"scattermapbox\",\"marker\":{\"colorbar\":{\"outlinewidth\":0,\"ticks\":\"\"}}}],\"scatterternary\":[{\"type\":\"scatterternary\",\"marker\":{\"colorbar\":{\"outlinewidth\":0,\"ticks\":\"\"}}}],\"scattercarpet\":[{\"type\":\"scattercarpet\",\"marker\":{\"colorbar\":{\"outlinewidth\":0,\"ticks\":\"\"}}}],\"carpet\":[{\"aaxis\":{\"endlinecolor\":\"#2a3f5f\",\"gridcolor\":\"white\",\"linecolor\":\"white\",\"minorgridcolor\":\"white\",\"startlinecolor\":\"#2a3f5f\"},\"baxis\":{\"endlinecolor\":\"#2a3f5f\",\"gridcolor\":\"white\",\"linecolor\":\"white\",\"minorgridcolor\":\"white\",\"startlinecolor\":\"#2a3f5f\"},\"type\":\"carpet\"}],\"table\":[{\"cells\":{\"fill\":{\"color\":\"#EBF0F8\"},\"line\":{\"color\":\"white\"}},\"header\":{\"fill\":{\"color\":\"#C8D4E3\"},\"line\":{\"color\":\"white\"}},\"type\":\"table\"}],\"barpolar\":[{\"marker\":{\"line\":{\"color\":\"#E5ECF6\",\"width\":0.5},\"pattern\":{\"fillmode\":\"overlay\",\"size\":10,\"solidity\":0.2}},\"type\":\"barpolar\"}],\"pie\":[{\"automargin\":true,\"type\":\"pie\"}]},\"layout\":{\"autotypenumbers\":\"strict\",\"colorway\":[\"#636efa\",\"#EF553B\",\"#00cc96\",\"#ab63fa\",\"#FFA15A\",\"#19d3f3\",\"#FF6692\",\"#B6E880\",\"#FF97FF\",\"#FECB52\"],\"font\":{\"color\":\"#2a3f5f\"},\"hovermode\":\"closest\",\"hoverlabel\":{\"align\":\"left\"},\"paper_bgcolor\":\"white\",\"plot_bgcolor\":\"#E5ECF6\",\"polar\":{\"bgcolor\":\"#E5ECF6\",\"angularaxis\":{\"gridcolor\":\"white\",\"linecolor\":\"white\",\"ticks\":\"\"},\"radialaxis\":{\"gridcolor\":\"white\",\"linecolor\":\"white\",\"ticks\":\"\"}},\"ternary\":{\"bgcolor\":\"#E5ECF6\",\"aaxis\":{\"gridcolor\":\"white\",\"linecolor\":\"white\",\"ticks\":\"\"},\"baxis\":{\"gridcolor\":\"white\",\"linecolor\":\"white\",\"ticks\":\"\"},\"caxis\":{\"gridcolor\":\"white\",\"linecolor\":\"white\",\"ticks\":\"\"}},\"coloraxis\":{\"colorbar\":{\"outlinewidth\":0,\"ticks\":\"\"}},\"colorscale\":{\"sequential\":[[0.0,\"#0d0887\"],[0.1111111111111111,\"#46039f\"],[0.2222222222222222,\"#7201a8\"],[0.3333333333333333,\"#9c179e\"],[0.4444444444444444,\"#bd3786\"],[0.5555555555555556,\"#d8576b\"],[0.6666666666666666,\"#ed7953\"],[0.7777777777777778,\"#fb9f3a\"],[0.8888888888888888,\"#fdca26\"],[1.0,\"#f0f921\"]],\"sequentialminus\":[[0.0,\"#0d0887\"],[0.1111111111111111,\"#46039f\"],[0.2222222222222222,\"#7201a8\"],[0.3333333333333333,\"#9c179e\"],[0.4444444444444444,\"#bd3786\"],[0.5555555555555556,\"#d8576b\"],[0.6666666666666666,\"#ed7953\"],[0.7777777777777778,\"#fb9f3a\"],[0.8888888888888888,\"#fdca26\"],[1.0,\"#f0f921\"]],\"diverging\":[[0,\"#8e0152\"],[0.1,\"#c51b7d\"],[0.2,\"#de77ae\"],[0.3,\"#f1b6da\"],[0.4,\"#fde0ef\"],[0.5,\"#f7f7f7\"],[0.6,\"#e6f5d0\"],[0.7,\"#b8e186\"],[0.8,\"#7fbc41\"],[0.9,\"#4d9221\"],[1,\"#276419\"]]},\"xaxis\":{\"gridcolor\":\"white\",\"linecolor\":\"white\",\"ticks\":\"\",\"title\":{\"standoff\":15},\"zerolinecolor\":\"white\",\"automargin\":true,\"zerolinewidth\":2},\"yaxis\":{\"gridcolor\":\"white\",\"linecolor\":\"white\",\"ticks\":\"\",\"title\":{\"standoff\":15},\"zerolinecolor\":\"white\",\"automargin\":true,\"zerolinewidth\":2},\"scene\":{\"xaxis\":{\"backgroundcolor\":\"#E5ECF6\",\"gridcolor\":\"white\",\"linecolor\":\"white\",\"showbackground\":true,\"ticks\":\"\",\"zerolinecolor\":\"white\",\"gridwidth\":2},\"yaxis\":{\"backgroundcolor\":\"#E5ECF6\",\"gridcolor\":\"white\",\"linecolor\":\"white\",\"showbackground\":true,\"ticks\":\"\",\"zerolinecolor\":\"white\",\"gridwidth\":2},\"zaxis\":{\"backgroundcolor\":\"#E5ECF6\",\"gridcolor\":\"white\",\"linecolor\":\"white\",\"showbackground\":true,\"ticks\":\"\",\"zerolinecolor\":\"white\",\"gridwidth\":2}},\"shapedefaults\":{\"line\":{\"color\":\"#2a3f5f\"}},\"annotationdefaults\":{\"arrowcolor\":\"#2a3f5f\",\"arrowhead\":0,\"arrowwidth\":1},\"geo\":{\"bgcolor\":\"white\",\"landcolor\":\"#E5ECF6\",\"subunitcolor\":\"white\",\"showland\":true,\"showlakes\":true,\"lakecolor\":\"white\"},\"title\":{\"x\":0.05},\"mapbox\":{\"style\":\"light\"}}},\"xaxis\":{\"anchor\":\"y\",\"domain\":[0.0,1.0],\"title\":{\"text\":\"Utarg\"}},\"yaxis\":{\"anchor\":\"x\",\"domain\":[0.0,1.0],\"title\":{\"text\":\"Sprzedawca\"}},\"coloraxis\":{\"colorbar\":{\"title\":{\"text\":\"count\"}},\"colorscale\":[[0.0,\"#0d0887\"],[0.1111111111111111,\"#46039f\"],[0.2222222222222222,\"#7201a8\"],[0.3333333333333333,\"#9c179e\"],[0.4444444444444444,\"#bd3786\"],[0.5555555555555556,\"#d8576b\"],[0.6666666666666666,\"#ed7953\"],[0.7777777777777778,\"#fb9f3a\"],[0.8888888888888888,\"#fdca26\"],[1.0,\"#f0f921\"]]},\"legend\":{\"tracegroupgap\":0},\"margin\":{\"t\":60}},                        {\"responsive\": true}                    ).then(function(){\n",
       "                            \n",
       "var gd = document.getElementById('c92e65a2-c84d-48df-92d9-0574414e67d9');\n",
       "var x = new MutationObserver(function (mutations, observer) {{\n",
       "        var display = window.getComputedStyle(gd).display;\n",
       "        if (!display || display === 'none') {{\n",
       "            console.log([gd, 'removed!']);\n",
       "            Plotly.purge(gd);\n",
       "            observer.disconnect();\n",
       "        }}\n",
       "}});\n",
       "\n",
       "// Listen for the removal of the full notebook cells\n",
       "var notebookContainer = gd.closest('#notebook-container');\n",
       "if (notebookContainer) {{\n",
       "    x.observe(notebookContainer, {childList: true});\n",
       "}}\n",
       "\n",
       "// Listen for the clearing of the current output cell\n",
       "var outputEl = gd.closest('.output');\n",
       "if (outputEl) {{\n",
       "    x.observe(outputEl, {childList: true});\n",
       "}}\n",
       "\n",
       "                        })                };                });            </script>        </div>"
      ]
     },
     "metadata": {},
     "output_type": "display_data"
    }
   ],
   "source": [
    "fig = px.density_heatmap(df, x=\"Utarg\", y=\"Sprzedawca\", text_auto=True)\n",
    "fig.show()"
   ]
  }
 ],
 "metadata": {
  "kernelspec": {
   "display_name": "Python 3 (ipykernel)",
   "language": "python",
   "name": "python3"
  },
  "language_info": {
   "codemirror_mode": {
    "name": "ipython",
    "version": 3
   },
   "file_extension": ".py",
   "mimetype": "text/x-python",
   "name": "python",
   "nbconvert_exporter": "python",
   "pygments_lexer": "ipython3",
   "version": "3.8.10"
  }
 },
 "nbformat": 4,
 "nbformat_minor": 1
}
