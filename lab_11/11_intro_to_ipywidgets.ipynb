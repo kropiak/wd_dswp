{
 "cells": [
  {
   "cell_type": "markdown",
   "metadata": {
    "pycharm": {
     "name": "#%% md\n"
    }
   },
   "source": [
    "# Wprowadzenie do ipywidgets"
   ]
  },
  {
   "cell_type": "code",
   "execution_count": 19,
   "metadata": {
    "pycharm": {
     "name": "#%%\n"
    }
   },
   "outputs": [],
   "source": [
    "import datetime\n",
    "import numpy as np\n",
    "import pandas as pd\n",
    "\n",
    "from ipywidgets import widgets\n",
    "import plotly.graph_objects as go"
   ]
  },
  {
   "cell_type": "markdown",
   "metadata": {},
   "source": [
    "## 1. Podstawowy przykład z kontrolka typu suwak"
   ]
  },
  {
   "cell_type": "code",
   "execution_count": 2,
   "metadata": {
    "pycharm": {
     "name": "#%%\n"
    }
   },
   "outputs": [
    {
     "data": {
      "application/vnd.jupyter.widget-view+json": {
       "model_id": "1dabe3017f7e4cfc8e30ce47392ecb21",
       "version_major": 2,
       "version_minor": 0
      },
      "text/plain": [
       "IntSlider(value=7, continuous_update=False, description='Test:', max=10)"
      ]
     },
     "metadata": {},
     "output_type": "display_data"
    }
   ],
   "source": [
    "# na początek kilka przykładowych kontrolek i sposobów manipulacji wartościami niektórych ich parametrów\n",
    "# po tej deklaracji widget domyślnie powinien się wyświetlić\n",
    "widgets.IntSlider(\n",
    "    value=7, # aktualna wartość slidera\n",
    "    min=0,\n",
    "    max=10,\n",
    "    step=1, # krok zmiany wartości slidera\n",
    "    description='Test:', # opis slidera - etykieta\n",
    "    disabled=False, # możemy w razie potrzeby uniemożliwić zmianę wartości na tym widgecie\n",
    "    continuous_update=False,\n",
    "    orientation='horizontal', # slidery mogą być również zorientowane pionowo\n",
    "    readout=True, # czy pokazywać wartość slidera obok kontrolki\n",
    "    readout_format='d' # format zapisu wartości slidera obok kontrolki\n",
    ")"
   ]
  },
  {
   "cell_type": "code",
   "execution_count": 3,
   "metadata": {
    "pycharm": {
     "name": "#%%\n"
    }
   },
   "outputs": [
    {
     "data": {
      "application/vnd.jupyter.widget-view+json": {
       "model_id": "e8b558b429c64057afa6d0b20aa0c277",
       "version_major": 2,
       "version_minor": 0
      },
      "text/plain": [
       "IntSlider(value=7, continuous_update=False, description='Test:', max=120)"
      ]
     },
     "metadata": {},
     "output_type": "display_data"
    }
   ],
   "source": [
    "# powyższy sposób deklaracji ma jednak wadę, gdyż nie możemy (na razie) odwołać się do obiektu, który go reprezentuje\n",
    "# przypiszmy więc widget do zmiennej i odczytajmy jakieś wartości po zmianie\n",
    "wiek = widgets.IntSlider(\n",
    "    value=7, # aktualna wartość slidera\n",
    "    min=0,\n",
    "    max=120,\n",
    "    step=1, # krok zmiany wartości slidera\n",
    "    description='Test:', # opis slidera - etykieta\n",
    "    disabled=False, # możemy w razie potrzeby uniemożliwić zmianę wartości na tym widgecie\n",
    "    continuous_update=False,\n",
    "    orientation='horizontal', # slidery mogą być również zorientowane pionowo\n",
    "    readout=True, # czy pokazywać wartość slidera obok kontrolki\n",
    "    readout_format='d' # format zapisu wartości slidera obok kontrolki\n",
    ")\n",
    "wiek\n",
    "# korzystając z przeglądarki może być konieczne wywołanie metody display, aby widget był widoczny\n",
    "# display(wiek)"
   ]
  },
  {
   "cell_type": "code",
   "execution_count": 4,
   "metadata": {
    "pycharm": {
     "name": "#%%\n"
    }
   },
   "outputs": [
    {
     "data": {
      "text/plain": [
       "7"
      ]
     },
     "execution_count": 4,
     "metadata": {},
     "output_type": "execute_result"
    }
   ],
   "source": [
    "# odczytujemy aktualną wartość slidera\n",
    "wiek.value"
   ]
  },
  {
   "cell_type": "markdown",
   "metadata": {},
   "source": [
    "## 2. Nasłuchiwanie zdarzeń kontrolek"
   ]
  },
  {
   "cell_type": "markdown",
   "metadata": {
    "pycharm": {
     "name": "#%% md\n"
    }
   },
   "source": [
    "Nietrudno się domyślić, że pozwala to na dwustronną interakcję - odczytujemy jakieś dane, na podstawie danych deklarujemy początkowe wartości widgetu, a następnie poprzez manipulacje kontrolką możemy sczytać nowe wartości i na ich podstawie wykonać jakąś akcję. W zależności od kontrolek zgłaszane są różne eventy, których wystąpienia możemy nasłuchiwać. Musimy zarejestrować specjalny obiekt obserwatora eventów dla takiej kontrolki poprzez metodę `observe`."
   ]
  },
  {
   "cell_type": "code",
   "execution_count": 5,
   "metadata": {
    "pycharm": {
     "name": "#%%\n"
    }
   },
   "outputs": [
    {
     "name": "stdout",
     "output_type": "stream",
     "text": [
      "Setup a handler to be called when a trait changes.\n",
      "\n",
      "        This is used to setup dynamic notifications of trait changes.\n",
      "\n",
      "        Parameters\n",
      "        ----------\n",
      "        handler : callable\n",
      "            A callable that is called when a trait changes. Its\n",
      "            signature should be ``handler(change)``, where ``change`` is a\n",
      "            dictionary. The change dictionary at least holds a 'type' key.\n",
      "            * ``type``: the type of notification.\n",
      "            Other keys may be passed depending on the value of 'type'. In the\n",
      "            case where type is 'change', we also have the following keys:\n",
      "            * ``owner`` : the HasTraits instance\n",
      "            * ``old`` : the old value of the modified trait attribute\n",
      "            * ``new`` : the new value of the modified trait attribute\n",
      "            * ``name`` : the name of the modified trait attribute.\n",
      "        names : list, str, All\n",
      "            If names is All, the handler will apply to all traits.  If a list\n",
      "            of str, handler will apply to all names in the list.  If a\n",
      "            str, the handler will apply just to that name.\n",
      "        type : str, All (default: 'change')\n",
      "            The type of notification to filter by. If equal to All, then all\n",
      "            notifications are passed to the observe handler.\n",
      "        \n"
     ]
    }
   ],
   "source": [
    "# dokumentacja dla metody observe\n",
    "print(widgets.Widget.observe.__doc__)"
   ]
  },
  {
   "cell_type": "code",
   "execution_count": 6,
   "metadata": {
    "pycharm": {
     "name": "#%%\n"
    }
   },
   "outputs": [
    {
     "data": {
      "application/vnd.jupyter.widget-view+json": {
       "model_id": "7f4a08888e3647198b02d7864f8b4eb8",
       "version_major": 2,
       "version_minor": 0
      },
      "text/plain": [
       "Output()"
      ]
     },
     "metadata": {},
     "output_type": "display_data"
    }
   ],
   "source": [
    "# przykład wykorzystania dla poprzedniej kontrolki typu slider\n",
    "output = widgets.Output()\n",
    "\n",
    "display(output)\n",
    "\n",
    "def zmiana_wartosci(change):\n",
    "    with output:\n",
    "        print(f\"Aktualna wartość slidera: {change['new']}\")\n",
    "\n",
    "# rejestracja obserwatora eventu, tutaj będą przekazywane tylko wartości właściwości values danego widgetu\n",
    "wiek.observe(zmiana_wartosci, names='value')"
   ]
  },
  {
   "cell_type": "markdown",
   "metadata": {},
   "source": [
    "Nie jest to może zbyt efektowny przykład, ale skoro możemy przekazywać wartości z i do kontrolki to już nie stoi na przeszkodzie, żeby budować praktycznie dowolne interakcje pomiędzy frontendem i backendem naszego notatnika."
   ]
  },
  {
   "cell_type": "markdown",
   "metadata": {},
   "source": [
    "## 3. Manipulowanie parametrami wykresu poprzez kontrolki"
   ]
  },
  {
   "cell_type": "code",
   "execution_count": 29,
   "metadata": {},
   "outputs": [
    {
     "data": {
      "application/vnd.jupyter.widget-view+json": {
       "model_id": "4c19d464cf5b41f3aa2697f3db39aa58",
       "version_major": 2,
       "version_minor": 0
      },
      "text/plain": [
       "HBox(children=(IntRangeSlider(value=(10, 20), continuous_update=False, description='Zakres liczb losowych:'), …"
      ]
     },
     "metadata": {},
     "output_type": "display_data"
    },
    {
     "data": {
      "application/vnd.jupyter.widget-view+json": {
       "model_id": "ce34a3ad564b47e6b5032d32221b8a79",
       "version_major": 2,
       "version_minor": 0
      },
      "text/plain": [
       "FigureWidget({\n",
       "    'data': [{'name': 'Przykładowy wykres.',\n",
       "              'opacity': 0.75,\n",
       "              'type…"
      ]
     },
     "metadata": {},
     "output_type": "display_data"
    },
    {
     "name": "stdout",
     "output_type": "stream",
     "text": [
      "[70 22 15 22 97 99 39 32 92 72]\n"
     ]
    }
   ],
   "source": [
    "# będzie to prosty wykres słupkowy, który zostanie utworzony na podstawie losowo wygenerowanych wartości z przedziału\n",
    "# określonego przez kontrolki\n",
    "# rozpoczniemy od utworzenia kontrolek\n",
    "\n",
    "# kontrolka zakresu dla generatora liczb losowych\n",
    "zakres = widgets.IntRangeSlider(\n",
    "    value=[10, 20],\n",
    "    min=0,\n",
    "    max=100,\n",
    "    step=1,\n",
    "    description='Zakres liczb losowych:',\n",
    "    disabled=False,\n",
    "    continuous_update=False,\n",
    "    orientation='horizontal',\n",
    "    readout=True,\n",
    "    readout_format='d',\n",
    ")\n",
    "\n",
    "# kontrolka do wskazania ilości wartości do wylosowania\n",
    "ilosc = widgets.BoundedIntText(\n",
    "    value=10,\n",
    "    min=1,\n",
    "    max=100,\n",
    "    step=1,\n",
    "    description='Ile liczb:',\n",
    "    disabled=False\n",
    ")\n",
    "\n",
    "# wartości do wykresu\n",
    "values = np.random.randint(low=zakres.min, high=zakres.max, size=ilosc.value)\n",
    "\n",
    "# kontrolka z wykresem\n",
    "wykres = go.Histogram(x=values, opacity=0.75, name='Przykładowy wykres.')\n",
    "g = go.FigureWidget(data=wykres,\n",
    "                    layout=go.Layout(\n",
    "                        title=dict(\n",
    "                            text='Rozkład liczb losowych'\n",
    "                        ),\n",
    "                        barmode='overlay'\n",
    "                    ))\n",
    "\n",
    "# funkcja aktualizująca\n",
    "def response(change):\n",
    "    with g.batch_update():\n",
    "        values = np.random.randint(low=zakres.min, high=zakres.max, size=ilosc.value)\n",
    "        g.data[0].x = values\n",
    "        print(values)\n",
    "\n",
    "        \n",
    "# rejestracja nasłuchiwania eventu\n",
    "zakres.observe(response, names=\"value\")\n",
    "ilosc.observe(response, names=\"value\")\n",
    "        \n",
    "# zorganizujemy to w postaci pudełka poziomego\n",
    "display(widgets.HBox([zakres, ilosc]))\n",
    "g\n"
   ]
  }
 ],
 "metadata": {
  "kernelspec": {
   "display_name": "Python 3 (ipykernel)",
   "language": "python",
   "name": "python3"
  },
  "language_info": {
   "codemirror_mode": {
    "name": "ipython",
    "version": 3
   },
   "file_extension": ".py",
   "mimetype": "text/x-python",
   "name": "python",
   "nbconvert_exporter": "python",
   "pygments_lexer": "ipython3",
   "version": "3.8.10"
  }
 },
 "nbformat": 4,
 "nbformat_minor": 1
}
