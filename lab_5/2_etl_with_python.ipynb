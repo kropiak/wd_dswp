{
 "cells": [
  {
   "cell_type": "code",
   "execution_count": 141,
   "metadata": {
    "collapsed": true
   },
   "outputs": [],
   "source": [
    "import pandas as pd\n",
    "import matplotlib.pyplot as plt\n",
    "%matplotlib inline\n",
    "import seaborn as sns"
   ]
  },
  {
   "cell_type": "markdown",
   "source": [
    "# 1. Czyszczenie danych (ang. data cleaning)\n",
    "Proces czyszczenia danych jest również częścią procesu EDA, ale skupiającym się tylko na analizie danych pod kątem ich poprawności strukturalnej. Jest to pierwszy etap, w którym naprawiane są ewentualne błędy np. w kodowaniu, nazwach, formacie danych. Rozpocznijmy od pliku ['data/olympics.csv'](olympics.csv)"
   ],
   "metadata": {
    "collapsed": false,
    "pycharm": {
     "name": "#%% md\n"
    }
   }
  },
  {
   "cell_type": "code",
   "execution_count": 142,
   "outputs": [
    {
     "data": {
      "text/plain": "                   0         1     2     3     4      5         6     7     8  \\\n0                NaN  ? Summer  01 !  02 !  03 !  Total  ? Winter  01 !  02 !   \n1  Afghanistan (AFG)        13     0     0     2      2         0     0     0   \n2      Algeria (ALG)        12     5     2     8     15         3     0     0   \n3    Argentina (ARG)        23    18    24    28     70        18     0     0   \n4      Armenia (ARM)         5     1     2     9     12         6     0     0   \n\n      9     10       11    12    13    14              15  \n0  03 !  Total  ? Games  01 !  02 !  03 !  Combined total  \n1     0      0       13     0     0     2               2  \n2     0      0       15     5     2     8              15  \n3     0      0       41    18    24    28              70  \n4     0      0       11     1     2     9              12  ",
      "text/html": "<div>\n<style scoped>\n    .dataframe tbody tr th:only-of-type {\n        vertical-align: middle;\n    }\n\n    .dataframe tbody tr th {\n        vertical-align: top;\n    }\n\n    .dataframe thead th {\n        text-align: right;\n    }\n</style>\n<table border=\"1\" class=\"dataframe\">\n  <thead>\n    <tr style=\"text-align: right;\">\n      <th></th>\n      <th>0</th>\n      <th>1</th>\n      <th>2</th>\n      <th>3</th>\n      <th>4</th>\n      <th>5</th>\n      <th>6</th>\n      <th>7</th>\n      <th>8</th>\n      <th>9</th>\n      <th>10</th>\n      <th>11</th>\n      <th>12</th>\n      <th>13</th>\n      <th>14</th>\n      <th>15</th>\n    </tr>\n  </thead>\n  <tbody>\n    <tr>\n      <th>0</th>\n      <td>NaN</td>\n      <td>? Summer</td>\n      <td>01 !</td>\n      <td>02 !</td>\n      <td>03 !</td>\n      <td>Total</td>\n      <td>? Winter</td>\n      <td>01 !</td>\n      <td>02 !</td>\n      <td>03 !</td>\n      <td>Total</td>\n      <td>? Games</td>\n      <td>01 !</td>\n      <td>02 !</td>\n      <td>03 !</td>\n      <td>Combined total</td>\n    </tr>\n    <tr>\n      <th>1</th>\n      <td>Afghanistan (AFG)</td>\n      <td>13</td>\n      <td>0</td>\n      <td>0</td>\n      <td>2</td>\n      <td>2</td>\n      <td>0</td>\n      <td>0</td>\n      <td>0</td>\n      <td>0</td>\n      <td>0</td>\n      <td>13</td>\n      <td>0</td>\n      <td>0</td>\n      <td>2</td>\n      <td>2</td>\n    </tr>\n    <tr>\n      <th>2</th>\n      <td>Algeria (ALG)</td>\n      <td>12</td>\n      <td>5</td>\n      <td>2</td>\n      <td>8</td>\n      <td>15</td>\n      <td>3</td>\n      <td>0</td>\n      <td>0</td>\n      <td>0</td>\n      <td>0</td>\n      <td>15</td>\n      <td>5</td>\n      <td>2</td>\n      <td>8</td>\n      <td>15</td>\n    </tr>\n    <tr>\n      <th>3</th>\n      <td>Argentina (ARG)</td>\n      <td>23</td>\n      <td>18</td>\n      <td>24</td>\n      <td>28</td>\n      <td>70</td>\n      <td>18</td>\n      <td>0</td>\n      <td>0</td>\n      <td>0</td>\n      <td>0</td>\n      <td>41</td>\n      <td>18</td>\n      <td>24</td>\n      <td>28</td>\n      <td>70</td>\n    </tr>\n    <tr>\n      <th>4</th>\n      <td>Armenia (ARM)</td>\n      <td>5</td>\n      <td>1</td>\n      <td>2</td>\n      <td>9</td>\n      <td>12</td>\n      <td>6</td>\n      <td>0</td>\n      <td>0</td>\n      <td>0</td>\n      <td>0</td>\n      <td>11</td>\n      <td>1</td>\n      <td>2</td>\n      <td>9</td>\n      <td>12</td>\n    </tr>\n  </tbody>\n</table>\n</div>"
     },
     "execution_count": 142,
     "metadata": {},
     "output_type": "execute_result"
    }
   ],
   "source": [
    "df = pd.read_csv('data/olympics.csv')\n",
    "df.head()"
   ],
   "metadata": {
    "collapsed": false,
    "pycharm": {
     "name": "#%%\n"
    }
   }
  },
  {
   "cell_type": "markdown",
   "source": [
    "Jak widać dwa pierwsze wiersze wprowadzają pewien bałagan w sposobie etykietowania kolumn. Wczytując dane do DataFrame możemy wskazać wiersz nagłówkowy."
   ],
   "metadata": {
    "collapsed": false,
    "pycharm": {
     "name": "#%% md\n"
    }
   }
  },
  {
   "cell_type": "code",
   "execution_count": 143,
   "outputs": [
    {
     "data": {
      "text/plain": "                Unnamed: 0  ? Summer  01 !  02 !  03 !  Total  ? Winter  \\\n0        Afghanistan (AFG)        13     0     0     2      2         0   \n1            Algeria (ALG)        12     5     2     8     15         3   \n2          Argentina (ARG)        23    18    24    28     70        18   \n3            Armenia (ARM)         5     1     2     9     12         6   \n4  Australasia (ANZ) [ANZ]         2     3     4     5     12         0   \n\n   01 !.1  02 !.1  03 !.1  Total.1  ? Games  01 !.2  02 !.2  03 !.2  \\\n0       0       0       0        0       13       0       0       2   \n1       0       0       0        0       15       5       2       8   \n2       0       0       0        0       41      18      24      28   \n3       0       0       0        0       11       1       2       9   \n4       0       0       0        0        2       3       4       5   \n\n   Combined total  \n0               2  \n1              15  \n2              70  \n3              12  \n4              12  ",
      "text/html": "<div>\n<style scoped>\n    .dataframe tbody tr th:only-of-type {\n        vertical-align: middle;\n    }\n\n    .dataframe tbody tr th {\n        vertical-align: top;\n    }\n\n    .dataframe thead th {\n        text-align: right;\n    }\n</style>\n<table border=\"1\" class=\"dataframe\">\n  <thead>\n    <tr style=\"text-align: right;\">\n      <th></th>\n      <th>Unnamed: 0</th>\n      <th>? Summer</th>\n      <th>01 !</th>\n      <th>02 !</th>\n      <th>03 !</th>\n      <th>Total</th>\n      <th>? Winter</th>\n      <th>01 !.1</th>\n      <th>02 !.1</th>\n      <th>03 !.1</th>\n      <th>Total.1</th>\n      <th>? Games</th>\n      <th>01 !.2</th>\n      <th>02 !.2</th>\n      <th>03 !.2</th>\n      <th>Combined total</th>\n    </tr>\n  </thead>\n  <tbody>\n    <tr>\n      <th>0</th>\n      <td>Afghanistan (AFG)</td>\n      <td>13</td>\n      <td>0</td>\n      <td>0</td>\n      <td>2</td>\n      <td>2</td>\n      <td>0</td>\n      <td>0</td>\n      <td>0</td>\n      <td>0</td>\n      <td>0</td>\n      <td>13</td>\n      <td>0</td>\n      <td>0</td>\n      <td>2</td>\n      <td>2</td>\n    </tr>\n    <tr>\n      <th>1</th>\n      <td>Algeria (ALG)</td>\n      <td>12</td>\n      <td>5</td>\n      <td>2</td>\n      <td>8</td>\n      <td>15</td>\n      <td>3</td>\n      <td>0</td>\n      <td>0</td>\n      <td>0</td>\n      <td>0</td>\n      <td>15</td>\n      <td>5</td>\n      <td>2</td>\n      <td>8</td>\n      <td>15</td>\n    </tr>\n    <tr>\n      <th>2</th>\n      <td>Argentina (ARG)</td>\n      <td>23</td>\n      <td>18</td>\n      <td>24</td>\n      <td>28</td>\n      <td>70</td>\n      <td>18</td>\n      <td>0</td>\n      <td>0</td>\n      <td>0</td>\n      <td>0</td>\n      <td>41</td>\n      <td>18</td>\n      <td>24</td>\n      <td>28</td>\n      <td>70</td>\n    </tr>\n    <tr>\n      <th>3</th>\n      <td>Armenia (ARM)</td>\n      <td>5</td>\n      <td>1</td>\n      <td>2</td>\n      <td>9</td>\n      <td>12</td>\n      <td>6</td>\n      <td>0</td>\n      <td>0</td>\n      <td>0</td>\n      <td>0</td>\n      <td>11</td>\n      <td>1</td>\n      <td>2</td>\n      <td>9</td>\n      <td>12</td>\n    </tr>\n    <tr>\n      <th>4</th>\n      <td>Australasia (ANZ) [ANZ]</td>\n      <td>2</td>\n      <td>3</td>\n      <td>4</td>\n      <td>5</td>\n      <td>12</td>\n      <td>0</td>\n      <td>0</td>\n      <td>0</td>\n      <td>0</td>\n      <td>0</td>\n      <td>2</td>\n      <td>3</td>\n      <td>4</td>\n      <td>5</td>\n      <td>12</td>\n    </tr>\n  </tbody>\n</table>\n</div>"
     },
     "execution_count": 143,
     "metadata": {},
     "output_type": "execute_result"
    }
   ],
   "source": [
    "df = pd.read_csv('data/olympics.csv', header=1)\n",
    "df.head()"
   ],
   "metadata": {
    "collapsed": false,
    "pycharm": {
     "name": "#%%\n"
    }
   }
  },
  {
   "cell_type": "markdown",
   "source": [
    "Mimo to nazwy kolumn nadal nie są jednoznaczne i posiadają znaki, które są tam raczej zbędne. Aby zrozumieć strukturę tych danych należy prześledzić stronę źródłową z danymi: [https://en.wikipedia.org/wiki/All-time_Olympic_Games_medal_table](https://en.wikipedia.org/wiki/All-time_Olympic_Games_medal_table). Pozostańmy przy nazwach angielskich."
   ],
   "metadata": {
    "collapsed": false,
    "pycharm": {
     "name": "#%% md\n"
    }
   }
  },
  {
   "cell_type": "code",
   "execution_count": 144,
   "outputs": [
    {
     "data": {
      "text/plain": "Index(['Unnamed: 0', '? Summer', '01 !', '02 !', '03 !', 'Total', '? Winter',\n       '01 !.1', '02 !.1', '03 !.1', 'Total.1', '? Games', '01 !.2', '02 !.2',\n       '03 !.2', 'Combined total'],\n      dtype='object')"
     },
     "execution_count": 144,
     "metadata": {},
     "output_type": "execute_result"
    }
   ],
   "source": [
    "# kolumny DataFrame\n",
    "df.columns"
   ],
   "metadata": {
    "collapsed": false,
    "pycharm": {
     "name": "#%%\n"
    }
   }
  },
  {
   "cell_type": "code",
   "execution_count": 145,
   "outputs": [],
   "source": [
    "# obiekt typu Index, który przechowuje nazwy kolumn nie jest mutowalny, więc poniższy kod nie zadziała\n",
    "# df.columns[0] = 'Country'\n",
    "# df.columns"
   ],
   "metadata": {
    "collapsed": false,
    "pycharm": {
     "name": "#%%\n"
    }
   }
  },
  {
   "cell_type": "code",
   "execution_count": 146,
   "outputs": [
    {
     "data": {
      "text/plain": "                   Country  ? Summer  01 !  02 !  03 !  Total  ? Winter  \\\n0        Afghanistan (AFG)        13     0     0     2      2         0   \n1            Algeria (ALG)        12     5     2     8     15         3   \n2          Argentina (ARG)        23    18    24    28     70        18   \n3            Armenia (ARM)         5     1     2     9     12         6   \n4  Australasia (ANZ) [ANZ]         2     3     4     5     12         0   \n\n   01 !.1  02 !.1  03 !.1  Total.1  ? Games  01 !.2  02 !.2  03 !.2  \\\n0       0       0       0        0       13       0       0       2   \n1       0       0       0        0       15       5       2       8   \n2       0       0       0        0       41      18      24      28   \n3       0       0       0        0       11       1       2       9   \n4       0       0       0        0        2       3       4       5   \n\n   Combined total  \n0               2  \n1              15  \n2              70  \n3              12  \n4              12  ",
      "text/html": "<div>\n<style scoped>\n    .dataframe tbody tr th:only-of-type {\n        vertical-align: middle;\n    }\n\n    .dataframe tbody tr th {\n        vertical-align: top;\n    }\n\n    .dataframe thead th {\n        text-align: right;\n    }\n</style>\n<table border=\"1\" class=\"dataframe\">\n  <thead>\n    <tr style=\"text-align: right;\">\n      <th></th>\n      <th>Country</th>\n      <th>? Summer</th>\n      <th>01 !</th>\n      <th>02 !</th>\n      <th>03 !</th>\n      <th>Total</th>\n      <th>? Winter</th>\n      <th>01 !.1</th>\n      <th>02 !.1</th>\n      <th>03 !.1</th>\n      <th>Total.1</th>\n      <th>? Games</th>\n      <th>01 !.2</th>\n      <th>02 !.2</th>\n      <th>03 !.2</th>\n      <th>Combined total</th>\n    </tr>\n  </thead>\n  <tbody>\n    <tr>\n      <th>0</th>\n      <td>Afghanistan (AFG)</td>\n      <td>13</td>\n      <td>0</td>\n      <td>0</td>\n      <td>2</td>\n      <td>2</td>\n      <td>0</td>\n      <td>0</td>\n      <td>0</td>\n      <td>0</td>\n      <td>0</td>\n      <td>13</td>\n      <td>0</td>\n      <td>0</td>\n      <td>2</td>\n      <td>2</td>\n    </tr>\n    <tr>\n      <th>1</th>\n      <td>Algeria (ALG)</td>\n      <td>12</td>\n      <td>5</td>\n      <td>2</td>\n      <td>8</td>\n      <td>15</td>\n      <td>3</td>\n      <td>0</td>\n      <td>0</td>\n      <td>0</td>\n      <td>0</td>\n      <td>15</td>\n      <td>5</td>\n      <td>2</td>\n      <td>8</td>\n      <td>15</td>\n    </tr>\n    <tr>\n      <th>2</th>\n      <td>Argentina (ARG)</td>\n      <td>23</td>\n      <td>18</td>\n      <td>24</td>\n      <td>28</td>\n      <td>70</td>\n      <td>18</td>\n      <td>0</td>\n      <td>0</td>\n      <td>0</td>\n      <td>0</td>\n      <td>41</td>\n      <td>18</td>\n      <td>24</td>\n      <td>28</td>\n      <td>70</td>\n    </tr>\n    <tr>\n      <th>3</th>\n      <td>Armenia (ARM)</td>\n      <td>5</td>\n      <td>1</td>\n      <td>2</td>\n      <td>9</td>\n      <td>12</td>\n      <td>6</td>\n      <td>0</td>\n      <td>0</td>\n      <td>0</td>\n      <td>0</td>\n      <td>11</td>\n      <td>1</td>\n      <td>2</td>\n      <td>9</td>\n      <td>12</td>\n    </tr>\n    <tr>\n      <th>4</th>\n      <td>Australasia (ANZ) [ANZ]</td>\n      <td>2</td>\n      <td>3</td>\n      <td>4</td>\n      <td>5</td>\n      <td>12</td>\n      <td>0</td>\n      <td>0</td>\n      <td>0</td>\n      <td>0</td>\n      <td>0</td>\n      <td>2</td>\n      <td>3</td>\n      <td>4</td>\n      <td>5</td>\n      <td>12</td>\n    </tr>\n  </tbody>\n</table>\n</div>"
     },
     "execution_count": 146,
     "metadata": {},
     "output_type": "execute_result"
    }
   ],
   "source": [
    "# możemy natomiast wykorzystać metodę rename\n",
    "df.rename(columns={'Unnamed: 0': 'Country'}, inplace=True)\n",
    "df.head()"
   ],
   "metadata": {
    "collapsed": false,
    "pycharm": {
     "name": "#%%\n"
    }
   }
  },
  {
   "cell_type": "code",
   "execution_count": 147,
   "outputs": [
    {
     "data": {
      "text/plain": "                   Country  Summer games  Summer Gold  Summer Silver  \\\n0        Afghanistan (AFG)            13            0              0   \n1            Algeria (ALG)            12            5              2   \n2          Argentina (ARG)            23           18             24   \n3            Armenia (ARM)             5            1              2   \n4  Australasia (ANZ) [ANZ]             2            3              4   \n\n   Summer bronze  Summer Total  Winter games  Winter Gold  Winter silver  \\\n0              2             2             0            0              0   \n1              8            15             3            0              0   \n2             28            70            18            0              0   \n3              9            12             6            0              0   \n4              5            12             0            0              0   \n\n   Winter Bronze  Winter total  Games total  Gold total  Silver total  \\\n0              0             0           13           0             0   \n1              0             0           15           5             2   \n2              0             0           41          18            24   \n3              0             0           11           1             2   \n4              0             0            2           3             4   \n\n   Bronze total  Combined total  \n0             2               2  \n1             8              15  \n2            28              70  \n3             9              12  \n4             5              12  ",
      "text/html": "<div>\n<style scoped>\n    .dataframe tbody tr th:only-of-type {\n        vertical-align: middle;\n    }\n\n    .dataframe tbody tr th {\n        vertical-align: top;\n    }\n\n    .dataframe thead th {\n        text-align: right;\n    }\n</style>\n<table border=\"1\" class=\"dataframe\">\n  <thead>\n    <tr style=\"text-align: right;\">\n      <th></th>\n      <th>Country</th>\n      <th>Summer games</th>\n      <th>Summer Gold</th>\n      <th>Summer Silver</th>\n      <th>Summer bronze</th>\n      <th>Summer Total</th>\n      <th>Winter games</th>\n      <th>Winter Gold</th>\n      <th>Winter silver</th>\n      <th>Winter Bronze</th>\n      <th>Winter total</th>\n      <th>Games total</th>\n      <th>Gold total</th>\n      <th>Silver total</th>\n      <th>Bronze total</th>\n      <th>Combined total</th>\n    </tr>\n  </thead>\n  <tbody>\n    <tr>\n      <th>0</th>\n      <td>Afghanistan (AFG)</td>\n      <td>13</td>\n      <td>0</td>\n      <td>0</td>\n      <td>2</td>\n      <td>2</td>\n      <td>0</td>\n      <td>0</td>\n      <td>0</td>\n      <td>0</td>\n      <td>0</td>\n      <td>13</td>\n      <td>0</td>\n      <td>0</td>\n      <td>2</td>\n      <td>2</td>\n    </tr>\n    <tr>\n      <th>1</th>\n      <td>Algeria (ALG)</td>\n      <td>12</td>\n      <td>5</td>\n      <td>2</td>\n      <td>8</td>\n      <td>15</td>\n      <td>3</td>\n      <td>0</td>\n      <td>0</td>\n      <td>0</td>\n      <td>0</td>\n      <td>15</td>\n      <td>5</td>\n      <td>2</td>\n      <td>8</td>\n      <td>15</td>\n    </tr>\n    <tr>\n      <th>2</th>\n      <td>Argentina (ARG)</td>\n      <td>23</td>\n      <td>18</td>\n      <td>24</td>\n      <td>28</td>\n      <td>70</td>\n      <td>18</td>\n      <td>0</td>\n      <td>0</td>\n      <td>0</td>\n      <td>0</td>\n      <td>41</td>\n      <td>18</td>\n      <td>24</td>\n      <td>28</td>\n      <td>70</td>\n    </tr>\n    <tr>\n      <th>3</th>\n      <td>Armenia (ARM)</td>\n      <td>5</td>\n      <td>1</td>\n      <td>2</td>\n      <td>9</td>\n      <td>12</td>\n      <td>6</td>\n      <td>0</td>\n      <td>0</td>\n      <td>0</td>\n      <td>0</td>\n      <td>11</td>\n      <td>1</td>\n      <td>2</td>\n      <td>9</td>\n      <td>12</td>\n    </tr>\n    <tr>\n      <th>4</th>\n      <td>Australasia (ANZ) [ANZ]</td>\n      <td>2</td>\n      <td>3</td>\n      <td>4</td>\n      <td>5</td>\n      <td>12</td>\n      <td>0</td>\n      <td>0</td>\n      <td>0</td>\n      <td>0</td>\n      <td>0</td>\n      <td>2</td>\n      <td>3</td>\n      <td>4</td>\n      <td>5</td>\n      <td>12</td>\n    </tr>\n  </tbody>\n</table>\n</div>"
     },
     "execution_count": 147,
     "metadata": {},
     "output_type": "execute_result"
    }
   ],
   "source": [
    "# jeżeli jednak ta zamiana ma dotyczyć niemal wszystkich kolumn to powyższa metoda jest dość pracochłonna\n",
    "# możemy po prostu przekazać nowy wektor kolumn\n",
    "# tworzymy kopię ramki na potrzeby kolejnych przykładów\n",
    "df_copy = df.copy()\n",
    "new_columns = ['Country','Summer games', 'Summer Gold', 'Summer Silver', 'Summer bronze', 'Summer Total', 'Winter games', 'Winter Gold', 'Winter silver', 'Winter Bronze', 'Winter total', 'Games total', 'Gold total', 'Silver total', 'Bronze total','Combined total']\n",
    "df.columns = new_columns\n",
    "df.head()"
   ],
   "metadata": {
    "collapsed": false,
    "pycharm": {
     "name": "#%%\n"
    }
   }
  },
  {
   "cell_type": "code",
   "execution_count": 148,
   "outputs": [
    {
     "data": {
      "text/plain": "(array(['Country', '? Summer', '01 !', '02 !', '03 !', 'Total', '? Winter',\n        '01 !.1', '02 !.1', '03 !.1', 'Total.1', '? Games', '01 !.2',\n        '02 !.2', '03 !.2', 'Combined total'], dtype=object),\n ['Country',\n  'Summer',\n  '01',\n  '02',\n  '03',\n  'Total',\n  'Winter',\n  '01.1',\n  '02.1',\n  '03.1',\n  'Total.1',\n  'Games',\n  '01.2',\n  '02.2',\n  '03.2',\n  'Combined total'])"
     },
     "execution_count": 148,
     "metadata": {},
     "output_type": "execute_result"
    }
   ],
   "source": [
    "# możemy też pobrać wszystkie dotychczasowe nazwy kolumn i dokonać przekształceń\n",
    "old_columns = df_copy.columns.values\n",
    "new_columns = [col.replace('? ', '').replace(' !','') for col in old_columns]\n",
    "\n",
    "old_columns, new_columns"
   ],
   "metadata": {
    "collapsed": false,
    "pycharm": {
     "name": "#%%\n"
    }
   }
  },
  {
   "cell_type": "code",
   "execution_count": 149,
   "outputs": [
    {
     "data": {
      "text/plain": "                   Country  Summer  01  02  03  Total  Winter  01.1  02.1  \\\n0        Afghanistan (AFG)      13   0   0   2      2       0     0     0   \n1            Algeria (ALG)      12   5   2   8     15       3     0     0   \n2          Argentina (ARG)      23  18  24  28     70      18     0     0   \n3            Armenia (ARM)       5   1   2   9     12       6     0     0   \n4  Australasia (ANZ) [ANZ]       2   3   4   5     12       0     0     0   \n\n   03.1  Total.1  Games  01.2  02.2  03.2  Combined total  \n0     0        0     13     0     0     2               2  \n1     0        0     15     5     2     8              15  \n2     0        0     41    18    24    28              70  \n3     0        0     11     1     2     9              12  \n4     0        0      2     3     4     5              12  ",
      "text/html": "<div>\n<style scoped>\n    .dataframe tbody tr th:only-of-type {\n        vertical-align: middle;\n    }\n\n    .dataframe tbody tr th {\n        vertical-align: top;\n    }\n\n    .dataframe thead th {\n        text-align: right;\n    }\n</style>\n<table border=\"1\" class=\"dataframe\">\n  <thead>\n    <tr style=\"text-align: right;\">\n      <th></th>\n      <th>Country</th>\n      <th>Summer</th>\n      <th>01</th>\n      <th>02</th>\n      <th>03</th>\n      <th>Total</th>\n      <th>Winter</th>\n      <th>01.1</th>\n      <th>02.1</th>\n      <th>03.1</th>\n      <th>Total.1</th>\n      <th>Games</th>\n      <th>01.2</th>\n      <th>02.2</th>\n      <th>03.2</th>\n      <th>Combined total</th>\n    </tr>\n  </thead>\n  <tbody>\n    <tr>\n      <th>0</th>\n      <td>Afghanistan (AFG)</td>\n      <td>13</td>\n      <td>0</td>\n      <td>0</td>\n      <td>2</td>\n      <td>2</td>\n      <td>0</td>\n      <td>0</td>\n      <td>0</td>\n      <td>0</td>\n      <td>0</td>\n      <td>13</td>\n      <td>0</td>\n      <td>0</td>\n      <td>2</td>\n      <td>2</td>\n    </tr>\n    <tr>\n      <th>1</th>\n      <td>Algeria (ALG)</td>\n      <td>12</td>\n      <td>5</td>\n      <td>2</td>\n      <td>8</td>\n      <td>15</td>\n      <td>3</td>\n      <td>0</td>\n      <td>0</td>\n      <td>0</td>\n      <td>0</td>\n      <td>15</td>\n      <td>5</td>\n      <td>2</td>\n      <td>8</td>\n      <td>15</td>\n    </tr>\n    <tr>\n      <th>2</th>\n      <td>Argentina (ARG)</td>\n      <td>23</td>\n      <td>18</td>\n      <td>24</td>\n      <td>28</td>\n      <td>70</td>\n      <td>18</td>\n      <td>0</td>\n      <td>0</td>\n      <td>0</td>\n      <td>0</td>\n      <td>41</td>\n      <td>18</td>\n      <td>24</td>\n      <td>28</td>\n      <td>70</td>\n    </tr>\n    <tr>\n      <th>3</th>\n      <td>Armenia (ARM)</td>\n      <td>5</td>\n      <td>1</td>\n      <td>2</td>\n      <td>9</td>\n      <td>12</td>\n      <td>6</td>\n      <td>0</td>\n      <td>0</td>\n      <td>0</td>\n      <td>0</td>\n      <td>11</td>\n      <td>1</td>\n      <td>2</td>\n      <td>9</td>\n      <td>12</td>\n    </tr>\n    <tr>\n      <th>4</th>\n      <td>Australasia (ANZ) [ANZ]</td>\n      <td>2</td>\n      <td>3</td>\n      <td>4</td>\n      <td>5</td>\n      <td>12</td>\n      <td>0</td>\n      <td>0</td>\n      <td>0</td>\n      <td>0</td>\n      <td>0</td>\n      <td>2</td>\n      <td>3</td>\n      <td>4</td>\n      <td>5</td>\n      <td>12</td>\n    </tr>\n  </tbody>\n</table>\n</div>"
     },
     "execution_count": 149,
     "metadata": {},
     "output_type": "execute_result"
    }
   ],
   "source": [
    "# i ponownie przypisać do ramki danych\n",
    "df_copy.columns = new_columns\n",
    "df_copy.head()"
   ],
   "metadata": {
    "collapsed": false,
    "pycharm": {
     "name": "#%%\n"
    }
   }
  },
  {
   "cell_type": "code",
   "execution_count": 150,
   "outputs": [
    {
     "data": {
      "text/plain": "0                                 Afghanistan (AFG)\n1                                     Algeria (ALG)\n2                                   Argentina (ARG)\n3                                     Armenia (ARM)\n4                           Australasia (ANZ) [ANZ]\n                           ...                     \n142    Independent Olympic Participants (IOP) [IOP]\n143                              Zambia (ZAM) [ZAM]\n144                            Zimbabwe (ZIM) [ZIM]\n145                          Mixed team (ZZX) [ZZX]\n146                                          Totals\nName: Country, Length: 147, dtype: object"
     },
     "execution_count": 150,
     "metadata": {},
     "output_type": "execute_result"
    }
   ],
   "source": [
    "# Można jeszcze dokonać przekształcenia kolumny Country, pozostawiając tylko nazwę kraju a skrót przenieść do oddzielnej kolumny.\n",
    "df.Country"
   ],
   "metadata": {
    "collapsed": false,
    "pycharm": {
     "name": "#%%\n"
    }
   }
  },
  {
   "cell_type": "code",
   "execution_count": 151,
   "outputs": [
    {
     "data": {
      "text/plain": "[('Afghanistan ', 'AFG'),\n ('Algeria ', 'ALG'),\n ('Argentina ', 'ARG'),\n ('Armenia ', 'ARM'),\n ('Australasia ', 'ANZ'),\n ('Australia ', 'AUS'),\n ('Austria ', 'AUT'),\n ('Azerbaijan ', 'AZE'),\n ('Bahamas ', 'BAH'),\n ('Bahrain ', 'BRN')]"
     },
     "execution_count": 151,
     "metadata": {},
     "output_type": "execute_result"
    }
   ],
   "source": [
    "# Kilka sytuacji, które musimy wziąć pod uwagę:\n",
    "# 1. wiersze, w których skróty występują podwójnie - w nawiasie kwadratowym i zwykłym - na potrzeby zadania przyjmijmy, że potrzebne są tylko nazwy z nawiasów zwykłych\n",
    "# 2. nazwy krajów bywają wieloczłonowe\n",
    "# Ważne jest też to, że w ostatnim wierszu widnieje wiersz podsumowania, którego nie chcemy\n",
    "# Przyjąłem następujące podejście:\n",
    "# 1 - wyszukuję pierwsze wystąpienie znaku ( i tekst poprzedzający umieszczam w wektorze nazw krajów\n",
    "# 2 - tekst pomiędzy '(' a ')' umieszcza w wektorze skrótów\n",
    "\n",
    "country_and_shortcut = [(line[:line.find('(')], line[line.find('(')+1:line.find(')')]) for line in df.Country.values[:-1]]\n",
    "country_and_shortcut[:10]"
   ],
   "metadata": {
    "collapsed": false,
    "pycharm": {
     "name": "#%%\n"
    }
   }
  },
  {
   "cell_type": "code",
   "execution_count": 152,
   "outputs": [
    {
     "data": {
      "text/plain": "        Country  Summer games  Summer Gold  Summer Silver  Summer bronze  \\\n0  Afghanistan             13            0              0              2   \n1      Algeria             12            5              2              8   \n2    Argentina             23           18             24             28   \n3      Armenia              5            1              2              9   \n4  Australasia              2            3              4              5   \n\n   Summer Total  Winter games  Winter Gold  Winter silver  Winter Bronze  \\\n0             2             0            0              0              0   \n1            15             3            0              0              0   \n2            70            18            0              0              0   \n3            12             6            0              0              0   \n4            12             0            0              0              0   \n\n   Winter total  Games total  Gold total  Silver total  Bronze total  \\\n0             0           13           0             0             2   \n1             0           15           5             2             8   \n2             0           41          18            24            28   \n3             0           11           1             2             9   \n4             0            2           3             4             5   \n\n   Combined total  \n0               2  \n1              15  \n2              70  \n3              12  \n4              12  ",
      "text/html": "<div>\n<style scoped>\n    .dataframe tbody tr th:only-of-type {\n        vertical-align: middle;\n    }\n\n    .dataframe tbody tr th {\n        vertical-align: top;\n    }\n\n    .dataframe thead th {\n        text-align: right;\n    }\n</style>\n<table border=\"1\" class=\"dataframe\">\n  <thead>\n    <tr style=\"text-align: right;\">\n      <th></th>\n      <th>Country</th>\n      <th>Summer games</th>\n      <th>Summer Gold</th>\n      <th>Summer Silver</th>\n      <th>Summer bronze</th>\n      <th>Summer Total</th>\n      <th>Winter games</th>\n      <th>Winter Gold</th>\n      <th>Winter silver</th>\n      <th>Winter Bronze</th>\n      <th>Winter total</th>\n      <th>Games total</th>\n      <th>Gold total</th>\n      <th>Silver total</th>\n      <th>Bronze total</th>\n      <th>Combined total</th>\n    </tr>\n  </thead>\n  <tbody>\n    <tr>\n      <th>0</th>\n      <td>Afghanistan</td>\n      <td>13</td>\n      <td>0</td>\n      <td>0</td>\n      <td>2</td>\n      <td>2</td>\n      <td>0</td>\n      <td>0</td>\n      <td>0</td>\n      <td>0</td>\n      <td>0</td>\n      <td>13</td>\n      <td>0</td>\n      <td>0</td>\n      <td>2</td>\n      <td>2</td>\n    </tr>\n    <tr>\n      <th>1</th>\n      <td>Algeria</td>\n      <td>12</td>\n      <td>5</td>\n      <td>2</td>\n      <td>8</td>\n      <td>15</td>\n      <td>3</td>\n      <td>0</td>\n      <td>0</td>\n      <td>0</td>\n      <td>0</td>\n      <td>15</td>\n      <td>5</td>\n      <td>2</td>\n      <td>8</td>\n      <td>15</td>\n    </tr>\n    <tr>\n      <th>2</th>\n      <td>Argentina</td>\n      <td>23</td>\n      <td>18</td>\n      <td>24</td>\n      <td>28</td>\n      <td>70</td>\n      <td>18</td>\n      <td>0</td>\n      <td>0</td>\n      <td>0</td>\n      <td>0</td>\n      <td>41</td>\n      <td>18</td>\n      <td>24</td>\n      <td>28</td>\n      <td>70</td>\n    </tr>\n    <tr>\n      <th>3</th>\n      <td>Armenia</td>\n      <td>5</td>\n      <td>1</td>\n      <td>2</td>\n      <td>9</td>\n      <td>12</td>\n      <td>6</td>\n      <td>0</td>\n      <td>0</td>\n      <td>0</td>\n      <td>0</td>\n      <td>11</td>\n      <td>1</td>\n      <td>2</td>\n      <td>9</td>\n      <td>12</td>\n    </tr>\n    <tr>\n      <th>4</th>\n      <td>Australasia</td>\n      <td>2</td>\n      <td>3</td>\n      <td>4</td>\n      <td>5</td>\n      <td>12</td>\n      <td>0</td>\n      <td>0</td>\n      <td>0</td>\n      <td>0</td>\n      <td>0</td>\n      <td>2</td>\n      <td>3</td>\n      <td>4</td>\n      <td>5</td>\n      <td>12</td>\n    </tr>\n  </tbody>\n</table>\n</div>"
     },
     "execution_count": 152,
     "metadata": {},
     "output_type": "execute_result"
    }
   ],
   "source": [
    "df['Country'] = [item[0] for item in country_and_shortcut] + [df.Country.values[-1]]\n",
    "df.head()"
   ],
   "metadata": {
    "collapsed": false,
    "pycharm": {
     "name": "#%%\n"
    }
   }
  },
  {
   "cell_type": "code",
   "execution_count": 153,
   "outputs": [
    {
     "data": {
      "text/plain": "        Country  Summer games  Summer Gold  Summer Silver  Summer bronze  \\\n0  Afghanistan             13            0              0              2   \n1      Algeria             12            5              2              8   \n2    Argentina             23           18             24             28   \n3      Armenia              5            1              2              9   \n4  Australasia              2            3              4              5   \n\n   Summer Total  Winter games  Winter Gold  Winter silver  Winter Bronze  \\\n0             2             0            0              0              0   \n1            15             3            0              0              0   \n2            70            18            0              0              0   \n3            12             6            0              0              0   \n4            12             0            0              0              0   \n\n   Winter total  Games total  Gold total  Silver total  Bronze total  \\\n0             0           13           0             0             2   \n1             0           15           5             2             8   \n2             0           41          18            24            28   \n3             0           11           1             2             9   \n4             0            2           3             4             5   \n\n   Combined total Shortcut  \n0               2      AFG  \n1              15      ALG  \n2              70      ARG  \n3              12      ARM  \n4              12      ANZ  ",
      "text/html": "<div>\n<style scoped>\n    .dataframe tbody tr th:only-of-type {\n        vertical-align: middle;\n    }\n\n    .dataframe tbody tr th {\n        vertical-align: top;\n    }\n\n    .dataframe thead th {\n        text-align: right;\n    }\n</style>\n<table border=\"1\" class=\"dataframe\">\n  <thead>\n    <tr style=\"text-align: right;\">\n      <th></th>\n      <th>Country</th>\n      <th>Summer games</th>\n      <th>Summer Gold</th>\n      <th>Summer Silver</th>\n      <th>Summer bronze</th>\n      <th>Summer Total</th>\n      <th>Winter games</th>\n      <th>Winter Gold</th>\n      <th>Winter silver</th>\n      <th>Winter Bronze</th>\n      <th>Winter total</th>\n      <th>Games total</th>\n      <th>Gold total</th>\n      <th>Silver total</th>\n      <th>Bronze total</th>\n      <th>Combined total</th>\n      <th>Shortcut</th>\n    </tr>\n  </thead>\n  <tbody>\n    <tr>\n      <th>0</th>\n      <td>Afghanistan</td>\n      <td>13</td>\n      <td>0</td>\n      <td>0</td>\n      <td>2</td>\n      <td>2</td>\n      <td>0</td>\n      <td>0</td>\n      <td>0</td>\n      <td>0</td>\n      <td>0</td>\n      <td>13</td>\n      <td>0</td>\n      <td>0</td>\n      <td>2</td>\n      <td>2</td>\n      <td>AFG</td>\n    </tr>\n    <tr>\n      <th>1</th>\n      <td>Algeria</td>\n      <td>12</td>\n      <td>5</td>\n      <td>2</td>\n      <td>8</td>\n      <td>15</td>\n      <td>3</td>\n      <td>0</td>\n      <td>0</td>\n      <td>0</td>\n      <td>0</td>\n      <td>15</td>\n      <td>5</td>\n      <td>2</td>\n      <td>8</td>\n      <td>15</td>\n      <td>ALG</td>\n    </tr>\n    <tr>\n      <th>2</th>\n      <td>Argentina</td>\n      <td>23</td>\n      <td>18</td>\n      <td>24</td>\n      <td>28</td>\n      <td>70</td>\n      <td>18</td>\n      <td>0</td>\n      <td>0</td>\n      <td>0</td>\n      <td>0</td>\n      <td>41</td>\n      <td>18</td>\n      <td>24</td>\n      <td>28</td>\n      <td>70</td>\n      <td>ARG</td>\n    </tr>\n    <tr>\n      <th>3</th>\n      <td>Armenia</td>\n      <td>5</td>\n      <td>1</td>\n      <td>2</td>\n      <td>9</td>\n      <td>12</td>\n      <td>6</td>\n      <td>0</td>\n      <td>0</td>\n      <td>0</td>\n      <td>0</td>\n      <td>11</td>\n      <td>1</td>\n      <td>2</td>\n      <td>9</td>\n      <td>12</td>\n      <td>ARM</td>\n    </tr>\n    <tr>\n      <th>4</th>\n      <td>Australasia</td>\n      <td>2</td>\n      <td>3</td>\n      <td>4</td>\n      <td>5</td>\n      <td>12</td>\n      <td>0</td>\n      <td>0</td>\n      <td>0</td>\n      <td>0</td>\n      <td>0</td>\n      <td>2</td>\n      <td>3</td>\n      <td>4</td>\n      <td>5</td>\n      <td>12</td>\n      <td>ANZ</td>\n    </tr>\n  </tbody>\n</table>\n</div>"
     },
     "execution_count": 153,
     "metadata": {},
     "output_type": "execute_result"
    }
   ],
   "source": [
    "# Pozostaje dodanie nowej kolumny ze skrótem\n",
    "df['Shortcut'] = [item[1] for item in country_and_shortcut] + [df.Country.values[-1]]\n",
    "df.head()"
   ],
   "metadata": {
    "collapsed": false,
    "pycharm": {
     "name": "#%%\n"
    }
   }
  },
  {
   "cell_type": "code",
   "execution_count": 154,
   "outputs": [
    {
     "data": {
      "text/plain": "        Country Shortcut  Summer games  Summer Gold  Summer Silver  \\\n0  Afghanistan       AFG            13            0              0   \n1      Algeria       ALG            12            5              2   \n2    Argentina       ARG            23           18             24   \n3      Armenia       ARM             5            1              2   \n4  Australasia       ANZ             2            3              4   \n\n   Summer bronze  Summer Total  Winter games  Winter Gold  Winter silver  \\\n0              2             2             0            0              0   \n1              8            15             3            0              0   \n2             28            70            18            0              0   \n3              9            12             6            0              0   \n4              5            12             0            0              0   \n\n   Winter Bronze  Winter total  Games total  Gold total  Silver total  \\\n0              0             0           13           0             0   \n1              0             0           15           5             2   \n2              0             0           41          18            24   \n3              0             0           11           1             2   \n4              0             0            2           3             4   \n\n   Bronze total  Combined total  \n0             2               2  \n1             8              15  \n2            28              70  \n3             9              12  \n4             5              12  ",
      "text/html": "<div>\n<style scoped>\n    .dataframe tbody tr th:only-of-type {\n        vertical-align: middle;\n    }\n\n    .dataframe tbody tr th {\n        vertical-align: top;\n    }\n\n    .dataframe thead th {\n        text-align: right;\n    }\n</style>\n<table border=\"1\" class=\"dataframe\">\n  <thead>\n    <tr style=\"text-align: right;\">\n      <th></th>\n      <th>Country</th>\n      <th>Shortcut</th>\n      <th>Summer games</th>\n      <th>Summer Gold</th>\n      <th>Summer Silver</th>\n      <th>Summer bronze</th>\n      <th>Summer Total</th>\n      <th>Winter games</th>\n      <th>Winter Gold</th>\n      <th>Winter silver</th>\n      <th>Winter Bronze</th>\n      <th>Winter total</th>\n      <th>Games total</th>\n      <th>Gold total</th>\n      <th>Silver total</th>\n      <th>Bronze total</th>\n      <th>Combined total</th>\n    </tr>\n  </thead>\n  <tbody>\n    <tr>\n      <th>0</th>\n      <td>Afghanistan</td>\n      <td>AFG</td>\n      <td>13</td>\n      <td>0</td>\n      <td>0</td>\n      <td>2</td>\n      <td>2</td>\n      <td>0</td>\n      <td>0</td>\n      <td>0</td>\n      <td>0</td>\n      <td>0</td>\n      <td>13</td>\n      <td>0</td>\n      <td>0</td>\n      <td>2</td>\n      <td>2</td>\n    </tr>\n    <tr>\n      <th>1</th>\n      <td>Algeria</td>\n      <td>ALG</td>\n      <td>12</td>\n      <td>5</td>\n      <td>2</td>\n      <td>8</td>\n      <td>15</td>\n      <td>3</td>\n      <td>0</td>\n      <td>0</td>\n      <td>0</td>\n      <td>0</td>\n      <td>15</td>\n      <td>5</td>\n      <td>2</td>\n      <td>8</td>\n      <td>15</td>\n    </tr>\n    <tr>\n      <th>2</th>\n      <td>Argentina</td>\n      <td>ARG</td>\n      <td>23</td>\n      <td>18</td>\n      <td>24</td>\n      <td>28</td>\n      <td>70</td>\n      <td>18</td>\n      <td>0</td>\n      <td>0</td>\n      <td>0</td>\n      <td>0</td>\n      <td>41</td>\n      <td>18</td>\n      <td>24</td>\n      <td>28</td>\n      <td>70</td>\n    </tr>\n    <tr>\n      <th>3</th>\n      <td>Armenia</td>\n      <td>ARM</td>\n      <td>5</td>\n      <td>1</td>\n      <td>2</td>\n      <td>9</td>\n      <td>12</td>\n      <td>6</td>\n      <td>0</td>\n      <td>0</td>\n      <td>0</td>\n      <td>0</td>\n      <td>11</td>\n      <td>1</td>\n      <td>2</td>\n      <td>9</td>\n      <td>12</td>\n    </tr>\n    <tr>\n      <th>4</th>\n      <td>Australasia</td>\n      <td>ANZ</td>\n      <td>2</td>\n      <td>3</td>\n      <td>4</td>\n      <td>5</td>\n      <td>12</td>\n      <td>0</td>\n      <td>0</td>\n      <td>0</td>\n      <td>0</td>\n      <td>0</td>\n      <td>2</td>\n      <td>3</td>\n      <td>4</td>\n      <td>5</td>\n      <td>12</td>\n    </tr>\n  </tbody>\n</table>\n</div>"
     },
     "execution_count": 154,
     "metadata": {},
     "output_type": "execute_result"
    }
   ],
   "source": [
    "# Zmiana kolejności kolumn\n",
    "df = df[['Country', 'Shortcut'] + df.columns.to_list()[1:-1]]\n",
    "df.head()"
   ],
   "metadata": {
    "collapsed": false,
    "pycharm": {
     "name": "#%%\n"
    }
   }
  },
  {
   "cell_type": "markdown",
   "source": [
    "## **Zadania część 1**\n",
    "\n",
    "Rozwiązania zadań zapisz w postaci notatnika Jupyter.\n",
    "\n",
    "**Zadanie 1**\n",
    "\n",
    "Dodaj dwie nowe kolumny w ramce `Summer medals mean` oraz `Winter medals mean` i umieść w nich odpowiednio średnią ilość zdobytych medali na olimpiadę (odpowiednio letnią i zimową). Wyświetl na konsoli 10 najlepszych krajów, sortując najpierw po średniej dla letniej olimpiady, a później dla olimpiady zimowej.\n",
    "\n",
    "\n",
    "**Zadanie 2**\n",
    "\n",
    "Ze zbioru danych oczyszczonego powyżej wyświetl na wykresie słupkowym 10 krajów o najwyższej sumarycznej ilości zdobytych medali.\n",
    "\n",
    "\n",
    "**Zadanie 3**\n",
    "\n",
    "Wyświetl wykres podobny do tego z zadania 1, ale słupki powinny być skumulowane - dla gold, silver, bronze."
   ],
   "metadata": {
    "collapsed": false
   }
  }
 ],
 "metadata": {
  "kernelspec": {
   "display_name": "Python 3",
   "language": "python",
   "name": "python3"
  },
  "language_info": {
   "codemirror_mode": {
    "name": "ipython",
    "version": 2
   },
   "file_extension": ".py",
   "mimetype": "text/x-python",
   "name": "python",
   "nbconvert_exporter": "python",
   "pygments_lexer": "ipython2",
   "version": "2.7.6"
  }
 },
 "nbformat": 4,
 "nbformat_minor": 0
}