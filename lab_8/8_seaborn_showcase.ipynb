{
 "cells": [
  {
   "cell_type": "code",
   "execution_count": 186,
   "metadata": {
    "collapsed": true
   },
   "outputs": [],
   "source": [
    "import seaborn as sns\n",
    "import matplotlib.pyplot as plt\n",
    "import pandas as pd\n",
    "import numpy as np"
   ]
  },
  {
   "cell_type": "markdown",
   "source": [
    "> W ramach praktyki oraz pokazania różnic pomiędzy wykresami generowanymi bezpośrednio poprzez funkcje pandas vs. matplotlib vs. seaborn wykorzystamy na początek przedstawiony jeż wcześniej dataset zamówienia."
   ],
   "metadata": {
    "collapsed": false,
    "pycharm": {
     "name": "#%% md\n"
    }
   }
  },
  {
   "cell_type": "markdown",
   "source": [
    "## 1. Analiza i przygotowanie zbioru danych zamówienia.csv"
   ],
   "metadata": {
    "collapsed": false,
    "pycharm": {
     "name": "#%% md\n"
    }
   }
  },
  {
   "cell_type": "code",
   "execution_count": 187,
   "outputs": [
    {
     "data": {
      "text/plain": "     Kraj Sprzedawca Data zamowienia  idZamowienia    Utarg\n0  Polska   Kowalski      2003-07-16         10248   440.00\n1  Polska   Sowiński      2003-07-10         10249  1863.40\n2  Niemcy    Peacock      2003-07-12         10250  1552.60\n3  Niemcy  Leverling      2003-07-15         10251   654.06\n4  Niemcy    Peacock      2003-07-11         10252  3597.90",
      "text/html": "<div>\n<style scoped>\n    .dataframe tbody tr th:only-of-type {\n        vertical-align: middle;\n    }\n\n    .dataframe tbody tr th {\n        vertical-align: top;\n    }\n\n    .dataframe thead th {\n        text-align: right;\n    }\n</style>\n<table border=\"1\" class=\"dataframe\">\n  <thead>\n    <tr style=\"text-align: right;\">\n      <th></th>\n      <th>Kraj</th>\n      <th>Sprzedawca</th>\n      <th>Data zamowienia</th>\n      <th>idZamowienia</th>\n      <th>Utarg</th>\n    </tr>\n  </thead>\n  <tbody>\n    <tr>\n      <th>0</th>\n      <td>Polska</td>\n      <td>Kowalski</td>\n      <td>2003-07-16</td>\n      <td>10248</td>\n      <td>440.00</td>\n    </tr>\n    <tr>\n      <th>1</th>\n      <td>Polska</td>\n      <td>Sowiński</td>\n      <td>2003-07-10</td>\n      <td>10249</td>\n      <td>1863.40</td>\n    </tr>\n    <tr>\n      <th>2</th>\n      <td>Niemcy</td>\n      <td>Peacock</td>\n      <td>2003-07-12</td>\n      <td>10250</td>\n      <td>1552.60</td>\n    </tr>\n    <tr>\n      <th>3</th>\n      <td>Niemcy</td>\n      <td>Leverling</td>\n      <td>2003-07-15</td>\n      <td>10251</td>\n      <td>654.06</td>\n    </tr>\n    <tr>\n      <th>4</th>\n      <td>Niemcy</td>\n      <td>Peacock</td>\n      <td>2003-07-11</td>\n      <td>10252</td>\n      <td>3597.90</td>\n    </tr>\n  </tbody>\n</table>\n</div>"
     },
     "execution_count": 187,
     "metadata": {},
     "output_type": "execute_result"
    }
   ],
   "source": [
    "df_zamowienia = pd.read_csv('./data/zamowienia.csv', sep=';')\n",
    "df_zamowienia.head()"
   ],
   "metadata": {
    "collapsed": false,
    "pycharm": {
     "name": "#%%\n"
    }
   }
  },
  {
   "cell_type": "code",
   "execution_count": 188,
   "outputs": [
    {
     "name": "stdout",
     "output_type": "stream",
     "text": [
      "<class 'pandas.core.frame.DataFrame'>\n",
      "RangeIndex: 799 entries, 0 to 798\n",
      "Data columns (total 5 columns):\n",
      " #   Column           Non-Null Count  Dtype  \n",
      "---  ------           --------------  -----  \n",
      " 0   Kraj             799 non-null    object \n",
      " 1   Sprzedawca       799 non-null    object \n",
      " 2   Data zamowienia  799 non-null    object \n",
      " 3   idZamowienia     799 non-null    int64  \n",
      " 4   Utarg            799 non-null    float64\n",
      "dtypes: float64(1), int64(1), object(3)\n",
      "memory usage: 31.3+ KB\n"
     ]
    }
   ],
   "source": [
    "df_zamowienia.info()"
   ],
   "metadata": {
    "collapsed": false,
    "pycharm": {
     "name": "#%%\n"
    }
   }
  },
  {
   "cell_type": "code",
   "execution_count": 189,
   "outputs": [
    {
     "data": {
      "text/plain": "       idZamowienia         Utarg\ncount    799.000000    799.000000\nmean   10647.175219   1537.330914\nstd      231.091915   1860.590758\nmin    10248.000000     12.500000\n25%    10447.500000    467.075000\n50%    10647.000000    956.670000\n75%    10846.500000   1891.375000\nmax    11057.000000  16387.500000",
      "text/html": "<div>\n<style scoped>\n    .dataframe tbody tr th:only-of-type {\n        vertical-align: middle;\n    }\n\n    .dataframe tbody tr th {\n        vertical-align: top;\n    }\n\n    .dataframe thead th {\n        text-align: right;\n    }\n</style>\n<table border=\"1\" class=\"dataframe\">\n  <thead>\n    <tr style=\"text-align: right;\">\n      <th></th>\n      <th>idZamowienia</th>\n      <th>Utarg</th>\n    </tr>\n  </thead>\n  <tbody>\n    <tr>\n      <th>count</th>\n      <td>799.000000</td>\n      <td>799.000000</td>\n    </tr>\n    <tr>\n      <th>mean</th>\n      <td>10647.175219</td>\n      <td>1537.330914</td>\n    </tr>\n    <tr>\n      <th>std</th>\n      <td>231.091915</td>\n      <td>1860.590758</td>\n    </tr>\n    <tr>\n      <th>min</th>\n      <td>10248.000000</td>\n      <td>12.500000</td>\n    </tr>\n    <tr>\n      <th>25%</th>\n      <td>10447.500000</td>\n      <td>467.075000</td>\n    </tr>\n    <tr>\n      <th>50%</th>\n      <td>10647.000000</td>\n      <td>956.670000</td>\n    </tr>\n    <tr>\n      <th>75%</th>\n      <td>10846.500000</td>\n      <td>1891.375000</td>\n    </tr>\n    <tr>\n      <th>max</th>\n      <td>11057.000000</td>\n      <td>16387.500000</td>\n    </tr>\n  </tbody>\n</table>\n</div>"
     },
     "execution_count": 189,
     "metadata": {},
     "output_type": "execute_result"
    }
   ],
   "source": [
    "df_zamowienia.describe()"
   ],
   "metadata": {
    "collapsed": false,
    "pycharm": {
     "name": "#%%\n"
    }
   }
  },
  {
   "cell_type": "markdown",
   "source": [
    "Z informacji powyżej wynika, że pandas nie wykonał automatycznej konwersji wartości w kolumnie `Data zamowienia` na typ datetime. Należy to zrobić ręcznie."
   ],
   "metadata": {
    "collapsed": false,
    "pycharm": {
     "name": "#%% md\n"
    }
   }
  },
  {
   "cell_type": "code",
   "execution_count": 190,
   "outputs": [
    {
     "name": "stdout",
     "output_type": "stream",
     "text": [
      "<class 'pandas.core.frame.DataFrame'>\n",
      "RangeIndex: 799 entries, 0 to 798\n",
      "Data columns (total 5 columns):\n",
      " #   Column           Non-Null Count  Dtype         \n",
      "---  ------           --------------  -----         \n",
      " 0   Kraj             799 non-null    object        \n",
      " 1   Sprzedawca       799 non-null    object        \n",
      " 2   Data zamowienia  799 non-null    datetime64[ns]\n",
      " 3   idZamowienia     799 non-null    int64         \n",
      " 4   Utarg            799 non-null    float64       \n",
      "dtypes: datetime64[ns](1), float64(1), int64(1), object(2)\n",
      "memory usage: 31.3+ KB\n"
     ]
    }
   ],
   "source": [
    "df_zamowienia['Data zamowienia'] = pd.to_datetime(df_zamowienia['Data zamowienia'])\n",
    "df_zamowienia.info()"
   ],
   "metadata": {
    "collapsed": false,
    "pycharm": {
     "name": "#%%\n"
    }
   }
  },
  {
   "cell_type": "code",
   "execution_count": 191,
   "outputs": [
    {
     "data": {
      "text/plain": "     Kraj Sprzedawca Data zamowienia  idZamowienia    Utarg\n0  Polska   Kowalski      2003-07-16         10248   440.00\n1  Polska   Sowiński      2003-07-10         10249  1863.40\n2  Niemcy    Peacock      2003-07-12         10250  1552.60\n3  Niemcy  Leverling      2003-07-15         10251   654.06\n4  Niemcy    Peacock      2003-07-11         10252  3597.90",
      "text/html": "<div>\n<style scoped>\n    .dataframe tbody tr th:only-of-type {\n        vertical-align: middle;\n    }\n\n    .dataframe tbody tr th {\n        vertical-align: top;\n    }\n\n    .dataframe thead th {\n        text-align: right;\n    }\n</style>\n<table border=\"1\" class=\"dataframe\">\n  <thead>\n    <tr style=\"text-align: right;\">\n      <th></th>\n      <th>Kraj</th>\n      <th>Sprzedawca</th>\n      <th>Data zamowienia</th>\n      <th>idZamowienia</th>\n      <th>Utarg</th>\n    </tr>\n  </thead>\n  <tbody>\n    <tr>\n      <th>0</th>\n      <td>Polska</td>\n      <td>Kowalski</td>\n      <td>2003-07-16</td>\n      <td>10248</td>\n      <td>440.00</td>\n    </tr>\n    <tr>\n      <th>1</th>\n      <td>Polska</td>\n      <td>Sowiński</td>\n      <td>2003-07-10</td>\n      <td>10249</td>\n      <td>1863.40</td>\n    </tr>\n    <tr>\n      <th>2</th>\n      <td>Niemcy</td>\n      <td>Peacock</td>\n      <td>2003-07-12</td>\n      <td>10250</td>\n      <td>1552.60</td>\n    </tr>\n    <tr>\n      <th>3</th>\n      <td>Niemcy</td>\n      <td>Leverling</td>\n      <td>2003-07-15</td>\n      <td>10251</td>\n      <td>654.06</td>\n    </tr>\n    <tr>\n      <th>4</th>\n      <td>Niemcy</td>\n      <td>Peacock</td>\n      <td>2003-07-11</td>\n      <td>10252</td>\n      <td>3597.90</td>\n    </tr>\n  </tbody>\n</table>\n</div>"
     },
     "execution_count": 191,
     "metadata": {},
     "output_type": "execute_result"
    }
   ],
   "source": [
    "df_zamowienia.head()"
   ],
   "metadata": {
    "collapsed": false,
    "pycharm": {
     "name": "#%%\n"
    }
   }
  },
  {
   "cell_type": "markdown",
   "source": [
    "Jeżeli format daty nie został automatycznie rozpoznany lub chcemy go zmienić (np. pozbyć się czasu a zostawić tylko samą datę), należy jawnie określić format konwersji."
   ],
   "metadata": {
    "collapsed": false
   }
  },
  {
   "cell_type": "code",
   "execution_count": 192,
   "outputs": [
    {
     "name": "stdout",
     "output_type": "stream",
     "text": [
      "<class 'pandas.core.frame.DataFrame'>\n",
      "RangeIndex: 799 entries, 0 to 798\n",
      "Data columns (total 5 columns):\n",
      " #   Column           Non-Null Count  Dtype  \n",
      "---  ------           --------------  -----  \n",
      " 0   Kraj             799 non-null    object \n",
      " 1   Sprzedawca       799 non-null    object \n",
      " 2   Data zamowienia  799 non-null    object \n",
      " 3   idZamowienia     799 non-null    int64  \n",
      " 4   Utarg            799 non-null    float64\n",
      "dtypes: float64(1), int64(1), object(3)\n",
      "memory usage: 31.3+ KB\n"
     ]
    }
   ],
   "source": [
    "# zamieniamy typ w kolumnie na str (wyświetlany jako object w pandasie)\n",
    "df_zamowienia['Data zamowienia'] = df_zamowienia['Data zamowienia'].astype(str)\n",
    "df_zamowienia.info()"
   ],
   "metadata": {
    "collapsed": false,
    "pycharm": {
     "name": "#%%\n"
    }
   }
  },
  {
   "cell_type": "code",
   "execution_count": 193,
   "outputs": [],
   "source": [
    "pd.to_datetime(df_zamowienia['Data zamowienia'], format='%Y-%m-%d')\n",
    "# pamiętajmy, że powyższa operacja zwróci nam pandas series po konwersji, więc jeżeli chcemy zamienić kolumnę nowymi wartościami, trzeba ją nadpisać.\n",
    "df_zamowienia['Data zamowienia'] = pd.to_datetime(df_zamowienia['Data zamowienia'], format='%Y-%m-%d')"
   ],
   "metadata": {
    "collapsed": false,
    "pycharm": {
     "name": "#%%\n"
    }
   }
  },
  {
   "cell_type": "code",
   "execution_count": 194,
   "outputs": [
    {
     "name": "stdout",
     "output_type": "stream",
     "text": [
      "<class 'pandas.core.frame.DataFrame'>\n",
      "RangeIndex: 799 entries, 0 to 798\n",
      "Data columns (total 5 columns):\n",
      " #   Column           Non-Null Count  Dtype         \n",
      "---  ------           --------------  -----         \n",
      " 0   Kraj             799 non-null    object        \n",
      " 1   Sprzedawca       799 non-null    object        \n",
      " 2   Data zamowienia  799 non-null    datetime64[ns]\n",
      " 3   idZamowienia     799 non-null    int64         \n",
      " 4   Utarg            799 non-null    float64       \n",
      "dtypes: datetime64[ns](1), float64(1), int64(1), object(2)\n",
      "memory usage: 31.3+ KB\n"
     ]
    }
   ],
   "source": [
    "df_zamowienia.info()"
   ],
   "metadata": {
    "collapsed": false,
    "pycharm": {
     "name": "#%%\n"
    }
   }
  },
  {
   "cell_type": "markdown",
   "source": [
    "Istnieje też możliwość uruchomienia funkcji `to_datetime` na całej ramce danych, ale muszą istnieć w niej co najmniej kolumny ze składowymi daty i to o odpowiednich nazwach."
   ],
   "metadata": {
    "collapsed": false,
    "pycharm": {
     "name": "#%% md\n"
    }
   }
  },
  {
   "cell_type": "code",
   "execution_count": 195,
   "outputs": [
    {
     "data": {
      "text/plain": "     Kraj Sprzedawca Data zamowienia  idZamowienia    Utarg  year  month  day\n0  Polska   Kowalski      2003-07-16         10248   440.00  2003      7   16\n1  Polska   Sowiński      2003-07-10         10249  1863.40  2003      7   10\n2  Niemcy    Peacock      2003-07-12         10250  1552.60  2003      7   12\n3  Niemcy  Leverling      2003-07-15         10251   654.06  2003      7   15\n4  Niemcy    Peacock      2003-07-11         10252  3597.90  2003      7   11",
      "text/html": "<div>\n<style scoped>\n    .dataframe tbody tr th:only-of-type {\n        vertical-align: middle;\n    }\n\n    .dataframe tbody tr th {\n        vertical-align: top;\n    }\n\n    .dataframe thead th {\n        text-align: right;\n    }\n</style>\n<table border=\"1\" class=\"dataframe\">\n  <thead>\n    <tr style=\"text-align: right;\">\n      <th></th>\n      <th>Kraj</th>\n      <th>Sprzedawca</th>\n      <th>Data zamowienia</th>\n      <th>idZamowienia</th>\n      <th>Utarg</th>\n      <th>year</th>\n      <th>month</th>\n      <th>day</th>\n    </tr>\n  </thead>\n  <tbody>\n    <tr>\n      <th>0</th>\n      <td>Polska</td>\n      <td>Kowalski</td>\n      <td>2003-07-16</td>\n      <td>10248</td>\n      <td>440.00</td>\n      <td>2003</td>\n      <td>7</td>\n      <td>16</td>\n    </tr>\n    <tr>\n      <th>1</th>\n      <td>Polska</td>\n      <td>Sowiński</td>\n      <td>2003-07-10</td>\n      <td>10249</td>\n      <td>1863.40</td>\n      <td>2003</td>\n      <td>7</td>\n      <td>10</td>\n    </tr>\n    <tr>\n      <th>2</th>\n      <td>Niemcy</td>\n      <td>Peacock</td>\n      <td>2003-07-12</td>\n      <td>10250</td>\n      <td>1552.60</td>\n      <td>2003</td>\n      <td>7</td>\n      <td>12</td>\n    </tr>\n    <tr>\n      <th>3</th>\n      <td>Niemcy</td>\n      <td>Leverling</td>\n      <td>2003-07-15</td>\n      <td>10251</td>\n      <td>654.06</td>\n      <td>2003</td>\n      <td>7</td>\n      <td>15</td>\n    </tr>\n    <tr>\n      <th>4</th>\n      <td>Niemcy</td>\n      <td>Peacock</td>\n      <td>2003-07-11</td>\n      <td>10252</td>\n      <td>3597.90</td>\n      <td>2003</td>\n      <td>7</td>\n      <td>11</td>\n    </tr>\n  </tbody>\n</table>\n</div>"
     },
     "execution_count": 195,
     "metadata": {},
     "output_type": "execute_result"
    }
   ],
   "source": [
    "# najpierw rozdzielimy kolumnę z datą na poszczególne kolumny\n",
    "# jeżeli jest to już kolumna typu datetime to można to zrobić korzystając z możliwości obiektu typu datetime\n",
    "df_zamowienia['year'] = df_zamowienia['Data zamowienia'].dt.year\n",
    "df_zamowienia['month'] = df_zamowienia['Data zamowienia'].dt.month\n",
    "df_zamowienia['day'] = df_zamowienia['Data zamowienia'].dt.day\n",
    "df_zamowienia.head()"
   ],
   "metadata": {
    "collapsed": false,
    "pycharm": {
     "name": "#%%\n"
    }
   }
  },
  {
   "cell_type": "code",
   "execution_count": 196,
   "outputs": [
    {
     "data": {
      "text/plain": "0     2003-07-16\n1     2003-07-10\n2     2003-07-12\n3     2003-07-15\n4     2003-07-11\n         ...    \n794   2005-04-30\n795   2005-05-01\n796   2005-04-29\n797   2005-05-01\n798   2005-05-01\nLength: 799, dtype: datetime64[ns]"
     },
     "execution_count": 196,
     "metadata": {},
     "output_type": "execute_result"
    }
   ],
   "source": [
    "pd.to_datetime(df_zamowienia[['year', 'month', 'day']])"
   ],
   "metadata": {
    "collapsed": false,
    "pycharm": {
     "name": "#%%\n"
    }
   }
  },
  {
   "cell_type": "markdown",
   "source": [
    "Jeżeli jednak kolumna jest typu `str` a my chcielibyśmy na jej podstawie stworzyć nową kolumnę przekształcając całość lub fragment danych z kolumny bazowej to jest na to wiele możliwości."
   ],
   "metadata": {
    "collapsed": false,
    "pycharm": {
     "name": "#%% md\n"
    }
   }
  },
  {
   "cell_type": "code",
   "execution_count": 197,
   "outputs": [
    {
     "name": "stdout",
     "output_type": "stream",
     "text": [
      "<class 'pandas.core.frame.DataFrame'>\n",
      "RangeIndex: 799 entries, 0 to 798\n",
      "Data columns (total 5 columns):\n",
      " #   Column           Non-Null Count  Dtype  \n",
      "---  ------           --------------  -----  \n",
      " 0   Kraj             799 non-null    object \n",
      " 1   Sprzedawca       799 non-null    object \n",
      " 2   Data zamowienia  799 non-null    object \n",
      " 3   idZamowienia     799 non-null    int64  \n",
      " 4   Utarg            799 non-null    float64\n",
      "dtypes: float64(1), int64(1), object(3)\n",
      "memory usage: 31.3+ KB\n"
     ]
    }
   ],
   "source": [
    "# przywracamy ramkę do jej pierwotnej postaci\n",
    "# datetime na powrót do typu str\n",
    "df_zamowienia['Data zamowienia'] = df_zamowienia['Data zamowienia'].astype(str)\n",
    "# usuwamy zbędne kolumny\n",
    "df_zamowienia.drop(columns=['year', 'month', 'day'], inplace=True)\n",
    "df_zamowienia.info()"
   ],
   "metadata": {
    "collapsed": false,
    "pycharm": {
     "name": "#%%\n"
    }
   }
  },
  {
   "cell_type": "code",
   "execution_count": 198,
   "outputs": [
    {
     "data": {
      "text/plain": "     Kraj Sprzedawca Data zamowienia  idZamowienia    Utarg   rok\n0  Polska   Kowalski      2003-07-16         10248   440.00  2003\n1  Polska   Sowiński      2003-07-10         10249  1863.40  2003\n2  Niemcy    Peacock      2003-07-12         10250  1552.60  2003\n3  Niemcy  Leverling      2003-07-15         10251   654.06  2003\n4  Niemcy    Peacock      2003-07-11         10252  3597.90  2003",
      "text/html": "<div>\n<style scoped>\n    .dataframe tbody tr th:only-of-type {\n        vertical-align: middle;\n    }\n\n    .dataframe tbody tr th {\n        vertical-align: top;\n    }\n\n    .dataframe thead th {\n        text-align: right;\n    }\n</style>\n<table border=\"1\" class=\"dataframe\">\n  <thead>\n    <tr style=\"text-align: right;\">\n      <th></th>\n      <th>Kraj</th>\n      <th>Sprzedawca</th>\n      <th>Data zamowienia</th>\n      <th>idZamowienia</th>\n      <th>Utarg</th>\n      <th>rok</th>\n    </tr>\n  </thead>\n  <tbody>\n    <tr>\n      <th>0</th>\n      <td>Polska</td>\n      <td>Kowalski</td>\n      <td>2003-07-16</td>\n      <td>10248</td>\n      <td>440.00</td>\n      <td>2003</td>\n    </tr>\n    <tr>\n      <th>1</th>\n      <td>Polska</td>\n      <td>Sowiński</td>\n      <td>2003-07-10</td>\n      <td>10249</td>\n      <td>1863.40</td>\n      <td>2003</td>\n    </tr>\n    <tr>\n      <th>2</th>\n      <td>Niemcy</td>\n      <td>Peacock</td>\n      <td>2003-07-12</td>\n      <td>10250</td>\n      <td>1552.60</td>\n      <td>2003</td>\n    </tr>\n    <tr>\n      <th>3</th>\n      <td>Niemcy</td>\n      <td>Leverling</td>\n      <td>2003-07-15</td>\n      <td>10251</td>\n      <td>654.06</td>\n      <td>2003</td>\n    </tr>\n    <tr>\n      <th>4</th>\n      <td>Niemcy</td>\n      <td>Peacock</td>\n      <td>2003-07-11</td>\n      <td>10252</td>\n      <td>3597.90</td>\n      <td>2003</td>\n    </tr>\n  </tbody>\n</table>\n</div>"
     },
     "execution_count": 198,
     "metadata": {},
     "output_type": "execute_result"
    }
   ],
   "source": [
    "# na potrzeby przykładów zostanie użytych kilka kopii bazowego zbioru danych\n",
    "# warto wiedzieć, że możemy wykonać kopię płytką (domyślnie) lub głęboką (deep=True)\n",
    "df_zamowienia_copy_1 = df_zamowienia.copy(deep=True)\n",
    "# stworzymy nową kolumnę, która będzie zawierała rok z kolumny Data zamowienia\n",
    "# w tym przykładzie uzyskamy to pobierając cztery pierwsze znaki z każdego wiersza tej kolumny\n",
    "df_zamowienia_copy_1['rok'] = df_zamowienia_copy_1['Data zamowienia'].str[:4]\n",
    "df_zamowienia_copy_1.head()"
   ],
   "metadata": {
    "collapsed": false,
    "pycharm": {
     "name": "#%%\n"
    }
   }
  },
  {
   "cell_type": "code",
   "execution_count": 199,
   "outputs": [
    {
     "data": {
      "text/plain": "     Kraj Sprzedawca Data zamowienia  idZamowienia    Utarg   rok   Nowa data\n0  Polska   Kowalski      2003-07-16         10248   440.00  2003  2003/07/16\n1  Polska   Sowiński      2003-07-10         10249  1863.40  2003  2003/07/10\n2  Niemcy    Peacock      2003-07-12         10250  1552.60  2003  2003/07/12\n3  Niemcy  Leverling      2003-07-15         10251   654.06  2003  2003/07/15\n4  Niemcy    Peacock      2003-07-11         10252  3597.90  2003  2003/07/11",
      "text/html": "<div>\n<style scoped>\n    .dataframe tbody tr th:only-of-type {\n        vertical-align: middle;\n    }\n\n    .dataframe tbody tr th {\n        vertical-align: top;\n    }\n\n    .dataframe thead th {\n        text-align: right;\n    }\n</style>\n<table border=\"1\" class=\"dataframe\">\n  <thead>\n    <tr style=\"text-align: right;\">\n      <th></th>\n      <th>Kraj</th>\n      <th>Sprzedawca</th>\n      <th>Data zamowienia</th>\n      <th>idZamowienia</th>\n      <th>Utarg</th>\n      <th>rok</th>\n      <th>Nowa data</th>\n    </tr>\n  </thead>\n  <tbody>\n    <tr>\n      <th>0</th>\n      <td>Polska</td>\n      <td>Kowalski</td>\n      <td>2003-07-16</td>\n      <td>10248</td>\n      <td>440.00</td>\n      <td>2003</td>\n      <td>2003/07/16</td>\n    </tr>\n    <tr>\n      <th>1</th>\n      <td>Polska</td>\n      <td>Sowiński</td>\n      <td>2003-07-10</td>\n      <td>10249</td>\n      <td>1863.40</td>\n      <td>2003</td>\n      <td>2003/07/10</td>\n    </tr>\n    <tr>\n      <th>2</th>\n      <td>Niemcy</td>\n      <td>Peacock</td>\n      <td>2003-07-12</td>\n      <td>10250</td>\n      <td>1552.60</td>\n      <td>2003</td>\n      <td>2003/07/12</td>\n    </tr>\n    <tr>\n      <th>3</th>\n      <td>Niemcy</td>\n      <td>Leverling</td>\n      <td>2003-07-15</td>\n      <td>10251</td>\n      <td>654.06</td>\n      <td>2003</td>\n      <td>2003/07/15</td>\n    </tr>\n    <tr>\n      <th>4</th>\n      <td>Niemcy</td>\n      <td>Peacock</td>\n      <td>2003-07-11</td>\n      <td>10252</td>\n      <td>3597.90</td>\n      <td>2003</td>\n      <td>2003/07/11</td>\n    </tr>\n  </tbody>\n</table>\n</div>"
     },
     "execution_count": 199,
     "metadata": {},
     "output_type": "execute_result"
    }
   ],
   "source": [
    "# w ten sposób możemy używać dowolnych metod dla obiektu typu str\n",
    "df_zamowienia_copy_1['Nowa data'] = df_zamowienia_copy_1['Data zamowienia'].str.replace('-','/')\n",
    "df_zamowienia_copy_1.head()"
   ],
   "metadata": {
    "collapsed": false,
    "pycharm": {
     "name": "#%%\n"
    }
   }
  },
  {
   "cell_type": "markdown",
   "source": [
    "Taki sam efekt możemy również osiągnąć poprzez zastosowanie metody [`apply()`](https://pandas.pydata.org/docs/reference/api/pandas.DataFrame.apply.html)."
   ],
   "metadata": {
    "collapsed": false,
    "pycharm": {
     "name": "#%% md\n"
    }
   }
  },
  {
   "cell_type": "code",
   "execution_count": 200,
   "outputs": [
    {
     "data": {
      "text/plain": "     Kraj Sprzedawca Data zamowienia  idZamowienia    Utarg   rok   Nowa data  \\\n0  Polska   Kowalski      2003-07-16         10248   440.00  2003  2003/07/16   \n1  Polska   Sowiński      2003-07-10         10249  1863.40  2003  2003/07/10   \n2  Niemcy    Peacock      2003-07-12         10250  1552.60  2003  2003/07/12   \n3  Niemcy  Leverling      2003-07-15         10251   654.06  2003  2003/07/15   \n4  Niemcy    Peacock      2003-07-11         10252  3597.90  2003  2003/07/11   \n\n  Jeszcze nowsza data  \n0          2003/07/16  \n1          2003/07/10  \n2          2003/07/12  \n3          2003/07/15  \n4          2003/07/11  ",
      "text/html": "<div>\n<style scoped>\n    .dataframe tbody tr th:only-of-type {\n        vertical-align: middle;\n    }\n\n    .dataframe tbody tr th {\n        vertical-align: top;\n    }\n\n    .dataframe thead th {\n        text-align: right;\n    }\n</style>\n<table border=\"1\" class=\"dataframe\">\n  <thead>\n    <tr style=\"text-align: right;\">\n      <th></th>\n      <th>Kraj</th>\n      <th>Sprzedawca</th>\n      <th>Data zamowienia</th>\n      <th>idZamowienia</th>\n      <th>Utarg</th>\n      <th>rok</th>\n      <th>Nowa data</th>\n      <th>Jeszcze nowsza data</th>\n    </tr>\n  </thead>\n  <tbody>\n    <tr>\n      <th>0</th>\n      <td>Polska</td>\n      <td>Kowalski</td>\n      <td>2003-07-16</td>\n      <td>10248</td>\n      <td>440.00</td>\n      <td>2003</td>\n      <td>2003/07/16</td>\n      <td>2003/07/16</td>\n    </tr>\n    <tr>\n      <th>1</th>\n      <td>Polska</td>\n      <td>Sowiński</td>\n      <td>2003-07-10</td>\n      <td>10249</td>\n      <td>1863.40</td>\n      <td>2003</td>\n      <td>2003/07/10</td>\n      <td>2003/07/10</td>\n    </tr>\n    <tr>\n      <th>2</th>\n      <td>Niemcy</td>\n      <td>Peacock</td>\n      <td>2003-07-12</td>\n      <td>10250</td>\n      <td>1552.60</td>\n      <td>2003</td>\n      <td>2003/07/12</td>\n      <td>2003/07/12</td>\n    </tr>\n    <tr>\n      <th>3</th>\n      <td>Niemcy</td>\n      <td>Leverling</td>\n      <td>2003-07-15</td>\n      <td>10251</td>\n      <td>654.06</td>\n      <td>2003</td>\n      <td>2003/07/15</td>\n      <td>2003/07/15</td>\n    </tr>\n    <tr>\n      <th>4</th>\n      <td>Niemcy</td>\n      <td>Peacock</td>\n      <td>2003-07-11</td>\n      <td>10252</td>\n      <td>3597.90</td>\n      <td>2003</td>\n      <td>2003/07/11</td>\n      <td>2003/07/11</td>\n    </tr>\n  </tbody>\n</table>\n</div>"
     },
     "execution_count": 200,
     "metadata": {},
     "output_type": "execute_result"
    }
   ],
   "source": [
    "df_zamowienia_copy_1['Jeszcze nowsza data'] = df_zamowienia_copy_1['Data zamowienia'].apply(str.replace, args=('-','/'))\n",
    "df_zamowienia_copy_1.head()"
   ],
   "metadata": {
    "collapsed": false,
    "pycharm": {
     "name": "#%%\n"
    }
   }
  },
  {
   "cell_type": "code",
   "execution_count": 313,
   "outputs": [
    {
     "data": {
      "text/plain": "0    (2003, 07, 16)\n1    (2003, 07, 10)\n2    (2003, 07, 12)\n3    (2003, 07, 15)\n4    (2003, 07, 11)\nName: Data zamowienia, dtype: object"
     },
     "execution_count": 313,
     "metadata": {},
     "output_type": "execute_result"
    }
   ],
   "source": [
    "# możliwe jest również użycie funkcji anonimowej (lambda) poprzez apply\n",
    "# zmienna x przechowuje wartość z kolumny Data zamowienia dla danego wiersza\n",
    "# te metody działają w trybie broadcast, czyli są \"rozgłąszane\" na cały wycinek ramki (Series lub DataFrame)\n",
    "df_zamowienia_copy_1['Data zamowienia'].apply(lambda x: (x[:4], x[5:7], x[:-3:-1][::-1])).head()\n",
    "# pytanie - Co dokładnie dzieje się w zapisie x[:-3:-1][::-1] ?"
   ],
   "metadata": {
    "collapsed": false,
    "pycharm": {
     "name": "#%%\n"
    }
   }
  },
  {
   "cell_type": "markdown",
   "source": [
    "### 1.2 Porównanie wykresów\n",
    "\n",
    "Dla porównania zarówno wyglądu, jak i sposobu generowania wykresów wykorzystamy kilka informacji, które chcielibyśmy uzyskać z naszych danych.\n",
    "**Dokumentacja online, na którą warto rzucić okiem:**\n",
    "\n",
    "* https://seaborn.pydata.org/introduction.html\n",
    "* https://seaborn.pydata.org/tutorial/function_overview.html"
   ],
   "metadata": {
    "collapsed": false,
    "pycharm": {
     "name": "#%% md\n"
    }
   }
  },
  {
   "cell_type": "markdown",
   "source": [
    "**Informacja nr 1 - jak wyglądał przyrost wartości zamówień w czasie ?**"
   ],
   "metadata": {
    "collapsed": false,
    "pycharm": {
     "name": "#%% md\n"
    }
   }
  },
  {
   "cell_type": "code",
   "execution_count": 202,
   "outputs": [
    {
     "data": {
      "text/plain": "       Kraj Sprzedawca Data zamowienia  idZamowienia    Utarg\n1    Polska   Sowiński      2003-07-10         10249  1863.40\n4    Niemcy    Peacock      2003-07-11         10252  3597.90\n2    Niemcy    Peacock      2003-07-12         10250  1552.60\n3    Niemcy  Leverling      2003-07-15         10251   654.06\n7    Polska      Dudek      2003-07-15         10255  2490.50\n..      ...        ...             ...           ...      ...\n797  Niemcy   Callahan      2005-05-01         11056  3740.00\n791  Niemcy    Peacock      2005-05-01         11044   591.60\n789  Niemcy     Fuller      2005-05-01         11042   405.75\n793  Polska       King      2005-05-01         11047   817.87\n798  Niemcy  Leverling      2005-05-01         11057    45.00\n\n[799 rows x 5 columns]",
      "text/html": "<div>\n<style scoped>\n    .dataframe tbody tr th:only-of-type {\n        vertical-align: middle;\n    }\n\n    .dataframe tbody tr th {\n        vertical-align: top;\n    }\n\n    .dataframe thead th {\n        text-align: right;\n    }\n</style>\n<table border=\"1\" class=\"dataframe\">\n  <thead>\n    <tr style=\"text-align: right;\">\n      <th></th>\n      <th>Kraj</th>\n      <th>Sprzedawca</th>\n      <th>Data zamowienia</th>\n      <th>idZamowienia</th>\n      <th>Utarg</th>\n    </tr>\n  </thead>\n  <tbody>\n    <tr>\n      <th>1</th>\n      <td>Polska</td>\n      <td>Sowiński</td>\n      <td>2003-07-10</td>\n      <td>10249</td>\n      <td>1863.40</td>\n    </tr>\n    <tr>\n      <th>4</th>\n      <td>Niemcy</td>\n      <td>Peacock</td>\n      <td>2003-07-11</td>\n      <td>10252</td>\n      <td>3597.90</td>\n    </tr>\n    <tr>\n      <th>2</th>\n      <td>Niemcy</td>\n      <td>Peacock</td>\n      <td>2003-07-12</td>\n      <td>10250</td>\n      <td>1552.60</td>\n    </tr>\n    <tr>\n      <th>3</th>\n      <td>Niemcy</td>\n      <td>Leverling</td>\n      <td>2003-07-15</td>\n      <td>10251</td>\n      <td>654.06</td>\n    </tr>\n    <tr>\n      <th>7</th>\n      <td>Polska</td>\n      <td>Dudek</td>\n      <td>2003-07-15</td>\n      <td>10255</td>\n      <td>2490.50</td>\n    </tr>\n    <tr>\n      <th>...</th>\n      <td>...</td>\n      <td>...</td>\n      <td>...</td>\n      <td>...</td>\n      <td>...</td>\n    </tr>\n    <tr>\n      <th>797</th>\n      <td>Niemcy</td>\n      <td>Callahan</td>\n      <td>2005-05-01</td>\n      <td>11056</td>\n      <td>3740.00</td>\n    </tr>\n    <tr>\n      <th>791</th>\n      <td>Niemcy</td>\n      <td>Peacock</td>\n      <td>2005-05-01</td>\n      <td>11044</td>\n      <td>591.60</td>\n    </tr>\n    <tr>\n      <th>789</th>\n      <td>Niemcy</td>\n      <td>Fuller</td>\n      <td>2005-05-01</td>\n      <td>11042</td>\n      <td>405.75</td>\n    </tr>\n    <tr>\n      <th>793</th>\n      <td>Polska</td>\n      <td>King</td>\n      <td>2005-05-01</td>\n      <td>11047</td>\n      <td>817.87</td>\n    </tr>\n    <tr>\n      <th>798</th>\n      <td>Niemcy</td>\n      <td>Leverling</td>\n      <td>2005-05-01</td>\n      <td>11057</td>\n      <td>45.00</td>\n    </tr>\n  </tbody>\n</table>\n<p>799 rows × 5 columns</p>\n</div>"
     },
     "execution_count": 202,
     "metadata": {},
     "output_type": "execute_result"
    }
   ],
   "source": [
    "# krok 1 - dane należy posortować chronologicznie\n",
    "df_zamowienia.sort_values(by=['Data zamowienia'])\n",
    "# jeżeli chcemy nadpisać ramkę ramką posortowaną\n",
    "# df_zamowienia = df_zamowienia.sort_values(by=['Data zamowienia'])\n",
    "# parametr ascending pozwala na określenie kierunku sortowania, w liście możemy określić kolejne kolumny, po których chcemy sortować"
   ],
   "metadata": {
    "collapsed": false,
    "pycharm": {
     "name": "#%%\n"
    }
   }
  },
  {
   "cell_type": "code",
   "execution_count": 203,
   "outputs": [
    {
     "data": {
      "text/plain": "     Kraj Sprzedawca Data zamowienia  idZamowienia    Utarg\n0  Polska   Sowiński      2003-07-10         10249  1863.40\n1  Niemcy    Peacock      2003-07-11         10252  3597.90\n2  Niemcy    Peacock      2003-07-12         10250  1552.60\n3  Niemcy  Leverling      2003-07-15         10251   654.06\n4  Polska      Dudek      2003-07-15         10255  2490.50",
      "text/html": "<div>\n<style scoped>\n    .dataframe tbody tr th:only-of-type {\n        vertical-align: middle;\n    }\n\n    .dataframe tbody tr th {\n        vertical-align: top;\n    }\n\n    .dataframe thead th {\n        text-align: right;\n    }\n</style>\n<table border=\"1\" class=\"dataframe\">\n  <thead>\n    <tr style=\"text-align: right;\">\n      <th></th>\n      <th>Kraj</th>\n      <th>Sprzedawca</th>\n      <th>Data zamowienia</th>\n      <th>idZamowienia</th>\n      <th>Utarg</th>\n    </tr>\n  </thead>\n  <tbody>\n    <tr>\n      <th>0</th>\n      <td>Polska</td>\n      <td>Sowiński</td>\n      <td>2003-07-10</td>\n      <td>10249</td>\n      <td>1863.40</td>\n    </tr>\n    <tr>\n      <th>1</th>\n      <td>Niemcy</td>\n      <td>Peacock</td>\n      <td>2003-07-11</td>\n      <td>10252</td>\n      <td>3597.90</td>\n    </tr>\n    <tr>\n      <th>2</th>\n      <td>Niemcy</td>\n      <td>Peacock</td>\n      <td>2003-07-12</td>\n      <td>10250</td>\n      <td>1552.60</td>\n    </tr>\n    <tr>\n      <th>3</th>\n      <td>Niemcy</td>\n      <td>Leverling</td>\n      <td>2003-07-15</td>\n      <td>10251</td>\n      <td>654.06</td>\n    </tr>\n    <tr>\n      <th>4</th>\n      <td>Polska</td>\n      <td>Dudek</td>\n      <td>2003-07-15</td>\n      <td>10255</td>\n      <td>2490.50</td>\n    </tr>\n  </tbody>\n</table>\n</div>"
     },
     "execution_count": 203,
     "metadata": {},
     "output_type": "execute_result"
    }
   ],
   "source": [
    "# aby nadpisać ramkę możemy użyć trybu inplace oraz dodatkowo, jeżeli jest to postać docelowa to możemy zignorować indeks w operacji sortowania\n",
    "df_zamowienia_copy_2 = df_zamowienia.copy(deep=True)\n",
    "df_zamowienia_copy_2.sort_values(by=['Data zamowienia'], inplace=True, ignore_index=True)\n",
    "df_zamowienia_copy_2.head()"
   ],
   "metadata": {
    "collapsed": false,
    "pycharm": {
     "name": "#%%\n"
    }
   }
  },
  {
   "cell_type": "code",
   "execution_count": 204,
   "outputs": [
    {
     "data": {
      "text/plain": "     Kraj Sprzedawca Data zamowienia  idZamowienia    Utarg\n1  Polska   Sowiński      2003-07-10         10249  1863.40\n4  Niemcy    Peacock      2003-07-11         10252  3597.90\n2  Niemcy    Peacock      2003-07-12         10250  1552.60\n3  Niemcy  Leverling      2003-07-15         10251   654.06\n7  Polska      Dudek      2003-07-15         10255  2490.50",
      "text/html": "<div>\n<style scoped>\n    .dataframe tbody tr th:only-of-type {\n        vertical-align: middle;\n    }\n\n    .dataframe tbody tr th {\n        vertical-align: top;\n    }\n\n    .dataframe thead th {\n        text-align: right;\n    }\n</style>\n<table border=\"1\" class=\"dataframe\">\n  <thead>\n    <tr style=\"text-align: right;\">\n      <th></th>\n      <th>Kraj</th>\n      <th>Sprzedawca</th>\n      <th>Data zamowienia</th>\n      <th>idZamowienia</th>\n      <th>Utarg</th>\n    </tr>\n  </thead>\n  <tbody>\n    <tr>\n      <th>1</th>\n      <td>Polska</td>\n      <td>Sowiński</td>\n      <td>2003-07-10</td>\n      <td>10249</td>\n      <td>1863.40</td>\n    </tr>\n    <tr>\n      <th>4</th>\n      <td>Niemcy</td>\n      <td>Peacock</td>\n      <td>2003-07-11</td>\n      <td>10252</td>\n      <td>3597.90</td>\n    </tr>\n    <tr>\n      <th>2</th>\n      <td>Niemcy</td>\n      <td>Peacock</td>\n      <td>2003-07-12</td>\n      <td>10250</td>\n      <td>1552.60</td>\n    </tr>\n    <tr>\n      <th>3</th>\n      <td>Niemcy</td>\n      <td>Leverling</td>\n      <td>2003-07-15</td>\n      <td>10251</td>\n      <td>654.06</td>\n    </tr>\n    <tr>\n      <th>7</th>\n      <td>Polska</td>\n      <td>Dudek</td>\n      <td>2003-07-15</td>\n      <td>10255</td>\n      <td>2490.50</td>\n    </tr>\n  </tbody>\n</table>\n</div>"
     },
     "execution_count": 204,
     "metadata": {},
     "output_type": "execute_result"
    }
   ],
   "source": [
    "# index można jednak \"zresetować\" również poza operacją sortowania\n",
    "# najpierw nieuporządkowana postać\n",
    "df_zamowienia['Data zamowienia'] = pd.to_datetime(df_zamowienia['Data zamowienia'])\n",
    "df_zamowienia.sort_values(by=['Data zamowienia'], inplace=True)\n",
    "df_zamowienia.head()"
   ],
   "metadata": {
    "collapsed": false,
    "pycharm": {
     "name": "#%%\n"
    }
   }
  },
  {
   "cell_type": "code",
   "execution_count": 205,
   "outputs": [
    {
     "data": {
      "text/plain": "     Kraj Sprzedawca Data zamowienia  idZamowienia    Utarg\n0  Polska   Sowiński      2003-07-10         10249  1863.40\n1  Niemcy    Peacock      2003-07-11         10252  3597.90\n2  Niemcy    Peacock      2003-07-12         10250  1552.60\n3  Niemcy  Leverling      2003-07-15         10251   654.06\n4  Polska      Dudek      2003-07-15         10255  2490.50",
      "text/html": "<div>\n<style scoped>\n    .dataframe tbody tr th:only-of-type {\n        vertical-align: middle;\n    }\n\n    .dataframe tbody tr th {\n        vertical-align: top;\n    }\n\n    .dataframe thead th {\n        text-align: right;\n    }\n</style>\n<table border=\"1\" class=\"dataframe\">\n  <thead>\n    <tr style=\"text-align: right;\">\n      <th></th>\n      <th>Kraj</th>\n      <th>Sprzedawca</th>\n      <th>Data zamowienia</th>\n      <th>idZamowienia</th>\n      <th>Utarg</th>\n    </tr>\n  </thead>\n  <tbody>\n    <tr>\n      <th>0</th>\n      <td>Polska</td>\n      <td>Sowiński</td>\n      <td>2003-07-10</td>\n      <td>10249</td>\n      <td>1863.40</td>\n    </tr>\n    <tr>\n      <th>1</th>\n      <td>Niemcy</td>\n      <td>Peacock</td>\n      <td>2003-07-11</td>\n      <td>10252</td>\n      <td>3597.90</td>\n    </tr>\n    <tr>\n      <th>2</th>\n      <td>Niemcy</td>\n      <td>Peacock</td>\n      <td>2003-07-12</td>\n      <td>10250</td>\n      <td>1552.60</td>\n    </tr>\n    <tr>\n      <th>3</th>\n      <td>Niemcy</td>\n      <td>Leverling</td>\n      <td>2003-07-15</td>\n      <td>10251</td>\n      <td>654.06</td>\n    </tr>\n    <tr>\n      <th>4</th>\n      <td>Polska</td>\n      <td>Dudek</td>\n      <td>2003-07-15</td>\n      <td>10255</td>\n      <td>2490.50</td>\n    </tr>\n  </tbody>\n</table>\n</div>"
     },
     "execution_count": 205,
     "metadata": {},
     "output_type": "execute_result"
    }
   ],
   "source": [
    "# reset indeksu\n",
    "df_zamowienia.reset_index(drop=True, inplace=True)\n",
    "df_zamowienia.head()"
   ],
   "metadata": {
    "collapsed": false,
    "pycharm": {
     "name": "#%%\n"
    }
   }
  },
  {
   "cell_type": "code",
   "execution_count": 206,
   "outputs": [
    {
     "data": {
      "text/plain": "0     1863.40\n1     5461.30\n2     7013.90\n3     7667.96\n4    10158.46\nName: Utarg, dtype: float64"
     },
     "execution_count": 206,
     "metadata": {},
     "output_type": "execute_result"
    }
   ],
   "source": [
    "# przyrost wartości zamówień możemy osiągnąć poprzez użycie sumy skumulowanej, więc dla wiarygodności danych niezbędne było nam posortowanie danych wg.daty\n",
    "df_zamowienia['Utarg'].cumsum().head()"
   ],
   "metadata": {
    "collapsed": false,
    "pycharm": {
     "name": "#%%\n"
    }
   }
  },
  {
   "cell_type": "code",
   "execution_count": 216,
   "outputs": [
    {
     "data": {
      "text/plain": "<Figure size 432x288 with 1 Axes>",
      "image/png": "[encoded data removed]"
     },
     "metadata": {
      "needs_background": "light"
     },
     "output_type": "display_data"
    }
   ],
   "source": [
    "# możemy od razu wyświetlić te dane na wykresie\n",
    "# case 1 - bezpośrednio z pandas DataFrame\n",
    "# średnik na końcu powoduje, że nie jest wyświetlana wartość zwracana przez metodę plot()\n",
    "df_zamowienia['Utarg'].cumsum().plot();"
   ],
   "metadata": {
    "collapsed": false,
    "pycharm": {
     "name": "#%%\n"
    }
   }
  },
  {
   "cell_type": "markdown",
   "source": [
    "Nie wygląda to najlepiej i niewiele informacji z tego wykresu wynika. Powodem jest wartość, którą zwróciła poprzednia operacja a jest nią pandas Series gdzie mamy indeks w postaci indeksu kolejnej wartości sumy skumulowanej, więc nie mamy do dyspozycji kolumny z datą."
   ],
   "metadata": {
    "collapsed": false,
    "pycharm": {
     "name": "#%% md\n"
    }
   }
  },
  {
   "cell_type": "code",
   "execution_count": 244,
   "outputs": [
    {
     "data": {
      "text/plain": "<Figure size 432x288 with 1 Axes>",
      "image/png": "[encoded data removed]"
     },
     "metadata": {
      "needs_background": "light"
     },
     "output_type": "display_data"
    }
   ],
   "source": [
    "# możemy utworzyć pomocniczą serię danych z indeksem w postaci daty\n",
    "df_zamowienia[['Data zamowienia', 'Utarg']].set_index('Data zamowienia').cumsum().plot();"
   ],
   "metadata": {
    "collapsed": false,
    "pycharm": {
     "name": "#%%\n"
    }
   }
  },
  {
   "cell_type": "code",
   "execution_count": 249,
   "outputs": [
    {
     "data": {
      "text/plain": "<Figure size 432x288 with 1 Axes>",
      "image/png": "[encoded data removed]"
     },
     "metadata": {
      "needs_background": "light"
     },
     "output_type": "display_data"
    }
   ],
   "source": [
    "# użycie biblioteki seaborn\n",
    "sns.lineplot(data=df_zamowienia, x='Data zamowienia', y=np.cumsum(df_zamowienia['Utarg']));"
   ],
   "metadata": {
    "collapsed": false,
    "pycharm": {
     "name": "#%%\n"
    }
   }
  },
  {
   "cell_type": "markdown",
   "source": [
    "**Informacja nr 2 - Jak rozkładają się sumy zamówień dla danego sprzedawcy ?**"
   ],
   "metadata": {
    "collapsed": false,
    "pycharm": {
     "name": "#%% md\n"
    }
   }
  },
  {
   "cell_type": "code",
   "execution_count": 253,
   "outputs": [
    {
     "data": {
      "text/plain": "<AxesSubplot:xlabel='Sprzedawca'>"
     },
     "execution_count": 253,
     "metadata": {},
     "output_type": "execute_result"
    },
    {
     "data": {
      "text/plain": "<Figure size 432x288 with 1 Axes>",
      "image/png": "[encoded data removed]"
     },
     "metadata": {
      "needs_background": "light"
     },
     "output_type": "display_data"
    }
   ],
   "source": [
    "# grupujemy dane po kolumnie sprzedawca używając sumy jako funkcji agregacji\n",
    "df_zamowienia.groupby('Sprzedawca').agg({'Utarg': ['sum']}).plot(kind=\"bar\")"
   ],
   "metadata": {
    "collapsed": false,
    "pycharm": {
     "name": "#%%\n"
    }
   }
  },
  {
   "cell_type": "code",
   "execution_count": 259,
   "outputs": [
    {
     "data": {
      "text/plain": "<Figure size 432x288 with 1 Axes>",
      "image/png": "[encoded data removed]"
     },
     "metadata": {},
     "output_type": "display_data"
    }
   ],
   "source": [
    "# struktura\n",
    "df_zamowienia.groupby('Sprzedawca').agg({'Utarg': ['sum']}).plot(kind=\"pie\", subplots=True)\n",
    "# odsuwamy nieco legendę\n",
    "plt.legend(bbox_to_anchor=(1.3,1.025));"
   ],
   "metadata": {
    "collapsed": false,
    "pycharm": {
     "name": "#%%\n"
    }
   }
  },
  {
   "cell_type": "code",
   "execution_count": 262,
   "outputs": [
    {
     "data": {
      "text/plain": "<Figure size 432x288 with 1 Axes>",
      "image/png": "[encoded data removed]"
     },
     "metadata": {
      "needs_background": "light"
     },
     "output_type": "display_data"
    }
   ],
   "source": [
    "# wykres słupkowy z użyciem biblioteki seaborn\n",
    "# nie musimy wcześniej grupować ramki poprawnie określając serie danych oraz estimator\n",
    "# dokumentacja dla tego rodzaju wykresu https://seaborn.pydata.org/generated/seaborn.barplot.html\n",
    "ax = sns.barplot(x='Sprzedawca', y='Utarg', data=df_zamowienia, ci=None, estimator=sum)"
   ],
   "metadata": {
    "collapsed": false,
    "pycharm": {
     "name": "#%%\n"
    }
   }
  },
  {
   "cell_type": "code",
   "execution_count": 294,
   "outputs": [
    {
     "data": {
      "text/plain": "<Figure size 432x288 with 1 Axes>",
      "image/png": "[encoded data removed]"
     },
     "metadata": {},
     "output_type": "display_data"
    }
   ],
   "source": [
    "# ponownie seaborn z wykresem kołowym, struktura wartości zamówień\n",
    "# bardziej w stylu matplotlib\n",
    "colors = sns.color_palette('pastel')[0:5]\n",
    "dane = df_zamowienia.groupby('Sprzedawca').agg({'Utarg': ['sum']})\n",
    "# wyświetl zmienną dane i przeanalizuj postać tej ramki danych\n",
    "\n",
    "# dla każdej przeprowadzonej agregacji (można użyć wiele jednocześnie) jest utworzona grupa\n",
    "# aby dostać się do danej części należy podać etykietę w postaci krotki (kolumna, agregacja)\n",
    "plt.pie(dane[('Utarg','sum')], labels=dane.index, colors = colors, autopct='%.0f%%')\n",
    "plt.legend(bbox_to_anchor=(1.3,1.025));"
   ],
   "metadata": {
    "collapsed": false,
    "pycharm": {
     "name": "#%%\n"
    }
   }
  },
  {
   "cell_type": "markdown",
   "source": [
    "**Informacja 3 - jak rozkłada się struktura wartości w danej serii lub grupie ?**"
   ],
   "metadata": {
    "collapsed": false,
    "pycharm": {
     "name": "#%% md\n"
    }
   }
  },
  {
   "cell_type": "code",
   "execution_count": 301,
   "outputs": [
    {
     "data": {
      "text/plain": "<Figure size 432x288 with 1 Axes>",
      "image/png": "[encoded data removed]"
     },
     "metadata": {
      "needs_background": "light"
     },
     "output_type": "display_data"
    }
   ],
   "source": [
    "# przy użyciu seaborn możemy dość szybko wyświetlić na wykresie liczebność wartości w poszczególnej serii danych\n",
    "# możemy je wcześniej odfiltrować, ale nie jest to konieczne\n",
    "\n",
    "dane = df_zamowienia[['Sprzedawca','idZamowienia']].set_index('idZamowienia')\n",
    "# rotacja etykiet na osi x\n",
    "plt.xticks(rotation=45)\n",
    "ax = sns.countplot(x=\"Sprzedawca\", data=dane)"
   ],
   "metadata": {
    "collapsed": false,
    "pycharm": {
     "name": "#%%\n"
    }
   }
  },
  {
   "cell_type": "code",
   "execution_count": 312,
   "outputs": [
    {
     "data": {
      "text/plain": "<Figure size 432x288 with 1 Axes>",
      "image/png": "[encoded data removed]"
     },
     "metadata": {
      "needs_background": "light"
     },
     "output_type": "display_data"
    }
   ],
   "source": [
    "# mozemy również użyć podwójnego grupowania w sposób dynamiczny, tzn. bez wcześniejszego przygotowywania ramki danych\n",
    "# a deklarując tę opcję w parametrach wykresu\n",
    "# rotacja etykiet na osi x\n",
    "plt.xticks(rotation=45)\n",
    "ax = sns.countplot(x=\"Sprzedawca\", hue=df_zamowienia['Data zamowienia'].dt.year, data=df_zamowienia, palette=\"Set3\")\n",
    "# dodamy również etykiety wartości\n",
    "for container in ax.containers:\n",
    "    ax.bar_label(container);"
   ],
   "metadata": {
    "collapsed": false,
    "pycharm": {
     "name": "#%%\n"
    }
   }
  },
  {
   "cell_type": "markdown",
   "source": [
    "**Kilka dodatkowych przykładów z grupowaniem?**"
   ],
   "metadata": {
    "collapsed": false,
    "pycharm": {
     "name": "#%% md\n"
    }
   }
  },
  {
   "cell_type": "code",
   "execution_count": 318,
   "outputs": [
    {
     "data": {
      "text/plain": "                Utarg                   \n                  sum         mean count\nSprzedawca                              \nCallahan    123032.67  1242.754242    99\nDavolio     182500.09  1559.829829   117\nDudek        75048.04  1830.440000    41\nFuller      162503.78  1766.345435    92\nKing        116962.99  1745.716269    67\nKowalski     68792.25  1637.910714    42\nLeverling   201196.27  1609.570160   125\nPeacock     225763.68  1495.123709   151\nSowiński     72527.63  1115.809692    65",
      "text/html": "<div>\n<style scoped>\n    .dataframe tbody tr th:only-of-type {\n        vertical-align: middle;\n    }\n\n    .dataframe tbody tr th {\n        vertical-align: top;\n    }\n\n    .dataframe thead tr th {\n        text-align: left;\n    }\n\n    .dataframe thead tr:last-of-type th {\n        text-align: right;\n    }\n</style>\n<table border=\"1\" class=\"dataframe\">\n  <thead>\n    <tr>\n      <th></th>\n      <th colspan=\"3\" halign=\"left\">Utarg</th>\n    </tr>\n    <tr>\n      <th></th>\n      <th>sum</th>\n      <th>mean</th>\n      <th>count</th>\n    </tr>\n    <tr>\n      <th>Sprzedawca</th>\n      <th></th>\n      <th></th>\n      <th></th>\n    </tr>\n  </thead>\n  <tbody>\n    <tr>\n      <th>Callahan</th>\n      <td>123032.67</td>\n      <td>1242.754242</td>\n      <td>99</td>\n    </tr>\n    <tr>\n      <th>Davolio</th>\n      <td>182500.09</td>\n      <td>1559.829829</td>\n      <td>117</td>\n    </tr>\n    <tr>\n      <th>Dudek</th>\n      <td>75048.04</td>\n      <td>1830.440000</td>\n      <td>41</td>\n    </tr>\n    <tr>\n      <th>Fuller</th>\n      <td>162503.78</td>\n      <td>1766.345435</td>\n      <td>92</td>\n    </tr>\n    <tr>\n      <th>King</th>\n      <td>116962.99</td>\n      <td>1745.716269</td>\n      <td>67</td>\n    </tr>\n    <tr>\n      <th>Kowalski</th>\n      <td>68792.25</td>\n      <td>1637.910714</td>\n      <td>42</td>\n    </tr>\n    <tr>\n      <th>Leverling</th>\n      <td>201196.27</td>\n      <td>1609.570160</td>\n      <td>125</td>\n    </tr>\n    <tr>\n      <th>Peacock</th>\n      <td>225763.68</td>\n      <td>1495.123709</td>\n      <td>151</td>\n    </tr>\n    <tr>\n      <th>Sowiński</th>\n      <td>72527.63</td>\n      <td>1115.809692</td>\n      <td>65</td>\n    </tr>\n  </tbody>\n</table>\n</div>"
     },
     "execution_count": 318,
     "metadata": {},
     "output_type": "execute_result"
    }
   ],
   "source": [
    "# grupowanie wartości utargu dla kilku funkcji agregacji jednocześnie\n",
    "dane = df_zamowienia.groupby('Sprzedawca').agg({'Utarg': ['sum', 'mean', 'count']})\n",
    "dane"
   ],
   "metadata": {
    "collapsed": false,
    "pycharm": {
     "name": "#%%\n"
    }
   }
  },
  {
   "cell_type": "code",
   "execution_count": 319,
   "outputs": [
    {
     "data": {
      "text/plain": "Sprzedawca\nCallahan     123032.67\nDavolio      182500.09\nDudek         75048.04\nFuller       162503.78\nKing         116962.99\nKowalski      68792.25\nLeverling    201196.27\nPeacock      225763.68\nSowiński      72527.63\nName: (Utarg, sum), dtype: float64"
     },
     "execution_count": 319,
     "metadata": {},
     "output_type": "execute_result"
    }
   ],
   "source": [
    "# aby dostać się do grupy musimy podać kolumnę i nazwę funkcji agregującej\n",
    "dane[('Utarg','sum')]"
   ],
   "metadata": {
    "collapsed": false,
    "pycharm": {
     "name": "#%%\n"
    }
   }
  },
  {
   "cell_type": "code",
   "execution_count": 327,
   "outputs": [
    {
     "data": {
      "text/plain": "Sprzedawca\nCallahan     123032.67\nDavolio      182500.09\nDudek         75048.04\nFuller       162503.78\nKing         116962.99\nKowalski      68792.25\nLeverling    201196.27\nPeacock      225763.68\nSowiński      72527.63\nName: sum, dtype: float64"
     },
     "execution_count": 327,
     "metadata": {},
     "output_type": "execute_result"
    }
   ],
   "source": [
    "# lub tak (dostęp do kolumn również w taki sposób, ale nazwy muszą być bez spacji)\n",
    "dane.Utarg['sum']"
   ],
   "metadata": {
    "collapsed": false,
    "pycharm": {
     "name": "#%%\n"
    }
   }
  },
  {
   "cell_type": "code",
   "execution_count": 332,
   "outputs": [
    {
     "data": {
      "text/plain": "75048.04"
     },
     "execution_count": 332,
     "metadata": {},
     "output_type": "execute_result"
    }
   ],
   "source": [
    "# dla przypomnienia - mamy dwie główne metodu dostępu do wybranych fragementów ramki,\n",
    "# loc[wiersze, kolumny] - podajemy wartość w kolumnie indeksu oraz nazwe kolumny\n",
    "# iloc[wiersze, kolumny] - podajemy indeksy wierszy i kolumn\n",
    "dane.loc['Dudek', ('Utarg', 'sum')]"
   ],
   "metadata": {
    "collapsed": false,
    "pycharm": {
     "name": "#%%\n"
    }
   }
  },
  {
   "cell_type": "code",
   "execution_count": 333,
   "outputs": [
    {
     "data": {
      "text/plain": "Sprzedawca\nCallahan      99\nDavolio      117\nDudek         41\nFuller        92\nKing          67\nKowalski      42\nLeverling    125\nPeacock      151\nSowiński      65\nName: (Utarg, count), dtype: int64"
     },
     "execution_count": 333,
     "metadata": {},
     "output_type": "execute_result"
    }
   ],
   "source": [
    "dane.loc[:, ('Utarg', 'count')]"
   ],
   "metadata": {
    "collapsed": false,
    "pycharm": {
     "name": "#%%\n"
    }
   }
  },
  {
   "cell_type": "code",
   "execution_count": 335,
   "outputs": [
    {
     "data": {
      "text/plain": "           Utarg                        \n           count         mean        sum\nSprzedawca                              \nCallahan      99  1242.754242  123032.67\nDavolio      117  1559.829829  182500.09\nDudek         41  1830.440000   75048.04\nFuller        92  1766.345435  162503.78\nKing          67  1745.716269  116962.99",
      "text/html": "<div>\n<style scoped>\n    .dataframe tbody tr th:only-of-type {\n        vertical-align: middle;\n    }\n\n    .dataframe tbody tr th {\n        vertical-align: top;\n    }\n\n    .dataframe thead tr th {\n        text-align: left;\n    }\n\n    .dataframe thead tr:last-of-type th {\n        text-align: right;\n    }\n</style>\n<table border=\"1\" class=\"dataframe\">\n  <thead>\n    <tr>\n      <th></th>\n      <th colspan=\"3\" halign=\"left\">Utarg</th>\n    </tr>\n    <tr>\n      <th></th>\n      <th>count</th>\n      <th>mean</th>\n      <th>sum</th>\n    </tr>\n    <tr>\n      <th>Sprzedawca</th>\n      <th></th>\n      <th></th>\n      <th></th>\n    </tr>\n  </thead>\n  <tbody>\n    <tr>\n      <th>Callahan</th>\n      <td>99</td>\n      <td>1242.754242</td>\n      <td>123032.67</td>\n    </tr>\n    <tr>\n      <th>Davolio</th>\n      <td>117</td>\n      <td>1559.829829</td>\n      <td>182500.09</td>\n    </tr>\n    <tr>\n      <th>Dudek</th>\n      <td>41</td>\n      <td>1830.440000</td>\n      <td>75048.04</td>\n    </tr>\n    <tr>\n      <th>Fuller</th>\n      <td>92</td>\n      <td>1766.345435</td>\n      <td>162503.78</td>\n    </tr>\n    <tr>\n      <th>King</th>\n      <td>67</td>\n      <td>1745.716269</td>\n      <td>116962.99</td>\n    </tr>\n  </tbody>\n</table>\n</div>"
     },
     "execution_count": 335,
     "metadata": {},
     "output_type": "execute_result"
    }
   ],
   "source": [
    "dane.iloc[0:5, ::-1]"
   ],
   "metadata": {
    "collapsed": false,
    "pycharm": {
     "name": "#%%\n"
    }
   }
  },
  {
   "cell_type": "code",
   "execution_count": 341,
   "outputs": [
    {
     "data": {
      "text/plain": "(                Utarg                   \n                   sum         mean count\n Sprzedawca                              \n Callahan    123032.67  1242.754242    99\n Davolio     182500.09  1559.829829   117\n Dudek        75048.04  1830.440000    41\n Fuller      162503.78  1766.345435    92,\n                 Utarg                   \n                   sum         mean count\n Sprzedawca                              \n Callahan    123032.67  1242.754242    99\n Dudek        75048.04  1830.440000    41\n King        116962.99  1745.716269    67\n Leverling   201196.27  1609.570160   125\n Sowiński     72527.63  1115.809692    65)"
     },
     "execution_count": 341,
     "metadata": {},
     "output_type": "execute_result"
    }
   ],
   "source": [
    "# możemy również używać wycinków (ang. slice) tak jak do tej pory na listach, tablicach numpy itp\n",
    "dane[:4], dane[::2]"
   ],
   "metadata": {
    "collapsed": false,
    "pycharm": {
     "name": "#%%\n"
    }
   }
  },
  {
   "cell_type": "code",
   "execution_count": 342,
   "outputs": [
    {
     "data": {
      "text/plain": "225763.68"
     },
     "execution_count": 342,
     "metadata": {},
     "output_type": "execute_result"
    }
   ],
   "source": [
    "# chcemy zwrócić nazwisko sprzedawcy, który uzyskał największą sumę przychodów\n",
    "# to nie do końca to czego chcemy, ale samą wartość już mamy\n",
    "dane[('Utarg','sum')].max()"
   ],
   "metadata": {
    "collapsed": false,
    "pycharm": {
     "name": "#%%\n"
    }
   }
  },
  {
   "cell_type": "code",
   "execution_count": 346,
   "outputs": [
    {
     "data": {
      "text/plain": "Sprzedawca\nPeacock    225763.68\nName: (Utarg, sum), dtype: float64"
     },
     "execution_count": 346,
     "metadata": {},
     "output_type": "execute_result"
    }
   ],
   "source": [
    "# możemy tak, poprzez założenie filtra na danej serii danych\n",
    "dane[('Utarg', 'sum')][dane[('Utarg', 'sum')] == dane[('Utarg', 'sum')].max()]"
   ],
   "metadata": {
    "collapsed": false,
    "pycharm": {
     "name": "#%%\n"
    }
   }
  },
  {
   "cell_type": "code",
   "execution_count": 348,
   "outputs": [
    {
     "data": {
      "text/plain": "'Peacock'"
     },
     "execution_count": 348,
     "metadata": {},
     "output_type": "execute_result"
    }
   ],
   "source": [
    "# ale można znaleźć indeks, do którego przypisana jest wartość maksymalna w danej kolumnie\n",
    "dane[('Utarg', 'sum')].idxmax()"
   ],
   "metadata": {
    "collapsed": false,
    "pycharm": {
     "name": "#%%\n"
    }
   }
  },
  {
   "cell_type": "code",
   "execution_count": 355,
   "outputs": [
    {
     "data": {
      "text/plain": "Utarg  sum      225763.680000\n       mean       1495.123709\n       count       151.000000\nName: Peacock, dtype: float64"
     },
     "execution_count": 355,
     "metadata": {},
     "output_type": "execute_result"
    }
   ],
   "source": [
    "# teraz można użyć tego, co zostało zwrócone do pobrania całego wiersz\n",
    "dane.loc[dane[('Utarg', 'sum')].idxmax()]"
   ],
   "metadata": {
    "collapsed": false,
    "pycharm": {
     "name": "#%%\n"
    }
   }
  },
  {
   "cell_type": "code",
   "execution_count": 364,
   "outputs": [
    {
     "data": {
      "text/plain": "                                              Utarg\nData zamowienia Data zamowienia Sprzedawca         \n2003            7               Callahan     584.00\n                                Davolio     1614.88\n                                Dudek       4364.30\n                                Kowalski     996.62\n                                Leverling   2963.22\n...                                             ...\n2005            5               Callahan    3740.00\n                                Fuller       405.75\n                                King         817.87\n                                Leverling   1377.00\n                                Peacock      591.60\n\n[191 rows x 1 columns]",
      "text/html": "<div>\n<style scoped>\n    .dataframe tbody tr th:only-of-type {\n        vertical-align: middle;\n    }\n\n    .dataframe tbody tr th {\n        vertical-align: top;\n    }\n\n    .dataframe thead th {\n        text-align: right;\n    }\n</style>\n<table border=\"1\" class=\"dataframe\">\n  <thead>\n    <tr style=\"text-align: right;\">\n      <th></th>\n      <th></th>\n      <th></th>\n      <th>Utarg</th>\n    </tr>\n    <tr>\n      <th>Data zamowienia</th>\n      <th>Data zamowienia</th>\n      <th>Sprzedawca</th>\n      <th></th>\n    </tr>\n  </thead>\n  <tbody>\n    <tr>\n      <th rowspan=\"5\" valign=\"top\">2003</th>\n      <th rowspan=\"5\" valign=\"top\">7</th>\n      <th>Callahan</th>\n      <td>584.00</td>\n    </tr>\n    <tr>\n      <th>Davolio</th>\n      <td>1614.88</td>\n    </tr>\n    <tr>\n      <th>Dudek</th>\n      <td>4364.30</td>\n    </tr>\n    <tr>\n      <th>Kowalski</th>\n      <td>996.62</td>\n    </tr>\n    <tr>\n      <th>Leverling</th>\n      <td>2963.22</td>\n    </tr>\n    <tr>\n      <th>...</th>\n      <th>...</th>\n      <th>...</th>\n      <td>...</td>\n    </tr>\n    <tr>\n      <th rowspan=\"5\" valign=\"top\">2005</th>\n      <th rowspan=\"5\" valign=\"top\">5</th>\n      <th>Callahan</th>\n      <td>3740.00</td>\n    </tr>\n    <tr>\n      <th>Fuller</th>\n      <td>405.75</td>\n    </tr>\n    <tr>\n      <th>King</th>\n      <td>817.87</td>\n    </tr>\n    <tr>\n      <th>Leverling</th>\n      <td>1377.00</td>\n    </tr>\n    <tr>\n      <th>Peacock</th>\n      <td>591.60</td>\n    </tr>\n  </tbody>\n</table>\n<p>191 rows × 1 columns</p>\n</div>"
     },
     "execution_count": 364,
     "metadata": {},
     "output_type": "execute_result"
    }
   ],
   "source": [
    "# dodajmy jeszcze grupowanie po datach lub ich częściach\n",
    "dane = df_zamowienia[['Data zamowienia','Sprzedawca','Utarg']]\n",
    "# grupowanie po roku i miesiącu\n",
    "dane = dane.groupby([dane['Data zamowienia'].dt.year, dane['Data zamowienia'].dt.month,'Sprzedawca']).agg({'Utarg': sum})\n",
    "dane"
   ],
   "metadata": {
    "collapsed": false,
    "pycharm": {
     "name": "#%%\n"
    }
   }
  },
  {
   "cell_type": "code",
   "execution_count": 367,
   "outputs": [
    {
     "data": {
      "text/plain": "                                              Utarg\nData zamowienia Data zamowienia Sprzedawca         \n2003            7               Callahan     584.00\n                                Davolio     1614.88\n                                Dudek       4364.30\n                                Kowalski     996.62\n                                Leverling   2963.22\n...                                             ...\n2005            5               Callahan    3740.00\n                                Fuller       405.75\n                                King         817.87\n                                Leverling   1377.00\n                                Peacock      591.60\n\n[191 rows x 1 columns]",
      "text/html": "<div>\n<style scoped>\n    .dataframe tbody tr th:only-of-type {\n        vertical-align: middle;\n    }\n\n    .dataframe tbody tr th {\n        vertical-align: top;\n    }\n\n    .dataframe thead th {\n        text-align: right;\n    }\n</style>\n<table border=\"1\" class=\"dataframe\">\n  <thead>\n    <tr style=\"text-align: right;\">\n      <th></th>\n      <th></th>\n      <th></th>\n      <th>Utarg</th>\n    </tr>\n    <tr>\n      <th>Data zamowienia</th>\n      <th>Data zamowienia</th>\n      <th>Sprzedawca</th>\n      <th></th>\n    </tr>\n  </thead>\n  <tbody>\n    <tr>\n      <th rowspan=\"5\" valign=\"top\">2003</th>\n      <th rowspan=\"5\" valign=\"top\">7</th>\n      <th>Callahan</th>\n      <td>584.00</td>\n    </tr>\n    <tr>\n      <th>Davolio</th>\n      <td>1614.88</td>\n    </tr>\n    <tr>\n      <th>Dudek</th>\n      <td>4364.30</td>\n    </tr>\n    <tr>\n      <th>Kowalski</th>\n      <td>996.62</td>\n    </tr>\n    <tr>\n      <th>Leverling</th>\n      <td>2963.22</td>\n    </tr>\n    <tr>\n      <th>...</th>\n      <th>...</th>\n      <th>...</th>\n      <td>...</td>\n    </tr>\n    <tr>\n      <th rowspan=\"5\" valign=\"top\">2005</th>\n      <th rowspan=\"5\" valign=\"top\">5</th>\n      <th>Callahan</th>\n      <td>3740.00</td>\n    </tr>\n    <tr>\n      <th>Fuller</th>\n      <td>405.75</td>\n    </tr>\n    <tr>\n      <th>King</th>\n      <td>817.87</td>\n    </tr>\n    <tr>\n      <th>Leverling</th>\n      <td>1377.00</td>\n    </tr>\n    <tr>\n      <th>Peacock</th>\n      <td>591.60</td>\n    </tr>\n  </tbody>\n</table>\n<p>191 rows × 1 columns</p>\n</div>"
     },
     "execution_count": 367,
     "metadata": {},
     "output_type": "execute_result"
    }
   ],
   "source": [
    "# lub tak, efekt taki sam\n",
    "dane = df_zamowienia[['Data zamowienia','Sprzedawca','Utarg']]\n",
    "dane = dane.groupby([dane['Data zamowienia'].dt.year, dane['Data zamowienia'].dt.month,'Sprzedawca']).sum()\n",
    "dane"
   ],
   "metadata": {
    "collapsed": false,
    "pycharm": {
     "name": "#%%\n"
    }
   }
  }
 ],
 "metadata": {
  "kernelspec": {
   "display_name": "Python 3",
   "language": "python",
   "name": "python3"
  },
  "language_info": {
   "codemirror_mode": {
    "name": "ipython",
    "version": 2
   },
   "file_extension": ".py",
   "mimetype": "text/x-python",
   "name": "python",
   "nbconvert_exporter": "python",
   "pygments_lexer": "ipython2",
   "version": "2.7.6"
  }
 },
 "nbformat": 4,
 "nbformat_minor": 0
}